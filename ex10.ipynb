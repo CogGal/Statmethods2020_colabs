{
  "nbformat": 4,
  "nbformat_minor": 0,
  "metadata": {
    "colab": {
      "name": "ex10_7.ipynb",
      "provenance": [],
      "collapsed_sections": []
    },
    "kernelspec": {
      "name": "python3",
      "display_name": "Python 3"
    }
  },
  "cells": [
    {
      "cell_type": "markdown",
      "metadata": {
        "id": "sRejH2klZjjk"
      },
      "source": [
        "#**<font size=\"10\" color='cornflowerblue'><ins>Welcome to exercise 10**\n",
        "## **Note**: After choosing or changing an answer, run its block to save changes.\n",
        "## **Note**: It is best to avoid Runtime -> Run all.\n",
        "\n"
      ]
    },
    {
      "cell_type": "markdown",
      "metadata": {
        "id": "M8DOmvzjcCwA"
      },
      "source": [
        "Block 1#\n"
      ]
    },
    {
      "cell_type": "code",
      "metadata": {
        "id": "EqFi1QHH-Gy2",
        "cellView": "form"
      },
      "source": [
        "#@title #**What is your ID and group number? (<font color=\"red\">*Mandatory</font>)**\n",
        "\n",
        "\n",
        "def initialize_colab():\n",
        "  # Verify credentials\n",
        "  if id_number < 1000 or group_number == 0 or group_number > 1000:\n",
        "    raise Exception(\"Are you sure these details are correct?\") \n",
        "  # Messages to user\n",
        "  print(\"ID number saved: \", id_number)\n",
        "  print(\"Group number saved: \", group_number)\n",
        "  print(\"\\nYou may now begin, good luck!\")\n",
        "\n",
        "\n",
        "try:\n",
        "  # Imports and library initialization\n",
        "  import warnings\n",
        "  warnings.simplefilter(action='ignore', category=FutureWarning)\n",
        "  import numpy as np\n",
        "  import matplotlib.pyplot as plt\n",
        "  import seaborn as sns\n",
        "  import pandas as pd\n",
        "  from math import sqrt\n",
        "  from scipy import stats\n",
        "  import statsmodels.api as sm\n",
        "  from ipywidgets import interact\n",
        "  from tabulate import tabulate\n",
        "  sns.set(style = \"white\", palette = \"muted\", color_codes = True)\n",
        "  sns.set(rc = {'figure.figsize': (10, 10)});\n",
        "  sns.set_context(\"talk\")\n",
        "\n",
        "  # Setting up global colab variables\n",
        "  exercise_number = 10\n",
        "  executed_blocks = {0, 1}\n",
        "  block_mapping = {3: '1.1', 4: '1.2', 5: 2, 6: 3, 7: 4, 8: 5, 9: 6, \n",
        "                   11: '7.1', 12: '7.2', 14: '8.1', 15: '8.2'}\n",
        "  answers = {}\n",
        "  data = {}\n",
        "  id_number =  0#@param {type:\"integer\"}\n",
        "  group_number = 0 #@param {type:\"integer\"}\n",
        "  initialize_colab()\n",
        "  initialized = True\n",
        "  \n",
        "  # Setting up specific variables for the exercise\n",
        "  degs_freedom = [2,5,10,20]\n",
        "  np.random.seed(group_number)\n",
        "  degs_freedom = np.random.choice(degs_freedom, size = len(degs_freedom), \n",
        "                                  replace = False)\n",
        "  data['degs_freedom'] = list(degs_freedom)\n",
        "  \n",
        "except Exception as e:\n",
        "  print(str(e))\n",
        "\n",
        "\n",
        "# Dependency check function\n",
        "def verify_dependencies(block_id, required_blocks_indices=[]):\n",
        "  for block_index in required_blocks_indices:\n",
        "    if block_index not in executed_blocks:\n",
        "      raise Exception(\"You must first run block \"+str(block_index)+\"#\")\n",
        "\n",
        "\n",
        "# **********************  Statistics helper functions  **********************\n",
        "def t_fun(deg_freedom,deg_freedom_extra,t_score):\n",
        "  pval = (stats.t.sf((t_score), deg_freedom))  # two-sided pvalue = Prob(abs(t)>tt)\n",
        "  if (t_score<0):\n",
        "    pval=1-pval #\n",
        "  print (\"t(\",deg_freedom ,\") = \", t_score,\", p-value:\", pval)\n",
        "  ttt = stats.t.rvs(deg_freedom,size=5000)\n",
        "  plot_dist(ttt, height=5,bins=20,color=\"orange\", fit=\"t\")\n",
        "  plt.axvline(t_score,color=\"black\",linestyle=\"--\",label=\"Chosen value\")\n",
        "  plt.title(\"t-distribution\")\n",
        "\n",
        "\n",
        "def F_fun(df1,df2,F_score):\n",
        "  df1 = float(df1) ##k-1\n",
        "  df2 =float(df2) ##N-k\n",
        "  F_score = float(F_score)  ##MSB/MSW\n",
        "  pval = (stats.f.sf(F_score, df1,df2))  # two-sided pvalue = Prob(abs(t)>tt)\n",
        "  print(\"F(\",df1,\",\",df2 ,\") = \", F_score,\", p-value:\", round(pval,3),\"\\n\")\n",
        "  fff = stats.f.rvs(df1,df2,size=1000)\n",
        "  sns.distplot(fff,hist=1,kde=0,axlabel=\"F-score\",fit=stats.f,fit_kws={\"color\":\"purple\"})\n",
        "  plt.xlim(0,max(10,F_score*1.1))\n",
        "  plt.axvline(F_score,color=\"black\",linestyle=\"--\")\n",
        "  plt.title(\"F-distribution\")\n",
        "\n",
        "\n",
        "def plot_dist(dist, bins=\"auto\", kde=False, fit=\"None\", color=\"b\", stat=\"density\",height=8, aspect=1):\n",
        "  plt.figure(0);\n",
        "  sns.displot(dist, kde=kde,bins=bins,stat=stat,color=color,height=height, aspect=aspect);\n",
        "  if (fit==\"Normal\") & (stat==\"density\"):  \n",
        "    d = stats.norm.fit(dist)\n",
        "    mu = d[0]; sigma = d[1]\n",
        "    x = np.linspace(mu - 3.5*sigma, mu + 3.5*sigma, 200) #limits of dist\n",
        "    plt.plot(x, stats.norm.pdf(x, mu, sigma),color=\"black\");\n",
        "  elif (fit==\"F\") & (stat==\"density\"):  \n",
        "    d = stats.f.fit(dist)\n",
        "    dfn = d[0]; dfd = d[1]\n",
        "    interval = stats.f.interval(.995,dfn,dfd) #limits of dist\n",
        "    x = np.linspace(interval[0],interval[1], 200)\n",
        "    plt.plot(x, stats.f.pdf(x, dfn, dfd),color=\"black\");\n",
        "  elif (fit==\"gamma\") & (stat==\"density\"):  \n",
        "    d = stats.gamma.fit(dist)\n",
        "    a = d[0]; loc = d[1]; scale = d[2]\n",
        "    interval = stats.gamma.interval(.995,a,loc,scale) #limits of dist\n",
        "    x = np.linspace(interval[0],interval[1], 200)\n",
        "    plt.plot(x, stats.gamma.pdf(x, a, loc, scale),color=\"black\");\n",
        "  elif (fit==\"t\") & (stat==\"density\"):  \n",
        "    d = stats.t.fit(dist)\n",
        "    a = d[0]; loc = d[1]; scale = d[2]\n",
        "    interval = stats.t.interval(.995,a,loc,scale) #limits of dist\n",
        "    x = np.linspace(interval[0],interval[1], 200)\n",
        "    plt.plot(x, stats.t.pdf(x, a, loc, scale),color=\"black\");\n",
        "\n",
        "\n",
        "def perform_fdr_t(t_vals, deg_freedom, alpha):\n",
        "  old_t=t_vals.copy()\n",
        "  t_vals=np.sort(t_vals)[::-1]\n",
        "  pvals = [(stats.t.sf(np.abs(t_score), deg_freedom)) for t_score in t_vals]\n",
        "  sig=0\n",
        "  for i in range(len(pvals)):\n",
        "    if pvals[i]<(alpha*(i+1)/len(t_vals)):\n",
        "      sig=pvals[i]\n",
        "  return (sig)\n",
        "\n",
        "\n",
        "def boot_dist(dist, B=10000,replacement = True):\n",
        "  sample_matrix = np.random.choice(dist,size=(len(dist),B),replace=replacement)\n",
        "  means_dist = np.mean(sample_matrix,axis=0) # average each column resulting in len(dist) X 1 vector\n",
        "  return (means_dist)\n",
        "\n",
        "\n",
        "def boot_dist_F(data,IV,DV, B=10000, replacement = True):\n",
        "  levels = np.unique(data[IV])\n",
        "  F_vals=[]\n",
        "  for i in range(B):\n",
        "    samples = [np.random.choice(data[data[IV]==level][DV],size=len(data[data[IV]==level][DV]),\n",
        "                                replace=replacement) for level in levels]\n",
        "    f,_=stats.f_oneway(*samples) # average each column resulting in len(dist) X 1 vector\n",
        "    F_vals.append(f) \n",
        "  return (F_vals)\n",
        "\n",
        "\n",
        "def cohen_d(x,y):\n",
        "  nx = len(x)\n",
        "  ny = len(y)\n",
        "  dof = nx + ny - 2\n",
        "  return (np.mean(x) - np.mean(y)) / np.sqrt(((nx-1)*np.std(x, ddof=1) ** 2 + (ny-1)*np.std(y, ddof=1) ** 2) / dof)\n",
        "\n",
        "\n",
        "def plot_reg_results(x,y):\n",
        "  slope, intercept, r_value, p_value, std_err = stats.linregress(x, y)\n",
        "  term=\"+\"*(intercept>0)\n",
        "  if p_value<0.001: p_value=0.001\n",
        "  pred_y = r\"$\\tildey$\"\n",
        "  reg_label = (f\"{pred_y}={str(np.round(slope,1))}x{term}{str(np.round(intercept,1))}, p<{np.round(p_value,3)}\")\n",
        "  plt.figure(figsize=(7,7));\n",
        "  sns.regplot(x=x,y=y);\n",
        "  plt.title(reg_label);\n",
        "  return ([slope,intercept,p_value])\n",
        "\n",
        "\n",
        "def r_score(x, y):\n",
        "    return round(stats.pearsonr(x, y)[0],3)\n",
        "\n",
        "\n",
        "def plot_reg_and_minimize(betax,beta0,X,Y):\n",
        "  student_x = X\n",
        "  student_y = betax*student_x+beta0\n",
        "  plt.figure(figsize=(12,8))\n",
        "  sns.regplot( x=X,y=Y,fit_reg=False, color = \"#154318\")\n",
        "  sns.lineplot(x=student_x, y=student_y, color = \"r\",label=(\"y=\"+str(betax)+\"x+\"+str(beta0)) )\n",
        "  plt.xlabel('x', color='#1C2833')\n",
        "  plt.ylabel('y', color='#1C2833')\n",
        "  plt.ylim(min(Y)*.95,max(Y)*1.05)\n",
        "  plt.xlim(min(X)*.95,max(X)*1.05)\n",
        "  SSerror = np.round(np.sum((Y-student_y)**2))\n",
        "  SST=np.round(np.sum((Y-Y.mean())**2))\n",
        "  plt.legend(loc='upper left')\n",
        "  plt.title(f\"Your graph:\\nSSE ={str(int(SSerror))}, SST={SST}\")\n",
        "  slope = (r_score(X,Y)*np.std(Y)/np.std(X))\n",
        "\n",
        "\n",
        "def spearman_score(x, y):\n",
        "    return round(stats.spearmanr(x, y)[0],3)\n",
        "\n",
        "\n",
        "# **********************  Other helper functions  **********************\n",
        "def increase_font():\n",
        "  from IPython.display import Javascript\n",
        "  display(Javascript('''\n",
        "  for (rule of document.styleSheets[0].cssRules){\n",
        "    if (rule.selectorText=='body') {\n",
        "      rule.style.fontSize = '20px'\n",
        "      rule.style.color = 'darkred'\n",
        "      break\n",
        "    }\n",
        "  }\n",
        "  '''))\n",
        "\n",
        "\n",
        "# **********************  Helper class  **********************\n",
        "class Polynomial(list): \n",
        "    def __repr__(self):\n",
        "        # joiner[first, negative] = str\n",
        "        joiner = {\n",
        "            (True, True): '-',\n",
        "            (True, False): '',\n",
        "            (False, True): ' - ',\n",
        "            (False, False): ' + '\n",
        "        }\n",
        " \n",
        "        result = []\n",
        "        for power, coeff in reversed(list(enumerate(self))):\n",
        "            j = joiner[not result, coeff < 0]\n",
        "            coeff = abs(coeff)\n",
        "            if coeff == 1 and power != 0:\n",
        "                coeff = ''\n",
        " \n",
        "            f = {0: '{}{}', 1: '{}{}x'}.get(power, '{}{}x^{}')\n",
        " \n",
        "            result.append(f.format(j, coeff, power))\n",
        " \n",
        "        return ''.join(result) or '0'"
      ],
      "execution_count": null,
      "outputs": []
    },
    {
      "cell_type": "markdown",
      "metadata": {
        "id": "m1Sm_t6Nsp38"
      },
      "source": [
        "**<font size=\"6\" color='cornflowerblue'><ins>Question 1</ins>** \r\n",
        "\r\n",
        "# Below you can see the distribution regarding the cannabis use between the ages 18-40.\r\n",
        "\r\n",
        "# A researcher tested whether the distribution in her university is different. Therefore, she sampled 100 people between the ages 18-40. The results are as follows:"
      ]
    },
    {
      "cell_type": "markdown",
      "metadata": {
        "id": "yDvy-6RIHmok"
      },
      "source": [
        "Block 2#\n"
      ]
    },
    {
      "cell_type": "code",
      "metadata": {
        "id": "kLuZGZP8r63D",
        "cellView": "form"
      },
      "source": [
        "#@title **<font size=\"6\" color='cornflowerblue'><ins>Cannabis use last year, between the ages 18-40</ins>** \n",
        "\n",
        "block_id = 2\n",
        "required_blocks = []\n",
        "\n",
        "def prepare_block():\n",
        "  try:\n",
        "    initialized\n",
        "  except:\n",
        "    raise Exception(\"You need to identify yourself in Block 1#\")\n",
        "  verify_dependencies(block_id, required_blocks)\n",
        "\n",
        "\n",
        "def block2():\n",
        "  np.random.seed(int(group_number))\n",
        "  cannabis_dist = pd.DataFrame({\"Only once\":[13], \"A few times\":[7],\"Regularly\":[8],\"Did not use\":[74] })\n",
        "  cannabis_dist = cannabis_dist+np.random.choice([-1,-2,0,1,2,3],4)\n",
        "  cannabis_data = pd.DataFrame({\"Only once\":[9], \"A few times\":[11],\"Regularly\":[12],\"Did not use\":[68] })\n",
        "  cannabis_data = cannabis_data+np.random.choice([-1,-2,0,1,2,3],4)\n",
        "  #normalize to 100%:\n",
        "  cannabis_dist = np.round(100*cannabis_dist/float(cannabis_dist.sum(axis=1)))\n",
        "  cannabis_data = np.round(100*cannabis_data/float(cannabis_data.sum(axis=1)))\n",
        "  cannabis_dist[\"Did not use\"]+=100-cannabis_dist.sum(axis=1)\n",
        "  cannabis_data[\"Did not use\"]+=100-cannabis_data.sum(axis=1)\n",
        "  print(\"Distribution of cannabis usage (general population):\\n\")\n",
        "  print(tabulate(cannabis_dist, headers='keys', tablefmt='psql', showindex=False))\n",
        "  print(\"\\n\\nResearcher's data on usage in her university:\\n\")\n",
        "  print(tabulate(cannabis_data, headers='keys', tablefmt='psql', showindex=False))\n",
        "  cva, vap = stats.chisquare(np.array(cannabis_data).T,f_exp=np.array(cannabis_dist).T)\n",
        "  np.save('cva', cva)\n",
        "  np.save('vap', vap)\n",
        "  return cannabis_dist, cannabis_data\n",
        "\n",
        "\n",
        "try:\n",
        "  prepare_block()\n",
        "  cannabis_dist, cannabis_data = eval('block'+str(block_id))()\n",
        "  executed_blocks.add(block_id)\n",
        "except Exception as e:\n",
        "  print(str(e))"
      ],
      "execution_count": null,
      "outputs": []
    },
    {
      "cell_type": "markdown",
      "metadata": {
        "id": "Xmvb9tA8tuCB"
      },
      "source": [
        "Block 3#"
      ]
    },
    {
      "cell_type": "code",
      "metadata": {
        "id": "XAknn4LmWE86",
        "cellView": "form"
      },
      "source": [
        "#@title **<font size=\"6\" color='cornflowerblue'><ins>Question 1.1</ins>** \n",
        "#@markdown #**The correct test is**\n",
        "\n",
        "block_id = 3\n",
        "required_blocks = []\n",
        "\n",
        "def prepare_block():\n",
        "  try:\n",
        "    initialized\n",
        "  except:\n",
        "    raise Exception(\"You need to identify yourself in Block 1#\")\n",
        "  verify_dependencies(block_id, required_blocks)\n",
        "\n",
        "\n",
        "def block3():\n",
        "  Answer = 'Choose the correct answer' #@param [\"Choose the correct answer\", \"Chi Square for Independence\", \"Chi Square for Homogeneity\"]\n",
        "  if Answer == 'Choose the correct answer':\n",
        "    raise Exception(\"You must choose an answer\")\n",
        "  answers[block_id] = Answer\n",
        "  print(\"Your Answer is: \", answers[block_id])\n",
        "\n",
        "\n",
        "try:\n",
        "  prepare_block()\n",
        "  eval('block'+str(block_id))()\n",
        "  executed_blocks.add(block_id)\n",
        "except Exception as e:\n",
        "  print(str(e))\n"
      ],
      "execution_count": null,
      "outputs": []
    },
    {
      "cell_type": "markdown",
      "metadata": {
        "id": "pkmDBe_4uMSD"
      },
      "source": [
        "Block 4#"
      ]
    },
    {
      "cell_type": "code",
      "metadata": {
        "id": "AnYf9P7fuNzZ",
        "cellView": "form"
      },
      "source": [
        "#@title **<font size=\"6\" color='cornflowerblue'><ins>Question 1.2</ins>** \n",
        "#@markdown #**Calculate the Chi Square value and write it down (use the p-value calculator for p-value)**\n",
        "\n",
        "block_id = 4\n",
        "required_blocks = []\n",
        "\n",
        "def prepare_block():\n",
        "  try:\n",
        "    initialized\n",
        "  except:\n",
        "    raise Exception(\"You need to identify yourself in Block 1#\")\n",
        "  verify_dependencies(block_id, required_blocks)\n",
        "\n",
        "\n",
        "def block4():\n",
        "  chi_square =  0#@param {type:\"number\"}\n",
        "  #@markdown Is it significant at alpha < 0.05?\n",
        "  chi_significant = False #@param {type:\"boolean\"}\n",
        "  answers[block_id] = (chi_square, chi_significant)\n",
        "  print(\"Your Answer is: \", answers[block_id])\n",
        "\n",
        "\n",
        "try:\n",
        "  prepare_block()\n",
        "  eval('block'+str(block_id))()\n",
        "  executed_blocks.add(block_id)\n",
        "except Exception as e:\n",
        "  print(str(e))\n"
      ],
      "execution_count": null,
      "outputs": []
    },
    {
      "cell_type": "markdown",
      "metadata": {
        "id": "AnGuj-Opu6GL"
      },
      "source": [
        "Block 5#"
      ]
    },
    {
      "cell_type": "code",
      "metadata": {
        "cellView": "form",
        "id": "nOEV_Y0cu8OM"
      },
      "source": [
        "#@title **<font size=\"6\" color='cornflowerblue'><ins>Question 2</ins>** \n",
        "#@markdown #A researcher was interested whether the influence of faculty (Engineering, Medicine and Law) on students' satisfaction (a score between o to 100) changes between genders. \n",
        "#@markdown #**What is the right test to use to answer his question?**\n",
        "\n",
        "block_id = 5\n",
        "required_blocks = []\n",
        "\n",
        "def prepare_block():\n",
        "  try:\n",
        "    initialized\n",
        "  except:\n",
        "    raise Exception(\"You need to identify yourself in Block 1#\")\n",
        "  verify_dependencies(block_id, required_blocks)\n",
        "\n",
        "\n",
        "def block5():\n",
        "  Answer = 'Choose the correct answer' #@param [\"Choose the correct answer\", \"Two-Way ANOVA and testing the interaction between gender and faculty.\", \"Repeated Measures analysis and testing the difference between the faculties.\", \"Chi Square Test for independence between gender and faculty.\", \"Two-Way ANOVA and testing the main effects in the design.\"]\n",
        "  if Answer == 'Choose the correct answer':\n",
        "    raise Exception(\"You must choose an answer\")\n",
        "  answers[block_id] = Answer\n",
        "  print(\"Your Answer is: \", answers[block_id])\n",
        "\n",
        "\n",
        "try:\n",
        "  prepare_block()\n",
        "  eval('block'+str(block_id))()\n",
        "  executed_blocks.add(block_id)\n",
        "except Exception as e:\n",
        "  print(str(e))\n"
      ],
      "execution_count": null,
      "outputs": []
    },
    {
      "cell_type": "markdown",
      "metadata": {
        "id": "QbHXUubwvXLV"
      },
      "source": [
        "Block 6#"
      ]
    },
    {
      "cell_type": "code",
      "metadata": {
        "id": "bRBaPpbqvZpv",
        "cellView": "form"
      },
      "source": [
        "#@title **<font size=\"6\" color='cornflowerblue'><ins>Question 3</ins>** \n",
        "#@markdown #**What is the difference between Chi Square Test for Independence and Chi Square Test for Homogeneity?**\n",
        "\n",
        "block_id = 6\n",
        "required_blocks = []\n",
        "\n",
        "def prepare_block():\n",
        "  try:\n",
        "    initialized\n",
        "  except:\n",
        "    raise Exception(\"You need to identify yourself in Block 1#\")\n",
        "  verify_dependencies(block_id, required_blocks)\n",
        "\n",
        "\n",
        "def block6():\n",
        "  Answer = 'Choose the correct answer' #@param [\"Choose the correct answer\", \"It is the same test with a different name.\", \"In Chi Square Test for Independence we test the existence of a correlation between two categorical variables, while in Chi Square Test for Homogeneity we test the existence of a correlation between two ordinal variables.\", \"In Chi Square Test for Independence we test the existence of a dependence between two categorical variables, while in Chi Square Test for Homogeneity we test if a single categorical variable is distributed as expected (by a previous model, distribution, or sample)\", \"In Chi Square Test for Independence we ask whether two variables are different from each other, while in Chi Square Test for Homogeneity we ask whether two variables are the same.\"]\n",
        "  if Answer == 'Choose the correct answer':\n",
        "    raise Exception(\"You must choose an answer\")\n",
        "  answers[block_id] = Answer\n",
        "  print(\"Your Answer is: \", answers[block_id])\n",
        "\n",
        "\n",
        "try:\n",
        "  prepare_block()\n",
        "  eval('block'+str(block_id))()\n",
        "  executed_blocks.add(block_id)\n",
        "except Exception as e:\n",
        "  print(str(e))\n"
      ],
      "execution_count": null,
      "outputs": []
    },
    {
      "cell_type": "markdown",
      "metadata": {
        "id": "DFiOo-X5vwW_"
      },
      "source": [
        "Block 7#"
      ]
    },
    {
      "cell_type": "code",
      "metadata": {
        "cellView": "form",
        "id": "d0t3d5m0vzMK"
      },
      "source": [
        "#@title **<font size=\"6\" color='cornflowerblue'><ins>Question 4</ins>** \n",
        "#@markdown #**What is the central tendency measure relevant for Mann-Whitney Test?**\n",
        "\n",
        "block_id = 7\n",
        "required_blocks = []\n",
        "\n",
        "def prepare_block():\n",
        "  try:\n",
        "    initialized\n",
        "  except:\n",
        "    raise Exception(\"You need to identify yourself in Block 1#\")\n",
        "  verify_dependencies(block_id, required_blocks)\n",
        "\n",
        "\n",
        "def block7():\n",
        "  Answer = 'Choose the correct answer' #@param [\"Choose the correct answer\", \"The mean of each sample, since we measure the difference between two groups.\", \"The median of each sample, since we measure the difference between the ranks of each group.\", \"The variance of each sample, since we use Mann-Whitney if each distribution is very skewed.\", \"The mode of each sample, since we use Mann-Whitney if there is more than one mode in every sample distribution.\"]\n",
        "  if Answer == 'Choose the correct answer':\n",
        "    raise Exception(\"You must choose an answer\")\n",
        "  answers[block_id] = Answer\n",
        "  print(\"Your Answer is: \", answers[block_id])\n",
        "\n",
        "\n",
        "try:\n",
        "  prepare_block()\n",
        "  eval('block'+str(block_id))()\n",
        "  executed_blocks.add(block_id)\n",
        "except Exception as e:\n",
        "  print(str(e))\n"
      ],
      "execution_count": null,
      "outputs": []
    },
    {
      "cell_type": "markdown",
      "metadata": {
        "id": "c2GwrbNbwFLw"
      },
      "source": [
        "Block 8#"
      ]
    },
    {
      "cell_type": "code",
      "metadata": {
        "cellView": "form",
        "id": "GwXLlimTwI0F"
      },
      "source": [
        "#@title **<font size=\"6\" color='cornflowerblue'><ins>Question 5</ins>** \n",
        "#@markdown #A manager of two caffes, \"Capulet Caffe\" and \"Montague Caffe\", tested their quality of service. To do so, she counted the tips every waiter got in both caffes and compared the two distributions.\n",
        "#@markdown #**What is correct?**\n",
        "\n",
        "block_id = 8\n",
        "required_blocks = []\n",
        "\n",
        "def prepare_block():\n",
        "  try:\n",
        "    initialized\n",
        "  except:\n",
        "    raise Exception(\"You need to identify yourself in Block 1#\")\n",
        "  verify_dependencies(block_id, required_blocks)\n",
        "\n",
        "\n",
        "def block8():\n",
        "  Answer = \"Choose the correct answer\" #@param [\"Choose the correct answer\", \"Both distributions were very different from each other, so the manager can't analyze the data at all.\", \"If we can assume that the distributions are normal, it's better to use Mann-Whitney Test.\", \"If we cannot assume that the distributions are normal, it's better to use T-Test.\", \"If we cannot assume that the distributions are normal, it's better to use Mann-Whitney Test.\"]\n",
        "  if Answer == 'Choose the correct answer':\n",
        "    raise Exception(\"You must choose an answer\")\n",
        "  answers[block_id] = Answer\n",
        "  print(\"Your Answer is: \", answers[block_id])\n",
        "\n",
        "\n",
        "try:\n",
        "  prepare_block()\n",
        "  eval('block'+str(block_id))()\n",
        "  executed_blocks.add(block_id)\n",
        "except Exception as e:\n",
        "  print(str(e))\n"
      ],
      "execution_count": null,
      "outputs": []
    },
    {
      "cell_type": "markdown",
      "metadata": {
        "id": "X_-gan0awZL7"
      },
      "source": [
        "Block 9#"
      ]
    },
    {
      "cell_type": "code",
      "metadata": {
        "id": "p2oY8sgnwcUp",
        "cellView": "form"
      },
      "source": [
        "#@title **<font size=\"6\" color='cornflowerblue'><ins>Question 6</ins>** \n",
        "#@markdown #A researcher tested whether cats and dogs differ in their desire for playing with a ball. Therefore, he recruited cats and dogs, let them play with a ball and measured the time they played. He used the Shift Function to test his hypothesis and got a significant effect for deciles 6 to 9 only (dogs - cats).\n",
        "#@markdown #**What is possible?**\n",
        "\n",
        "block_id = 9\n",
        "required_blocks = []\n",
        "\n",
        "def prepare_block():\n",
        "  try:\n",
        "    initialized\n",
        "  except:\n",
        "    raise Exception(\"You need to identify yourself in Block 1#\")\n",
        "  verify_dependencies(block_id, required_blocks)\n",
        "\n",
        "\n",
        "def block9():\n",
        "  Answer = 'Choose the correct answer' #@param [\"Choose the correct answer\", \"The variances of both groups were the same.\", \"The medians of both groups were the same.\", \"The difference between the 25 percentile and the 75 percentile is the same in both groups.\"]\n",
        "  if Answer == 'Choose the correct answer':\n",
        "    raise Exception(\"You must choose an answer\")\n",
        "  answers[block_id] = Answer\n",
        "  print(\"Your Answer is: \", answers[block_id])\n",
        "\n",
        "\n",
        "try:\n",
        "  prepare_block()\n",
        "  eval('block'+str(block_id))()\n",
        "  executed_blocks.add(block_id)\n",
        "except Exception as e:\n",
        "  print(str(e))\n"
      ],
      "execution_count": null,
      "outputs": []
    },
    {
      "cell_type": "markdown",
      "metadata": {
        "id": "vJ2eX0fJw7eC"
      },
      "source": [
        "Block 10#"
      ]
    },
    {
      "cell_type": "code",
      "metadata": {
        "id": "sDM016aC5gHQ",
        "cellView": "form"
      },
      "source": [
        "#@title **<font size=\"6\" color='cornflowerblue'><ins>Question 7</ins>** \n",
        "#@markdown #Let's get back to \"Capulet Caffe\" and \"Montague Caffe\". To test whether the two caffes differ in their service, the manager counted the tips every waiter got in both caffes and compared the two distributions. To do so, she sampled 10 waiters from every caffe. The researcher decided to perform the Mann-Whitney Test and she needs your help (alpha = 0.05).\n",
        "#@markdown #**Running this block will present the sum of tips every waiter got in every caffe.**\n",
        "\n",
        "block_id = 10\n",
        "required_blocks = []\n",
        "\n",
        "def prepare_block():\n",
        "  try:\n",
        "    initialized\n",
        "  except:\n",
        "    raise Exception(\"You need to identify yourself in Block 1#\")\n",
        "  verify_dependencies(block_id, required_blocks)\n",
        "\n",
        "\n",
        "def block10():\n",
        "  np.random.seed(group_number)\n",
        "  capulet = np.round(np.random.gamma(12,10,10))+22\n",
        "  np.random.seed(group_number+1)\n",
        "  montague = np.round(np.random.gamma(12,10,10))\n",
        "  ranks = stats.rankdata(np.concatenate([capulet, montague]))\n",
        "  UMW,VP=stats.mannwhitneyu(capulet,montague,use_continuity=False)\n",
        "  increase_font()\n",
        "  print(f\"Capulet:  {capulet}, median = {np.median(capulet)}\\n\")\n",
        "  print(f\"Montague: {montague}, median = {np.median(montague)}\")\n",
        "  np.save('ranks', ranks)\n",
        "  data['UMW'], data['VP'] = UMW, VP\n",
        "  return capulet, montague, ranks\n",
        "\n",
        "try:\n",
        "  prepare_block()\n",
        "  capulet, montague, ranks = eval('block'+str(block_id))()\n",
        "  executed_blocks.add(block_id)\n",
        "except Exception as e:\n",
        "  print(str(e))"
      ],
      "execution_count": null,
      "outputs": []
    },
    {
      "cell_type": "markdown",
      "metadata": {
        "id": "j2t2xKhENGM3"
      },
      "source": [
        "Block 11#"
      ]
    },
    {
      "cell_type": "code",
      "metadata": {
        "id": "2hVURRkhNF5E",
        "cellView": "form"
      },
      "source": [
        "#@title **<font size=\"6\" color='cornflowerblue'><ins>Question 7.1</ins>** \n",
        "#@markdown #Give points to every score to get the statistic U value. You are asked to give points to every observation in each group, from 0 to 10. The number of points of every obsevation Capulet group will be the number of observations in Montague group that are lower than it. \n",
        "#@markdown - Write the answers with commas between them - the order is important. \n",
        "#@markdown - For example, if group A is 8,11,46 and group B is 7,16,41, then the correct answer for A is 1,1,3 \n",
        "#@markdown - '0' means that there is no higher observation in the other group; '10' means that all rankings in the other group are higher than this ranking.\n",
        "\n",
        "#@markdown #**Give points to each observation:**\n",
        "\n",
        "block_id = 11\n",
        "required_blocks = []\n",
        "\n",
        "def prepare_block():\n",
        "  try:\n",
        "    initialized\n",
        "  except:\n",
        "    raise Exception(\"You need to identify yourself in Block 1#\")\n",
        "  verify_dependencies(block_id, required_blocks)\n",
        "\n",
        "\n",
        "def block11():\n",
        "  capulet_points = \"0,0,0,0,0,0,0,0,0,0\" #@param {type:\"string\"}\n",
        "  montague_points = \"0,0,0,0,0,0,0,0,0,0\" #@param {type:\"string\"}\n",
        "  capulet_points = [float(pts) for pts in capulet_points.split(\",\")] #eval(f\"[{capulet_points}]\")\n",
        "  montague_points = [float(pts) for pts in montague_points.split(\",\")] #eval(f\"[{montague_points}]\")\n",
        "  if len(capulet_points) != 10:\n",
        "    raise Exception(\"You need to set 10 values seperated by a comma for capulet_points\")\n",
        "  if len(montague_points) != 10:\n",
        "    raise Exception(\"You need to set 10 values seperated by a comma for montague_points\")\n",
        "  answers[block_id] = capulet_points, montague_points\n",
        "  print(\"Your answer:\", answers[block_id])\n",
        "\n",
        "\n",
        "try:\n",
        "  prepare_block()\n",
        "  eval('block'+str(block_id))()\n",
        "  executed_blocks.add(block_id)\n",
        "except Exception as e:\n",
        "  print(str(e))"
      ],
      "execution_count": null,
      "outputs": []
    },
    {
      "cell_type": "markdown",
      "metadata": {
        "id": "16mKPHBMQak4"
      },
      "source": [
        "Block 12#"
      ]
    },
    {
      "cell_type": "code",
      "metadata": {
        "id": "nhU-cBHrQYkh",
        "cellView": "form"
      },
      "source": [
        "#@title **<font size=\"6\" color='cornflowerblue'><ins>Question 7.2</ins>** \n",
        "#@markdown #Now sum the points of every group and write down its U. Then, pick the smallest U between the two groups, congratulations – it is your U value. \n",
        "#@markdown #**Run the block to view the P value, and decide whether you got a significant result.**\n",
        "#@markdown Note: the p-value here is for a two-tail test\n",
        "\n",
        "block_id = 12\n",
        "required_blocks = []\n",
        "\n",
        "def prepare_block():\n",
        "  try:\n",
        "    initialized\n",
        "  except:\n",
        "    raise Exception(\"You need to identify yourself in Block 1#\")\n",
        "  verify_dependencies(block_id, required_blocks)\n",
        "\n",
        "\n",
        "def block12():\n",
        "  U_statistic =  0 #@param {type:\"number\"}\n",
        "  #@markdown Is it significant at alpha < 0.05?\n",
        "  significant = False #@param {type:\"boolean\"}\n",
        "  n1=float(len(capulet))\n",
        "  n2=float(len(montague))\n",
        "  T=stats.tiecorrect(ranks)\n",
        "  meanrank = n1*n2/2.0\n",
        "  sd = np.sqrt(T * n1 * n2 * (n1+n2+1) / 12.0)\n",
        "  z = float((max(U_statistic,n1*n2-U_statistic) - meanrank) / sd)\n",
        "  p = np.round(stats.norm.sf(abs(z)),3)\n",
        "  print(f\"p-value = {p}\")\n",
        "  answers[block_id] = U_statistic, significant\n",
        "  print(\"Your answer:\", answers[block_id])\n",
        "\n",
        "\n",
        "try:\n",
        "  prepare_block()\n",
        "  eval('block'+str(block_id))()\n",
        "  executed_blocks.add(block_id)\n",
        "except Exception as e:\n",
        "  print(str(e))"
      ],
      "execution_count": null,
      "outputs": []
    },
    {
      "cell_type": "markdown",
      "metadata": {
        "id": "do_xLyNXlFHv"
      },
      "source": [
        "<font size=\"6\" color='cornflowerblue'><ins>**Question 8**"
      ]
    },
    {
      "cell_type": "markdown",
      "metadata": {
        "id": "GWrZJzleRpqV"
      },
      "source": [
        "Block 13#"
      ]
    },
    {
      "cell_type": "code",
      "metadata": {
        "id": "KOwe8qeNSqvm",
        "cellView": "form"
      },
      "source": [
        "#@title **<font size=\"6\" color='cornflowerblue'><ins>Four Chi distributions</ins>** \n",
        "#@markdown #**Press the button below to see four different chi square distributions.**\n",
        "\n",
        "block_id = 13\n",
        "required_blocks = []\n",
        "\n",
        "def prepare_block():\n",
        "  try:\n",
        "    initialized\n",
        "  except:\n",
        "    raise Exception(\"You need to identify yourself in Block 1#\")\n",
        "  verify_dependencies(block_id, required_blocks)\n",
        "\n",
        "\n",
        "def block13():\n",
        "  fig,ax = plt.subplots(ncols=len(degs_freedom),figsize = (28,6))\n",
        "  colors = [\"olive\",\"darkred\",\"blueviolet\",\"deepskyblue\"]\n",
        "  for i in range(len(degs_freedom)):\n",
        "        np.random.seed(int(group_number))\n",
        "        curr_dist=np.random.chisquare(degs_freedom[i],10000)\n",
        "        sns.kdeplot(curr_dist,ax=ax[i],fill=True,color=colors[i])\n",
        "        ax[i].set_xlabel(f\"Chi square\")\n",
        "        if i>0: ax[i].set_ylabel(f\"\")\n",
        "        ax[i].set_xlim(0,40)\n",
        "        ax[i].set_ylim(0,.36)\n",
        "        ax[i].set_title(f\"graph {i+1}\")\n",
        "\n",
        "\n",
        "try:\n",
        "  prepare_block()\n",
        "  eval('block'+str(block_id))()\n",
        "  executed_blocks.add(block_id)\n",
        "except Exception as e:\n",
        "  print(str(e))"
      ],
      "execution_count": null,
      "outputs": []
    },
    {
      "cell_type": "markdown",
      "metadata": {
        "id": "N8FwwgKQSVj2"
      },
      "source": [
        "Block 14#"
      ]
    },
    {
      "cell_type": "code",
      "metadata": {
        "id": "NV7FvyzlTQ3z",
        "cellView": "form"
      },
      "source": [
        "#@title **<font size=\"6\" color='cornflowerblue'><ins>Question 8.1</ins>** \n",
        "#@markdown #**Match each distribution above to its degrees of freedom.**\n",
        "#@markdown Hint: What is expected when you add more and more groups to a Chi squared test for homogenity? What would happen to the Chi Squared values?\n",
        "block_id = 14\n",
        "required_blocks = []\n",
        "\n",
        "def prepare_block():\n",
        "  try:\n",
        "    initialized\n",
        "  except:\n",
        "    raise Exception(\"You need to identify yourself in Block 1#\")\n",
        "  verify_dependencies(block_id, required_blocks)\n",
        "\n",
        "\n",
        "def block14():\n",
        "  graph_1 = \"Choose an answer\" #@param [\"Choose an answer\",2,5,10,20]\n",
        "  if graph_1 == \"Choose an answer\":\n",
        "    raise Exception(\"How many degrees of freedom does graph 1 have?\")\n",
        "  graph_2 = \"Choose an answer\" #@param [\"Choose an answer\",2,5,10,20]\n",
        "  if graph_2 == \"Choose an answer\":\n",
        "    raise Exception(\"How many degrees of freedom does graph 2 have?\")\n",
        "  graph_3 = \"Choose an answer\" #@param [\"Choose an answer\",2,5,10,20]\n",
        "  if graph_3 == \"Choose an answer\":\n",
        "    raise Exception(\"How many degrees of freedom does graph 3 have?\")\n",
        "  graph_4 = \"Choose an answer\" #@param [\"Choose an answer\",2,5,10,20]\n",
        "  if graph_4 == \"Choose an answer\":\n",
        "    raise Exception(\"How many degrees of freedom does graph 4 have?\")\n",
        "  answers[block_id] = [int(graph_1),int(graph_2),int(graph_3),int(graph_4)]\n",
        "  print(\"Your answer:\", answers[block_id])\n",
        "\n",
        "\n",
        "try:\n",
        "  prepare_block()\n",
        "  eval('block'+str(block_id))()\n",
        "  executed_blocks.add(block_id)\n",
        "except Exception as e:\n",
        "  print(str(e))"
      ],
      "execution_count": null,
      "outputs": []
    },
    {
      "cell_type": "markdown",
      "metadata": {
        "id": "hjO_Ad3-TOLG"
      },
      "source": [
        "Block 15#"
      ]
    },
    {
      "cell_type": "code",
      "metadata": {
        "id": "kut_GsEVRq8N",
        "cellView": "form"
      },
      "source": [
        "#@title **<font size=\"6\" color='cornflowerblue'><ins>Question 8.2</ins>** \n",
        "#@markdown #Lets learn a few things about the chi square distribution. Complete the sentence below, based on the figures above:\n",
        "#@markdown #**Under the null hypothesis, in Chi Square analysis, as the DF get ________, the chances to get a higher chi value are _________. The chances to reject the null hypothesis _________**\n",
        "\n",
        "block_id = 15\n",
        "required_blocks = []\n",
        "\n",
        "def prepare_block():\n",
        "  try:\n",
        "    initialized\n",
        "  except:\n",
        "    raise Exception(\"You need to identify yourself in Block 1#\")\n",
        "  verify_dependencies(block_id, required_blocks)\n",
        "\n",
        "\n",
        "def block15():\n",
        "  Answer = 'Choose the correct answer' #@param [\"Choose the correct answer\", \"bigger, smaller, will change.\", \"bigger, bigger, will not change.\", \"smaller, bigger, will get bigger.\", \"smaller, smaller, will get smaller.\"]\n",
        "  if Answer == 'Choose the correct answer':\n",
        "    raise Exception(\"You must choose an answer\")\n",
        "  answers[block_id] = Answer\n",
        "  print(\"Your Answer is: \", answers[block_id])\n",
        "\n",
        "\n",
        "try:\n",
        "  prepare_block()\n",
        "  eval('block'+str(block_id))()\n",
        "  executed_blocks.add(block_id)\n",
        "except Exception as e:\n",
        "  print(str(e))\n"
      ],
      "execution_count": null,
      "outputs": []
    },
    {
      "cell_type": "markdown",
      "metadata": {
        "id": "1vSzAsO7UE50"
      },
      "source": [
        "<br>\r\n",
        "<br>\r\n",
        "<hr>\r\n",
        "<br>\r\n",
        "<br>"
      ]
    },
    {
      "cell_type": "markdown",
      "metadata": {
        "id": "-_sZ9CNd_-Rn"
      },
      "source": [
        "**<p><font size=\"10\"><font color='cornflowerblue'> Good job!</ins></p>** </font>\n",
        "\n",
        "#**You finished answering the questions for this exercise! Here are some important things to consider:**\n",
        "\n",
        "\n",
        "* You can view your answers by running the next block. \n",
        "*After changing an answer to a question, you will need to run the 'Show your answers' again for it to reflect changes.\n",
        "* <b>If you change an answer to a question, you will need to run it again for changes to be saved. \n"
      ]
    },
    {
      "cell_type": "markdown",
      "metadata": {
        "id": "rfzwUuw_Nka2"
      },
      "source": [
        "Block 16#"
      ]
    },
    {
      "cell_type": "code",
      "metadata": {
        "id": "GwW8XtVgUvnI",
        "cellView": "form"
      },
      "source": [
        "#@title **<font color = cornflowerblue> <font size = 6>Show Your Answers <br>(Run to refresh after saving a question)**\n",
        "\n",
        "block_id = 16\n",
        "\n",
        "\n",
        "def prepare_block():\n",
        "  try:\n",
        "    initialized\n",
        "  except:\n",
        "    raise Exception(\"You need to identify yourself in Block 1#\")\n",
        "  verify_dependencies(block_id, range(block_id))\n",
        "\n",
        "\n",
        "def answers_printer():\n",
        "  for block in sorted(answers):\n",
        "    print(\"Question \" + str(block_mapping[block]) + \": \" + str(answers[block]))\n",
        "\n",
        "try:\n",
        "  prepare_block()\n",
        "  answers_printer()\n",
        "except Exception as e:\n",
        "  print(str(e))\n"
      ],
      "execution_count": null,
      "outputs": []
    },
    {
      "cell_type": "markdown",
      "metadata": {
        "id": "8jODJNn_Niy_"
      },
      "source": [
        "Block 17#"
      ]
    },
    {
      "cell_type": "code",
      "metadata": {
        "id": "SQPQDuKUNdzo",
        "cellView": "form"
      },
      "source": [
        "#@title  **<p><font size=\"10\"><font color='cornflowerblue'><ins> <---  💾 SAVE! </ins></p>**\n",
        "#@markdown If you are ready to submit your answers, go ahead and press 'Save!'💾 . This will prompt you to download your answers file. After downloading you will need to submit the file to moodle. Good luck!\n",
        "\n",
        "from google.colab import files\n",
        "from shutil import make_archive\n",
        "from os import path, remove\n",
        "from zipfile import ZipFile\n",
        "\n",
        "block_id = 17\n",
        "\n",
        "def prepare_block():\n",
        "  try:\n",
        "    initialized\n",
        "  except:\n",
        "    raise Exception(\"You need to identify yourself in Block 1#\")\n",
        "  verify_dependencies(block_id, range(block_id - 1))\n",
        "\n",
        "\n",
        "def answer_saver(file):\n",
        "  for block in sorted(answers):\n",
        "    file.write(\"Question \" + str(block_mapping[block]) + \": \" + str(answers[block])+'\\n')\n",
        "\n",
        "\n",
        "def submission_saver():\n",
        "  # Writing answers\n",
        "  f = open(\"ex\"+str(exercise_number)+\"_submission\", \"w\")\n",
        "  f.write(\"#\"+str(id_number)+\"\\n\")\n",
        "  f.write(\"#\"+str(group_number)+\"\\n\")\n",
        "  answer_saver(f) \n",
        "  f.write(\"#End of answers\")\n",
        "  f.close()\n",
        "\n",
        "  # Writing data\n",
        "  g = open(\"ex\"+str(exercise_number)+\"_data\", \"w\")\n",
        "  g.write(str(data))\n",
        "  g.close()\n",
        "  datazip = ZipFile(\"ex\"+str(exercise_number)+\"_data\"+'.zip', 'w')\n",
        "  datazip.write(\"ex\"+str(exercise_number)+\"_data\")\n",
        "  datazip.close()\n",
        "\n",
        "  # Creating submission file\n",
        "  zipObj = ZipFile(\"ex\"+str(exercise_number)+'.zip', 'w')\n",
        "  zipObj.write(\"ex\"+str(exercise_number)+'_submission')\n",
        "  zipObj.write(\"ex\"+str(exercise_number)+\"_data\")\n",
        "  zipObj.write(\"ranks.npy\")\n",
        "  zipObj.write(\"cva.npy\")\n",
        "  zipObj.write(\"vap.npy\")\n",
        "  zipObj.close()\n",
        "  files.download(\"ex\"+str(exercise_number)+'.zip') \n",
        "\n",
        "  # Message to user\n",
        "  print(\"Well done! You are now downloading your submission file\")\n",
        "\n",
        "\n",
        "try:\n",
        "  prepare_block()\n",
        "  submission_saver()\n",
        "except Exception as e:\n",
        "  print(str(e))\n",
        "\n"
      ],
      "execution_count": null,
      "outputs": []
    }
  ]
}