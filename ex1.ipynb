{
  "nbformat": 4,
  "nbformat_minor": 0,
  "metadata": {
    "colab": {
      "name": "ex1.ipynb",
      "provenance": [],
      "collapsed_sections": []
    },
    "kernelspec": {
      "name": "python3",
      "display_name": "Python 3"
    }
  },
  "cells": [
    {
      "cell_type": "markdown",
      "metadata": {
        "id": "sRejH2klZjjk"
      },
      "source": [
        "# Welcome to ex1!\n",
        "### <font color=\"red\">Before starting, please first run the 'Start/Reset' block below.\n",
        "### <font color=\"red\">After choosing or changing an answer, run its block to save changes.\n",
        "### You can run the 'Show your answers' block at the end of the notebook to see your currently saved answers\n",
        "### <b>Note</b>: <font color=\"red\">Avoid pressing Runtime -> Run all</font>"
      ]
    },
    {
      "cell_type": "markdown",
      "metadata": {
        "id": "7Cf91hwacB1r"
      },
      "source": [
        "Block 1#"
      ]
    },
    {
      "cell_type": "code",
      "metadata": {
        "id": "uedgYlKMN1e_",
        "cellView": "form"
      },
      "source": [
        "#@title #Start/Reset\n",
        "\n",
        "import numpy as np\n",
        "import seaborn as sns\n",
        "import matplotlib.pyplot as plt\n",
        "import pandas as pd\n",
        "from scipy import stats\n",
        "from math import sqrt\n",
        "\n",
        "import statistics\n",
        "import random\n",
        "import io\n",
        "from ipywidgets import interact, interactive, fixed, interact_manual\n",
        "import ipywidgets as widgets\n",
        "\n",
        "#\n",
        "sns.set(style=\"white\", palette=\"muted\", color_codes=True)\n",
        "sns.set(rc={'figure.figsize':(10,10)});\n",
        "sns.set_context(\"talk\")\n",
        "\n",
        "answers = [None]*5\n",
        "q6_answers = [None]*5\n",
        "q7_answers = [None, [None]*5]\n",
        "\n",
        "##\n",
        "start_block = True\n",
        "blocks_run = [True]*3+[False]*25\n",
        "\n",
        "print(\"You can now begin answering the questions. Good luck!\")"
      ],
      "execution_count": null,
      "outputs": []
    },
    {
      "cell_type": "markdown",
      "metadata": {
        "id": "M8DOmvzjcCwA"
      },
      "source": [
        "Block 2#"
      ]
    },
    {
      "cell_type": "code",
      "metadata": {
        "id": "EqFi1QHH-Gy2",
        "cellView": "form"
      },
      "source": [
        "#@title What is your ID number? (<font color=\"red\">mandatory</font>)\n",
        "\n",
        "def prepare_block2():\n",
        "  try:\n",
        "    start_block\n",
        "  except:\n",
        "    raise Exception(\"You did not run the 'Start' block (block 1#)\")\n",
        "\n",
        "try:\n",
        "  prepare_block2()\n",
        "  id_number = '' #@param {type:\"string\"}\n",
        "  print(\"ID number saved: \", id_number)\n",
        "except Exception as e:\n",
        "  print(str(e))\n",
        "\n"
      ],
      "execution_count": null,
      "outputs": []
    },
    {
      "cell_type": "markdown",
      "metadata": {
        "id": "1dVfaTiZcDtj"
      },
      "source": [
        "Block 3#"
      ]
    },
    {
      "cell_type": "code",
      "metadata": {
        "cellView": "form",
        "id": "EDQoqJA77dUC"
      },
      "source": [
        "#@title What is your group number? (<font color=\"red\">mandatory</font>)\n",
        "\n",
        "def prepare_block3():\n",
        "  try:\n",
        "    start_block\n",
        "  except:\n",
        "    raise Exception(\"You did not run the 'Start' block (block 1#)\")\n",
        "  try:\n",
        "    id_number\n",
        "  except:\n",
        "    raise Exception(\"You first need to save your ID (block 2#)\")\n",
        "\n",
        "try:\n",
        "  prepare_block3()\n",
        "  group_number = '' #@param {type:\"string\"}\n",
        "  print(\"Group number saved: \", group_number)\n",
        "except Exception as e:\n",
        "  print(str(e))\n"
      ],
      "execution_count": null,
      "outputs": []
    },
    {
      "cell_type": "markdown",
      "metadata": {
        "id": "NxFfLIps89tb"
      },
      "source": [
        "#Part one: multiple choice questions\n",
        "\n",
        "Choose the correct answer in each of the following multiple choice questions. \n",
        "Each question only has one correct answer. \n",
        "\n",
        "### <font color=\"red\"> Choose an answer and run the block."
      ]
    },
    {
      "cell_type": "markdown",
      "metadata": {
        "id": "iThuVZQIbKi2"
      },
      "source": [
        "Block 4#"
      ]
    },
    {
      "cell_type": "code",
      "metadata": {
        "id": "1hX6NX5tQsjm",
        "cellView": "form"
      },
      "source": [
        "#@title Question 1: Which of the following is impossible?\n",
        "\n",
        "def prepare_block4():\n",
        "  try:\n",
        "    start_block\n",
        "  except:\n",
        "    raise Exception(\"You did not run the 'Start' block (block 1#)\")\n",
        "  try:\n",
        "    id_number\n",
        "  except:\n",
        "    raise Exception(\"You first need to save your ID (block 2#)\")\n",
        "  try:\n",
        "    group_number\n",
        "  except:\n",
        "    raise Exception(\"You first need to save your group number (block 3#)\")\n",
        "\n",
        "try:\n",
        "  prepare_block4()\n",
        "  Answer = 'Choose an answer' #@param ['Choose an answer', 'An observation was removed from a sample but the median was not affected', 'An observation was added to a sample but the mean was not affected', '75% of the observations in a certain sample are bigger than the median', '75% of the observations in a certain sample are bigger than the mean'] {allow-input: false}\n",
        "  if Answer == 'Choose an answer':\n",
        "    raise Exception(\"You must choose an answer\")\n",
        "  answers[0] = Answer\n",
        "  print(\"Your Answer is: \", answers[0])\n",
        "  blocks_run[4] = True\n",
        "except Exception as e:\n",
        "  print(str(e))\n"
      ],
      "execution_count": null,
      "outputs": []
    },
    {
      "cell_type": "markdown",
      "metadata": {
        "id": "u2sLQlwUbNiQ"
      },
      "source": [
        "Block 5#"
      ]
    },
    {
      "cell_type": "code",
      "metadata": {
        "id": "DCpDmHOQXvUy",
        "cellView": "form"
      },
      "source": [
        "#@title Run this block to display a distribution representing a sample. The mean and the median of the sample are marked in red/black lines, but it is unknown which is which. A, B and C are three specific observations that are part of the sample, with values that correspond to their location on the X-axis. \n",
        "\n",
        "def prepare_block5():\n",
        "  try:\n",
        "    start_block\n",
        "  except:\n",
        "    raise Exception(\"You did not run the 'Start' block (block 1#)\")\n",
        "  try:\n",
        "    id_number\n",
        "  except:\n",
        "    raise Exception(\"You first need to save your ID (block 2#)\")\n",
        "  try:\n",
        "    group_number\n",
        "  except:\n",
        "    raise Exception(\"You first need to save your group number (block 3#)\")\n",
        "\n",
        "try:\n",
        "  prepare_block5()\n",
        "  shape, scale = 3, 9.  # mean=4, std=2*sqrt(2)\n",
        "  DeathSim =  105 - np.random.gamma(shape, scale, 400)\n",
        "  DeathSim=DeathSim[DeathSim>0]\n",
        "  # incomeSim = pd.Series(incomeSim, name=\"Income\")\n",
        "  A,B,C = 18,45,98\n",
        "  meanDeath=np.mean(DeathSim)\n",
        "  mdnDeath=np.median(DeathSim)\n",
        "  #plt.figure(figsize=(7,8));\n",
        "  sns.displot(DeathSim,bins=20, kde=True, rug=True, color='black');\n",
        "  plt.xlabel('Age at death');\n",
        "  plt.ylabel('Probability Density');\n",
        "  plt.title('Left Skewed Distribution');\n",
        "\n",
        "  plt.axvline(x=meanDeath, color='k', linestyle='-');\n",
        "  plt.axvline(x=mdnDeath, color='r', linestyle='-');\n",
        "  plt.axvline(x=A,linestyle='--',color=\"gold\",label=\"A\");\n",
        "  plt.axvline(x=B,linestyle='--',label=\"B\");\n",
        "  plt.axvline(x=C,linestyle='--',color=\"green\",label=\"C\");\n",
        "  plt.legend();\n",
        "\n",
        "  blocks_run[5] = True\n",
        "except Exception as e:\n",
        "  print(str(e))\n",
        "\n",
        "\n"
      ],
      "execution_count": null,
      "outputs": []
    },
    {
      "cell_type": "markdown",
      "metadata": {
        "id": "xhuR9wp1bPfw"
      },
      "source": [
        "Block 6#"
      ]
    },
    {
      "cell_type": "code",
      "metadata": {
        "id": "zQZ-_wh1ellC",
        "cellView": "form"
      },
      "source": [
        "#@title Question 2: Which of the following is correct?\n",
        "required_blocks = [5]\n",
        "\n",
        "def prepare_block6():\n",
        "  try:\n",
        "    start_block\n",
        "  except:\n",
        "    raise Exception(\"You did not run the 'Start' block (block 1#)\")\n",
        "  try:\n",
        "    id_number\n",
        "  except:\n",
        "    raise Exception(\"You first need to save your ID (block 2#)\")\n",
        "  try:\n",
        "    group_number\n",
        "  except:\n",
        "    raise Exception(\"You first need to save your group number (block 3#)\")\n",
        "  for block_index in required_blocks:\n",
        "    if not blocks_run[block_index]:\n",
        "      raise Exception(\"You first need to run block \"+str(block_index)+\"#\")\n",
        "\n",
        "def block6():\n",
        "  Answer = 'Choose an answer' #@param ['Choose an answer', 'Removing A from the sample will make the mean closer to the median.', 'Removing A, B and C will necessarily affect the value of the median.', 'Adding an observation that is equal to the mean of the sample will make the median closer to C.', 'Adding an observation that is equal in its value to the median will make the mean closer to B.', 'Removing A from the sample will make the mean and the median more distant from each other.'] {allow-input: false}\n",
        "  if Answer == 'Choose an answer':\n",
        "    raise Exception(\"You must choose an answer\")\n",
        "  answers[1] = Answer\n",
        "  print(\"Your Answer is: \", answers[1])\n",
        "\n",
        "try:\n",
        "  prepare_block6()\n",
        "  block6()\n",
        "  blocks_run[6] = True\n",
        "except Exception as e:\n",
        "  print(str(e))\n"
      ],
      "execution_count": null,
      "outputs": []
    },
    {
      "cell_type": "markdown",
      "metadata": {
        "id": "wprWyByIbZ8E"
      },
      "source": [
        "Block 7#"
      ]
    },
    {
      "cell_type": "code",
      "metadata": {
        "id": "t42qeJ9_Yjlp",
        "cellView": "form"
      },
      "source": [
        "#@title Question 3: What of the following sampling methods is biased upwards (the estimate is likely to be higher than the actual value)?\n",
        "required_blocks = []\n",
        "\n",
        "def prepare_block7():\n",
        "  try:\n",
        "    start_block\n",
        "  except:\n",
        "    raise Exception(\"You did not run the 'Start' block (block 1#)\")\n",
        "  try:\n",
        "    id_number\n",
        "  except:\n",
        "    raise Exception(\"You first need to save your ID (block 2#)\")\n",
        "  try:\n",
        "    group_number\n",
        "  except:\n",
        "    raise Exception(\"You first need to save your group number (block 3#)\")\n",
        "  for block_index in required_blocks:\n",
        "    if not blocks_run[block_index]:\n",
        "      raise Exception(\"You first need to run block \"+str(block_index)+\"#\")\n",
        "\n",
        "def block7():\n",
        "  Answer = \"Choose an answer\" #@param [\"Choose an answer\", \"To estimate the amount of time Israelis are investing in sports \\u2013 sampling 50 swimmers in a pool, 50 people working out in a gym and 50 people practicing Yoga in a studio\", \"To estimate the electricity consumption of a Jerusalem apartment during the winter \\u2013 sampling 150 apartments in Rehavia, a neighborhood in which it is very common to have a heating system (\\u201CHasaka\\u201D) that does not operate on electricity. \", \"To estimate the distance football players run in a single match \\u2013 sampling 150 players, most of them are field players but some of them are goalkeepers (all of them are considered \\u201Cfootball players\\u201D).\", \"To estimate the amount of time students\\u2019 study for a test \\u2013 sampling 150 students, some of them hold a full-time job in addition to their studies.\"] {allow-input: false}\n",
        "  if Answer == 'Choose an answer':\n",
        "    raise Exception(\"You must choose an answer\")\n",
        "  answers[2] = Answer\n",
        "  print(\"Your Answer is: \", answers[2])\n",
        "\n",
        "try:\n",
        "  prepare_block7()\n",
        "  block7()\n",
        "  blocks_run[7] = True\n",
        "except Exception as e:\n",
        "  print(str(e))\n"
      ],
      "execution_count": null,
      "outputs": []
    },
    {
      "cell_type": "markdown",
      "metadata": {
        "id": "lE-2Toc3beB-"
      },
      "source": [
        "Block 8#"
      ]
    },
    {
      "cell_type": "code",
      "metadata": {
        "id": "JUDKdLqtYj1A",
        "cellView": "form"
      },
      "source": [
        "#@title Question 4: Margaret invented a new statistic which is not consistent and unbiased. Winston also invented a statistic, which is not consistent and biased. The head of their lab, Boris, suggested they should increase the number of observations in the samples they collect (N), so the values they calculate using their statistics will be closer to the expected value of the parameters they try to estimate. Is Boris's tip valuable?\n",
        "required_blocks = []\n",
        "\n",
        "def prepare_block8():\n",
        "  try:\n",
        "    start_block\n",
        "  except:\n",
        "    raise Exception(\"You did not run the 'Start' block (block 1#)\")\n",
        "  try:\n",
        "    id_number\n",
        "  except:\n",
        "    raise Exception(\"You first need to save your ID (block 2#)\")\n",
        "  try:\n",
        "    group_number\n",
        "  except:\n",
        "    raise Exception(\"You first need to save your group number (block 3#)\")\n",
        "  for block_index in required_blocks:\n",
        "    if not blocks_run[block_index]:\n",
        "      raise Exception(\"You first need to run block \"+str(block_index)+\"#\")\n",
        "\n",
        "def block8():\n",
        "  Answer = \"Choose an answer\" #@param [\"Choose an answer\", \"Yes, for both Margaret and Winston.\", \"Not for Margaret and not for Winston.\", \"Yes, but only for Margaret.\", \"Yes, but only for Winston.\"] {allow-input: false}\n",
        "  if Answer == 'Choose an answer':\n",
        "    raise Exception(\"You must choose an answer\")\n",
        "  answers[3] = Answer\n",
        "  print(\"Your Answer is: \", answers[3])\n",
        "\n",
        "try:\n",
        "  prepare_block8()\n",
        "  block8()\n",
        "  blocks_run[8] = True\n",
        "except Exception as e:\n",
        "  print(str(e))\n"
      ],
      "execution_count": null,
      "outputs": []
    },
    {
      "cell_type": "markdown",
      "metadata": {
        "id": "xaU_pfwBbgJs"
      },
      "source": [
        "Block 9#"
      ]
    },
    {
      "cell_type": "code",
      "metadata": {
        "id": "m4U-uQiVYkR4",
        "cellView": "form"
      },
      "source": [
        "#@title Question 5: A researcher asked random individuals he encountered in the street how many spectators were in the last movie screening they attended in a cinema. He then averaged the answers to estimate the number of spectators in a movie screening. The researcher’s estimate is ________ because he ________.\n",
        "\n",
        "required_blocks = []\n",
        "\n",
        "\n",
        "def prepare_block9():\n",
        "  try:\n",
        "    start_block\n",
        "  except:\n",
        "    raise Exception(\"You did not run the 'Start' block (block 1#)\")\n",
        "  try:\n",
        "    id_number\n",
        "  except:\n",
        "    raise Exception(\"You first need to save your ID (block 2#)\")\n",
        "  try:\n",
        "    group_number\n",
        "  except:\n",
        "    raise Exception(\"You first need to save your group number (block 3#)\")\n",
        "  for block_index in required_blocks:\n",
        "    if not blocks_run[block_index]:\n",
        "      raise Exception(\"You first need to run block \"+str(block_index)+\"#\")\n",
        "\n",
        "\n",
        "def block9():\n",
        "  Answer = \"Choose an answer\" #@param [\"Choose an answer\", \"Unbiased, sampled randomly.\", \"Biased, sampled by length.\", \"Biased, did not sample all of the spectators of each movie screening.\", \"Unbiased, did not sample empty movie screenings. \"] {allow-input: false}\n",
        "  if Answer == 'Choose an answer':\n",
        "    raise Exception(\"You must choose an answer\")\n",
        "  answers[4] = Answer\n",
        "  print(\"Your Answer is: \", answers[4])\n",
        "\n",
        "\n",
        "try:\n",
        "  prepare_block9()\n",
        "  block9()\n",
        "  blocks_run[9] = True\n",
        "except Exception as e:\n",
        "  print(str(e))\n"
      ],
      "execution_count": null,
      "outputs": []
    },
    {
      "cell_type": "markdown",
      "metadata": {
        "id": "KBvDGmeBzzJv"
      },
      "source": [
        "#Question 6\n",
        "This question is made out of multiple blocks. Not all blocks contain questions, but all of them are required. To avoid problems, please go through all blocks, without skipping."
      ]
    },
    {
      "cell_type": "markdown",
      "metadata": {
        "id": "ApQrtHZYjTiC"
      },
      "source": [
        "###A random sample of 100 observations will be collected each time you press the “Sample! (#1)” button below. The observations are collected from a random population with an expected value E and a standard deviation S, which are unknown. Upon sampling, you will be shown the first 10 observations of the sample (out of a 100), as well as the mean and median of the entire sample."
      ]
    },
    {
      "cell_type": "markdown",
      "metadata": {
        "id": "HdMIoS3BbieE"
      },
      "source": [
        "Block 10#"
      ]
    },
    {
      "cell_type": "code",
      "metadata": {
        "id": "iiI-d7okgMPY",
        "cellView": "form"
      },
      "source": [
        "#@title Sample! (#1)\n",
        "\n",
        "required_blocks = []\n",
        "\n",
        "\n",
        "def prepare_block10():\n",
        "  try:\n",
        "    start_block\n",
        "  except:\n",
        "    raise Exception(\"You did not run the 'Start' block (block 1#)\")\n",
        "  try:\n",
        "    id_number\n",
        "  except:\n",
        "    raise Exception(\"You first need to save your ID (block 2#)\")\n",
        "  try:\n",
        "    group_number\n",
        "  except:\n",
        "    raise Exception(\"You first need to save your group number (block 3#)\")\n",
        "  for block_index in required_blocks:\n",
        "    if not blocks_run[block_index]:\n",
        "      raise Exception(\"You first need to run block \"+str(block_index)+\"#\")\n",
        "\n",
        "\n",
        "def block10():\n",
        "  sample = np.round(np.random.normal(100,7,100), 3)\n",
        "  print(\"Sampling completed!\\n10 first observations:\", ', '.join([str(s) for s in sample[:10]]))\n",
        "  print(f\"The mean is {np.round(sample.mean(),3)}\")\n",
        "  print(f\"The median is {np.round(np.median(sample),3)}\")\n",
        "  blocks_run[10] = True\n",
        "  return sample\n",
        "\n",
        "try:\n",
        "  prepare_block10()\n",
        "  sample = block10()\n",
        "  blocks_run[10] = True\n",
        "except Exception as e:\n",
        "  print(str(e))\n"
      ],
      "execution_count": null,
      "outputs": []
    },
    {
      "cell_type": "markdown",
      "metadata": {
        "id": "CWtoa8iJjxFf"
      },
      "source": [
        "###The observations represent scores in a psychological test. You cannot hold 100 values in your working memory, but you still wish to compare the scores to a different psychological test. This is why “central tendency measures” are useful. The mean (average) and the median are useful central tendency measures. Press “Sample 1#” again several times and see how it changes for each new sample."
      ]
    },
    {
      "cell_type": "markdown",
      "metadata": {
        "id": "EgkJWrq-icab"
      },
      "source": [
        "### Next, we would usually want to assess the dispersion of our sample. If everyone that took the psychological test received a very similar score it is not a very useful psychological assessment tool. The standard deviation of the sample provides us with such information. Press “Sample! (#2)” several times and see how the standard deviation changes for each new sample."
      ]
    },
    {
      "cell_type": "markdown",
      "metadata": {
        "id": "hlfh47rgbjzV"
      },
      "source": [
        "Block 11#"
      ]
    },
    {
      "cell_type": "code",
      "metadata": {
        "id": "kqQpuUFMigOP",
        "cellView": "form"
      },
      "source": [
        "#@title Sample! (#2)\n",
        "\n",
        "# TODO for block number x: \n",
        "  # For blocks that have prerequisits:\n",
        "    # Fill required_blocks\n",
        "  # For blocks that are prerequist for other blocks\n",
        "    # Update blocks_run[x] = True\n",
        "\n",
        "required_blocks = [10]\n",
        "\n",
        "\n",
        "def prepare_block11():\n",
        "  try:\n",
        "    start_block\n",
        "  except:\n",
        "    raise Exception(\"You did not run the 'Start' block (block 1#)\")\n",
        "  try:\n",
        "    id_number\n",
        "  except:\n",
        "    raise Exception(\"You first need to save your ID (block 2#)\")\n",
        "  try:\n",
        "    group_number\n",
        "  except:\n",
        "    raise Exception(\"You first need to save your group number (block 3#)\")\n",
        "  for block_index in required_blocks:\n",
        "    if not blocks_run[block_index]:\n",
        "      raise Exception(\"You first need to run block \"+str(block_index)+\"#\")\n",
        "\n",
        "\n",
        "def block11():\n",
        "  sample = np.round(np.random.normal(100,7,100), 3)\n",
        "  print(\"Sampling completed!\\n10 first observations:\", ', '.join([str(s) for s in sample[:10]]))\n",
        "  print(f\"The standard deviation is {np.round(sample.std(),3)}\")\n",
        "  blocks_run[11] = True\n",
        "  return sample\n",
        "\n",
        "\n",
        "try:\n",
        "  prepare_block11()\n",
        "  sample = block11()\n",
        "  blocks_run[11] = True\n",
        "except Exception as e:\n",
        "  print(str(e))\n",
        "\n"
      ],
      "execution_count": null,
      "outputs": []
    },
    {
      "cell_type": "markdown",
      "metadata": {
        "id": "luNtxfy5kZ1I"
      },
      "source": [
        "### Now we have a central tendency and a dispersion measure, which gives us a “sense” of the data in a very summarized manner. By using them we lose a lot of information about our sample. A good way to fully understand our data is by creating a Histogram. Chose the appropriate parameters for the X and Y axes to create a histogram."
      ]
    },
    {
      "cell_type": "markdown",
      "metadata": {
        "id": "QdTKnQ6BblUi"
      },
      "source": [
        "Block 12#"
      ]
    },
    {
      "cell_type": "code",
      "metadata": {
        "id": "5AAfPBQgk8UI",
        "cellView": "form"
      },
      "source": [
        "#@title Question 6.1: Make a histogram!\n",
        "\n",
        "# TODO for block number x: \n",
        "  # To all blocks:\n",
        "    # Put block code in blockX()\n",
        "  # For blocks that have prerequisits:\n",
        "    # Fill required_blocks\n",
        "  # For blocks that are prerequist for other blocks\n",
        "    # Update blocks_run[x] = True\n",
        "\n",
        "required_blocks = [10,11]\n",
        "\n",
        "\n",
        "def prepare_block12():\n",
        "  try:\n",
        "    start_block\n",
        "  except:\n",
        "    raise Exception(\"You did not run the 'Start' block (block 1#)\")\n",
        "  try:\n",
        "    id_number\n",
        "  except:\n",
        "    raise Exception(\"You first need to save your ID (block 2#)\")\n",
        "  try:\n",
        "    group_number\n",
        "  except:\n",
        "    raise Exception(\"You first need to save your group number (block 3#)\")\n",
        "  for block_index in required_blocks:\n",
        "    if not blocks_run[block_index]:\n",
        "      raise Exception(\"You first need to run block \"+str(block_index)+\"#\")\n",
        "\n",
        "\n",
        "def block12():\n",
        "  x_axis = 'Choose an answer' #@param [\"Choose an answer\", \"Values\",\"Observation number\"] {allow-input: false}\n",
        "  y_axis = \"Choose an answer\" #@param [\"Choose an answer\", \"Values\", \"Frequencies\"] {allow-input: false}\n",
        "  if x_axis == 'Choose an answer':\n",
        "    raise Exception(\"You must choose an answer\")\n",
        "  if y_axis == 'Choose an answer':\n",
        "    raise Exception(\"You must choose an answer\")\n",
        "  q6_answers[0] = (x_axis, y_axis)\n",
        "  print(\"Your answer is:\",', '.join(q6_answers[0]))\n",
        "\n",
        "\n",
        "\n",
        "  if x_axis == \"Values\":\n",
        "    if y_axis == \"Values\":\n",
        "      plot1_6_1 = sns.scatterplot(x=sample, y=sample);\n",
        "      plot1_6_1.set(xlabel=x_axis, ylabel=y_axis)\n",
        "    elif y_axis == \"Frequencies\":\n",
        "      plot1_6_1 = sns.displot(sample, bins=30);\n",
        "      plot1_6_1.set(xlabel='Values (of means)');\n",
        "    else:\n",
        "      print(\"You need to choose what is the Y axis in a historgram\")\n",
        "  elif x_axis == \"Observation number\":\n",
        "    if y_axis == \"Values\":\n",
        "      plot1_6_1 = sns.barplot(x=[i for i in range(len(sample))], y=sample);\n",
        "      plot1_6_1.set(xlabel=x_axis, ylabel=y_axis)\n",
        "      plt.xticks(np.array([i*10 for i in range(10)]),np.array([i*10 for i in range(10)]))\n",
        "    elif y_axis == \"Frequencies\":\n",
        "      plot1_6_1 = sns.barplot(x=[i for i in range(len(sample))], y=[1 for i in range(len(sample))], color='black');\n",
        "      plot1_6_1.set(xlabel=x_axis, ylabel=y_axis)\n",
        "      plt.xticks(np.array([i*10 for i in range(10)]),np.array([i*10 for i in range(10)]))\n",
        "    else:\n",
        "      print(\"You need to choose what is the Y axis in a historgram\")\n",
        "  else:\n",
        "    print(\"You need to choose what is the X axis in a historgram\")\n",
        "\n",
        "try:\n",
        "  prepare_block12()\n",
        "  block12()\n",
        "  blocks_run[12] = True\n",
        "except Exception as e:\n",
        "  print(str(e))\n",
        "\n",
        "\n",
        "\n",
        "\n"
      ],
      "execution_count": null,
      "outputs": []
    },
    {
      "cell_type": "markdown",
      "metadata": {
        "id": "1We7vGbPnK6Q"
      },
      "source": [
        "###As you previously saw, each random sample has a unique mean, median, and standard deviation. The same way the observations are sampled from a population with an expected value E and a standard deviation S, the mean, median, and SD of each sample are also sampled from a “population of statistics”. This distribution is called “sampling distribution”. "
      ]
    },
    {
      "cell_type": "markdown",
      "metadata": {
        "id": "KwwbkWgnqJ_O"
      },
      "source": [
        "### In the next block you may control three parameters: the expected value of the population, the standard deviation of the population, and the number of observations in each sample (n, or \"sample size\"). Running the block will generate the matching sampling distribution of means for the parameters you chose. Go ahead and play around with the parameters and then run the block several times. Try to find the parameters that affect the properties of the sampling distribution of means. "
      ]
    },
    {
      "cell_type": "markdown",
      "metadata": {
        "id": "mGqCXEKbbm0I"
      },
      "source": [
        "Block 13#"
      ]
    },
    {
      "cell_type": "code",
      "metadata": {
        "id": "S59DkTv3nl_J",
        "cellView": "form"
      },
      "source": [
        "#@title Sampling distribution of means!\n",
        "\n",
        "required_blocks = []\n",
        "\n",
        "\n",
        "def prepare_block13():\n",
        "  try:\n",
        "    start_block\n",
        "  except:\n",
        "    raise Exception(\"You did not run the 'Start' block (block 1#)\")\n",
        "  try:\n",
        "    id_number\n",
        "  except:\n",
        "    raise Exception(\"You first need to save your ID (block 2#)\")\n",
        "  try:\n",
        "    group_number\n",
        "  except:\n",
        "    raise Exception(\"You first need to save your group number (block 3#)\")\n",
        "  for block_index in required_blocks:\n",
        "    if not blocks_run[block_index]:\n",
        "      raise Exception(\"You first need to run block \"+str(block_index)+\"#\")\n",
        "\n",
        "\n",
        "def block13():\n",
        "  expected_value = 96 #@param {type:\"slider\", min:90, max:110, step:1}\n",
        "  standard_deviation = 5 #@param {type:\"slider\", min:1, max:30, step:1}\n",
        "  n = 117 #@param {type:\"slider\", min:1, max:1000, step:1}\n",
        "\n",
        "  fig,(plot1)=plt.subplots(nrows=1, ncols=1,figsize=(15,7))\n",
        "  def plotpdf(function_plot, mu, sigma):\n",
        "      x = np.linspace(mu - 3.5*sigma, mu + 3.5*sigma, 200) #limits of dist\n",
        "      function_plot.plot(x, stats.norm.pdf(x, mu, sigma),color=\"black\");\n",
        "  plotpdf(plot1, expected_value, standard_deviation/sqrt(n))\n",
        "  plot1.set(xlabel='Values (of means)', ylabel='Density');\n",
        "  plot1.set_xlim(85,115);\n",
        "  plot1.axhline(0);\n",
        "\n",
        "\n",
        "try:\n",
        "  prepare_block13()\n",
        "  block13()\n",
        "  blocks_run[13] = True\n",
        "except Exception as e:\n",
        "  print(str(e))\n",
        "\n",
        "\n"
      ],
      "execution_count": null,
      "outputs": []
    },
    {
      "cell_type": "markdown",
      "metadata": {
        "id": "Sw2ftW6_bpyK"
      },
      "source": [
        "Block 14#"
      ]
    },
    {
      "cell_type": "code",
      "metadata": {
        "id": "bH_AJhWNpKlU",
        "cellView": "form"
      },
      "source": [
        "#@title Question 6.2: Which parameters affect the sampling distribution of means?\n",
        "\n",
        "required_blocks = []\n",
        "\n",
        "\n",
        "def prepare_block14():\n",
        "  try:\n",
        "    start_block\n",
        "  except:\n",
        "    raise Exception(\"You did not run the 'Start' block (block 1#)\")\n",
        "  try:\n",
        "    id_number\n",
        "  except:\n",
        "    raise Exception(\"You first need to save your ID (block 2#)\")\n",
        "  try:\n",
        "    group_number\n",
        "  except:\n",
        "    raise Exception(\"You first need to save your group number (block 3#)\")\n",
        "  for block_index in required_blocks:\n",
        "    if not blocks_run[block_index]:\n",
        "      raise Exception(\"You first need to run block \"+str(block_index)+\"#\")\n",
        "\n",
        "\n",
        "def block14():\n",
        "  Standard_deviation_of_the_population = False #@param {type:\"boolean\"}\n",
        "  Standard_deviation_of_the_sample = False #@param {type:\"boolean\"}\n",
        "  Expected_value_of_the_population = False #@param {type:\"boolean\"}\n",
        "  Number_of_observations_in_each_sample = False #@param {type:\"boolean\"}\n",
        "  Number_of_samples = False #@param {type:\"boolean\"}\n",
        "  q6_answers[1] = (Standard_deviation_of_the_population, Standard_deviation_of_the_sample, Expected_value_of_the_population, Number_of_observations_in_each_sample, Number_of_samples)\n",
        "  print(\"Your answer is:\",', '.join([options1[i] for i in range(len(options1)) if q6_answers[1][i]]))\n",
        "\n",
        "\n",
        "try:\n",
        "  prepare_block14()\n",
        "  options1 = ['Standard_deviation_of_the_population', 'Standard_deviation_of_the_sample', 'Expected_value_of_the_population', 'Number_of_observations_in_each_sample', 'Number_samples']\n",
        "  block14()\n",
        "  blocks_run[14] = True\n",
        "except Exception as e:\n",
        "  print(str(e))\n",
        "\n"
      ],
      "execution_count": null,
      "outputs": []
    },
    {
      "cell_type": "markdown",
      "metadata": {
        "id": "QjR3xP1zrgOb"
      },
      "source": [
        "### Note that in the previous example we had full knowledge of the population, so we could accurately derive the exact properties of the sampling distribution of means. In real life we will rarely have access to the population, so we will use a single sample to estimate the sampling distribution of means. This is a crucial point – we will not know exactly how the sampling distribution looks like, but we would be able to have a pretty good estimate of it. \n",
        "\n",
        "Match the properties of the sampling distribution of means to the properties of the sample that can be used for this estimation."
      ]
    },
    {
      "cell_type": "markdown",
      "metadata": {
        "id": "rXAvZ3gqbr5A"
      },
      "source": [
        "Block 15#"
      ]
    },
    {
      "cell_type": "code",
      "metadata": {
        "id": "GBq6AoX7Fi26",
        "cellView": "form"
      },
      "source": [
        "#@title Question 6.3: Which of the following parameters of the sample can be used for estimating the mean of the sampling distribution of means\n",
        "\n",
        "required_blocks = []\n",
        "\n",
        "\n",
        "def prepare_block15():\n",
        "  try:\n",
        "    start_block\n",
        "  except:\n",
        "    raise Exception(\"You did not run the 'Start' block (block 1#)\")\n",
        "  try:\n",
        "    id_number\n",
        "  except:\n",
        "    raise Exception(\"You first need to save your ID (block 2#)\")\n",
        "  try:\n",
        "    group_number\n",
        "  except:\n",
        "    raise Exception(\"You first need to save your group number (block 3#)\")\n",
        "  for block_index in required_blocks:\n",
        "    if not blocks_run[block_index]:\n",
        "      raise Exception(\"You first need to run block \"+str(block_index)+\"#\")\n",
        "\n",
        "\n",
        "def block15():\n",
        "  mean = False #@param {type:\"boolean\"}\n",
        "  median = False #@param {type:\"boolean\"}\n",
        "  standard_deviation = False #@param {type:\"boolean\"}\n",
        "  n = False #@param {type:\"boolean\"}\n",
        "  q6_answers[2] = (mean, median, standard_deviation, n)\n",
        "  print(\"Your answer is:\",', '.join([options2[i] for i in range(len(options2)) if q6_answers[2][i]]))\n",
        "\n",
        "\n",
        "try:\n",
        "  prepare_block15()\n",
        "  options2 = ['Mean', 'Median', 'Standard_deviation', 'n']\n",
        "  block15()\n",
        "  blocks_run[15] = True\n",
        "except Exception as e:\n",
        "  print(str(e))\n"
      ],
      "execution_count": null,
      "outputs": []
    },
    {
      "cell_type": "markdown",
      "metadata": {
        "id": "eROLM5w7btTV"
      },
      "source": [
        "Block 16#"
      ]
    },
    {
      "cell_type": "code",
      "metadata": {
        "id": "rLnlZ08TGzXY",
        "cellView": "form"
      },
      "source": [
        "#@title Question 6.4: Which of the following parameters of the sample can be used for estimating the standard deviation of the sampling distribution of means\n",
        "\n",
        "# TODO for block number x: \n",
        "  # To all blocks:\n",
        "    # Rename prepare_blockX() defenition and invocation\n",
        "    # Rename blockX() defenition and invocation\n",
        "    # Put block code in blockX()\n",
        "  # For blocks that have prerequisits:\n",
        "    # Fill required_blocks\n",
        "  # For blocks that are prerequist for other blocks\n",
        "    # Update blocks_run[x] = True\n",
        "    # Set a return value for function blockX\n",
        "    # Save the return value of blockX to a variable (it's global)\n",
        "\n",
        "required_blocks = [15]\n",
        "\n",
        "\n",
        "def prepare_block16():\n",
        "  try:\n",
        "    start_block\n",
        "  except:\n",
        "    raise Exception(\"You did not run the 'Start' block (block 1#)\")\n",
        "  try:\n",
        "    id_number\n",
        "  except:\n",
        "    raise Exception(\"You first need to save your ID (block 2#)\")\n",
        "  try:\n",
        "    group_number\n",
        "  except:\n",
        "    raise Exception(\"You first need to save your group number (block 3#)\")\n",
        "  for block_index in required_blocks:\n",
        "    if not blocks_run[block_index]:\n",
        "      raise Exception(\"You first need to run block \"+str(block_index)+\"#\")\n",
        "\n",
        "\n",
        "def block16():\n",
        "  mean = False #@param {type:\"boolean\"}\n",
        "  median = False #@param {type:\"boolean\"}\n",
        "  standard_deviation = False #@param {type:\"boolean\"}\n",
        "  n = False #@param {type:\"boolean\"}\n",
        "  q6_answers[3] = (mean, median, standard_deviation, n)\n",
        "  print(\"Your answer is:\",', '.join([options2[i] for i in range(len(options2)) if q6_answers[3][i]]))\n",
        "\n",
        "\n",
        "try:\n",
        "  prepare_block16()\n",
        "  block16()\n",
        "  blocks_run[16] = True\n",
        "except Exception as e:\n",
        "  print(str(e))\n"
      ],
      "execution_count": null,
      "outputs": []
    },
    {
      "cell_type": "markdown",
      "metadata": {
        "id": "ChFKVu1Krlbg"
      },
      "source": [
        "### Running the block will display two distributions. They are both sampling distribution of means, for a population with an expected value of 100 and SD of 7. The plot on the left is of samples sized n, and the plot on the right is of sample sized k, two unknown integers."
      ]
    },
    {
      "cell_type": "markdown",
      "metadata": {
        "id": "jYh6ZAxVbulQ"
      },
      "source": [
        "Block 17#"
      ]
    },
    {
      "cell_type": "code",
      "metadata": {
        "id": "b49SGCMXSl9G",
        "cellView": "form"
      },
      "source": [
        "#@title Distributions of means #1, sample of size n (left) and k (right)\n",
        "\n",
        "# TODO for block number x: \n",
        "  # To all blocks:\n",
        "    # Rename prepare_blockX() defenition and invocation\n",
        "    # Rename blockX() defenition and invocation\n",
        "    # Put block code in blockX()\n",
        "  # For blocks that have prerequisits:\n",
        "    # Fill required_blocks\n",
        "  # For blocks that are prerequist for other blocks\n",
        "    # Update blocks_run[x] = True\n",
        "    # Set a return value for function blockX\n",
        "    # Save the return value of blockX to a variable (it's global)\n",
        "\n",
        "required_blocks = []\n",
        "\n",
        "\n",
        "def prepare_block17():\n",
        "  try:\n",
        "    start_block\n",
        "  except:\n",
        "    raise Exception(\"You did not run the 'Start' block (block 1#)\")\n",
        "  try:\n",
        "    id_number\n",
        "  except:\n",
        "    raise Exception(\"You first need to save your ID (block 2#)\")\n",
        "  try:\n",
        "    group_number\n",
        "  except:\n",
        "    raise Exception(\"You first need to save your group number (block 3#)\")\n",
        "  for block_index in required_blocks:\n",
        "    if not blocks_run[block_index]:\n",
        "      raise Exception(\"You first need to run block \"+str(block_index)+\"#\")\n",
        "\n",
        "\n",
        "def block17():\n",
        "  fig,(plot2,plot3)=plt.subplots(nrows=1, ncols=2,figsize=(15,7));\n",
        "\n",
        "  def plotpdf(function_plot, mu, sigma):\n",
        "      x = np.linspace(mu - 3.5*sigma, mu + 3.5*sigma, 200) #limits of dist\n",
        "      function_plot.plot(x, stats.norm.pdf(x, mu, sigma),color=\"black\");\n",
        "\n",
        "  plotpdf(plot2, 100, 7/sqrt(15))\n",
        "  plotpdf(plot3, 100, 7/sqrt(50))\n",
        "\n",
        "  plot2.set(xlabel='Values (of means)', ylabel='Density');\n",
        "  plot2.set_xlim(90,110);\n",
        "  plot3.set(xlabel='Values (of means)');\n",
        "  plot3.set_xlim(90,110);\n",
        "  plot2.axhline(0);plot3.axhline(0);\n",
        "\n",
        "  print(\"Standard deviation of left plot:\", 7/sqrt(15))\n",
        "  print(\"Standard deviation of right plot:\", 7/sqrt(50))\n",
        "\n",
        "\n",
        "try:\n",
        "  prepare_block17()\n",
        "  block17()\n",
        "  blocks_run[17] = True\n",
        "except Exception as e:\n",
        "  print(str(e))\n",
        "\n"
      ],
      "execution_count": null,
      "outputs": []
    },
    {
      "cell_type": "markdown",
      "metadata": {
        "id": "J5VkHe8rY0q5"
      },
      "source": [
        "### The next block allows you to create a third distribution interactively, one that can match any sample size you choose. Use it to estimate n and k, both are whole positive numbers (1,2,3,4,5…)"
      ]
    },
    {
      "cell_type": "markdown",
      "metadata": {
        "id": "ZhS5X-Mvbva3"
      },
      "source": [
        "Block 18#"
      ]
    },
    {
      "cell_type": "code",
      "metadata": {
        "id": "1xdcYkDsRzaj",
        "cellView": "form"
      },
      "source": [
        "#@title Select a sample size\n",
        "\n",
        "required_blocks = [17]\n",
        "\n",
        "\n",
        "def prepare_block18():\n",
        "  try:\n",
        "    start_block\n",
        "  except:\n",
        "    raise Exception(\"You did not run the 'Start' block (block 1#)\")\n",
        "  try:\n",
        "    id_number\n",
        "  except:\n",
        "    raise Exception(\"You first need to save your ID (block 2#)\")\n",
        "  try:\n",
        "    group_number\n",
        "  except:\n",
        "    raise Exception(\"You first need to save your group number (block 3#)\")\n",
        "  for block_index in required_blocks:\n",
        "    if not blocks_run[block_index]:\n",
        "      raise Exception(\"You first need to run block \"+str(block_index)+\"#\")\n",
        "\n",
        "\n",
        "def block18():\n",
        "  sample_size = 20 #@param {type:\"slider\", min:5, max:100, step:1}\n",
        "  sample_sigma = 7/sqrt(sample_size)\n",
        "\n",
        "  fig,(plot4)=plt.subplots(nrows=1, ncols=1,figsize=(7.5,7))\n",
        "  x = np.linspace(100 - 3.5*sample_sigma, 100 + 3.5*sample_sigma, 200)\n",
        "  plot4.plot(x, stats.norm.pdf(x, 100, sample_sigma),color=\"black\");\n",
        "  plot4.set(xlabel='Values (of means)', ylabel='Density');\n",
        "  plot4.set_xlim(90,110);\n",
        "  plot4.axhline(0);\n",
        "\n",
        "  print(\"Standard deviation:\", sample_sigma)\n",
        "\n",
        "\n",
        "try:\n",
        "  prepare_block18()\n",
        "  block18()\n",
        "  blocks_run[18] = True\n",
        "\n",
        "except Exception as e:\n",
        "  print(str(e))\n"
      ],
      "execution_count": null,
      "outputs": []
    },
    {
      "cell_type": "markdown",
      "metadata": {
        "id": "Bf6LB0BpbwPP"
      },
      "source": [
        "Block 19#"
      ]
    },
    {
      "cell_type": "code",
      "metadata": {
        "id": "Z1YUVUAdaKmZ",
        "cellView": "form"
      },
      "source": [
        "#@title Question 6.5: What are the values of n and k?\n",
        "\n",
        "# TODO for block number x: \n",
        "  # To all blocks:\n",
        "    # Rename prepare_blockX() defenition and invocation\n",
        "    # Rename blockX() defenition and invocation\n",
        "    # Put block code in blockX()\n",
        "  # For blocks that have prerequisits:\n",
        "    # Fill required_blocks\n",
        "  # For blocks that are prerequist for other blocks\n",
        "    # Update blocks_run[x] = True\n",
        "    # Set a return value for function blockX\n",
        "    # Save the return value of blockX to a variable (it's global)\n",
        "\n",
        "required_blocks = [17,18]\n",
        "\n",
        "\n",
        "def prepare_block19():\n",
        "  try:\n",
        "    start_block\n",
        "  except:\n",
        "    raise Exception(\"You did not run the 'Start' block (block 1#)\")\n",
        "  try:\n",
        "    id_number\n",
        "  except:\n",
        "    raise Exception(\"You first need to save your ID (block 2#)\")\n",
        "  try:\n",
        "    group_number\n",
        "  except:\n",
        "    raise Exception(\"You first need to save your group number (block 3#)\")\n",
        "  for block_index in required_blocks:\n",
        "    if not blocks_run[block_index]:\n",
        "      raise Exception(\"You first need to run block \"+str(block_index)+\"#\")\n",
        "\n",
        "\n",
        "def block19():\n",
        "  n = 0 #@param {type:\"integer\"}\n",
        "  k = 0 #@param {type:\"integer\"}\n",
        "  q6_answers[4] = (n, k)\n",
        "  print(\"Your answer are:\",\"n =\",str(q6_answers[4][0])+',',\"k =\",q6_answers[4][1])\n",
        "\n",
        "\n",
        "try:\n",
        "  prepare_block19()\n",
        "  block19()\n",
        "  blocks_run[19] = True\n",
        "except Exception as e:\n",
        "  print(str(e))\n"
      ],
      "execution_count": null,
      "outputs": []
    },
    {
      "cell_type": "markdown",
      "metadata": {
        "id": "eMu-8WOWLBec"
      },
      "source": [
        "#Question 7\n",
        "This question is made out of multiple blocks. Not all blocks contain questions, but are required for other blocks. To avoid problems, please go through all blocks, without skipping."
      ]
    },
    {
      "cell_type": "markdown",
      "metadata": {
        "id": "qjMyYAtuLHpk"
      },
      "source": [
        "### A random sample of 260 observations will be collected each time you press the “sample” button. The observations represent the IQ scores of HUJI students.  "
      ]
    },
    {
      "cell_type": "markdown",
      "metadata": {
        "id": "P9Tt4nexbx0h"
      },
      "source": [
        "Block 20#"
      ]
    },
    {
      "cell_type": "code",
      "metadata": {
        "id": "IfSpZY7kLLA-",
        "cellView": "form"
      },
      "source": [
        "#@title Sample! (3#)\n",
        "\n",
        "required_blocks = []\n",
        "\n",
        "\n",
        "def prepare_block20():\n",
        "  try:\n",
        "    start_block\n",
        "  except:\n",
        "    raise Exception(\"You did not run the 'Start' block (block 1#)\")\n",
        "  try:\n",
        "    id_number\n",
        "  except:\n",
        "    raise Exception(\"You first need to save your ID (block 2#)\")\n",
        "  try:\n",
        "    group_number\n",
        "  except:\n",
        "    raise Exception(\"You first need to save your group number (block 3#)\")\n",
        "  for block_index in required_blocks:\n",
        "    if not blocks_run[block_index]:\n",
        "      raise Exception(\"You first need to run block \"+str(block_index)+\"#\")\n",
        "\n",
        "\n",
        "def block20():\n",
        "  dist1 = np.random.normal(115,7,250)\n",
        "  dist2 = np.random.normal(85,7,5)\n",
        "  dist3 = np.random.normal(150,7,5)\n",
        "  iq_dist = np.round(np.concatenate((dist1,dist2,dist3)), 3)\n",
        "  #random.shuffle(iq_dist)\n",
        "  plot5 = sns.displot(iq_dist, bins=30);\n",
        "  plot5.set(xlabel='IQ');\n",
        "  return iq_dist\n",
        "\n",
        "\n",
        "try:\n",
        "  prepare_block20()\n",
        "  iq_dist = block20()\n",
        "  blocks_run[20] = True\n",
        "except Exception as e:\n",
        "  print(str(e))\n"
      ],
      "execution_count": null,
      "outputs": []
    },
    {
      "cell_type": "markdown",
      "metadata": {
        "id": "dsbdDIbFNXaI"
      },
      "source": [
        "### Sometimes we will collect extreme observations in our research. Such observations can reflect a “real” extreme value (a highly intelligent student), or a “false” extreme value (accidentally writing 1000 instead of 100 for one of our participants, a participant that received help from a friend during the test etc…). As researchers we only want to omit “false” extreme observations from our data. Indicate whether each of the following should be omitted or not."
      ]
    },
    {
      "cell_type": "markdown",
      "metadata": {
        "id": "FOcUbUZV837L"
      },
      "source": [
        "###Case 1: A study about reaction times – a participant that was scrolling his Instagram feed during the experiment. \n",
        "###Case 2: A study about Physiological measures – a participant that accidentally put the air conditioner on 35 degrees, and therefore had a very high body temperature during the experiment. \n",
        "###Case 3: A study about children intelligence – a participant that visited science museums constantly as an infant and therefore gained a very high score in the IQ test.\n",
        "###Case 4: A study about native Arabic readers – a participant that only learned Arabic when he was 25 years old, and therefore reads very slowly. "
      ]
    },
    {
      "cell_type": "markdown",
      "metadata": {
        "id": "-AEWi6vQbzTw"
      },
      "source": [
        "Block 21#"
      ]
    },
    {
      "cell_type": "code",
      "metadata": {
        "id": "E-fJRewnNdF9",
        "cellView": "form"
      },
      "source": [
        "#@title Question 7.1: Which of the cases would you omit from the data (There may be more than one correct answer)?\n",
        "\n",
        "required_blocks = []\n",
        "\n",
        "\n",
        "def prepare_block21():\n",
        "  try:\n",
        "    start_block\n",
        "  except:\n",
        "    raise Exception(\"You did not run the 'Start' block (block 1#)\")\n",
        "  try:\n",
        "    id_number\n",
        "  except:\n",
        "    raise Exception(\"You first need to save your ID (block 2#)\")\n",
        "  try:\n",
        "    group_number\n",
        "  except:\n",
        "    raise Exception(\"You first need to save your group number (block 3#)\")\n",
        "  for block_index in required_blocks:\n",
        "    if not blocks_run[block_index]:\n",
        "      raise Exception(\"You first need to run block \"+str(block_index)+\"#\")\n",
        "\n",
        "\n",
        "def block21():\n",
        "  case1 = False #@param {type:\"boolean\"}\n",
        "  case2 = False #@param {type:\"boolean\"}\n",
        "  case3 = False #@param {type:\"boolean\"}\n",
        "  case4 = False #@param {type:\"boolean\"}\n",
        "  q7_answers[0] = (case1, case2, case3, case4)\n",
        "  print(', '.join([\"Omit\" if case else \"Keep\" for case in q7_answers[0]]))\n",
        "\n",
        "\n",
        "try:\n",
        "  prepare_block21()\n",
        "  block21()\n",
        "  blocks_run[21] = True\n",
        "  # Set global data here (using blockX's return value)\n",
        "except Exception as e:\n",
        "  print(str(e))\n"
      ],
      "execution_count": null,
      "outputs": []
    },
    {
      "cell_type": "markdown",
      "metadata": {
        "id": "3WlLrtNxvpB-"
      },
      "source": [
        "### Unlike the previous examples, usually, we will not know the “story” behind extreme observations, so we will need to create an objective rule to determine which observations to keep and which to omit. A simple method to create such a rule is to calculate the mean and SD of our sample, and then score each observation as a Z value (“distance from the mean, in standard deviations”). Then we will omit any observation that has a Z value greater/smaller from a certain X value we chose. If we chose a very high X this method will omit almost nothing, if we chose a very small X this method will lead us to omit a substantial number of observations, losing a lot of valuable data."
      ]
    },
    {
      "cell_type": "markdown",
      "metadata": {
        "id": "hkdBDfNlb0st"
      },
      "source": [
        "Block 22#"
      ]
    },
    {
      "cell_type": "code",
      "metadata": {
        "id": "a95_FLnA_XQd",
        "cellView": "form"
      },
      "source": [
        "#@title Chose different X values and see how it affects the number of observations that are omitted from your sample. Run this block to display the distribution along the X values\n",
        "\n",
        "required_blocks = [20]\n",
        "\n",
        "\n",
        "def prepare_block22():\n",
        "  try:\n",
        "    start_block\n",
        "  except:\n",
        "    raise Exception(\"You did not run the 'Start' block (block 1#)\")\n",
        "  try:\n",
        "    id_number\n",
        "  except:\n",
        "    raise Exception(\"You first need to save your ID (block 2#)\")\n",
        "  try:\n",
        "    group_number\n",
        "  except:\n",
        "    raise Exception(\"You first need to save your group number (block 3#)\")\n",
        "  for block_index in required_blocks:\n",
        "    if not blocks_run[block_index]:\n",
        "      raise Exception(\"You first need to run block \"+str(block_index)+\"#\")\n",
        "\n",
        "\n",
        "def block22():\n",
        "  X = 1 #@param {type:\"slider\", min:0, max:10, step:0.5}\n",
        "  #plot6 = sns.scatterplot(x=[i for i in range(100)], y=iq_dist);\n",
        "\n",
        "  plot6 = sns.histplot(iq_dist, bins = 100);\n",
        "  #plot6 = sns.rugplot(iq_dist);\n",
        "  plot6.set(xlabel='IQ');\n",
        "\n",
        "  minimal_z = np.mean(iq_dist - X * np.std(iq_dist))\n",
        "  maximal_z = np.mean(iq_dist + X * np.std(iq_dist))\n",
        "  plt.axvline(x=minimal_z, color='k', linestyle='-');\n",
        "  plt.axvline(x=maximal_z, color='k', linestyle='-');\n",
        "\n",
        "\n",
        "try:\n",
        "  prepare_block22()\n",
        "  block22()\n",
        "  blocks_run[22] = True\n",
        "  # Set global data here (using blockX's return value)\n",
        "except Exception as e:\n",
        "  print(str(e))\n"
      ],
      "execution_count": null,
      "outputs": []
    },
    {
      "cell_type": "markdown",
      "metadata": {
        "id": "KnII7R7ab2nN"
      },
      "source": [
        "Block 23#"
      ]
    },
    {
      "cell_type": "code",
      "metadata": {
        "id": "b572o5QIARoV",
        "cellView": "form"
      },
      "source": [
        "#@title Question 7.2: How many observations were omitted for each of the following X values: X=1, X=2, X=2.5, X=3, X=4?\n",
        "\n",
        "required_blocks = [20, 22]\n",
        "\n",
        "\n",
        "def prepare_block23():\n",
        "  try:\n",
        "    start_block\n",
        "  except:\n",
        "    raise Exception(\"You did not run the 'Start' block (block 1#)\")\n",
        "  try:\n",
        "    id_number\n",
        "  except:\n",
        "    raise Exception(\"You first need to save your ID (block 2#)\")\n",
        "  try:\n",
        "    group_number\n",
        "  except:\n",
        "    raise Exception(\"You first need to save your group number (block 3#)\")\n",
        "  for block_index in required_blocks:\n",
        "    if not blocks_run[block_index]:\n",
        "      raise Exception(\"You first need to run block \"+str(block_index)+\"#\")\n",
        "\n",
        "\n",
        "def block23():\n",
        "  num_outliers_X_equals_1 =   0#@param {type:\"integer\"}\n",
        "  num_outliers_X_equals_2 =   0#@param {type:\"integer\"}\n",
        "  num_outliers_X_equals_2_5 =  0#@param {type:\"integer\"}\n",
        "  num_outliers_X_equals_3 =  0#@param {type:\"integer\"}\n",
        "  num_outliers_X_equals_4 =  0#@param {type:\"integer\"}\n",
        "  f = open(\"q7_data\", \"w\")\n",
        "  for entry in iq_dist:\n",
        "    f.write(str(entry)+'\\n')\n",
        "  f.close()\n",
        "  q7_answers[1] = [num_outliers_X_equals_1, num_outliers_X_equals_2, num_outliers_X_equals_2_5, num_outliers_X_equals_3, num_outliers_X_equals_4]\n",
        "  print(\"Your Answers are:\", ', '.join(map(str,q7_answers[1])))\n",
        "\n",
        "\n",
        "try:\n",
        "  prepare_block23()\n",
        "  block23()\n",
        "  blocks_run[23] = True\n",
        "except Exception as e:\n",
        "  print(str(e))\n"
      ],
      "execution_count": null,
      "outputs": []
    },
    {
      "cell_type": "markdown",
      "metadata": {
        "id": "-_sZ9CNd_-Rn"
      },
      "source": [
        "#Good job!\n",
        "You finished answering the question for this exercise! Here are some important things to consider:\n",
        "\n",
        "\n",
        "* You can view your answers by running the next block. \n",
        "* <font color=red> If you change an answer to a question, you will need to run it again for changes to be saved. </font>\n",
        "*After changing an answer to a question, you will need to run the 'Show your answers' again for it to reflect changes."
      ]
    },
    {
      "cell_type": "markdown",
      "metadata": {
        "id": "2hcZSwKmb36u"
      },
      "source": [
        "Block 24#"
      ]
    },
    {
      "cell_type": "code",
      "metadata": {
        "id": "GwW8XtVgUvnI",
        "cellView": "form"
      },
      "source": [
        "#@title Show your answers (run to refresh after saving a question)\n",
        "\n",
        "required_blocks = [4, 5, 6, 7, 8, 9, 12, 14, 15, 16, 19, 20, 21, 22, 23]\n",
        "\n",
        "\n",
        "def prepare_block24():\n",
        "  try:\n",
        "    start_block\n",
        "  except:\n",
        "    raise Exception(\"You did not run the 'Start' block (block 1#)\")\n",
        "  try:\n",
        "    id_number\n",
        "  except:\n",
        "    raise Exception(\"You first need to save your ID (block 2#)\")\n",
        "  try:\n",
        "    group_number\n",
        "  except:\n",
        "    raise Exception(\"You first need to save your group number (block 3#)\")\n",
        "  for block_index in required_blocks:\n",
        "    if not blocks_run[block_index]:\n",
        "      raise Exception(\"You first need to run block \"+str(block_index)+\"#\")\n",
        "\n",
        "\n",
        "def block24():\n",
        "  print(\"Multi choice questions:\")\n",
        "  for i in range(len(answers)):\n",
        "    print(\"Q\"+str(i+1)+\": \", end=\"\")\n",
        "    if answers[i] is not None:\n",
        "      print(answers[i])\n",
        "    else:\n",
        "      print(\"Missing answer\\n\")\n",
        "\n",
        "  print(\"\\nQuestion 6\")\n",
        "  print(\"Q6.1:\",', '.join(q6_answers[0]))\n",
        "  print(\"Q6.2:\",', '.join([options1[i] for i in range(len(options1)) if q6_answers[1][i]]))\n",
        "  print(\"Q6.3:\",', '.join([options2[i] for i in range(len(options2)) if q6_answers[2][i]]))\n",
        "  print(\"Q6.4:\",', '.join([options2[i] for i in range(len(options2)) if q6_answers[3][i]]))\n",
        "  print(\"Q6.5:\",\"n =\",str(q6_answers[4][0])+',',\"k =\",q6_answers[4][1])\n",
        "\n",
        "  print(\"\\nQuestion 7\")\n",
        "  print(\"Q7.1:\",', '.join([\"Omit\" if case else \"Keep\" for case in q7_answers[0]]))\n",
        "  print(\"Q7.2:\",', '.join(map(str,q7_answers[1])))\n",
        "\n",
        "\n",
        "try:\n",
        "  prepare_block24()\n",
        "  block24()\n",
        "  blocks_run[24] = True\n",
        "  # Set global data here (using blockX's return value)\n",
        "except Exception as e:\n",
        "  print(str(e))\n"
      ],
      "execution_count": null,
      "outputs": []
    },
    {
      "cell_type": "markdown",
      "metadata": {
        "id": "m6cFc6VlqqDu"
      },
      "source": [
        "If you are ready to submit your answers, go ahead and press 'Save!'.\n",
        "\n",
        "\n",
        "This will prompt you to download your answers file. \n",
        "\n",
        "\n",
        "After downloading you will need to submit the file to moodle.\n",
        "Good luck!\n",
        "\n"
      ]
    },
    {
      "cell_type": "markdown",
      "metadata": {
        "id": "t1IsSIpEb5FE"
      },
      "source": [
        "Block 25#"
      ]
    },
    {
      "cell_type": "code",
      "metadata": {
        "id": "b4kko5a29lkU",
        "cellView": "form"
      },
      "source": [
        "#@title #Save!\n",
        "from google.colab import files\n",
        "from shutil import make_archive\n",
        "from os import path, remove\n",
        "from zipfile import ZipFile\n",
        "\n",
        "# TODO for block number x: \n",
        "  # To all blocks:\n",
        "    # Rename prepare_blockX() defenition and invocation\n",
        "    # Rename blockX() defenition and invocation\n",
        "    # Put block code in blockX()\n",
        "    # Rename blocks_run[X] = True \n",
        "  # For blocks that have prerequisits:\n",
        "    # Fill required_blocks\n",
        "  # For blocks that are prerequist for other blocks\n",
        "    # Update blocks_run[x] = True\n",
        "    # Set a return value for function blockX\n",
        "    # Save the return value of blockX to a variable (it's global)\n",
        "\n",
        "required_blocks = [4, 5, 6, 7, 8, 9, 12, 14, 15, 16, 19, 20, 21, 22, 23]\n",
        "\n",
        "\n",
        "def prepare_block25():\n",
        "  try:\n",
        "    start_block\n",
        "  except:\n",
        "    raise Exception(\"You did not run the 'Start' block (block 1#)\")\n",
        "  try:\n",
        "    id_number\n",
        "  except:\n",
        "    raise Exception(\"You first need to save your ID (block 2#)\")\n",
        "  try:\n",
        "    group_number\n",
        "  except:\n",
        "    raise Exception(\"You first need to save your group number (block 3#)\")\n",
        "  for block_index in required_blocks:\n",
        "    if not blocks_run[block_index]:\n",
        "      raise Exception(\"You first need to run block \"+str(block_index)+\"#\")\n",
        "\n",
        "\n",
        "def block25():\n",
        "  f = open(\"ex1_submission\", \"w\")\n",
        "  f.write(\"#\"+id_number+\"\\n\")\n",
        "  f.write(\"#\"+group_number+\"\\n\")\n",
        "  for i in range(len(answers)):\n",
        "    f.write(\"Q\"+str(i+1)+\": \")\n",
        "    if answers[i] is not None:\n",
        "      f.write(answers[i]+\"\\n\")\n",
        "    else:\n",
        "      f.write(\"Missing answer\\n\")\n",
        "  for i in range(len(q6_answers)):\n",
        "    for j in range(len(q6_answers[i])):\n",
        "      f.write(\"Q6.\"+str(i+1)+\".\"+str(j+1)+\": \")\n",
        "      if q6_answers[i][j] is not None:\n",
        "        f.write(str(q6_answers[i][j])+'\\n')\n",
        "  for i in range(len(q7_answers)):\n",
        "    for j in range(len(q7_answers[i])):\n",
        "      f.write(\"Q7.\"+str(i+1)+\".\"+str(j+1)+\": \")\n",
        "      if q7_answers[i][j] is not None:\n",
        "        f.write(str(q7_answers[i][j])+'\\n')\n",
        "  f.write(\"#End of answers\")\n",
        "  f.close()\n",
        "\n",
        "  # create a ZipFile object\n",
        "  zipObj = ZipFile('ex1.zip', 'w')\n",
        "  # Add multiple files to the zip\n",
        "  zipObj.write('ex1_submission')\n",
        "  zipObj.write('q7_data')\n",
        "  # close the Zip File\n",
        "  zipObj.close()\n",
        "  files.download('ex1.zip') \n",
        "\n",
        "  print(\"Well done! You are now downloading your submission file\")\n",
        "  print(\"Make sure that the name of the file you submit is ex1.zip (and not ex1 (3).zip, for example)\")\n",
        "\n",
        "try:\n",
        "  prepare_block25()\n",
        "  block25()\n",
        "  blocks_run[25] = True\n",
        "  # Set global data here (using blockX's return value)\n",
        "except Exception as e:\n",
        "  print(str(e))\n"
      ],
      "execution_count": null,
      "outputs": []
    }
  ]
}