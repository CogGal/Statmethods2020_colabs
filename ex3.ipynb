{
  "nbformat": 4,
  "nbformat_minor": 0,
  "metadata": {
    "colab": {
      "name": "ex3.ipynb",
      "provenance": [],
      "collapsed_sections": []
    },
    "kernelspec": {
      "name": "python3",
      "display_name": "Python 3"
    }
  },
  "cells": [
    {
      "cell_type": "markdown",
      "metadata": {
        "id": "sRejH2klZjjk"
      },
      "source": [
        "#**<font size=\"10\" color='cornflowerblue'><ins>Welcome to Exercise 3**\n",
        "## **Note**: After choosing or changing an answer, run its block to save changes.\n",
        "## **Note**: It is best to avoid Runtime -> Run all.\n",
        "\n"
      ]
    },
    {
      "cell_type": "markdown",
      "metadata": {
        "id": "7huHoOyynRoX"
      },
      "source": [
        "#**<font size=\"8\" color='cornflowerblue'><ins>Identification</ins>** \n",
        "#<font size=\"5\" color='black'>Please fill in your details in the block below and then run it\n"
      ]
    },
    {
      "cell_type": "markdown",
      "metadata": {
        "id": "M8DOmvzjcCwA"
      },
      "source": [
        "Block 1#\n"
      ]
    },
    {
      "cell_type": "code",
      "metadata": {
        "id": "EqFi1QHH-Gy2",
        "cellView": "form"
      },
      "source": [
        "#@title #**What is your ID and group number? (<font color=\"red\">*Mandatory</font>)**\n",
        "\n",
        "\n",
        "# Dependency check function\n",
        "def verify_dependencies(block_id, required_blocks_indices=[], customize=True):\n",
        "  try:\n",
        "    initialized\n",
        "  except:\n",
        "    raise Exception(\"You need to run the identification block first (Block 1#)\")\n",
        "  if customize:\n",
        "    for block_index in required_blocks_indices:\n",
        "      if not blocks_run[block_index]:\n",
        "        raise Exception(\"You must first run block \"+str(block_index)+\"#\")\n",
        "  else:\n",
        "    for block_index in range(2, block_id):\n",
        "      if not blocks_run[block_index]:\n",
        "        raise Exception(\"You must first run block \"+str(block_index)+\"#\")\n",
        "\n",
        "\n",
        "def initialize_colab():\n",
        "  # Verify credentials\n",
        "  if id_number == 0 or group_number == 0:\n",
        "    raise Exception(\"Are you sure these details are correct?\") \n",
        "  # Optional imports\n",
        "  import pandas as pd\n",
        "  from scipy import stats\n",
        "  from math import sqrt\n",
        "  import statistics\n",
        "  import random\n",
        "  import io\n",
        "  from ipywidgets import interact, interactive, fixed, interact_manual\n",
        "  import ipywidgets as widgets\n",
        "  from termcolor import colored\n",
        "  from IPython.display import HTML\n",
        "\n",
        "  # Seaborn initialization\n",
        "  sns.set(style=\"white\", palette=\"muted\", color_codes=True)\n",
        "  sns.set(rc={'figure.figsize':(10,10)});\n",
        "  sns.set_context(\"talk\")\n",
        "\n",
        "  # Answers initialization (Note that each array is 1 extra to align question i to index i)\n",
        "  #answers = [None]*5 + [[None]*3] + [[None]*4] + [[None]*3]\n",
        "  answers = [None]*18\n",
        "  blocks_run = [True]*2+[False]*50\n",
        "\n",
        "  # Messages to user\n",
        "  print(\"ID number saved: \", id_number)\n",
        "  print(\"Group number saved: \", group_number)\n",
        "  print(\"\\nYou may now begin, good luck!\")\n",
        "\n",
        "  # Return new global data\n",
        "  return answers, blocks_run\n",
        "\n",
        "\n",
        "try:\n",
        "  # Basic imports\n",
        "  import numpy as np\n",
        "  import matplotlib.pyplot as plt\n",
        "  import seaborn as sns\n",
        "  from math import sqrt\n",
        "  from scipy import stats\n",
        "\n",
        "  # Exercise specific imports\n",
        "  from ipywidgets import interact\n",
        "\n",
        "  # Global data for exercise\n",
        "  id_number =  0#@param {type:\"integer\"}\n",
        "  group_number =  0#@param {type:\"integer\"}\n",
        "  answers, blocks_run = initialize_colab()\n",
        "  initialized = True\n",
        "  \n",
        "except Exception as e:\n",
        "  print(str(e))\n",
        "\n"
      ],
      "execution_count": null,
      "outputs": []
    },
    {
      "cell_type": "markdown",
      "metadata": {
        "id": "NxFfLIps89tb"
      },
      "source": [
        "**<font size=\"8\" color='cornflowerblue'><ins>Multiple choice questions</ins>** \n",
        "\n",
        "\n",
        "#**This part consists of 4 questions. Choose the correct answer in each of the following.** \n",
        "## **Note:** Each question has a <ins>single</ins> correct answer. "
      ]
    },
    {
      "cell_type": "markdown",
      "metadata": {
        "id": "o9J0ThfGnuoL"
      },
      "source": [
        "Block 2#"
      ]
    },
    {
      "cell_type": "code",
      "metadata": {
        "id": "zQZ-_wh1ellC",
        "cellView": "form"
      },
      "source": [
        "#@title #**<font size=\"6\" color='cornflowerblue'><ins> Question 1</ins>**</font>\n",
        "#@markdown \n",
        "#@markdown #A study tested the number of symptoms due to the flu in men and women. The study used both t-test and Z-test to evaluate the differences between men and women.\n",
        "#@markdown #**Which of the following might cause a difference between the results of the t-test and the results of the Z-test?**\n",
        "block_id = 2\n",
        "question_id = 1\n",
        "\n",
        "\n",
        "def prepare_block():\n",
        "  try:\n",
        "    initialized\n",
        "  except:\n",
        "    raise Exception(\"You need to identify yourself in Block 1#\")\n",
        "  verify_dependencies(block_id)\n",
        "\n",
        "\n",
        "def block2():\n",
        "  Answer = \"Choose the correct answer\" #@param [\"Choose the correct answer\", \"There is a difference between the mean number of symptoms in women and men\", \"There is a difference between the number of men and the number of women in the study\", \"The average number of symptoms in the entire population is very large\", \"The standard deviation of the symptoms that was found in the study was found to be much smaller than former beliefs of the standard deviation in the population\"]\n",
        "  if Answer == 'Choose the correct answer':\n",
        "    raise Exception(\"You must choose an answer\")\n",
        "  answers[question_id] = Answer\n",
        "  print(\"Your Answer is: \", answers[question_id])\n",
        "\n",
        "\n",
        "try:\n",
        "  prepare_block()\n",
        "  block2()\n",
        "  blocks_run[block_id] = True\n",
        "except Exception as e:\n",
        "  print(str(e))\n"
      ],
      "execution_count": null,
      "outputs": []
    },
    {
      "cell_type": "markdown",
      "metadata": {
        "id": "wprWyByIbZ8E"
      },
      "source": [
        "Block 3#"
      ]
    },
    {
      "cell_type": "code",
      "metadata": {
        "id": "t42qeJ9_Yjlp",
        "cellView": "form"
      },
      "source": [
        "#@title #**<font size=\"6\" color='cornflowerblue'><ins> Question 2 </ins>**\n",
        "#@markdown # **Which of the following is necessarily correct (When all other parameters are fixed)**\n",
        "\n",
        "block_id = 3\n",
        "question_id = 2\n",
        "\n",
        "def prepare_block():\n",
        "  try:\n",
        "    initialized\n",
        "  except:\n",
        "    raise Exception(\"You need to identify yourself in Block 1#\")\n",
        "  verify_dependencies(block_id)\n",
        "\n",
        "\n",
        "def block3():\n",
        "  Answer = \"Choose the correct answer\" #@param [\"Choose the correct answer\", \"An increase in the statistic t value will increase the p value\", \"An increase in the statistic t value will decrease the p value\", \"An increase in the critical t for rejecting H0 will increase the p value\", \"An increase in the critical t for rejecting H0 will decrease the p value\"]\n",
        "  if Answer == 'Choose the correct answer':\n",
        "    raise Exception(\"You must choose an answer\")\n",
        "  answers[question_id] = Answer\n",
        "  print(\"Your Answer is: \", answers[question_id])\n",
        "\n",
        "\n",
        "try:\n",
        "  prepare_block()\n",
        "  block3()\n",
        "  blocks_run[block_id] = True\n",
        "except Exception as e:\n",
        "  print(str(e))\n"
      ],
      "execution_count": null,
      "outputs": []
    },
    {
      "cell_type": "markdown",
      "metadata": {
        "id": "lE-2Toc3beB-"
      },
      "source": [
        "Block 4#"
      ]
    },
    {
      "cell_type": "code",
      "metadata": {
        "id": "JUDKdLqtYj1A",
        "cellView": "form"
      },
      "source": [
        "#@title **<p><font size=\"6\"><font color='cornflowerblue'><ins>Question 3 </ins></p>** \n",
        "#@markdown # **Complete the sentence: Increasing the sample size in a one tailed t-test will (assuming the means and standard deviations are fixed)**\n",
        "\n",
        "block_id = 4\n",
        "question_id = 3\n",
        "\n",
        "def prepare_block():\n",
        "  try:\n",
        "    initialized\n",
        "  except:\n",
        "    raise Exception(\"You need to identify yourself in Block 1#\")\n",
        "  verify_dependencies(block_id)\n",
        "\n",
        "\n",
        "def block4():\n",
        "  Answer = \"Choose the correct answer\" #@param [\"Choose the correct answer\", \"Make the statistic t larger\", \"Make the effect size larger and will increase the chance for significant results\", \"Increase the chances to perform type 1 error\", \"Increase the p-value\"]\n",
        "  if Answer == 'Choose the correct answer':\n",
        "    raise Exception(\"You must choose an answer\")\n",
        "  answers[question_id] = Answer\n",
        "  print(\"Your Answer is: \", answers[question_id])\n",
        "\n",
        "\n",
        "try:\n",
        "  prepare_block()\n",
        "  block4()\n",
        "  blocks_run[block_id] = True\n",
        "except Exception as e:\n",
        "  print(str(e))\n"
      ],
      "execution_count": null,
      "outputs": []
    },
    {
      "cell_type": "markdown",
      "metadata": {
        "id": "xaU_pfwBbgJs"
      },
      "source": [
        "Block 5#"
      ]
    },
    {
      "cell_type": "code",
      "metadata": {
        "cellView": "form",
        "id": "WAtjlgPyIpBj"
      },
      "source": [
        "#@title **<font size=\"6\" color='cornflowerblue'><ins>Question 4 </ins>** \n",
        "#@markdown #**Which of the following is correct?**\n",
        "\n",
        "block_id = 5\n",
        "question_id = 4\n",
        "\n",
        "def prepare_block():\n",
        "  try:\n",
        "    initialized\n",
        "  except:\n",
        "    raise Exception(\"You need to identify yourself in Block 1#\")\n",
        "  verify_dependencies(block_id)\n",
        "\n",
        "\n",
        "def block5():\n",
        "  Answer = \"Choose the correct answer\" #@param [\"Choose the correct answer\", \"If the population is distributed normally, the central limit theorem is not valid\", \"When the normality assumption is violated, the probability of making a statistical error (type 1 or type 2) changes\", \"The t-distribution is always normal while the Z-distribution can be normal or not\", \"If the normality assumption is violated, the width of the t-distribution will increase\"]\n",
        "  if Answer == 'Choose the correct answer':\n",
        "    raise Exception(\"You must choose an answer\")\n",
        "  answers[question_id] = Answer\n",
        "  print(\"Your Answer is: \", answers[question_id])\n",
        "\n",
        "\n",
        "try:\n",
        "  prepare_block()\n",
        "  block5()\n",
        "  blocks_run[block_id] = True\n",
        "except Exception as e:\n",
        "  print(str(e))\n"
      ],
      "execution_count": null,
      "outputs": []
    },
    {
      "cell_type": "markdown",
      "metadata": {
        "id": "6LRb0PP7IZh1"
      },
      "source": [
        "**<font size=\"10\" color='cornflowerblue'><ins>Interactive Questions </ins>** \n",
        "\n"
      ]
    },
    {
      "cell_type": "markdown",
      "metadata": {
        "id": "irvNBQuTJtcq"
      },
      "source": [
        "**<font size=\"6\" color='cornflowerblue'><ins>Question 5 </ins>** </font>\n",
        "\n",
        "#Normal distributions can be described by two parameters - the mean and the variance. We have already seen that the mean is an unbiased estimator, but what about the standard deviation?"
      ]
    },
    {
      "cell_type": "markdown",
      "metadata": {
        "id": "4zGGxclWReDR"
      },
      "source": [
        "Block 6#"
      ]
    },
    {
      "cell_type": "code",
      "metadata": {
        "cellView": "form",
        "id": "WgVb27Glv63q"
      },
      "source": [
        "#@title #The variance of 1000 samples taken from the same distribution at a given sample size \n",
        "\n",
        "block_id = 6\n",
        "\n",
        "def sample_var(sample_size=10):\n",
        "  np.random.seed(4)\n",
        "  jitter=np.random.normal(scale=.2,size=1000) # change to 0 to remove jitter\n",
        "  print (\"The true variance is: 9\")\n",
        "  sampled_vars = [np.round(np.var(np.random.normal(20, 3, sample_size+1)),3 ) for i in range(1000) ]\n",
        "  print(\"The variances of 1,000 samples:\", ', '.join(map(str,np.round(sampled_vars[:10], 2))),\"...\")\n",
        "  print (\"The mean variance of 1,000 samples is:\", np.round(np.mean(sampled_vars), 2))\n",
        "  plt.figure(0,figsize=(10,8))\n",
        "  plt.scatter(np.repeat(sample_size,1000)+jitter,sampled_vars,alpha=.03,label=\"Sample(s) variance\")\n",
        "  plt.scatter(sample_size,np.mean(sampled_vars),color=\"Magenta\",label=\"Mean variance of 1,000 samples\")\n",
        "\n",
        "  plt.axhline(9,color=\"red\",label=\"Real variance\")\n",
        "  \n",
        "  plt.legend()\n",
        "  plt.ylabel(\"Variance\")\n",
        "  plt.xlabel(\"Sample size\")\n",
        "  plt.ylim(0,20)\n",
        "  plt.xlim(sample_size-10,sample_size+10)\n",
        "\n",
        "_=interact(sample_var,sample_size=(3,100))\n",
        "\n",
        "blocks_run[block_id] = True"
      ],
      "execution_count": null,
      "outputs": []
    },
    {
      "cell_type": "markdown",
      "metadata": {
        "id": "q72L_V5GSEso"
      },
      "source": [
        "Block 7"
      ]
    },
    {
      "cell_type": "code",
      "metadata": {
        "cellView": "form",
        "id": "ELAZiSluRmrV"
      },
      "source": [
        "#@title **<font size=\"6\" color='cornflowerblue'><ins>Question 5.1 </ins>** \n",
        "#@markdown #**If we take multiple samples from the population, what can we deduce from the graph above?**\n",
        "\n",
        "block_id = 7\n",
        "question_id = 5\n",
        "\n",
        "def prepare_block():\n",
        "  try:\n",
        "    initialized\n",
        "  except:\n",
        "    raise Exception(\"You need to identify yourself in Block 1#\")\n",
        "  verify_dependencies(block_id)\n",
        "\n",
        "\n",
        "def block6():\n",
        "  Answer = \"Choose the correct answer\" #@param [\"Choose the correct answer\", \"The variance of the population is larger than the variance of the simulated sampling distribution of the means\", \"The variance of the population is larger than the variance of the simulated sampling distribution of the variances\", \"The variance of the population is larger than the mean of the simulated sampling distribution of means\", \"The variance of the population is larger than the mean of the simulated sampling distribution of variances\"]\n",
        "  if Answer == 'Choose the correct answer':\n",
        "    raise Exception(\"You must choose an answer\")\n",
        "  answers[question_id] = Answer\n",
        "  print(\"Your Answer is: \", answers[question_id])\n",
        "\n",
        "\n",
        "try:\n",
        "  prepare_block()\n",
        "  block6()\n",
        "  blocks_run[block_id] = True\n",
        "except Exception as e:\n",
        "  print(str(e))\n"
      ],
      "execution_count": null,
      "outputs": []
    },
    {
      "cell_type": "markdown",
      "metadata": {
        "id": "rmy3n_TIRihD"
      },
      "source": [
        "Block 8#"
      ]
    },
    {
      "cell_type": "code",
      "metadata": {
        "cellView": "form",
        "id": "KV0GeH31SCqN"
      },
      "source": [
        "#@title **<font size=\"6\" color='cornflowerblue'><ins>Question 5.2 </ins>** \n",
        "#@markdown #How will the number of samples (number of blue dots) we take affect the mean variance of the samples?\n",
        "#@markdown #**How does it affect the estimate for the variance of the population?**\n",
        "\n",
        "block_id = 8\n",
        "question_id = 6\n",
        "\n",
        "def prepare_block():\n",
        "  try:\n",
        "    initialized\n",
        "  except:\n",
        "    raise Exception(\"You need to identify yourself in Block 1#\")\n",
        "  verify_dependencies(block_id)\n",
        "\n",
        "\n",
        "def block7():\n",
        "  Answer = \"Choose the correct answer\" #@param [\"Choose the correct answer\", \"The more samples we take, the mean of the variances is less reliable since most of the times the variance of the samples will be bigger than the population’s variance.\", \"The mean of variances will get larger in 1000 samples compared to 10 samples\", \"The more samples we take, the mean of the variances is more reliable (but will still be smaller than the population variance).\", \"The more samples we take, the estimated variance will be closer to the variance of the population.\"]\n",
        "  if Answer == 'Choose the correct answer':\n",
        "    raise Exception(\"You must choose an answer\")\n",
        "  answers[question_id] = Answer\n",
        "  print(\"Your Answer is: \", answers[question_id])\n",
        "\n",
        "\n",
        "try:\n",
        "  prepare_block()\n",
        "  block7()\n",
        "  blocks_run[block_id] = True\n",
        "except Exception as e:\n",
        "  print(str(e))\n"
      ],
      "execution_count": null,
      "outputs": []
    },
    {
      "cell_type": "markdown",
      "metadata": {
        "id": "fWMlFIagS2f3"
      },
      "source": [
        "**<font size=\"6\" color='cornflowerblue'><ins>Question 6</ins>** </font>\n",
        "\n",
        "#Let’s assess how the estimate of the population variance (which is the mean of the variance sampling distribution) is affected by the size of the samples (n). In real life, we don’t have the population’s distribution so it is hard to know what happens. Here, we sample from a known normal distribution with a known variance to see how the variance of different samples behaves.  "
      ]
    },
    {
      "cell_type": "markdown",
      "metadata": {
        "id": "ubuJfeC6TYH8"
      },
      "source": [
        "Block 9#"
      ]
    },
    {
      "cell_type": "code",
      "metadata": {
        "id": "s4yaKHUr9Xcg",
        "cellView": "form"
      },
      "source": [
        "#@title #The mean variance of many samples as a function of sample size (n)\n",
        "\n",
        "##blue - variance of sample of size 1-maxsize\n",
        "##green - mean of variances from 1000 samples of size 1-maxsize\n",
        "##red - actual variance\n",
        "\n",
        "block_id = 9\n",
        "\n",
        "def prepare_block():\n",
        "  try:\n",
        "    initialized\n",
        "  except:\n",
        "    raise Exception(\"You need to identify yourself in Block 1#\")\n",
        "  verify_dependencies(block_id)\n",
        "\n",
        "maxsize=125\n",
        "np.random.seed(1)\n",
        "normVar = np.zeros(maxsize)\n",
        "normVarMean = np.zeros(maxsize)\n",
        "manyVars_all_sizes=np.zeros(10*maxsize)\n",
        "all_sizes = np.repeat(np.arange(125),10)+1\n",
        "for n in range(0,maxsize):\n",
        "  normVar[n] = np.var(np.random.normal(30, 3, n+1) )\n",
        "  manyVars=[np.var(np.random.normal(30, 3, n+1) ) for i in range(2500) ]\n",
        "  manyVars_all_sizes[n*10:(n+1)*10] = manyVars[:10]\n",
        "  normVarMean[n] = np.mean(manyVars)\n",
        "\n",
        "plt.figure(1,figsize=(14,12))\n",
        "\n",
        "sns.scatterplot(x=all_sizes,y=manyVars_all_sizes,alpha=0.5, color=\"b\",label=\"variance of sample with size n\");\n",
        "sns.lineplot(x=range(1,maxsize+1),y=normVarMean, color=\"g\", linewidth = 5, label= \"mean variance of 2,500 samples with size n\");\n",
        "plt.title(\"Mean variance of samples as a function of sample size\")\n",
        "plt.ylim(-1,22);\n",
        "plt.axhline(3**2, color='r', label=\"population variance\");\n",
        "plt.xlabel('Number of observations');\n",
        "plt.ylabel('Variance');\n",
        "plt.legend();\n",
        "\n",
        "blocks_run[block_id] = True"
      ],
      "execution_count": null,
      "outputs": []
    },
    {
      "cell_type": "markdown",
      "metadata": {
        "id": "AkFfozqDVubi"
      },
      "source": [
        "Block 10#"
      ]
    },
    {
      "cell_type": "code",
      "metadata": {
        "cellView": "form",
        "id": "aFQoJ_SVVwVL"
      },
      "source": [
        "#@title **<font size=\"6\" color='cornflowerblue'><ins>Question 6.1 </ins>** \n",
        "#@markdown #**Based on the graph, which of the following statements is correct? (There may be more than one correct answer)**\n",
        "\n",
        "block_id = 10\n",
        "question_id = 7\n",
        "\n",
        "def prepare_block():\n",
        "  try:\n",
        "    initialized\n",
        "  except:\n",
        "    raise Exception(\"You need to identify yourself in Block 1#\")\n",
        "  verify_dependencies(block_id)\n",
        "\n",
        "\n",
        "def block10():\n",
        "\t# Answer = \"Choose the correct answer\" #@param [\"Choose the correct answer\", \"The variance of the samples is usually smaller than the variance of the population\", \"The variance of the samples cannot be larger than the variance of the population\", \"For each sample, we can get either larger or smaller variance compared to the value of the variance of the population\", \"The variance of most of the samples is larger than the variance of the population\"]\n",
        "  #@markdown &nbsp;&nbsp;&nbsp;&nbsp; The variance of the samples is usually smaller than the variance of the population\n",
        "  answer1 = False #@param {type:\"boolean\"}\n",
        "  #@markdown &nbsp;&nbsp;&nbsp;&nbsp; The variance of any sample cannot be larger than the variance of the population\n",
        "  answer2 = False #@param {type:\"boolean\"}\n",
        "  #@markdown &nbsp;&nbsp;&nbsp;&nbsp; For each sample, we can get either larger or smaller variance compared to the value of the variance of the population\n",
        "  answer3 = False #@param {type:\"boolean\"}\n",
        "  #@markdown &nbsp;&nbsp;&nbsp;&nbsp; The variance of most of the samples is larger than the variance of the population\n",
        "  answer4 = False #@param {type:\"boolean\"}\n",
        "  # if Answer == 'Choose the correct answer':\n",
        "  #   raise Exception(\"You must choose an answer\")\n",
        "  answers[question_id] = (answer1, answer2, answer3, answer4)\n",
        "  print(\"Your Answer are: \")\n",
        "  for ans in answers[question_id]:\n",
        "    print(ans)\n",
        "\n",
        "\n",
        "try:\n",
        "  prepare_block()\n",
        "  block10()\n",
        "  blocks_run[block_id] = True\n",
        "except Exception as e:\n",
        "  print(str(e))\n",
        "\n",
        "# 1+3\n"
      ],
      "execution_count": null,
      "outputs": []
    },
    {
      "cell_type": "markdown",
      "metadata": {
        "id": "2Vr4wKGOWDhW"
      },
      "source": [
        "Block 11#"
      ]
    },
    {
      "cell_type": "code",
      "metadata": {
        "cellView": "form",
        "id": "XAknn4LmWE86"
      },
      "source": [
        "#@title **<font size=\"6\" color='cornflowerblue'><ins>Question 6.2 </ins>** \n",
        "#@markdown #**As the number of observations in the sample grows, what happens to the distribution of the variance of the different samples?**\n",
        "\n",
        "block_id = 11\n",
        "question_id = 8\n",
        "\n",
        "def prepare_block():\n",
        "  try:\n",
        "    initialized\n",
        "  except:\n",
        "    raise Exception(\"You need to identify yourself in Block 1#\")\n",
        "  verify_dependencies(block_id)\n",
        "\n",
        "\n",
        "def block11():\n",
        "  Answer = \"Choose the correct answer\" #@param [\"Choose the correct answer\", \"The difference between the mean of the variances of the different samples and the variance of the population grows\", \"The dispersion of the distribution of the variances of the samples increases\", \"When the sample size is small, we mostly get large variances in the samples we take\", \"The dispersion of the variance distribution grows smaller and the mean of the variances’ distribution comes closer to the variance of the population.\"]\n",
        "  if Answer == 'Choose the correct answer':\n",
        "    raise Exception(\"You must choose an answer\")\n",
        "  answers[question_id] = Answer\n",
        "  print(\"Your Answer is: \", answers[question_id])\n",
        "\n",
        "\n",
        "try:\n",
        "  prepare_block()\n",
        "  block11()\n",
        "  blocks_run[block_id] = True\n",
        "except Exception as e:\n",
        "  print(str(e))\n"
      ],
      "execution_count": null,
      "outputs": []
    },
    {
      "cell_type": "markdown",
      "metadata": {
        "id": "aw6h-ilzWOMP"
      },
      "source": [
        "Block 12#"
      ]
    },
    {
      "cell_type": "code",
      "metadata": {
        "cellView": "form",
        "id": "XtOM-zs5WV2p"
      },
      "source": [
        "#@title **<font size=\"6\" color='cornflowerblue'><ins>Question 6.3 </ins>** \n",
        "#@markdown #**We see that there is a difference between the expected value of the distribution of variances (green line) and the population variance (red line). How can we correct the variance in our specific sample so it will be an unbiased estimation of the variance of the population? For each sample size (marked by n) we imagine we got the mean variance from the distribution of variances for that sample size. Find a formula that takes the mean of the variances’ distribution and brings it to match the variance of the population (make sure you understand why this is the correct formula):**\n",
        "\n",
        "block_id = 12\n",
        "question_id = 9\n",
        "\n",
        "def prepare_block():\n",
        "  try:\n",
        "    initialized\n",
        "  except:\n",
        "    raise Exception(\"You need to identify yourself in Block 1#\")\n",
        "  verify_dependencies(block_id, [9])\n",
        "\n",
        "\n",
        "def block12():\n",
        "  from numpy import sqrt\n",
        "  # Input from user\n",
        "  # Answer = \"Choose the correct answer\" #@param [\"Choose the correct answer\", \"Estimated population variance = sample variance * n/(n-1)\", \"Estimated population variance = sample variance * (n-1)/n\", \"Estimated population variance = sample variance * sqrt(n/(n-1))\", \"Estimated population variance = sample variance * sqrt((n-1)/n)\"]\n",
        "  # if Answer == 'Choose the correct answer':\n",
        "  #   raise Exception(\"You must choose an answer\")\n",
        "  # answers[question_id] = Answer\n",
        "  estimated_population_variance = \"Choose the correct answer\" #@param [\"Choose the correct answer\", \"sqrt(sample_variance * n/(n-1))\", \"sample_variance * (n-1)/n\", \"sample_variance * sqrt((n-1)/n)\",\"sample_variance * n/(n-1)\"] \n",
        "  if estimated_population_variance == 'Choose the correct answer':\n",
        "    raise Exception(\"You must choose an answer\")\n",
        "  answers[question_id] = estimated_population_variance\n",
        "\n",
        "  # Plotting\n",
        "  ## from previous samples - maxsize,normVarMean. also make sure the numbers above stay between 1-125\n",
        "  plt.figure(3,figsize=(14,12))\n",
        "  n=np.arange(1,126);\n",
        "  sample_variance=normVarMean\n",
        "  normVarMean_corrected = eval(estimated_population_variance)\n",
        "  sns.lineplot(x=range(1,maxsize+1),y=normVarMean_corrected, color=\"darkgreen\", linewidth=5, label= \"mean corrected variance of 2,500 samples with size n\");\n",
        "  plt.title(\"Mean variance of samples as a function of sample size\")\n",
        "  plt.ylim(-1,22);\n",
        "  plt.axhline(3**2, color='r', linewidth=5, label=\"population variance\");\n",
        "  plt.xlabel('Number of observations');\n",
        "  plt.ylabel('Variance');\n",
        "  plt.legend();\n",
        "\n",
        "  # Message to user\n",
        "  print(\"Your Answer is: \", answers[question_id])\n",
        "\n",
        "# block12()\n",
        "try:\n",
        "  prepare_block()\n",
        "  block12()\n",
        "  blocks_run[block_id] = True\n",
        "except Exception as e:\n",
        "  print(str(e))\n"
      ],
      "execution_count": null,
      "outputs": []
    },
    {
      "cell_type": "markdown",
      "metadata": {
        "id": "kcU5U9JiBpi7"
      },
      "source": [
        "**<font size=\"6\" color='cornflowerblue'><ins>Question 7</ins>** </font>\n",
        "\n",
        "#For the following question we will characterize the t-distribution using repeated sampling. At the end, you will use this distribution for conducting a 2-sample t-test. You need to set the right conditions to create a t-distribution that reflects the null hypothesis.\n",
        "Some of the decisions you make throughout this process will affect the accuracy of your solution, but not all of them. Try to critically think where you should put your effort, and where you can just take a random decision."
      ]
    },
    {
      "cell_type": "markdown",
      "metadata": {
        "id": "7DQ6ZGkLUm04"
      },
      "source": [
        "Block 13#"
      ]
    },
    {
      "cell_type": "code",
      "metadata": {
        "id": "U1bBQewefmkb",
        "cellView": "form"
      },
      "source": [
        "#@title The distribution we want to create is:\n",
        "# ***randomly choose for each student: n1=n2= np.random.choose([15,20,25,30]). Every time the text mentions them in bold, should be the sampled value, and accordingly the correct answers. do not show values to students.\n",
        "\n",
        "block_id = 13\n",
        "\n",
        "def prepare_block():\n",
        "  try:\n",
        "    initialized\n",
        "  except:\n",
        "    raise Exception(\"You need to identify yourself in Block 1#\")\n",
        "  verify_dependencies(block_id)\n",
        "\n",
        "\n",
        "def block13():\n",
        "  np.random.seed(int(group_number))\n",
        "  df=np.random.choice([15,20,25,30])*2-2\n",
        "  print(f\"t({df})\") \n",
        "\n",
        "\n",
        "try:\n",
        "  prepare_block()\n",
        "  block13()\n",
        "  blocks_run[block_id] = True\n",
        "except Exception as e:\n",
        "  print(str(e))\n"
      ],
      "execution_count": null,
      "outputs": []
    },
    {
      "cell_type": "markdown",
      "metadata": {
        "id": "5H7nv9KGgIQi"
      },
      "source": [
        "####Your goal is to find a way to visualize it using the provided tool, which allows you to sample many samples of specific sizes. First, set the number of observations in each group - **N** (equal sample size for both groups) that fits the distribution .\n"
      ]
    },
    {
      "cell_type": "markdown",
      "metadata": {
        "id": "KwNhN_HMUqZd"
      },
      "source": [
        "Block 14#"
      ]
    },
    {
      "cell_type": "code",
      "metadata": {
        "cellView": "form",
        "id": "p7sObXqWWq-S"
      },
      "source": [
        "#@title **<font size=\"6\" color='cornflowerblue'><ins>Question 7.1 </ins>** \n",
        "#@markdown #**What is N?**\n",
        "\n",
        "block_id = 14\n",
        "question_id = 10\n",
        "required_blocks = [13]\n",
        "\n",
        "def prepare_block():\n",
        "  try:\n",
        "    initialized\n",
        "  except:\n",
        "    raise Exception(\"You need to identify yourself in Block 1#\")\n",
        "  verify_dependencies(block_id, required_blocks)\n",
        "\n",
        "\n",
        "def block14():\n",
        "  answers[question_id] = N\n",
        "  print(\"Your Answer is: \", answers[question_id])\n",
        "\n",
        "\n",
        "try:\n",
        "  prepare_block()\n",
        "  N = 1 #@param {type:\"slider\", min:1}\n",
        "  block14()\n",
        "  blocks_run[block_id] = True\n",
        "except Exception as e:\n",
        "  print(str(e))\n",
        "\n",
        "\n",
        "#correct answer is the variable (df+2)/2"
      ],
      "execution_count": null,
      "outputs": []
    },
    {
      "cell_type": "markdown",
      "metadata": {
        "id": "w7T1OfrYUtGJ"
      },
      "source": [
        "Block 15#"
      ]
    },
    {
      "cell_type": "code",
      "metadata": {
        "cellView": "form",
        "id": "WDq02djaXQae"
      },
      "source": [
        "#@title **<font size=\"6\" color='cornflowerblue'><ins>Question 7.2 </ins>** \n",
        "#@markdown #**Now define the population(s) from which you sample each time. Should they be different or identical?**\n",
        "\n",
        "block_id = 15\n",
        "question_id = 11\n",
        "\n",
        "def prepare_block():\n",
        "  try:\n",
        "    initialized\n",
        "  except:\n",
        "    raise Exception(\"You need to identify yourself in Block 1#\")\n",
        "  verify_dependencies(block_id)\n",
        "\n",
        "\n",
        "def block15():\n",
        "  # Save answer\n",
        "  answers[question_id] = how_to_sample\n",
        "  # Print saved answer\n",
        "  print(\"Your Answer is: \", answers[question_id])\n",
        "\n",
        "\n",
        "try:\n",
        "  prepare_block()\n",
        "  # Get answer from user\n",
        "  how_to_sample = \"Choose an answer\" #@param [\"Choose an answer\",\"Sample both groups from the same population\", \"Sample each group from a different population\"]\n",
        "  block15()\n",
        "  blocks_run[block_id] = True\n",
        "except Exception as e:\n",
        "  print(str(e))\n"
      ],
      "execution_count": null,
      "outputs": []
    },
    {
      "cell_type": "markdown",
      "metadata": {
        "id": "Q_1Tzc8tUufb"
      },
      "source": [
        "Block 16#"
      ]
    },
    {
      "cell_type": "code",
      "metadata": {
        "id": "cn9hldJui-Ro",
        "cellView": "form"
      },
      "source": [
        "#@title #**<font size=\"6\" color='cornflowerblue'><ins>Question 7.3 </ins>** \n",
        "#@markdown #**Set the different parameters of the population(s) from which you will be sampling. If you decided to sample both groups from the same population, make the parameters of population B match the parameters of population A**\n",
        "\n",
        "\n",
        "#AVNER -don't save answers here :) we are setting the variables for next parts\n",
        "#Update - save answers. compare means and stds.\n",
        "block_id = 16\n",
        "question_id = 12\n",
        "required_blocks = [15] #how_to_sample\n",
        "\n",
        "def prepare_block():\n",
        "  try:\n",
        "    initialized\n",
        "  except:\n",
        "    raise Exception(\"You need to identify yourself in Block 1#\")\n",
        "  verify_dependencies(block_id, required_blocks)\n",
        "\n",
        "\n",
        "def block16():\n",
        "  pass\n",
        "  \n",
        "  \n",
        "try:\n",
        "  prepare_block()\n",
        "  #block16()\n",
        "  # Get user input\n",
        "  expected_value_population_A = 7 #@param {type:\"slider\"}\n",
        "  standard_deviation_population_A = 28 #@param {type:\"slider\"}\n",
        "  if how_to_sample==\"Sample each group from a different population\":\n",
        "    expected_value_population_B = 8 #@param {type:\"slider\"}\n",
        "    standard_deviation_population_B = 19 #@param {type:\"slider\"}\n",
        "  else:\n",
        "    expected_value_population_B = expected_value_population_A\n",
        "    standard_deviation_population_B = standard_deviation_population_A\n",
        "  # Save answers\n",
        "  answers[question_id] = (expected_value_population_A, standard_deviation_population_A, expected_value_population_B, standard_deviation_population_B)\n",
        "  # Message to user\n",
        "  print(\"Your answer is: \", answers[question_id])\n",
        "  # Mark block as run\n",
        "  blocks_run[block_id] = True\n",
        "except Exception as e:\n",
        "  print(str(e))"
      ],
      "execution_count": null,
      "outputs": []
    },
    {
      "cell_type": "markdown",
      "metadata": {
        "id": "9QseomjskjiH"
      },
      "source": [
        "\n",
        "## Each time you press the button below, we will sample 20,000 times based on your previous decisions. Choose which statistic from the following list you would like to store after each round. \n",
        "\n",
        "####For example, if you chose n=15 and stored the maximum value of each sample, each run will sample 15 observations to each of the groups and the maximum value of each group will be stored. Then, everything but the stored values will be deleted, and a new sample will be collected. This process is repeated 20,000 times. Limit yourself to the minimum amount of parameters you can, while still achieving your goal.\n",
        "\n",
        "For your convenience:\n",
        "$${\\textrm{weighted standard deviation}} = {S_{pooled}} = \\sqrt\\frac{n_1 S_1^2 + n_2 S_2^2 }{n_1+n_2-2} $$\n",
        "\n",
        "\n",
        "$${\\textrm{weighted standard error}} = {S_{pooled}\\sqrt{\\frac{1}{n_1}+\\frac{1}{n_2}}} $$"
      ]
    },
    {
      "cell_type": "markdown",
      "metadata": {
        "id": "hCvbhJVkUwZ-"
      },
      "source": [
        "Block 17#"
      ]
    },
    {
      "cell_type": "code",
      "metadata": {
        "id": "hoHTos-fquZp",
        "cellView": "form"
      },
      "source": [
        "#@title #**<font size=\"6\" color='cornflowerblue'><ins>Question 7.4 </ins>** \n",
        "#@markdown #**What values should we keep?**\n",
        "#@markdown (running this block may take a moment...)\n",
        "\n",
        "\n",
        "block_id = 17\n",
        "question_id = 13\n",
        "required_blocks = [14] #N\n",
        "\n",
        "def prepare_block():\n",
        "  try:\n",
        "    initialized\n",
        "  except:\n",
        "    raise Exception(\"You need to identify yourself in Block 1#\")\n",
        "  verify_dependencies(block_id, required_blocks)\n",
        "\n",
        "\n",
        "def block17():\n",
        "\n",
        "  # Get answer from user\n",
        "  sum_of_all_observations = False #@param {type:\"boolean\"}\n",
        "  difference_of_means= False #@param {type:\"boolean\"}\n",
        "  difference_of_medians= False #@param {type:\"boolean\"}\n",
        "  weighted_standard_deviation= False #@param {type:\"boolean\"}\n",
        "  sd1_plus_sd2 = False #@param {type:\"boolean\"}\n",
        "  weighted_standard_error= False #@param {type:\"boolean\"}\n",
        "  samples_size = False #@param {type:\"boolean\"}\n",
        "\n",
        "  # Save answers\n",
        "  answers[question_id] = (sum_of_all_observations,difference_of_means,difference_of_medians,weighted_standard_deviation,sd1_plus_sd2,weighted_standard_error,samples_size)\n",
        "  \n",
        "  # Print saved answer\n",
        "  print(\"Your answer are: \", answers[question_id])\n",
        "\n",
        "  # Generate distributions\n",
        "  sum_of_all_observations_vec = np.zeros(B)\n",
        "  difference_of_means_vec = np.zeros(B)\n",
        "  difference_of_medians_vec = np.zeros(B)\n",
        "  weighted_standard_deviation_vec = np.zeros(B)\n",
        "  sd1_plus_sd2_vec = np.zeros(B)\n",
        "  weighted_standard_error_vec = np.zeros(B)\n",
        "  samples_size_vec = np.zeros(B)\n",
        "  for i in range(B):\n",
        "    sample_a=np.random.normal(expected_value_population_A,standard_deviation_population_A,N)\n",
        "    sample_b=np.random.normal(expected_value_population_B,standard_deviation_population_B,N)\n",
        "    sum_of_all_observations_vec[i] =np.sum(sample_a)+np.sum(sample_b) \n",
        "    difference_of_means_vec[i] = np.mean(sample_a)-np.mean(sample_b) \n",
        "    difference_of_medians_vec[i] = np.median(sample_a)-np.median(sample_b)\n",
        "    weighted_standard_deviation_vec[i] = sqrt(((N)*np.var(sample_a)+(N)*np.var(sample_b))/(N+N-2))\n",
        "    sd1_plus_sd2_vec[i] = np.std(sample_a)+np.std(sample_b)\n",
        "    weighted_standard_error_vec[i] = weighted_standard_deviation_vec[i]*sqrt((1/N)+(1/N))\n",
        "    samples_size_vec[i] = N\n",
        "\n",
        "  # Return global data\n",
        "  return [sum_of_all_observations_vec,difference_of_means_vec,\n",
        "              difference_of_medians_vec, weighted_standard_deviation_vec,\n",
        "              sd1_plus_sd2_vec,weighted_standard_error_vec,\n",
        "              weighted_standard_deviation_vec,  samples_size_vec]\n",
        "\n",
        "try:\n",
        "  prepare_block()\n",
        "  # Global data\n",
        "  B = 20000\n",
        "  all_list = block17()\n",
        "  blocks_run[block_id] = True\n",
        "except Exception as e:\n",
        "  print(str(e))\n",
        "\n",
        "\n",
        "\n",
        "\n",
        "\n",
        "\n",
        "##correct: difference_of_means,weighted_standard_error = True. the rest are False\n"
      ],
      "execution_count": null,
      "outputs": []
    },
    {
      "cell_type": "markdown",
      "metadata": {
        "id": "WC_2zuBSs3H2"
      },
      "source": [
        "### You now have lists of statistics that contain a single value from each sample. Those lists are ordered, so the first value in each list corresponds to the first sample, the second value corresponds to the second sample and so on. Accordingly, each list contains 20,000 values. \n"
      ]
    },
    {
      "cell_type": "markdown",
      "metadata": {
        "id": "g92-JRpbUxkt"
      },
      "source": [
        "Block 18#"
      ]
    },
    {
      "cell_type": "code",
      "metadata": {
        "cellView": "form",
        "id": "laXgYhvXeV7U"
      },
      "source": [
        "#@title #**<font size=\"6\" color='cornflowerblue'><ins>Question 7.5 </ins>** \n",
        "#@markdown #**What computation should be done in order to create a new list of values that will allow you to accurately estimate the distribution?**\n",
        "#@markdown Please set **numerator/denominator**\n",
        "\n",
        "\n",
        "block_id = 18\n",
        "question_id = 14\n",
        "required_blocks = [14, 17] #all_list\n",
        "\n",
        "def prepare_block():\n",
        "  try:\n",
        "    initialized\n",
        "  except:\n",
        "    raise Exception(\"You need to identify yourself in Block 1#\")\n",
        "  verify_dependencies(block_id, required_blocks)\n",
        "\n",
        "\n",
        "def block18():\n",
        "  #\n",
        "  choices=np.array([\"Choose an answer\",\"sum_of_all_observations\",\"difference_of_means\",\"difference_of_medians\",\n",
        "          \"weighted_standard_deviation\",\"sd1_plus_sd2\",\"weighted_standard_error\",\"samples_size\"])\n",
        "  numerator = \"Choose an answer\" #@param [\"Choose an answer\",\"sum_of_all_observations\",\"difference_of_means\",\"difference_of_medians\",\"weighted_standard_deviation\",\"sd1_plus_sd2\",\"weighted_standard_error\",\"samples_size\"]\n",
        "  denominator = \"Choose an answer\" #@param [\"Choose an answer\",\"sum_of_all_observations\",\"difference_of_means\",\"difference_of_medians\",\"weighted_standard_deviation\",\"sd1_plus_sd2\",\"weighted_standard_error\",\"samples_size\"]\n",
        "  num_index = int(np.where(numerator==choices)[0]-1)\n",
        "  den_index = int(np.where(denominator==choices)[0]-1)\n",
        "  t_vals = all_list[num_index]/all_list[den_index]\n",
        "  print(f\"t-values list: {t_vals}\")\n",
        "\n",
        "  # Save answer\n",
        "  answers[question_id] = (numerator, denominator)\n",
        "  \n",
        "  # Print saved answer\n",
        "  print(\"\\nYour answers are:\")\n",
        "  for ans in answers[question_id]:\n",
        "    print('\\t'+ans)\n",
        "  return t_vals\n",
        "\n",
        "\n",
        "try:\n",
        "  prepare_block()\n",
        "  t_vals = block18()\n",
        "  blocks_run[block_id] = True\n",
        "except Exception as e:\n",
        "  print(str(e))\n",
        "\n",
        "\n",
        "##Avner - correct is numerator==\"difference_of_means\" and denominator==\"weighted_standard_error\"\n",
        "\n"
      ],
      "execution_count": null,
      "outputs": []
    },
    {
      "cell_type": "markdown",
      "metadata": {
        "id": "l7h2zCDLUyyX"
      },
      "source": [
        "Block 19#"
      ]
    },
    {
      "cell_type": "code",
      "metadata": {
        "id": "y55UeSDvvbcI",
        "cellView": "form"
      },
      "source": [
        "#@title #**<font size=\"6\" color='cornflowerblue'><ins>Question 7.6 </ins>** \n",
        "#@markdown #**You now have a single list of 20,000 values. How would you visualize it to estimate t(n+n-2)?**\n",
        "\n",
        "block_id = 19\n",
        "question_id = 15\n",
        "required_blocks = [14, 17, 18] #t_vals\n",
        "\n",
        "def prepare_block():\n",
        "  try:\n",
        "    initialized\n",
        "  except:\n",
        "    raise Exception(\"You need to identify yourself in Block 1#\")\n",
        "  verify_dependencies(block_id, required_blocks)\n",
        "\n",
        "def block19():\n",
        "  # Get answer from user\n",
        "  x_axis = 'Choose an answer' #@param [\"Choose an answer\", \"Values\",\"Observation number\"] {allow-input: false}\n",
        "  y_axis = \"Choose an answer\" #@param [\"Choose an answer\", \"Values\", \"Density\"] {allow-input: false}\n",
        "  if x_axis == 'Choose an answer':\n",
        "    raise Exception(\"You must choose an answer\")\n",
        "  if y_axis == 'Choose an answer':\n",
        "    raise Exception(\"You must choose an answer\")\n",
        "\n",
        "  # Save answer\n",
        "  answers[question_id] = (x_axis, y_axis)\n",
        "  # Print answer to user\n",
        "  print(\"Your answer is:\",', '.join(answers[question_id]))\n",
        "  if x_axis == \"Values\":\n",
        "    if y_axis == \"Values\":\n",
        "      plot1_6_1 = sns.scatterplot(x=sample, y=sample);\n",
        "      plot1_6_1.set(xlabel=x_axis, ylabel=y_axis)\n",
        "    elif y_axis == \"Density\":\n",
        "      plot1_6_1 = sns.kdeplot(sample);\n",
        "      sns.histplot(sample,bins=50, stat=\"density\");\n",
        "      plot1_6_1.set(xlabel='Values (of means)');\n",
        "    else:\n",
        "      print(\"You need to choose what is the Y axis in a historgram\")\n",
        "  elif x_axis == \"Observation number\":\n",
        "    if y_axis == \"Values\":\n",
        "      plot1_6_1 = sns.barplot(x=np.arange(1,200), y=sample[1:200]);\n",
        "      plot1_6_1.set(xlabel=x_axis, ylabel=y_axis)\n",
        "      plt.xticks([])\n",
        "    elif y_axis == \"Density\":\n",
        "      plot1_6_1 = sns.barplot(x=np.arange(1,100), y=np.repeat(1/len(sample),99), color='black');\n",
        "      plot1_6_1.set(xlabel=x_axis, ylabel=y_axis)\n",
        "      plt.xticks([])\n",
        "    else:\n",
        "      print(\"You need to choose what is the Y axis in a historgram\")\n",
        "  else:\n",
        "    print(\"You need to choose what is the X axis in a historgram\")\n",
        "\n",
        "try:\n",
        "  prepare_block()\n",
        "  sample=t_vals\n",
        "  block19()\n",
        "  blocks_run[block_id] = True\n",
        "except Exception as e:\n",
        "  print(str(e))\n",
        "\n",
        "\n",
        "#Avner - exactly block 12 in ex1. the distribution they visualize is the array \"t_vals\". \n",
        "#correct answers are x=values and y=density.\n",
        "\n"
      ],
      "execution_count": null,
      "outputs": []
    },
    {
      "cell_type": "markdown",
      "metadata": {
        "id": "rAJO_p3KU0Kx"
      },
      "source": [
        "Block 20#"
      ]
    },
    {
      "cell_type": "code",
      "metadata": {
        "id": "ZZDZJbqM3WKi",
        "cellView": "form"
      },
      "source": [
        "#@title #Now we will calculate a specific t-test on two sampled groups. Run the block to see how they look like.\n",
        "\n",
        "block_id = 20\n",
        "required_blocks = [14, 17, 18] #N, t_vals\n",
        " \n",
        "def prepare_block():\n",
        "  try:\n",
        "    initialized\n",
        "  except:\n",
        "    raise Exception(\"You need to identify yourself in Block 1#\")\n",
        "  verify_dependencies(block_id, required_blocks)\n",
        "\n",
        "\n",
        "try:\n",
        "  prepare_block()\n",
        "  sample=t_vals\n",
        "\n",
        "  np.random.seed(int(group_number))\n",
        "  sample_1 = np.random.normal(2,5,N)\n",
        "  sample_2 = np.random.normal(0,5,N)\n",
        "\n",
        "  difference_of_means_q77 = np.round(np.mean(sample_1)-np.mean(sample_2),3)\n",
        "  sd_q77=sqrt(((N)*np.var(sample_1)+\n",
        "              (N)*np.var(sample_2))/(N+N-2))\n",
        "  weighted_standard_error_q77 = np.round(sd_q77*sqrt((1/N)+(1/N)),3)\n",
        "  df_q77 = N+N-2\n",
        "  actual_t = stats.ttest_ind(sample_1,sample_2).statistic\n",
        "  actual_p = stats.ttest_ind(sample_1,sample_2).pvalue\n",
        "\n",
        "  print(f\"Difference of means: {difference_of_means_q77}\\nWeighted_standard_error: {weighted_standard_error_q77}\\nDegrees of freedom {df_q77}\")\n",
        "  plt.hist(sample_1,alpha=.7);\n",
        "  plt.hist(sample_2,alpha=.7);\n",
        "  plt.xlabel(\"Observation\");plt.ylabel(\"Frequency\");\n",
        "\n",
        "  # Writing to file\n",
        "  f = open(\"ex3_data\", \"w\")\n",
        "  f.write(str(actual_t)+'\\n'+str(actual_p))\n",
        "  f.close()\n",
        "\n",
        "  blocks_run[block_id] = True\n",
        "except Exception as e:\n",
        "  print(str(e))"
      ],
      "execution_count": null,
      "outputs": []
    },
    {
      "cell_type": "markdown",
      "metadata": {
        "id": "sOJB_edCU1mX"
      },
      "source": [
        "Block 21#"
      ]
    },
    {
      "cell_type": "code",
      "metadata": {
        "cellView": "form",
        "id": "_ap50S_IodP_"
      },
      "source": [
        "#@title #**<font size=\"6\" color='cornflowerblue'><ins>Question 7.7 </ins>** \n",
        "#@markdown #**Calculate the t-value and check the p-value (% of the distribution equal or above your t-value)**\n",
        "\n",
        "\n",
        "block_id = 21\n",
        "question_id = 16\n",
        "required_blocks = [14, 17, 18, 19] #sample\n",
        "\n",
        "def prepare_block():\n",
        "  try:\n",
        "    initialized\n",
        "  except:\n",
        "    raise Exception(\"You need to identify yourself in Block 1#\")\n",
        "  verify_dependencies(block_id, required_blocks)\n",
        "\n",
        "\n",
        "def block21():\n",
        "  # Get answer from user\n",
        "  t_value =  0#@param {type:\"number\"} \n",
        "  # Save answer\n",
        "  answers[question_id] = t_value\n",
        "  # Print saved answer\n",
        "  print(\"Your Answer is: \", answers[question_id])\n",
        "  sns.kdeplot(sample);\n",
        "  sns.histplot(sample,bins=50, stat=\"density\");\n",
        "  plt.axvline(t_value,color=\"r\", label=\"calculated t-value\");plt.legend();\n",
        "  simulated_p = np.mean(t_vals>t_value) \n",
        "  print(f\"% of samples above your t-value:{simulated_p}\")\n",
        "\n",
        "\n",
        "try:\n",
        "  prepare_block()\n",
        "  block21()\n",
        "  blocks_run[block_id] = True\n",
        "except Exception as e:\n",
        "  print(str(e))\n",
        "\n",
        "#Avner - correct answer is \"actual_t\" above ^^ (= Difference of means / Weighted_standard_error)\n",
        "## accept mistakes with range of +-15% from the variable actual_t \n"
      ],
      "execution_count": null,
      "outputs": []
    },
    {
      "cell_type": "markdown",
      "metadata": {
        "id": "Xg5EQeJhU28h"
      },
      "source": [
        "Block 22#"
      ]
    },
    {
      "cell_type": "code",
      "metadata": {
        "cellView": "form",
        "id": "bOs08-nao6GC"
      },
      "source": [
        "#@title #**<font size=\"6\" color='cornflowerblue'><ins>Question 7.8 </ins>** \n",
        "#@markdown #**What is the p-value? is it significant at alpha=0.01?**\n",
        "\n",
        "block_id = 22\n",
        "question_id = 17\n",
        "\n",
        "def prepare_block():\n",
        "  try:\n",
        "    initialized\n",
        "  except:\n",
        "    raise Exception(\"You need to identify yourself in Block 1#\")\n",
        "  verify_dependencies(block_id)\n",
        "\n",
        "\n",
        "def block22():\n",
        "  # Get answer from user\n",
        "  p_value =  0#@param {type:\"number\"}\n",
        "  dropdown = 'Choose the correct answer' #@param [\"Choose the correct answer\", \"Yes, it is\", \"No, it isn't\"]\n",
        "  if dropdown == 'Choose the correct answer':\n",
        "    raise Exception(\"You must choose an answer\")\n",
        "\n",
        "  # Save answer\n",
        "  answers[question_id] = (p_value, dropdown)\n",
        "  # Print saved answer\n",
        "  print(\"Your answer are: \")\n",
        "  for ans in answers[question_id]:\n",
        "    print(ans)\n",
        "\n",
        "\n",
        "try:\n",
        "  prepare_block()\n",
        "  block22()\n",
        "  blocks_run[block_id] = True\n",
        "except Exception as e:\n",
        "  print(str(e))\n",
        "\n",
        "\n",
        "# p_value = open number ## accept mistakes with range of +-15% from the variable actual_p \n",
        "# significant = boolean ## the correct answer is True if the variable p_value<0.01\n"
      ],
      "execution_count": null,
      "outputs": []
    },
    {
      "cell_type": "markdown",
      "metadata": {
        "id": "-_sZ9CNd_-Rn"
      },
      "source": [
        "**<p><font size=\"10\"><font color='cornflowerblue'> Good JOB </ins></p>** </font>\n",
        "\n",
        "#**You finished answering the question for this exercise! Here are some important things to consider:**\n",
        "\n",
        "\n",
        "* You can view your answers by running the next block. \n",
        "*After changing an answer to a question, you will need to run the 'Show your answers' again for it to reflect changes.\n",
        "* <b>If you change an answer to a question, you will need to run it again for changes to be saved. \n"
      ]
    },
    {
      "cell_type": "markdown",
      "metadata": {
        "id": "2hcZSwKmb36u"
      },
      "source": [
        "Block 23#"
      ]
    },
    {
      "cell_type": "code",
      "metadata": {
        "id": "GwW8XtVgUvnI",
        "cellView": "form"
      },
      "source": [
        "#@title **<font color = cornflowerblue> <font size = 6>Show Your Answers <br>(Run to refresh after saving a question)**\n",
        "\n",
        "block_id = 23\n",
        "\n",
        "\n",
        "def prepare_block():\n",
        "  try:\n",
        "    initialized\n",
        "  except:\n",
        "    raise Exception(\"You need to identify yourself in Block 1#\")\n",
        "  verify_dependencies(block_id, range(block_id))\n",
        "\n",
        "\n",
        "def block23():\n",
        "  print(\"ID:\",id_number,\"\\nGroup number\",group_number,'\\n')\n",
        "  # Questions 1-4\n",
        "  for i in range(1,5):\n",
        "    print(\"Question \"+str(i)+\": \"+answers[i])\n",
        "  # Question 5\n",
        "  print(\"Question \"+str(5)+\".1: \"+answers[5])\n",
        "  print(\"Question \"+str(5)+\".2: \"+answers[6])\n",
        "  print(\"Question \"+str(6)+\".1: \"+str(answers[7]))\n",
        "  print(\"Question \"+str(6)+\".2: \"+answers[8])\n",
        "  print(\"Question \"+str(6)+\".3: \"+answers[9])\n",
        "  j=1\n",
        "  for i in range(10,len(answers)):\n",
        "    print(\"Question \"+str(7)+\".\"+str(j)+\": \"+str(answers[i]))\n",
        "    j+=1\n",
        "\n",
        "try:\n",
        "  prepare_block()\n",
        "  block23()\n",
        "  blocks_run[block_id] = True\n",
        "except Exception as e:\n",
        "  print(str(e))\n"
      ],
      "execution_count": null,
      "outputs": []
    },
    {
      "cell_type": "markdown",
      "metadata": {
        "id": "m6cFc6VlqqDu"
      },
      "source": [
        "If you are ready to submit your answers, go ahead and press 'Save!'💾 .\n",
        "\n",
        "\n",
        "This will prompt you to download your answers file. \n",
        "\n",
        "\n",
        "After downloading you will need to submit the file to moodle.\n",
        "Good luck!\n",
        "\n"
      ]
    },
    {
      "cell_type": "markdown",
      "metadata": {
        "id": "t1IsSIpEb5FE"
      },
      "source": [
        "Block 24#"
      ]
    },
    {
      "cell_type": "code",
      "metadata": {
        "id": "b4kko5a29lkU",
        "cellView": "form"
      },
      "source": [
        "#@title  **<p><font size=\"10\"><font color='cornflowerblue'><ins> <---  💾 SAVE! </ins></p>**\n",
        "\n",
        "from google.colab import files\n",
        "from shutil import make_archive\n",
        "from os import path, remove\n",
        "from zipfile import ZipFile\n",
        "\n",
        "block_id = 24\n",
        "\n",
        "def prepare_block():\n",
        "  try:\n",
        "    initialized\n",
        "  except:\n",
        "    raise Exception(\"You need to identify yourself in Block 1#\")\n",
        "  verify_dependencies(block_id, range(block_id))\n",
        "\n",
        "\n",
        "def answer_saver(file):\n",
        "  # Questions 1-4\n",
        "  for i in range(1,5):\n",
        "    file.write(\"Question \"+str(i)+\": \"+answers[i]+\"\\n\")\n",
        "  # Question 5\n",
        "  file.write(\"Question \"+str(5)+\".1: \"+answers[5]+\"\\n\")\n",
        "  file.write(\"Question \"+str(5)+\".2: \"+answers[6]+\"\\n\")\n",
        "  file.write(\"Question \"+str(6)+\".1: \"+str(answers[7])+\"\\n\")\n",
        "  file.write(\"Question \"+str(6)+\".2: \"+answers[8]+\"\\n\")\n",
        "  file.write(\"Question \"+str(6)+\".3: \"+answers[9]+\"\\n\")\n",
        "  j=1\n",
        "  for i in range(10,len(answers)):\n",
        "    file.write(\"Question \"+str(7)+\".\"+str(j)+\": \"+str(answers[i])+\"\\n\")\n",
        "    j+=1\n",
        "\n",
        "def submission_saver():\n",
        "  # Writing credentials\n",
        "  f = open(\"ex3_submission\", \"w\")\n",
        "  f.write(\"#\"+str(id_number)+\"\\n\")\n",
        "  f.write(\"#\"+str(group_number)+\"\\n\")\n",
        "  answer_saver(f) # Writing answers\n",
        "  f.write(\"#End of answers\")\n",
        "  f.close()\n",
        "\n",
        "  # Creating submission file\n",
        "  zipObj = ZipFile('ex3.zip', 'w')\n",
        "  zipObj.write('ex3_submission')\n",
        "  zipObj.write('ex3_data')\n",
        "  # Add additional data required for testing with zipObj.write('additional_data')\n",
        "  zipObj.close()\n",
        "  files.download('ex3.zip') \n",
        "\n",
        "  # Message to user\n",
        "  print(\"Well done! You are now downloading your submission file\")\n",
        "  print(\"Make sure that the name of the file you submit is ex1.zip (and not ex1 (3).zip, for example)\")\n",
        "\n",
        "\n",
        "def block32():\n",
        "  # To show user's answers use block31()\n",
        "  submission_saver()\n",
        "\n",
        "# try:\n",
        "prepare_block()\n",
        "block32()\n",
        "blocks_run[block_id] = True\n",
        "# except Exception as e:\n",
        "#   print(str(e))\n",
        "\n"
      ],
      "execution_count": null,
      "outputs": []
    }
  ]
}