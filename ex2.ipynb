{
  "nbformat": 4,
  "nbformat_minor": 0,
  "metadata": {
    "colab": {
      "name": "ex2.ipynb",
      "provenance": [],
      "collapsed_sections": []
    },
    "kernelspec": {
      "name": "python3",
      "display_name": "Python 3"
    }
  },
  "cells": [
    {
      "cell_type": "markdown",
      "metadata": {
        "id": "sRejH2klZjjk"
      },
      "source": [
        "#**<p><font size=\"10\"><font color='cornflowerblue'><ins>Welcome to Exercise 2 </ins></p>** \n",
        "\n",
        "#**<p><font size=\"5\"><font color='black'>Before starting, please first run the Start/Reset** <font size=\"6\">\n",
        "\n",
        "\n",
        "## 1) After choosing or changing an answer, run its block to save changes.\n",
        "\n",
        "## 2) You can run the 'Show your answers' block at the end of the notebook to see your saved answers.\n",
        "\n",
        "## 3) **Note**: Avoid pressing Runtime -> Run all.\n",
        "\n"
      ]
    },
    {
      "cell_type": "markdown",
      "metadata": {
        "id": "7Cf91hwacB1r"
      },
      "source": [
        "Block 1#"
      ]
    },
    {
      "cell_type": "code",
      "metadata": {
        "id": "uedgYlKMN1e_",
        "cellView": "form"
      },
      "source": [
        "#@title #**<font size=\"6\"><font color='cornflowerblue'><ins> <----Start/Reset**\n",
        "\n",
        "# Main imports\n",
        "import numpy as np\n",
        "import seaborn as sns\n",
        "import matplotlib.pyplot as plt\n",
        "import pandas as pd\n",
        "from scipy import stats\n",
        "from math import sqrt\n",
        "\n",
        "# Secondary imports\n",
        "import statistics\n",
        "import random\n",
        "import io\n",
        "from ipywidgets import interact, interactive, fixed, interact_manual\n",
        "import ipywidgets as widgets\n",
        "from termcolor import colored\n",
        "from IPython.display import HTML\n",
        "\n",
        "# Seaborn initialization\n",
        "sns.set(style=\"white\", palette=\"muted\", color_codes=True)\n",
        "sns.set(rc={'figure.figsize':(10,10)});\n",
        "sns.set_context(\"talk\")\n",
        "\n",
        "# Answers initialization (Note that each array is 1 extra to align question i to index i)\n",
        "answers = [None]*5 + [[None]*3] + [[None]*3] + [[None]*3]\n",
        "\n",
        "# Block dependancies initialization\n",
        "start_block = True\n",
        "blocks_run = [True]*4+[False]*50\n",
        "\n",
        "# Dependency check function\n",
        "def verify_dependencies(block_id):\n",
        "  try:\n",
        "    start_block\n",
        "  except:\n",
        "    raise Exception(\"You did not run the 'Start' block (block 1#)\")\n",
        "  try:\n",
        "    id_number\n",
        "  except:\n",
        "    raise Exception(\"You first need to save your ID (Block 2#)\")\n",
        "  try:\n",
        "    group_number\n",
        "  except:\n",
        "    raise Exception(\"You first need to save your group number (Block 3#)\")\n",
        "  for block_index in range(4, block_id):\n",
        "    if not blocks_run[block_index]:\n",
        "      raise Exception(\"You first need to run block \"+str(block_index)+\"#\")\n",
        "\n",
        "# Greeting user\n",
        "HTML(\"<marquee style='width: 75%;font-size: 150%; Marquee-speed:fast; color: red; ' scrollamount='0'>You can now begin answering the questions!</marquee>\")"
      ],
      "execution_count": null,
      "outputs": []
    },
    {
      "cell_type": "markdown",
      "metadata": {
        "id": "7huHoOyynRoX"
      },
      "source": [
        "#**<p><font size=\"8\"><font color='cornflowerblue'><ins>  Identification: </ins></p>** \n",
        "\n",
        "#**But before you begin, dont forget to fill your ID and Group Number!**\n"
      ]
    },
    {
      "cell_type": "markdown",
      "metadata": {
        "id": "M8DOmvzjcCwA"
      },
      "source": [
        "Block 2#\n"
      ]
    },
    {
      "cell_type": "code",
      "metadata": {
        "id": "EqFi1QHH-Gy2",
        "cellView": "form"
      },
      "source": [
        "#@title #**1) What is your ID number? (<font color=\"red\">*Mandatory</font>)**\n",
        "\n",
        "def prepare_block2():\n",
        "  try:\n",
        "    start_block\n",
        "  except:\n",
        "    raise Exception(\"You did not run the 'Start/Reset' block (Block 1#)\")\n",
        "\n",
        "try:\n",
        "  prepare_block2()\n",
        "  id_number = '0' #@param {type:\"string\"}\n",
        "  print(\"ID number saved: \", id_number)\n",
        "except Exception as e:\n",
        "  print(str(e))\n",
        "\n"
      ],
      "execution_count": null,
      "outputs": []
    },
    {
      "cell_type": "markdown",
      "metadata": {
        "id": "1dVfaTiZcDtj"
      },
      "source": [
        "Block 3#"
      ]
    },
    {
      "cell_type": "code",
      "metadata": {
        "cellView": "form",
        "id": "EDQoqJA77dUC"
      },
      "source": [
        "#@title #**2) What is your group number? (<font color=\"red\">*Mandatory</font>)**\n",
        "\n",
        "def prepare_block3():\n",
        "  try:\n",
        "    start_block\n",
        "  except:\n",
        "    raise Exception(\"You did not run the 'Start/Reset' block (Block 1#)\")\n",
        "  try:\n",
        "    id_number\n",
        "  except:\n",
        "    raise Exception(\"You first need to save your ID (Block 2#)\")\n",
        "\n",
        "try:\n",
        "  prepare_block3()\n",
        "  group_number =  0#@param {type:\"string\"} # TODO: Make this an integer var\n",
        "  print(\"Group number saved: \", group_number)\n",
        "except Exception as e:\n",
        "  print(str(e))\n"
      ],
      "execution_count": null,
      "outputs": []
    },
    {
      "cell_type": "markdown",
      "metadata": {
        "id": "NxFfLIps89tb"
      },
      "source": [
        "**<p><font size=\"10\"><font color='cornflowerblue'><ins> Part 1 - Multiple choice questions </ins></p>** \n",
        "\n",
        "\n",
        "#**This part consists of 4 questions - choose the correct answer in each of the following multiple choice questions.** \n",
        "## Note that each question only has <ins>ONE</ins> correct answer. \n",
        "\n",
        "## **Note:** Don't forget to run the block after choosing an answer!"
      ]
    },
    {
      "cell_type": "markdown",
      "metadata": {
        "id": "o9J0ThfGnuoL"
      },
      "source": [
        "Block 4#"
      ]
    },
    {
      "cell_type": "code",
      "metadata": {
        "id": "zQZ-_wh1ellC",
        "cellView": "form"
      },
      "source": [
        "#@title **<p><font size=\"6\"><font color='cornflowerblue'><ins> Question 1 </ins></p>** \n",
        "#@markdown #**In Pvaluestan the government is preparing for the COVID-19 pandemic even though it is known that there are no reports on the virus across the continent. After a long night meeting they decided to ban live concerts. Consider the burst of the pandemic as an effect**\n",
        "#@markdown Choose the correct answer\n",
        "block_id = 4\n",
        "\n",
        "\n",
        "def prepare_block():\n",
        "  try:\n",
        "    start_block\n",
        "  except:\n",
        "    raise Exception(\"You did not run the 'Start/Reset' block (Block 1#)\")\n",
        "  verify_dependencies(block_id)\n",
        "\n",
        "\n",
        "def block4():\n",
        "  Answer = \"Choose an answer\" #@param [\"Choose an answer\", \"If the pandemic bursts, the government made a type 1 error\", \"If the pandemic bursts, the government made a type 2 error\", \"If the pandemic doesn't burst, the government made a type 1 error\", \"If the pandemic doesn't burst, the government made a type 2 error\"]\n",
        "  if Answer == 'Choose an answer':\n",
        "    raise Exception(\"You must choose an answer\")\n",
        "  answers[1] = Answer\n",
        "  print(\"Your Answer is: \", answers[1])\n",
        "\n",
        "\n",
        "try:\n",
        "  prepare_block()\n",
        "  block4()\n",
        "  blocks_run[block_id] = True\n",
        "except Exception as e:\n",
        "  print(str(e))\n"
      ],
      "execution_count": null,
      "outputs": []
    },
    {
      "cell_type": "markdown",
      "metadata": {
        "id": "wprWyByIbZ8E"
      },
      "source": [
        "Block 5#"
      ]
    },
    {
      "cell_type": "code",
      "metadata": {
        "id": "t42qeJ9_Yjlp",
        "cellView": "form"
      },
      "source": [
        "#@title **<p><font size=\"6\"><font color='cornflowerblue'><ins> Question 2 </ins></p>** \n",
        "#@markdown # **Which of the following is true considering sampling and bootstrap distributions of the means?**\n",
        "\n",
        "block_id = 5\n",
        "\n",
        "\n",
        "def prepare_block():\n",
        "  try:\n",
        "    start_block\n",
        "  except:\n",
        "    raise Exception(\"You did not run the 'Start/Reset' block (Block 1#)\")\n",
        "  verify_dependencies(block_id)\n",
        "\n",
        "\n",
        "def block5():\n",
        "  Answer = \"Choose an answer\" #@param [\"Choose an answer\", \"Only one of them is affected by sample size\", \"Only the sampling distribution uses random sampling with replacement\", \"Only one of them does not require any a-priori assumptions\", \"Only one of them takes samples with the same size of the original sample\"] {allow-input: false}\n",
        "  if Answer == 'Choose an answer':\n",
        "    raise Exception(\"You must choose an answer\")\n",
        "  answers[2] = Answer\n",
        "  print(\"Your Answer is: \", answers[2])\n",
        "\n",
        "\n",
        "try:\n",
        "  prepare_block()\n",
        "  block5()\n",
        "  blocks_run[block_id] = True\n",
        "except Exception as e:\n",
        "  print(str(e))\n"
      ],
      "execution_count": null,
      "outputs": []
    },
    {
      "cell_type": "markdown",
      "metadata": {
        "id": "lE-2Toc3beB-"
      },
      "source": [
        "Block 6#"
      ]
    },
    {
      "cell_type": "code",
      "metadata": {
        "id": "JUDKdLqtYj1A",
        "cellView": "form"
      },
      "source": [
        "#@title **<p><font size=\"6\"><font color='cornflowerblue'><ins>Question 3 </ins></p>** \n",
        "#@markdown # **Which of the following is an example of an effect size?**\n",
        "\n",
        "block_id = 6\n",
        "\n",
        "\n",
        "def prepare_block():\n",
        "  try:\n",
        "    start_block\n",
        "  except:\n",
        "    raise Exception(\"You did not run the 'Start/Reset' block (Block 1#)\")\n",
        "  verify_dependencies(block_id)\n",
        "\n",
        "\n",
        "def block6():\n",
        "  Answer = \"Choose an answer\" #@param [\"Choose an answer\", \"The probability to reject H0 considering the premise that H1 is true\", \"The distance between the two means in units of the spread of the two samples\", \"The distance between the means of the distributions\", \"How strong the effect is as the sample size increases\"] {allow-input: false}\n",
        "  if Answer == 'Choose an answer':\n",
        "    raise Exception(\"You must choose an answer\")\n",
        "  answers[3] = Answer\n",
        "  print(\"Your Answer is: \", answers[3])\n",
        "\n",
        "\n",
        "try:\n",
        "  prepare_block()\n",
        "  block6()\n",
        "  blocks_run[block_id] = True\n",
        "except Exception as e:\n",
        "  print(str(e))\n"
      ],
      "execution_count": null,
      "outputs": []
    },
    {
      "cell_type": "markdown",
      "metadata": {
        "id": "xaU_pfwBbgJs"
      },
      "source": [
        "Block 7#"
      ]
    },
    {
      "cell_type": "code",
      "metadata": {
        "cellView": "form",
        "id": "WAtjlgPyIpBj"
      },
      "source": [
        "#@title **<p><font size=\"6\"><font color='cornflowerblue'><ins>Question 4 </ins></p>** \n",
        "#@markdown # In a sample size of 100 participants, we got a p-value of 0.01.\n",
        "#@markdown #**Which of the following is true?**\n",
        "\n",
        "block_id = 7\n",
        "\n",
        "\n",
        "def prepare_block():\n",
        "  try:\n",
        "    start_block\n",
        "  except:\n",
        "    raise Exception(\"You did not run the 'Start/Reset' block (Block 1#)\")\n",
        "  verify_dependencies(block_id)\n",
        "\n",
        "\n",
        "def block7():\n",
        "  Answer = \"Choose an answer\" #@param [\"Choose an answer\", \"If adding 3 participants to the sample results in the effect size decreasing, then we would expect the p-value to increase\", \"Adding 3 participants to the sample will always result in the p-value decreasing\", \"If dropping 50 participants from the sample results in the effect size increasing, then we would expect the p-value to decrease\", \"If dropping 3 participants from the sample results in the p-value decreasing, then we would expect that the effect size will increase\"] {allow-input: false}\n",
        "  if Answer == 'Choose an answer':\n",
        "    raise Exception(\"You must choose an answer\")\n",
        "  answers[4] = Answer\n",
        "  print(\"Your Answer is: \", answers[4])\n",
        "\n",
        "\n",
        "try:\n",
        "  prepare_block()\n",
        "  block7()\n",
        "  blocks_run[block_id] = True\n",
        "except Exception as e:\n",
        "  print(str(e))\n"
      ],
      "execution_count": null,
      "outputs": []
    },
    {
      "cell_type": "markdown",
      "metadata": {
        "id": "6LRb0PP7IZh1"
      },
      "source": [
        "**<p><font size=\"10\"><font color='cornflowerblue'><ins> Part 2 - Interactive Questions </ins></p>** \n",
        "\n"
      ]
    },
    {
      "cell_type": "markdown",
      "metadata": {
        "id": "kjmMTcSz0kXI"
      },
      "source": [
        "#**<p><font size=\"6\"><font color='cornflowerblue'>How to bootstrap</ins></p>** \n",
        "\n",
        "#It is important to note that sampling distributions are practical only in theory. Instead, usually one uses bootstrapping distributions. Bootstrap is a method for assessing the accuracy and reliablity of a sample in estimating the population's parameters (usually the mean and the variance).\n",
        "\n",
        "#<p><font size=\"5\"><font color='black'>In the following questions we will test how different parameters of the bootsrapping method affect these estimates. We will check: \n",
        "\n",
        "#<p><font size=\"5\"><font color='black'>A) The number of observations in our sample\n",
        "#<p><font size=\"5\"><font color='black'>B) The number of samples with replacement that we take from our sample\n",
        "#<p><font size=\"5\"><font color='black'>C) The shape of the population\n",
        "\n",
        "#<p><font size=\"5\"><font color='black'> We will now (1) take one sample from our population, (2) resample it with replacement, and (3) build a distribution of all the means of the resampled samples (i.e the bootstrap distribution of the means). \n",
        "\n"
      ]
    },
    {
      "cell_type": "markdown",
      "metadata": {
        "id": "JYAaHpfzWmGZ"
      },
      "source": [
        "**<p><font size=\"6\"><font color='cornflowerblue'><ins>Question 5 - Background </ins></p>**"
      ]
    },
    {
      "cell_type": "markdown",
      "metadata": {
        "id": "ysFMH0m2MpTb"
      },
      "source": [
        "#**<p><font size=\"5\"><font color='black'> The following question deals with a bimodal population. To see how it looks, run the next block to generate a histogram of a sample of a million observations.**"
      ]
    },
    {
      "cell_type": "markdown",
      "metadata": {
        "id": "e2M0ytJ3oiZo"
      },
      "source": [
        "Block 8#\n"
      ]
    },
    {
      "cell_type": "code",
      "metadata": {
        "id": "PjRihIy0NXTX",
        "cellView": "form"
      },
      "source": [
        "#@title #**<p><font size=\"5\">Show me the distribution!**\n",
        "\n",
        "block_id = 8\n",
        "\n",
        "\n",
        "def prepare_block():\n",
        "  try:\n",
        "    start_block\n",
        "  except:\n",
        "    raise Exception(\"You did not run the 'Start/Reset' block (Block 1#)\")\n",
        "  verify_dependencies(block_id)\n",
        "\n",
        "\n",
        "def block8():\n",
        "  # Histogram of large portion of the population\n",
        "  np.random.seed(int(group_number))\n",
        "  # The distribution here simulates the original population (PDF estimation), so we take half of each population\n",
        "  pop_dist = np.concatenate((np.random.normal(expected_value1, std1, 500000), np.random.normal(expected_value2, std2, 500000)))\n",
        "  \n",
        "  # Plotting\n",
        "  plt.hist(pop_dist, bins=100);\n",
        "  plt.axvline((expected_value1 + expected_value2)/2, color = \"red\") # Expected value of the population\n",
        "  plt.xlabel('Values')\n",
        "  plt.ylabel('Frequency')\n",
        "  plt.legend(['Expected value of the poulation'])\n",
        "  #plt.set(xlabel='Values', title='Sample #'+str(i+1));\n",
        "\n",
        "  # Messages to user\n",
        "  print(\"A histogram of a million observations gives a good idea of how the actual population looks like\", end='\\n\\n')\n",
        "  print(\"Mean =\", np.round(np.mean(pop_dist), 3), \"(drawn in red)\")\n",
        "  print(\"Standard deviation =\", np.round(np.std(pop_dist), 3), end='\\n\\n')\n",
        "\n",
        "  # Return values that will be used in later blocks\n",
        "\n",
        "\n",
        "try:\n",
        "  prepare_block()\n",
        "  # Data required for this AND later blocks (known in advance)\n",
        "  mean1 = 700\n",
        "  expected_value1 = 100\n",
        "  std1 = 40\n",
        "  mean2 = 180\n",
        "  expected_value2 = 180\n",
        "  std2 = 20\n",
        "  block8() # Use returned values from the function if data is produced there\n",
        "  blocks_run[block_id] = True\n",
        "except Exception as e:\n",
        "  print(str(e))\n"
      ],
      "execution_count": null,
      "outputs": []
    },
    {
      "cell_type": "markdown",
      "metadata": {
        "id": "q4xI7jjSoqoE"
      },
      "source": [
        "Block 9#\n"
      ]
    },
    {
      "cell_type": "code",
      "metadata": {
        "id": "ar5r8UGDKc6J",
        "cellView": "form"
      },
      "source": [
        "#@title #<p><font size=\"5\"><font color='black'> **Bootstrapping stage 1: Take 4 samples from our population.<br> Use the slider to select the sample size, n, for all samples** <br>\n",
        "#@markdown Hint: You might want to run this block more than once for each sample size\n",
        "\n",
        "block_id = 9\n",
        "\n",
        "\n",
        "def prepare_block():\n",
        "  try:\n",
        "    start_block\n",
        "  except:\n",
        "    raise Exception(\"You did not run the 'Start/Reset' block (Block 1#)\")\n",
        "  verify_dependencies(block_id)\n",
        "\n",
        "\n",
        "def block9():\n",
        "  # Setting up samples sizes\n",
        "  n = 39 #@param {type:\"slider\", min:10, max:100, step:1}\n",
        "\n",
        "  # Sampling from the population\n",
        "  number_of_samples = 4\n",
        "  dists = []\n",
        "  for i in range(number_of_samples):\n",
        "    samples_from_pop1 = np.random.binomial(n, 0.5)\n",
        "    samples_from_pop2 = n - samples_from_pop1\n",
        "    # The distribution here simulates sampling from two normal distributions together\n",
        "    dists.append(np.concatenate((np.random.normal(expected_value1, std1, samples_from_pop1), np.random.normal(expected_value2, std2, samples_from_pop2))))\n",
        "\n",
        "  # Plotting the samples\n",
        "  fig,plots=plt.subplots(nrows=1, ncols=number_of_samples,figsize=(20,5));\n",
        "  for i in range(len(plots)):\n",
        "    plots[i].hist(dists[i], bins=20);\n",
        "    plots[i].set(xlabel='Values', title='Sample #'+str(i+1));\n",
        "    plots[i].set_xlim(0,250);\n",
        "    plots[i].axvline(np.mean(dists[i]), color = \"blue\") # Mean of samples[i]\n",
        "    plots[i].axvline((expected_value1 + expected_value2)/2, color = \"red\") # Expected value of the population\n",
        "  plots[0].set(ylabel='Density');\n",
        "  plt.legend(['Sample mean','Population expected value'], bbox_to_anchor=(1.05, 1), loc='upper left')\n",
        "\n",
        "  # Messages to user\n",
        "  for i in range(len(dists)):\n",
        "    print(\"Distribution #\"+str(i+1)+\": Mean =\",str(np.round(np.mean(dists[i]),2))+\",\\tstandard deviation =\",np.round(np.std(dists[i]),2))\n",
        "  print(\"\\nEach of the following samples is of size\",n, end=':\\n\\n')\n",
        "\n",
        "  # Data required for other blocks\n",
        "  return dists\n",
        "\n",
        "\n",
        "try:\n",
        "  prepare_block()\n",
        "  dists = block9()\n",
        "  blocks_run[block_id] = True\n",
        "except Exception as e:\n",
        "  print(str(e))\n"
      ],
      "execution_count": null,
      "outputs": []
    },
    {
      "cell_type": "markdown",
      "metadata": {
        "id": "X88Vu9-hot4j"
      },
      "source": [
        "Block 10#\n"
      ]
    },
    {
      "cell_type": "code",
      "metadata": {
        "id": "TT631Vk0ul3o",
        "cellView": "form"
      },
      "source": [
        "#@title **<p><font size=\"6\"><font color='cornflowerblue'><ins>Question 5.1 </ins></p>** \n",
        "#@markdown # Even when increasing the sample size from n = 10 to n = 100, the four samples still show different means. What do you think is the main source for these differeces?\n",
        "block_id = 10\n",
        "\n",
        "\n",
        "def prepare_block():\n",
        "  try:\n",
        "    start_block\n",
        "  except:\n",
        "    raise Exception(\"You did not run the 'Start/Reset' block (Block 1#)\")\n",
        "  verify_dependencies(block_id)\n",
        "\n",
        "\n",
        "def block10():\n",
        "  Answer = \"Choose an answer\" #@param [\"Choose an answer\", \"This is how sampling always work\", \"The bootstrap ruined everything\", \"The population distribution is bimodal so the mean is not a good statistic\", \"The variance of the population is very small\"]\n",
        "  if Answer == 'Choose an answer':\n",
        "    raise Exception(\"You must choose an answer\")\n",
        "  answers[5][1] = Answer\n",
        "  print(\"Your Answer is: \", answers[5][1])\n",
        "\n",
        "\n",
        "try:\n",
        "  prepare_block()\n",
        "  block10()\n",
        "  blocks_run[block_id] = True\n",
        "except Exception as e:\n",
        "  print(str(e))\n"
      ],
      "execution_count": null,
      "outputs": []
    },
    {
      "cell_type": "markdown",
      "metadata": {
        "id": "Ha0JQ2qtovsN"
      },
      "source": [
        "Block 11#\n"
      ]
    },
    {
      "cell_type": "code",
      "metadata": {
        "id": "yvLAl-G0Yvrm",
        "cellView": "form"
      },
      "source": [
        "#@title #<p><font size=\"5\"><font color='black'> **Bootstrapping stage 2 - resample multiple times each of the 4 samples separately (with replacement)**\n",
        "#@Markdown Bootstrapping stage 3 - build a distribution of the means for the resampled samples (i.e the bootstrap distribution of the means)</p>** \n",
        "#@markdown <font size=4>\n",
        "#@markdown Bonus: In this example we resample 10,000 times from each sample. \n",
        "#@markdown Try running this block again. This will run the bootstrap procedure again, with different randomized samples with replacement.\n",
        "#@markdown However, notice how the results are amazingly consistant! \n",
        "#@markdown This behaviour is independant of whether the original sample size was small or large.\n",
        "#@markdown In question 6 we will experiment more with this.\n",
        "#@markdown <br><br>\n",
        "#@markdown Bonus 2: You can also compare the values of the means of the samples with the corresponding means of their bootstrap distributions, are they different or not? \n",
        "#@markdown </font>\n",
        "block_id = 11\n",
        "\n",
        "\n",
        "def prepare_block():\n",
        "  try:\n",
        "    start_block\n",
        "  except:\n",
        "    raise Exception(\"You did not run the 'Start/Reset' block (Block 1#)\")\n",
        "  verify_dependencies(block_id)\n",
        "\n",
        "\n",
        "def block11():\n",
        "  # Bootstrapping\n",
        "  bootstrap_dists = []\n",
        "  for i in range(len(dists)):\n",
        "    bootstrap_dists.append([np.mean(np.random.choice(dists[i], len(dists[i]))) for j in range(10000)])\n",
        "\n",
        "  # Plotting\n",
        "  fig,plots=plt.subplots(nrows=1, ncols=4,figsize=(20,5));\n",
        "  for i in range(len(plots)):\n",
        "    plots[i].hist(bootstrap_dists[i]);\n",
        "    plots[i].set(xlabel='Mean values', title='Bootstrap distribution\\n of sample #'+str(i+1));\n",
        "    plots[i].set_xlim(70,200);\n",
        "    # plots[i].axvline(np.mean(dists[i]), color = \"blue\") # Mean of samples[i]\n",
        "    plots[i].axvline((expected_value1 + expected_value2)/2, color = \"red\") # Expected value of the population\n",
        "\n",
        "  plots[0].set(ylabel='Frequency');\n",
        "\n",
        "\n",
        "  # Messages to user\n",
        "  for i in range(len(bootstrap_dists)):\n",
        "    print(\"Distribution #\"+str(i+1)+\": Mean =\",str(np.round(np.mean(bootstrap_dists[i]),2))+\",\\tstandard deviation =\",np.round(np.std(bootstrap_dists[i]),2))\n",
        "  print(end='\\n\\n')\n",
        "\n",
        "\n",
        "try:\n",
        "  prepare_block()\n",
        "  block11()\n",
        "  blocks_run[block_id] = True\n",
        "except Exception as e:\n",
        "  print(str(e))\n"
      ],
      "execution_count": null,
      "outputs": []
    },
    {
      "cell_type": "markdown",
      "metadata": {
        "id": "PAeL9i5IoxCr"
      },
      "source": [
        "Block 12#\n"
      ]
    },
    {
      "cell_type": "code",
      "metadata": {
        "id": "m4U-uQiVYkR4",
        "cellView": "form"
      },
      "source": [
        "#@title **<p><font size=\"6\"><font color='cornflowerblue'><ins>Question 5.2 </ins></p>** \n",
        "#@markdown # **The four different samples had different means and shape. As we increase the sample size (n), which of the following is true?** <br> <font size=4> \n",
        "#@markdown Hint: You can change the slider of block 9, run it, and then re-run block 11 to see how the sample size affects the bootstrap distributions\n",
        "block_id = 12\n",
        "\n",
        "\n",
        "def prepare_block():\n",
        "  try:\n",
        "    start_block\n",
        "  except:\n",
        "    raise Exception(\"You did not run the 'Start/Reset' block (Block 1#)\")\n",
        "  verify_dependencies(block_id)\n",
        "\n",
        "\n",
        "def block12():\n",
        "  Answer = \"Choose an answer\" #@param [\"Choose an answer\", \"The means of the different bootstrap distributions become closer, and the bootstrap distributions become narrower\", \"The means of the different bootstrap distributions become closer, and the bootstrap distributions become wider\", \"The width of the different bootstrap distributions does not depend on the sample size (n)\", \"The difference between the means of the different bootstrap distributions does not depend on the sample size (n)\"]\n",
        "  if Answer == 'Choose an answer':\n",
        "    raise Exception(\"You must choose an answer\")\n",
        "  answers[5][2] = Answer\n",
        "  print(\"Your Answer is: \", answers[5][2])\n",
        "\n",
        "\n",
        "try:\n",
        "  prepare_block()\n",
        "  block12()\n",
        "  blocks_run[block_id] = True\n",
        "except Exception as e:\n",
        "  print(str(e))\n"
      ],
      "execution_count": null,
      "outputs": []
    },
    {
      "cell_type": "markdown",
      "metadata": {
        "id": "KBvDGmeBzzJv"
      },
      "source": [
        "**<p><font size=\"6\"><font color='cornflowerblue'><ins>Question 6</ins></p>**"
      ]
    },
    {
      "cell_type": "markdown",
      "metadata": {
        "id": "z_iHyc7Q4e3p"
      },
      "source": [
        "#<p><font size=\"5\"><font color='black'>Run the next block to plot a probability density function of a normal distribution with an expected value of **100** and a standard deviation of **30**"
      ]
    },
    {
      "cell_type": "markdown",
      "metadata": {
        "id": "MMQutZeOoy2A"
      },
      "source": [
        "Block 13#\n"
      ]
    },
    {
      "cell_type": "code",
      "metadata": {
        "id": "Gg1wTxzT40g2",
        "cellView": "form"
      },
      "source": [
        "#@title  **<p><font size=\"5\"><--- Plot the probability density function (PDF)</p>**\n",
        "\n",
        "block_id = 13\n",
        "\n",
        "\n",
        "def prepare_block():\n",
        "  try:\n",
        "    start_block\n",
        "  except:\n",
        "    raise Exception(\"You did not run the 'Start/Reset' block (Block 1#)\")\n",
        "  verify_dependencies(block_id)\n",
        "\n",
        "\n",
        "def block13():\n",
        "  # Creating a pdf of the population\n",
        "  fig,(pdf_plot)=plt.subplots(nrows=1, ncols=1,figsize=(15,7))\n",
        "  def plotpdf(function_plot, mu, sigma):\n",
        "      x = np.linspace(mu - 3.5*sigma, mu + 3.5*sigma, 200) #limits of dist\n",
        "      function_plot.plot(x, stats.norm.pdf(x, mu, sigma),color=\"black\");\n",
        "  plotpdf(pdf_plot, e, s)\n",
        "  expected_value_line = pdf_plot.axvline(100, color='red')\n",
        "  pdf_plot.set(xlabel='Values', ylabel='Density');\n",
        "  pdf_plot.set_xlim(20,180);\n",
        "  pdf_plot.axhline(0, color=\"black\");\n",
        "  plt.legend([expected_value_line], ['Expected value of the population']);\n",
        "\n",
        "  # Message to user\n",
        "\n",
        "\n",
        "try:\n",
        "  #Global data\n",
        "  e = 100\n",
        "  s = 30\n",
        "  n = 25\n",
        "  sizes = [1, 10, 100, 1000, 10000]\n",
        "  bootstrap = [None]*len(sizes)\n",
        "  bootstrap2 = [None]*len(sizes)\n",
        "  \n",
        "  prepare_block()\n",
        "  block13()\n",
        "  blocks_run[block_id] = True\n",
        "except Exception as e:\n",
        "  print(str(e))\n"
      ],
      "execution_count": null,
      "outputs": []
    },
    {
      "cell_type": "markdown",
      "metadata": {
        "id": "sfuPiLWq5CVK"
      },
      "source": [
        "#<p><font size=\"5\"><font color='black'>Next we plot a sample of 25 observations from the population.\n"
      ]
    },
    {
      "cell_type": "markdown",
      "metadata": {
        "id": "bwX2Ob64oz6i"
      },
      "source": [
        "Block 14#\n"
      ]
    },
    {
      "cell_type": "code",
      "metadata": {
        "id": "KW9zGuG_5mmV",
        "cellView": "form"
      },
      "source": [
        "#@title  **<p><font size=\"5\"><ins> <--- Click here to get one sample of n=25 from the population </ins></p>**\n",
        "\n",
        "block_id = 14\n",
        "\n",
        "\n",
        "def prepare_block():\n",
        "  try:\n",
        "    start_block\n",
        "  except:\n",
        "    raise Exception(\"You did not run the 'Start/Reset' block (Block 1#)\")\n",
        "  verify_dependencies(block_id)\n",
        "\n",
        "\n",
        "def block14():\n",
        "  expected_value = 100\n",
        "\n",
        "  # Sampling\n",
        "  sample = np.round(np.random.normal(expected_value,s,25), 3)\n",
        "\n",
        "  # Creating a histogram\n",
        "  sample_histogram = sns.displot(sample, bins=20);\n",
        "  sample_histogram.set(xlabel='Values');\n",
        "  plt.axvline(expected_value, color = \"red\") # Expected value of the population (Red)\n",
        "  plt.axvline(np.mean(sample), color = \"purple\") # Mean of the sample (purple)\n",
        "\n",
        "  # Message to user\n",
        "  print(\"Mean =\", np.round(np.mean(sample), 3), \"(drawn in purple)\")\n",
        "  print(\"Standard deviation =\", np.round(np.std(sample), 3), end='\\n\\n')\n",
        "\n",
        "\n",
        "  # Data required for other blocks\n",
        "  return sample\n",
        "\n",
        "\n",
        "def bootstrap_and_plot(sample, index, n):\n",
        "  bootstrap[index] = [np.mean(np.random.choice(sample, n)) for times in range(sizes[index])]\n",
        "  \n",
        "  # Create a histogram for bootstrap[i]\n",
        "  print(\"\\nBootstrap #\"+str(index+1)+\":\", sizes[index], \"resample(s) from a sample of size 25\")\n",
        "  print(\"Mean =\",str(np.round(np.mean(bootstrap[index]), 1)),\"(drawn in purple)\")\n",
        "  print(\"Standard deviation =\", np.round(np.std(bootstrap[index]), 1), end='\\n\\n')\n",
        "  sns.displot(bootstrap[index], bins=20);\n",
        "  plot_title = \"\\nBootstrap #\"+str(index+1)+(\": \")+str(sizes[index])+\" resamples from a sample of size \"+str(n)\n",
        "  plt.title(plot_title)\n",
        "  plt.xlabel('Value of mean')\n",
        "  plt.axvline(e, color='red')\n",
        "  if index: # No need for this line when index == 0\n",
        "    plt.axvline(np.mean(sample), color='purple')\n",
        "\n",
        "try:\n",
        "  prepare_block()\n",
        "  sample_25 = block14()\n",
        "  blocks_run[block_id] = True\n",
        "except Exception as e:\n",
        "  print(str(e))\n"
      ],
      "execution_count": null,
      "outputs": []
    },
    {
      "cell_type": "markdown",
      "metadata": {
        "id": "CiqKRPZQ54xo"
      },
      "source": [
        "####<p><font size=\"5\"><font color='black'>You can play with the number of samples you take for your bootstrap distribution\n",
        "Note that the number of observations in each sample is fixed, regardless of the number of samples taken"
      ]
    },
    {
      "cell_type": "markdown",
      "metadata": {
        "id": "0XV30eiuo1T2"
      },
      "source": [
        "Block 15#\n"
      ]
    },
    {
      "cell_type": "code",
      "metadata": {
        "id": "iI8cdVOM6k-_",
        "cellView": "form"
      },
      "source": [
        "#@title **<p><font size=\"5\">Bootstrap with 1 repeat (n=25)</p>** \n",
        "\n",
        "block_id = 15\n",
        "\n",
        "\n",
        "def prepare_block():\n",
        "  try:\n",
        "    start_block\n",
        "  except:\n",
        "    raise Exception(\"You did not run the 'Start/Reset' block (Block 1#)\")\n",
        "  verify_dependencies(block_id)\n",
        "\n",
        "\n",
        "def block15():\n",
        "  # Creating and plotting the bootstrap samples\n",
        "  bootstrap_and_plot(sample_25, 0, 25)\n",
        "  print(\"\\nIs this the same as the sample mean? How is it possible?\")\n",
        "\n",
        "try:\n",
        "  prepare_block()\n",
        "  block15()\n",
        "  blocks_run[block_id] = True\n",
        "except Exception as e:\n",
        "  print(str(e))\n"
      ],
      "execution_count": null,
      "outputs": []
    },
    {
      "cell_type": "markdown",
      "metadata": {
        "id": "RlhHqqzKo2ya"
      },
      "source": [
        "Block 16#\n"
      ]
    },
    {
      "cell_type": "code",
      "metadata": {
        "cellView": "form",
        "id": "77-I-ph27N9d"
      },
      "source": [
        "#@title **<p><font size=\"5\">Bootstrap with 10 repeats (n=25)</p>** \n",
        "\n",
        "block_id = 16\n",
        "\n",
        "\n",
        "def prepare_block():\n",
        "  try:\n",
        "    start_block\n",
        "  except:\n",
        "    raise Exception(\"You did not run the 'Start/Reset' block (Block 1#)\")\n",
        "  verify_dependencies(block_id)\n",
        "\n",
        "\n",
        "def block16():\n",
        "  # Creating and plotting the bootstrap samples\n",
        "  bootstrap_and_plot(sample_25, 1, 25)\n",
        "\n",
        "\n",
        "try:\n",
        "  prepare_block()\n",
        "  block16()\n",
        "  blocks_run[block_id] = True\n",
        "except Exception as e:\n",
        "  print(str(e))"
      ],
      "execution_count": null,
      "outputs": []
    },
    {
      "cell_type": "markdown",
      "metadata": {
        "id": "OSyvkWA1o3CP"
      },
      "source": [
        "Block 17#\n"
      ]
    },
    {
      "cell_type": "code",
      "metadata": {
        "cellView": "form",
        "id": "7OhSaAwu7OY3"
      },
      "source": [
        "#@title **<p><font size=\"5\">Bootstrap with 100 repeats (n=25)</p>** \n",
        "\n",
        "block_id = 17\n",
        "\n",
        "\n",
        "def prepare_block():\n",
        "  try:\n",
        "    start_block\n",
        "  except:\n",
        "    raise Exception(\"You did not run the 'Start/Reset' block (Block 1#)\")\n",
        "  verify_dependencies(block_id)\n",
        "\n",
        "\n",
        "def block17():\n",
        "  # Creating and plotting the bootstrap samples\n",
        "  bootstrap_and_plot(sample_25, 2, 25)\n",
        "\n",
        "\n",
        "try:\n",
        "  prepare_block()\n",
        "  block17()\n",
        "  blocks_run[block_id] = True\n",
        "except Exception as e:\n",
        "  print(str(e))\n"
      ],
      "execution_count": null,
      "outputs": []
    },
    {
      "cell_type": "markdown",
      "metadata": {
        "id": "oYeRekWyo3YC"
      },
      "source": [
        "Block 18#\n"
      ]
    },
    {
      "cell_type": "code",
      "metadata": {
        "cellView": "form",
        "id": "i7naMtZP7RZh"
      },
      "source": [
        "#@title **<p><font size=\"5\">Bootstrap with 1000 repeats (n=25)</p>** \n",
        "\n",
        "block_id = 18\n",
        "\n",
        "\n",
        "def prepare_block():\n",
        "  try:\n",
        "    start_block\n",
        "  except:\n",
        "    raise Exception(\"You did not run the 'Start/Reset' block (Block 1#)\")\n",
        "  verify_dependencies(block_id)\n",
        "\n",
        "\n",
        "def block18():\n",
        "  # Creating and plotting the bootstrap samples\n",
        "  bootstrap_and_plot(sample_25, 3, 25)\n",
        "\n",
        "\n",
        "try:\n",
        "  prepare_block()\n",
        "  block18()\n",
        "  blocks_run[block_id] = True\n",
        "except Exception as e:\n",
        "  print(str(e))\n"
      ],
      "execution_count": null,
      "outputs": []
    },
    {
      "cell_type": "markdown",
      "metadata": {
        "id": "jlpxaF8Go3lZ"
      },
      "source": [
        "Block 19#\n"
      ]
    },
    {
      "cell_type": "code",
      "metadata": {
        "cellView": "form",
        "id": "P3mxFkju7S52"
      },
      "source": [
        "#@title **<p><font size=\"5\">Bootstrap with 10000 repeats (n=25)</p>** \n",
        "\n",
        "block_id = 19\n",
        "\n",
        "\n",
        "def prepare_block():\n",
        "  try:\n",
        "    start_block\n",
        "  except:\n",
        "    raise Exception(\"You did not run the 'Start/Reset' block (Block 1#)\")\n",
        "  verify_dependencies(block_id)\n",
        "\n",
        "\n",
        "def block19():\n",
        "  # Creating and plotting the bootstrap samples\n",
        "  bootstrap_and_plot(sample_25, 4, 25)\n",
        "\n",
        "\n",
        "try:\n",
        "  prepare_block()\n",
        "  block19()\n",
        "  blocks_run[block_id] = True\n",
        "except Exception as e:\n",
        "  print(str(e))\n"
      ],
      "execution_count": null,
      "outputs": []
    },
    {
      "cell_type": "markdown",
      "metadata": {
        "id": "DNjQI9Bbo32R"
      },
      "source": [
        "Block 20#\n"
      ]
    },
    {
      "cell_type": "code",
      "metadata": {
        "id": "CEa8t8Ihac2i",
        "cellView": "form"
      },
      "source": [
        "#@title **<p><font size=\"6\"><font color='cornflowerblue'><ins>Question 6.1 </ins></p>** \n",
        "#@markdown # Based on the bootstrap simulations: As we increase the number of repeats, which of the following is correct? \n",
        "\n",
        "#@markdown <font size=4>Hint: Repeat the whole process multiple times in order to make sure your conclusion is reliable\n",
        "block_id = 20\n",
        "\n",
        "\n",
        "def prepare_block():\n",
        "  try:\n",
        "    start_block\n",
        "  except:\n",
        "    raise Exception(\"You did not run the 'Start/Reset' block (Block 1#)\")\n",
        "  verify_dependencies(block_id)\n",
        "\n",
        "\n",
        "def block20():\n",
        "  Answer = \"Choose an answer\" #@param [\"Choose an answer\", \"The deviation of the mean of the bootstrap distribution from the mean of the population will usually increase\", \"The deviation of the mean of the bootstrap distribution from the mean of the population will usually decrease\", \"The deviation of the mean of the bootstrap distribution from the mean of the sample will usually increase\", \"The deviation of the mean of the bootstrap distribution from the mean of the sample will usually decrease\"] {allow-input: false}\n",
        "  if Answer == 'Choose an answer':\n",
        "    raise Exception(\"You must choose an answer\")\n",
        "  answers[6][1] = Answer\n",
        "  print(\"Your Answer is: \", answers[6][1])\n",
        "\n",
        "\n",
        "try:\n",
        "  prepare_block()\n",
        "  block20()\n",
        "  blocks_run[block_id] = True\n",
        "except Exception as e:\n",
        "  print(str(e))\n"
      ],
      "execution_count": null,
      "outputs": []
    },
    {
      "cell_type": "markdown",
      "metadata": {
        "id": "pGS_CPfpARfT"
      },
      "source": [
        "####<p><font size=\"5\"><font color='black'>We tested how the number of repeats affects the bootsrap distribution. We will now test how the size of the original sample affects it. Run the next block to take a bigger sample, of size 50, instead of 25 "
      ]
    },
    {
      "cell_type": "markdown",
      "metadata": {
        "id": "HLos2_B8o47Q"
      },
      "source": [
        "Block 21#\n"
      ]
    },
    {
      "cell_type": "code",
      "metadata": {
        "cellView": "form",
        "id": "oypWnqzoAwwz"
      },
      "source": [
        "#@title  **<p><font size=\"5\"><--- Click here to get one sample of n=50 from the population</p>**\n",
        "\n",
        "block_id = 21\n",
        "\n",
        "\n",
        "def prepare_block():\n",
        "  try:\n",
        "    start_block\n",
        "  except:\n",
        "    raise Exception(\"You did not run the 'Start/Reset' block (Block 1#)\")\n",
        "  verify_dependencies(block_id)\n",
        "\n",
        "\n",
        "def block21():\n",
        "  expected_value = 100\n",
        "  \n",
        "  # Sampling\n",
        "  sample = np.round(np.random.normal(expected_value,s,50), 3)\n",
        "\n",
        "  # Creating a histogram\n",
        "  sample_histogram = sns.displot(sample, bins=20);\n",
        "  sample_histogram.set(xlabel='Values');\n",
        "  plt.axvline(np.mean(sample), color = \"purple\") # Mean of the sample\n",
        "  plt.axvline(expected_value, color='red')\n",
        "\n",
        "  # Message to user\n",
        "  print(\"Mean =\", np.round(np.mean(sample), 3), \"(drawn in red)\")\n",
        "  print(\"Standard deviation =\", np.round(np.std(sample), 3), end='\\n\\n')\n",
        "\n",
        "\n",
        "  # Data required for other blocks\n",
        "  return sample\n",
        "\n",
        "\n",
        "try:\n",
        "  prepare_block()\n",
        "  sample_50 = block21()\n",
        "  blocks_run[block_id] = True\n",
        "except Exception as e:\n",
        "  print(str(e))\n"
      ],
      "execution_count": null,
      "outputs": []
    },
    {
      "cell_type": "markdown",
      "metadata": {
        "id": "O0eoh0tco5IB"
      },
      "source": [
        "Block 22#\n"
      ]
    },
    {
      "cell_type": "code",
      "metadata": {
        "cellView": "form",
        "id": "APY7NLVlAuKb"
      },
      "source": [
        "#@title **<p><font size=\"5\">Bootstrap with 1 repeat (n=50)</p>** \n",
        "\n",
        "block_id = 22\n",
        "\n",
        "\n",
        "def prepare_block():\n",
        "  try:\n",
        "    start_block\n",
        "  except:\n",
        "    raise Exception(\"You did not run the 'Start/Reset' block (Block 1#)\")\n",
        "  verify_dependencies(block_id)\n",
        "\n",
        "\n",
        "def block22():\n",
        "  # Creating and plotting the bootstrap samples\n",
        "  bootstrap_and_plot(sample_50, 0, 50)\n",
        "\n",
        "\n",
        "try:\n",
        "  prepare_block()\n",
        "  block22()\n",
        "  blocks_run[block_id] = True\n",
        "except Exception as e:\n",
        "  print(str(e))\n"
      ],
      "execution_count": null,
      "outputs": []
    },
    {
      "cell_type": "markdown",
      "metadata": {
        "id": "Tdvl-sUIo5SD"
      },
      "source": [
        "Block 23#\n"
      ]
    },
    {
      "cell_type": "code",
      "metadata": {
        "cellView": "form",
        "id": "uUI1mxh9BKsf"
      },
      "source": [
        "#@title **<p><font size=\"5\">Bootstrap with 10 repeats (n=50)</p>** \n",
        "\n",
        "block_id = 23\n",
        "\n",
        "\n",
        "def prepare_block():\n",
        "  try:\n",
        "    start_block\n",
        "  except:\n",
        "    raise Exception(\"You did not run the 'Start/Reset' block (Block 1#)\")\n",
        "  verify_dependencies(block_id)\n",
        "\n",
        "\n",
        "def block23():\n",
        "  # Creating and plotting the bootstrap samples\n",
        "  bootstrap_and_plot(sample_50, 1, 50)\n",
        "\n",
        "\n",
        "try:\n",
        "  prepare_block()\n",
        "  block23()\n",
        "  blocks_run[block_id] = True\n",
        "except Exception as e:\n",
        "  print(str(e))\n"
      ],
      "execution_count": null,
      "outputs": []
    },
    {
      "cell_type": "markdown",
      "metadata": {
        "id": "wPffVShzo5cO"
      },
      "source": [
        "Block 24#\n"
      ]
    },
    {
      "cell_type": "code",
      "metadata": {
        "cellView": "form",
        "id": "OUn1sPbJBM5a"
      },
      "source": [
        "#@title **<p><font size=\"5\">Bootstrap with 100 repeats (n=50)</p>** \n",
        "\n",
        "block_id = 24\n",
        "\n",
        "\n",
        "def prepare_block():\n",
        "  try:\n",
        "    start_block\n",
        "  except:\n",
        "    raise Exception(\"You did not run the 'Start/Reset' block (Block 1#)\")\n",
        "  verify_dependencies(block_id)\n",
        "\n",
        "\n",
        "def block24():\n",
        "  # Creating and plotting the bootstrap samples\n",
        "  bootstrap_and_plot(sample_50, 2, 50)\n",
        "\n",
        "\n",
        "try:\n",
        "  prepare_block()\n",
        "  block24()\n",
        "  blocks_run[block_id] = True\n",
        "except Exception as e:\n",
        "  print(str(e))\n"
      ],
      "execution_count": null,
      "outputs": []
    },
    {
      "cell_type": "markdown",
      "metadata": {
        "id": "0wZslym0o5vV"
      },
      "source": [
        "Block 25#\n"
      ]
    },
    {
      "cell_type": "code",
      "metadata": {
        "cellView": "form",
        "id": "k-t-MkIqBO1O"
      },
      "source": [
        "#@title **<p><font size=\"5\">Bootstrap with 1000 repeats (n=50)</p>** \n",
        "\n",
        "block_id = 25\n",
        "\n",
        "\n",
        "def prepare_block():\n",
        "  try:\n",
        "    start_block\n",
        "  except:\n",
        "    raise Exception(\"You did not run the 'Start/Reset' block (Block 1#)\")\n",
        "  verify_dependencies(block_id)\n",
        "\n",
        "\n",
        "def block25():\n",
        "  # Creating and plotting the bootstrap samples\n",
        "  bootstrap_and_plot(sample_50, 3, 50)\n",
        "\n",
        "\n",
        "try:\n",
        "  prepare_block()\n",
        "  block25()\n",
        "  blocks_run[block_id] = True\n",
        "except Exception as e:\n",
        "  print(str(e))\n"
      ],
      "execution_count": null,
      "outputs": []
    },
    {
      "cell_type": "markdown",
      "metadata": {
        "id": "g5IGqoq3o55a"
      },
      "source": [
        "Block 26#\n"
      ]
    },
    {
      "cell_type": "code",
      "metadata": {
        "cellView": "form",
        "id": "b0Z34sjTBQci"
      },
      "source": [
        "#@title **<p><font size=\"5\">Bootstrap with 10000 repeats (n=50)</p>** \n",
        "\n",
        "block_id = 26\n",
        "\n",
        "\n",
        "def prepare_block():\n",
        "  try:\n",
        "    start_block\n",
        "  except:\n",
        "    raise Exception(\"You did not run the 'Start/Reset' block (Block 1#)\")\n",
        "  verify_dependencies(block_id)\n",
        "\n",
        "\n",
        "def block26():\n",
        "  # Creating and plotting the bootstrap samples\n",
        "  bootstrap_and_plot(sample_50, 4, 50)\n",
        "\n",
        "\n",
        "try:\n",
        "  prepare_block()\n",
        "  block26()\n",
        "  blocks_run[block_id] = True\n",
        "except Exception as e:\n",
        "  print(str(e))\n"
      ],
      "execution_count": null,
      "outputs": []
    },
    {
      "cell_type": "markdown",
      "metadata": {
        "id": "KkrN9x9Uo6UH"
      },
      "source": [
        "Block 27#\n"
      ]
    },
    {
      "cell_type": "code",
      "metadata": {
        "cellView": "form",
        "id": "UGHM8yMjQ01U"
      },
      "source": [
        "#@title **<p><font size=\"6\"><font color='cornflowerblue'><ins> Question 6.2 </ins></p>** \n",
        "#@markdown #When increasing the sample size, the mean of the bootstrap distribution of the means gets closer to ________, and its variance gets ________. When increasing the number of repeats the mean of the bootstrap distribution of the means gets closer to the ________.\n",
        "#@markdown <font size=4> Hint: Repeat the process multiple times in order to make sure your conclusion is reliable\n",
        "\n",
        "block_id = 27\n",
        "\n",
        "\n",
        "def prepare_block():\n",
        "  try:\n",
        "    start_block\n",
        "  except:\n",
        "    raise Exception(\"You did not run the 'Start/Reset' block (Block 1#)\")\n",
        "  verify_dependencies(block_id)\n",
        "\n",
        "\n",
        "def block27():\n",
        "  Answer = 'Choose an answer' #@param ['Choose an answer',\"The expected value of the population, smaller, the mean of the sample\", \"The mean of the sample, smaller, the expected value of the population\",\"The expected value of the population, bigger, the mean of the sample\", \"The mean of the sample, bigger, the expected value of the population\"] {allow-input: false}\n",
        "  if Answer == 'Choose an answer':\n",
        "    raise Exception(\"You must choose an answer\")\n",
        "  answers[6][2] = Answer\n",
        "  print(\"Your Answer is: \", answers[6][2])\n",
        "\n",
        "\n",
        "try:\n",
        "  prepare_block()\n",
        "  block27()\n",
        "  blocks_run[block_id] = True\n",
        "except Exception as e:\n",
        "  print(str(e))\n"
      ],
      "execution_count": null,
      "outputs": []
    },
    {
      "cell_type": "markdown",
      "metadata": {
        "id": "y9SSp5t_tG-z"
      },
      "source": [
        "#**<p><font size=\"6\"><font color='cornflowerblue'><ins>Question 7: Effect size vs p-value</ins></p>** \n",
        "\n",
        "<img src =\"https://drive.google.com/uc?export=view&id=1bFbLH5WKXDpuzs1xy7f90Lvon2zcVyL1\" align=right>\n",
        "\n",
        "# In class we've discussed the differences between the p-value and the effect size. The p-value represents the probabilty of obtaining distances that are at least as extreme as the observed distance of a statistical test, assuming that the *null hypothesis is correct*. In other words, it represents the area of $H_0$ which is equal or larger than the sample's statistic\n",
        "\n",
        "#While the p-value tells us whether our results are significant or not, the effect size tells us how strong the effect is.\n",
        "\n",
        "#Focusing only on the p-values might be misleading, because we ignore the strength of the effect. Next, we will test the impact of the sample size on both measures.\n"
      ]
    },
    {
      "cell_type": "markdown",
      "metadata": {
        "id": "c6UUXcMdo7CK"
      },
      "source": [
        "Block 28#\n"
      ]
    },
    {
      "cell_type": "code",
      "metadata": {
        "id": "2aW2z2XgY4YP",
        "cellView": "form"
      },
      "source": [
        "#@title  **<p><font size=\"5\"> Effect size vs p-value**</p>\n",
        "#@markdown Run the block to get two samples, and the p-value and effect size of their differences\n",
        "\n",
        "\n",
        "block_id = 28\n",
        "\n",
        "\n",
        "def prepare_block():\n",
        "  try:\n",
        "    start_block\n",
        "  except:\n",
        "    raise Exception(\"You did not run the 'Start/Reset' block (Block 1#)\")\n",
        "  verify_dependencies(block_id)\n",
        "\n",
        "\n",
        "def block28():\n",
        "  Sample_size = 43 #@param {type:\"slider\", min:10, max:200, step:1}\n",
        "  nsampleA = nsampleB = Sample_size\n",
        "\n",
        "\n",
        "  def controlErrors(meanA = 70,stdA = 20,nsampleA=400,meanB = 60,stdB=20,nsampleB =400):\n",
        "    np.random.seed(97)\n",
        "    A = np.random.normal(meanA, stdA, nsampleA)\n",
        "    B = np.random.normal(meanB, stdB, nsampleB)\n",
        "    plt.figure(1);\n",
        "    df=pd.DataFrame({\"Grade\":np.concatenate([A,B]),\n",
        "                    \"group\":np.concatenate([np.repeat(\"A\",nsampleA),np.repeat(\"B\",nsampleB)])})\n",
        "    sns.displot(df,x=\"Grade\", bins=10,hue=\"group\", height=5, aspect=1.5);\n",
        "    plt.xlabel('Values');\n",
        "    plt.ylabel('Counts');\n",
        "    plt.title(\"Two samples from different (but close) distributions\");\n",
        "    #########\n",
        "    bootRuns = 10000 ##how many samples in the bootstrapping\n",
        "    sampling_distA = np.array([])\n",
        "    sampling_distB = np.array([])\n",
        "\n",
        "    for i in range(bootRuns):\n",
        "      sampleA = np.random.choice(A,nsampleA)\n",
        "      sampling_distA = np.append(sampling_distA, np.mean(sampleA))\n",
        "\n",
        "      \n",
        "    for i in range(bootRuns):\n",
        "      sampleB = np.random.choice(B,nsampleB)\n",
        "      sampling_distB = np.append(sampling_distB, np.mean(sampleB))\n",
        "\n",
        "    plt.figure(2);\n",
        "    df2=pd.DataFrame({\"Grade\":np.concatenate([sampling_distA,sampling_distB]),\n",
        "                    \"group\":np.concatenate([np.repeat(\"A\",bootRuns),np.repeat(\"B\",bootRuns)])});\n",
        "    sns.displot(df2,x=\"Grade\", bins=25,hue=\"group\",height=5, aspect=1.5);\n",
        "\n",
        "    plt.axvline(x=np.mean(sampling_distA),color=\"darkgreen\");\n",
        "    plt.axvline(x=np.mean(sampling_distB),color=\"red\");\n",
        "\n",
        "    plt.xlabel('Mean values');\n",
        "    plt.ylabel('Counts');\n",
        "    plt.title('\\n\\nBootstrap Distribution of Means');\n",
        "\n",
        "    #print(\"effect size:\",abs((np.mean(sampling_distA)-np.mean(sampling_distB))/(.5*np.std(sampling_distA)+.5*np.std(sampling_distB))))\n",
        "    #print(\"p-value:\",stats.ttest_ind(sampling_distA,sampling_distB).pvalue)\n",
        "    \n",
        "    def cohen_d(x,y):\n",
        "      nx = len(x)\n",
        "      ny = len(y)\n",
        "      dof = nx + ny - 2\n",
        "      return np.round((np.mean(x) - np.mean(y)) / np.sqrt(((nx-1)*np.std(x, ddof=1) ** 2 + (ny-1)*np.std(y, ddof=1) ** 2) / dof),3)\n",
        "\n",
        "    print(\"Effect size:\",abs(cohen_d(A,B)))\n",
        "    print(\"t-score:\",np.round(stats.ttest_ind(A,B).statistic,3)) \n",
        "    print(\"p-value:\",np.round(stats.ttest_ind(A,B).pvalue,4)) \n",
        "\n",
        "  controlErrors(nsampleA=nsampleA, nsampleB=nsampleB)\n",
        "  print('\\n')\n",
        "\n",
        "\n",
        "try:\n",
        "  prepare_block()\n",
        "  block28()\n",
        "  blocks_run[block_id] = True\n",
        "except Exception as e:\n",
        "  print(str(e))\n",
        "\n",
        "\n",
        "\n",
        "\n"
      ],
      "execution_count": null,
      "outputs": []
    },
    {
      "cell_type": "markdown",
      "metadata": {
        "id": "pYVdQGNao7bI"
      },
      "source": [
        "Block 29#\n"
      ]
    },
    {
      "cell_type": "markdown",
      "metadata": {
        "id": "yyWTuAOKMw2t"
      },
      "source": [
        "#<font color = black>**Sample size manipulation**\n",
        "#Test how the size of the samples affects the p-value and the effect size by taking samples of sizes 20, 50, and 100.\n"
      ]
    },
    {
      "cell_type": "code",
      "metadata": {
        "id": "AX_AF0CCZRsf",
        "cellView": "form"
      },
      "source": [
        "#@title **<p><font size=\"6\"><font color='cornflowerblue'><ins> Question 7.1</ins>: What are the p-values and effect sizes for the different sample sizes?</p>**\n",
        "\n",
        "block_id = 29\n",
        "\n",
        "\n",
        "def prepare_block():\n",
        "  try:\n",
        "    start_block\n",
        "  except:\n",
        "    raise Exception(\"You did not run the 'Start/Reset' block (Block 1#)\")\n",
        "  verify_dependencies(block_id)\n",
        "\n",
        "\n",
        "def block29():\n",
        "  The_p_value_of_a_sample_size_of_20_observations = 0#@param {type:\"number\"}\n",
        "  The_effect_size_of_a_sample_size_of_20_observations = 0 #@param {type:\"number\"}\n",
        "  The_p_value_of_a_sample_size_of_50_observations = 0 #@param {type:\"number\"}\n",
        "  The_effect_size_of_a_sample_size_of_50_observations = 0 #@param {type:\"number\"}\n",
        "  The_p_value_of_a_sample_size_of_100_observations = 0 #@param {type:\"number\"}\n",
        "  The_effect_size_of_a_sample_size_of_100_observations = 0 #@param {type:\"number\"}\n",
        "  answers[7][1] = (The_p_value_of_a_sample_size_of_20_observations, The_effect_size_of_a_sample_size_of_20_observations, The_p_value_of_a_sample_size_of_50_observations, The_effect_size_of_a_sample_size_of_50_observations, The_p_value_of_a_sample_size_of_100_observations, The_effect_size_of_a_sample_size_of_100_observations)\n",
        "  print(\"Your Answers are: \", answers[7][1])\n",
        "\n",
        "try:\n",
        "  prepare_block()\n",
        "  block29()\n",
        "  blocks_run[block_id] = True\n",
        "except Exception as e:\n",
        "  print(str(e))\n"
      ],
      "execution_count": null,
      "outputs": []
    },
    {
      "cell_type": "markdown",
      "metadata": {
        "id": "6LRNR2J0o70F"
      },
      "source": [
        "Block 30#\n"
      ]
    },
    {
      "cell_type": "code",
      "metadata": {
        "id": "quQyKt0W9qcg",
        "cellView": "form"
      },
      "source": [
        "#@title **<p><font size=\"6\"><font color='cornflowerblue'><ins> Question 7.2 </ins></p>** </font>\n",
        "#@markdown <font size=5>Assuming H0 is wrong, which of the following is more likely when we increase the sample size?\n",
        "\n",
        "block_id = 30\n",
        "\n",
        "\n",
        "def prepare_block():\n",
        "  try:\n",
        "    start_block\n",
        "  except:\n",
        "    raise Exception(\"You did not run the 'Start/Reset' block (Block 1#)\")\n",
        "  verify_dependencies(block_id)\n",
        "\n",
        "\n",
        "def block30():\n",
        "  Answer = 'Choose an answer' #@param ['Choose an answer', 'The p-value will increase and the effect size will not change drastically', 'The p-value will decrease and the effect size will increase','The effect size will increase and the p-value will not change drastically','The p-value will decrease and the effect size will not change drastically'] {allow-input: false}\n",
        "  if Answer == 'Choose an answer':\n",
        "    raise Exception(\"You must choose an answer\")\n",
        "  answers[7][2] = Answer\n",
        "  print(\"Your Answer is: \", answers[7][2])\n",
        "\n",
        "\n",
        "try:\n",
        "  prepare_block()\n",
        "  block30()\n",
        "  blocks_run[block_id] = True\n",
        "except Exception as e:\n",
        "  print(str(e))\n"
      ],
      "execution_count": null,
      "outputs": []
    },
    {
      "cell_type": "markdown",
      "metadata": {
        "id": "-_sZ9CNd_-Rn"
      },
      "source": [
        "**<p><font size=\"10\"><font color='cornflowerblue'> Good JOB </ins></p>** </font>\n",
        "\n",
        "#**You finished answering the question for this exercise! Here are some important things to consider:**\n",
        "\n",
        "\n",
        "* You can view your answers by running the next block. \n",
        "*After changing an answer to a question, you will need to run the 'Show your answers' again for it to reflect changes.\n",
        "* <b>If you change an answer to a question, you will need to run it again for changes to be saved. \n"
      ]
    },
    {
      "cell_type": "markdown",
      "metadata": {
        "id": "2hcZSwKmb36u"
      },
      "source": [
        "Block 31#"
      ]
    },
    {
      "cell_type": "code",
      "metadata": {
        "id": "GwW8XtVgUvnI",
        "cellView": "form"
      },
      "source": [
        "#@title **<font color = cornflowerblue> <font size = 6>Show Your Answers <br>(Run to refresh after saving a question)**\n",
        "\n",
        "block_id = 31\n",
        "\n",
        "\n",
        "def prepare_block():\n",
        "  try:\n",
        "    start_block\n",
        "  except:\n",
        "    raise Exception(\"You did not run the 'Start/Reset' block (Block 1#)\")\n",
        "  verify_dependencies(block_id)\n",
        "\n",
        "\n",
        "def block31():\n",
        "  print(\"ID:\",id_number,\"\\nGroup number\",group_number,'\\n')\n",
        "  for i in range(1,len(answers)):\n",
        "    if isinstance(answers[i], str):\n",
        "      print(\"Question\",str(i)+\":\",answers[i])\n",
        "    else:\n",
        "      for j in range(1,len(answers[i])):\n",
        "        print(\"Question\",str(i)+\".\"+str(j)+\":\",answers[i][j])\n",
        "\n",
        "\n",
        "try:\n",
        "  prepare_block()\n",
        "  block31()\n",
        "  blocks_run[block_id] = True\n",
        "except Exception as e:\n",
        "  print(str(e))\n"
      ],
      "execution_count": null,
      "outputs": []
    },
    {
      "cell_type": "markdown",
      "metadata": {
        "id": "m6cFc6VlqqDu"
      },
      "source": [
        "If you are ready to submit your answers, go ahead and press 'Save!'💾 .\n",
        "\n",
        "\n",
        "This will prompt you to download your answers file. \n",
        "\n",
        "\n",
        "After downloading you will need to submit the file to moodle.\n",
        "Good luck!\n",
        "\n"
      ]
    },
    {
      "cell_type": "markdown",
      "metadata": {
        "id": "t1IsSIpEb5FE"
      },
      "source": [
        "Block 32#"
      ]
    },
    {
      "cell_type": "code",
      "metadata": {
        "id": "b4kko5a29lkU",
        "cellView": "form"
      },
      "source": [
        "#@title  **<p><font size=\"10\"><font color='cornflowerblue'><ins> <---  💾 SAVE! </ins></p>**\n",
        "\n",
        "from google.colab import files\n",
        "from shutil import make_archive\n",
        "from os import path, remove\n",
        "from zipfile import ZipFile\n",
        "\n",
        "block_id = 32\n",
        "\n",
        "\n",
        "def prepare_block():\n",
        "  try:\n",
        "    start_block\n",
        "  except:\n",
        "    raise Exception(\"You did not run the 'Start/Reset' block (Block 1#)\")\n",
        "  verify_dependencies(block_id)\n",
        "\n",
        "\n",
        "def submission_saver():\n",
        "  # Writing credentials\n",
        "  f = open(\"ex2_submission\", \"w\")\n",
        "  f.write(\"#\"+id_number+\"\\n\")\n",
        "  f.write(\"#\"+str(group_number)+\"\\n\")\n",
        "  # Writing answers\n",
        "  for i in range(1,len(answers)):\n",
        "    if isinstance(answers[i], str):\n",
        "      f.write(\"Question \"+str(i)+\": \"+answers[i]+\"\\n\")\n",
        "    else:\n",
        "      for j in range(1,len(answers[i])):\n",
        "        f.write(\"Question \"+str(i)+\".\"+str(j)+\": \"+str(answers[i][j])+\"\\n\")\n",
        "\n",
        "  f.write(\"#End of answers\")\n",
        "  f.close()\n",
        "\n",
        "  # Creating submission file\n",
        "  zipObj = ZipFile('ex2.zip', 'w')\n",
        "  zipObj.write('ex2_submission')\n",
        "  # Add additional data required for testing with zipObj.write('additional_data')\n",
        "  zipObj.close()\n",
        "  files.download('ex2.zip') \n",
        "\n",
        "  # Message to user\n",
        "  print(\"Well done! You are now downloading your submission file\")\n",
        "  print(\"Make sure that the name of the file you submit is ex1.zip (and not ex1 (3).zip, for example)\")\n",
        "\n",
        "\n",
        "def block32():\n",
        "  # To show user's answers use block31()\n",
        "  submission_saver()\n",
        "\n",
        "# try:\n",
        "prepare_block()\n",
        "block32()\n",
        "blocks_run[block_id] = True\n",
        "# except Exception as e:\n",
        "#   print(str(e))\n",
        "\n"
      ],
      "execution_count": null,
      "outputs": []
    }
  ]
}