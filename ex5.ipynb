{
  "nbformat": 4,
  "nbformat_minor": 0,
  "metadata": {
    "colab": {
      "name": "ex5.ipynb",
      "provenance": [],
      "collapsed_sections": []
    },
    "kernelspec": {
      "name": "python3",
      "display_name": "Python 3"
    }
  },
  "cells": [
    {
      "cell_type": "markdown",
      "metadata": {
        "id": "sRejH2klZjjk"
      },
      "source": [
        "#**<font size=\"10\" color='cornflowerblue'><ins>Welcome to exercise 5**\n",
        "## **Note**: After choosing or changing an answer, run its block to save changes.\n",
        "## **Note**: It is best to avoid Runtime -> Run all.\n",
        "\n"
      ]
    },
    {
      "cell_type": "markdown",
      "metadata": {
        "id": "M8DOmvzjcCwA"
      },
      "source": [
        "Block 1#\n"
      ]
    },
    {
      "cell_type": "code",
      "metadata": {
        "id": "EqFi1QHH-Gy2",
        "cellView": "form"
      },
      "source": [
        "#@title #**What is your ID and group number? (<font color=\"red\">*Mandatory</font>)**\n",
        "\n",
        "# Dependency check function\n",
        "def verify_dependencies(block_id, required_blocks_indices=[], customize=True):\n",
        "  try:\n",
        "    initialized\n",
        "  except:\n",
        "    raise Exception(\"You need to run the identification block first (Block 1#)\")\n",
        "  if customize:\n",
        "    for block_index in required_blocks_indices:\n",
        "      if not blocks_run[block_index]:\n",
        "        raise Exception(\"You must first run block \"+str(block_index)+\"#\")\n",
        "  else:\n",
        "    for block_index in range(2, block_id):\n",
        "      if not blocks_run[block_index]:\n",
        "        raise Exception(\"You must first run block \"+str(block_index)+\"#\")\n",
        "\n",
        "\n",
        "def initialize_colab():\n",
        "  # Verify credentials\n",
        "  if id_number == 0 or group_number == 0:\n",
        "    raise Exception(\"Are you sure these details are correct?\") \n",
        "  # Optional imports\n",
        "  from scipy import stats\n",
        "  from math import sqrt\n",
        "  import statistics\n",
        "  import random\n",
        "  import io\n",
        "  from ipywidgets import interact, interactive, fixed, interact_manual\n",
        "  import ipywidgets as widgets\n",
        "  from termcolor import colored\n",
        "  from IPython.display import HTML\n",
        "\n",
        "  # Seaborn initialization\n",
        "  sns.set(style=\"white\", palette=\"muted\", color_codes=True)\n",
        "  sns.set(rc={'figure.figsize':(10,10)});\n",
        "  sns.set_context(\"talk\")\n",
        "\n",
        "  # Answers initialization (Note that each array is 1 extra to align question i to index i)\n",
        "  #answers = [None]*5 + [[None]*3] + [[None]*4] + [[None]*3]\n",
        "  answers = [None]*18\n",
        "  blocks_run = [True]*2+[False]*50\n",
        "\n",
        "  # Messages to user\n",
        "  print(\"ID number saved: \", id_number)\n",
        "  print(\"Group number saved: \", group_number)\n",
        "  print(\"\\nYou may now begin exercise\", exercise_number, \"\\nGood luck!\")\n",
        "\n",
        "  # Return new global data\n",
        "  return answers, blocks_run\n",
        "\n",
        "\n",
        "try:\n",
        "  # Basic imports\n",
        "  import numpy as np\n",
        "  import matplotlib.pyplot as plt\n",
        "  import pandas as pd\n",
        "  import seaborn as sns\n",
        "  from math import sqrt\n",
        "  from scipy import stats\n",
        "\n",
        "  # Exercise specific imports\n",
        "  from ipywidgets import interact\n",
        "\n",
        "  # Global data for exercise\n",
        "  exercise_number = 5\n",
        "  id_number =  0#@param {type:\"integer\"}\n",
        "  group_number =  0#@param {type:\"integer\"}\n",
        "  answers, blocks_run = initialize_colab()\n",
        "  initialized = True\n",
        "  \n",
        "except Exception as e:\n",
        "  print(str(e))\n",
        "\n"
      ],
      "execution_count": null,
      "outputs": []
    },
    {
      "cell_type": "markdown",
      "metadata": {
        "id": "yDvy-6RIHmok"
      },
      "source": [
        "Block 2#\n"
      ]
    },
    {
      "cell_type": "code",
      "metadata": {
        "cellView": "form",
        "id": "6jKOX_CvAW7Y"
      },
      "source": [
        "#@title **<font size=\"6\" color='cornflowerblue'><ins>Question 1</ins>** \n",
        "#@markdown #A researcher had height data of pupils from the 1st and 2nd grade of a school (30 students in each class, 3 classes for each grade - total of six classes). Which of the following cases has multiple comparisons and requires adjustment of the critical p-value?\n",
        "#@markdown #**The researcher...**\n",
        "\n",
        "block_id = 2\n",
        "question_id = 1\n",
        "required_blocks = []\n",
        "\n",
        "def prepare_block():\n",
        "  try:\n",
        "    initialized\n",
        "  except:\n",
        "    raise Exception(\"You need to identify yourself in Block 1#\")\n",
        "  verify_dependencies(block_id, required_blocks)\n",
        "\n",
        "\n",
        "def block2():\n",
        "  # Get LOCAL answer from user\n",
        "  Answer = 'Choose the correct answer' #@param [\"Choose the correct answer\", \"hypothesized that at least one 1st grade class has a different height distribution. He performed an ANOVA test with the 1st grade classes only.\", \"hypothesized that at least one class has a different height distribution. He performed an ANOVA test with all six classes.\", \"hypothesized that class A1 and class B2 are not identical in their height distributions. He performed a t-test between the two.\", \"hypothesized that in one of the grades, there's at least one class with a different height distribution. He performed two ANOVA tests, one for each grade.\"]\n",
        "  # Verify answer is valid\n",
        "  if Answer == 'Choose the correct answer':\n",
        "    raise Exception(\"You must choose an answer\")\n",
        "  # Process\n",
        "  # Save answer\n",
        "  answers[question_id] = Answer\n",
        "  # Message to user\n",
        "  print(\"Your Answer is: \", answers[question_id])\n",
        "  # Return any data generated in this function that needs to become global\n",
        "  return None\n",
        "\n",
        "try:\n",
        "  prepare_block()\n",
        "  # Get GLOBAL answer from user\n",
        "  \n",
        "  block2() # Use return values, if any, to create global variables\n",
        "  blocks_run[block_id] = True\n",
        "except Exception as e:\n",
        "  print(str(e))\n"
      ],
      "execution_count": null,
      "outputs": []
    },
    {
      "cell_type": "markdown",
      "metadata": {
        "id": "TPa-cflDBEFy"
      },
      "source": [
        "Block 3#"
      ]
    },
    {
      "cell_type": "code",
      "metadata": {
        "cellView": "form",
        "id": "QUn9eOJOBDEL"
      },
      "source": [
        "#@title **<font size=\"6\" color='cornflowerblue'><ins>Question 2</ins>** \n",
        "#@markdown #Ruth wanted to test the hypothesis that not all dogs bark at the same strength. She sampled the barking strength of Golden retrievers, Labradors, and Pinschers. The ANOVA test returned a p-value of 0.002 (with  α=0.01 ). She next wanted to know which groups are significantly different from each other (with the same  α=0.01 ).\n",
        "#@markdown #**What will be her corrected critical p-value (alpha) if she applied a Bonferroni correction?**\n",
        "\n",
        "block_id = 3\n",
        "question_id = 2\n",
        "required_blocks = []\n",
        "\n",
        "def prepare_block():\n",
        "  try:\n",
        "    initialized\n",
        "  except:\n",
        "    raise Exception(\"You need to identify yourself in Block 1#\")\n",
        "  verify_dependencies(block_id, required_blocks)\n",
        "\n",
        "\n",
        "def block3():\n",
        "  # Get LOCAL answer from user\n",
        "  Answer = 'Choose the correct answer' #@param [\"Choose the correct answer\", \"0.0033\", \"No need to correct, alpha is already low.\", \"0.0166\", \"No need to correct, the ANOVA test already took care of that.\"]\n",
        "  # Verify answer is valid\n",
        "  if Answer == 'Choose the correct answer':\n",
        "    raise Exception(\"You must choose an answer\")\n",
        "  # Process\n",
        "  # Save answer\n",
        "  answers[question_id] = Answer\n",
        "  # Message to user\n",
        "  print(\"Your Answer is: \", answers[question_id])\n",
        "  # Return any data generated in this function that needs to become global\n",
        "  return None\n",
        "\n",
        "try:\n",
        "  prepare_block()\n",
        "  # Get GLOBAL answer from user\n",
        "  \n",
        "  block3() # Use return values, if any, to create global variables\n",
        "  blocks_run[block_id] = True\n",
        "except Exception as e:\n",
        "  print(str(e))\n"
      ],
      "execution_count": null,
      "outputs": []
    },
    {
      "cell_type": "markdown",
      "metadata": {
        "id": "8Q29dIiABhir"
      },
      "source": [
        "Block 4#"
      ]
    },
    {
      "cell_type": "code",
      "metadata": {
        "cellView": "form",
        "id": "XAknn4LmWE86"
      },
      "source": [
        "#@title **<font size=\"6\" color='cornflowerblue'><ins>Question 3</ins>** \n",
        "#@markdown #The t-values 1.5, 2.1, 5 were calculated in one-tailed independent t-tests between 3 groups (N=30 in each group). Significance level is  α=0.05 .\n",
        "#@markdown #**Which is correct for the significance of the t-values above?**\n",
        "#@markdown (Hint: use the p-value calculator)\n",
        "\n",
        "block_id = 4\n",
        "question_id = 3\n",
        "required_blocks = []\n",
        "\n",
        "def prepare_block():\n",
        "  try:\n",
        "    initialized\n",
        "  except:\n",
        "    raise Exception(\"You need to identify yourself in Block 1#\")\n",
        "  verify_dependencies(block_id, required_blocks)\n",
        "\n",
        "\n",
        "def block4():\n",
        "  # Get LOCAL answer from user\n",
        "  Answer = 'Choose the correct answer' #@param [\"Choose the correct answer\", \"If a Bonferroni correction will be applied, only one test would be significant.\", \"If a Benjamini-Hochberg correction will be applied, only one test would be significant.\", \"This is a case of multiple comparisons, and therefore no comparison will be significant.\", \"If a Bonferroni correction will be applied, two tests would be significant.\"]\n",
        "  # Verify answer is valid\n",
        "  if Answer == 'Choose the correct answer':\n",
        "    raise Exception(\"You must choose an answer\")\n",
        "  # Process\n",
        "  # Save answer\n",
        "  answers[question_id] = Answer\n",
        "  # Message to user\n",
        "  print(\"Your Answer is: \", answers[question_id])\n",
        "  # Return any data generated in this function that needs to become global\n",
        "  return None\n",
        "\n",
        "try:\n",
        "  prepare_block()\n",
        "  # Get GLOBAL answer from user\n",
        "  \n",
        "  block4() # Use return values, if any, to create global variables\n",
        "  blocks_run[block_id] = True\n",
        "except Exception as e:\n",
        "  print(str(e))\n"
      ],
      "execution_count": null,
      "outputs": []
    },
    {
      "cell_type": "markdown",
      "metadata": {
        "id": "yGZdsvvzCJGs"
      },
      "source": [
        "#**<font size=\"6\" color='cornflowerblue'><ins>Question 4</ins>**\n",
        "### The graph below describes the procedure of setting a new p-value threshold that will allow us to reject $H_0$ with $\\alpha=0.05$. The graph was created in a similar way to the graph from class (Slide 13), with a different number of comparisons.\n",
        "\n",
        "#### The x-axis represents possible p-value thresholds we could use to reject $H_0$.\n",
        "\n",
        "#### The y-axis represents the precentage of significant tests (\"false alarms\") out of many permutations (shuffling) of the data, in all of them the specific group of each observation was decided randomly. Since these are randomized data sets, we don't expect any of them to be significant and thus any significant test is a \"false alarm\" (type I error).\n"
      ]
    },
    {
      "cell_type": "markdown",
      "metadata": {
        "id": "ksZbZ3iC-cu4"
      },
      "source": [
        "![image.png](data:image/png;base64,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)"
      ]
    },
    {
      "cell_type": "markdown",
      "metadata": {
        "id": "aYSpeeDMCeaK"
      },
      "source": [
        "Block 5#"
      ]
    },
    {
      "cell_type": "code",
      "metadata": {
        "cellView": "form",
        "id": "gYiwlG_YCZm-"
      },
      "source": [
        "#@markdown #**Which threshold p-value (approximately) should be selected according to this graph?**\n",
        "\n",
        "block_id = 5\n",
        "question_id = 4\n",
        "required_blocks = []\n",
        "\n",
        "def prepare_block():\n",
        "  try:\n",
        "    initialized\n",
        "  except:\n",
        "    raise Exception(\"You need to identify yourself in Block 1#\")\n",
        "  verify_dependencies(block_id, required_blocks)\n",
        "\n",
        "\n",
        "def block5():\n",
        "  # Get LOCAL answer from user\n",
        "  Answer = 'Choose the correct answer' #@param [\"Choose the correct answer\", 0.01, 0.05, 0.005, 0.001, 0.5, 0.02]\n",
        "  # Verify answer is valid\n",
        "  if Answer == 'Choose the correct answer':\n",
        "    raise Exception(\"You must choose an answer\")\n",
        "  # Process\n",
        "  # Save answer\n",
        "  answers[question_id] = Answer\n",
        "  # Message to user\n",
        "  print(\"Your Answer is: \", answers[question_id])\n",
        "  # Return any data generated in this function that needs to become global\n",
        "  return None\n",
        "\n",
        "try:\n",
        "  prepare_block()\n",
        "  # Get GLOBAL answer from user\n",
        "  \n",
        "  block5() # Use return values, if any, to create global variables\n",
        "  blocks_run[block_id] = True\n",
        "except Exception as e:\n",
        "  print(str(e))\n"
      ],
      "execution_count": null,
      "outputs": []
    },
    {
      "cell_type": "markdown",
      "metadata": {
        "id": "upKu8pHvD6VK"
      },
      "source": [
        "#**<font size=\"6\" color='cornflowerblue'><ins>Question 5</ins>** \n",
        "#Hassan collected students' grades in 6 courses from 2 universities, Pacific and Atlantic (each of the six courses (A-F) has an identical course in the other university, there are 12 courses in total). He wanted to know in which courses, if any, the grades in the Atlantic university are **higher** than the Pacific university."
      ]
    },
    {
      "cell_type": "markdown",
      "metadata": {
        "id": "h6_dCl_8C2R5"
      },
      "source": [
        "Block 6#"
      ]
    },
    {
      "cell_type": "code",
      "metadata": {
        "id": "bo_DVDH_p1Mc",
        "cellView": "form"
      },
      "source": [
        "#@title Show me the data!\n",
        "\n",
        "block_id = 6\n",
        "required_blocks = []\n",
        "def prepare_block():\n",
        "  try:\n",
        "    initialized\n",
        "  except:\n",
        "    raise Exception(\"You need to identify yourself in Block 1#\")\n",
        "  verify_dependencies(block_id, required_blocks)\n",
        "\n",
        "def block6():\n",
        "  np.random.seed(int(group_number))\n",
        "  sample_size = 30\n",
        "  n_universities = 2\n",
        "  n_courses = 6 # in each uni\n",
        "  course_names = np.repeat(list(\"ABCDEF\"),sample_size*n_universities)\n",
        "  uni_names = np.concatenate([np.repeat([\"Pacific\",\"Atlantic\"],sample_size) for i in range(n_courses)])\n",
        "  mus_pacific = np.random.normal(54,3.5,n_courses)\n",
        "  mus_atlantic = mus_pacific+np.random.normal(6.5,3.5,n_courses)\n",
        "  score_vector = np.concatenate([np.concatenate([np.random.normal(mus_pacific[i],15,sample_size),\n",
        "                                np.random.normal(mus_atlantic[i],15,sample_size)]) for i in range(n_courses)])\n",
        "  score_vector[(score_vector>100)]=100\n",
        "  score_vector[(score_vector<0)]=0\n",
        "  uni_course = (([uni_names[i]+\"_\"+course_names[i] for i in range(len(course_names))]))\n",
        "  # create a df with columns: university (Pacific/Atlantic), course (A-F), invlovement. \n",
        "  uni_df = pd.DataFrame({\"University\":uni_names,\"Course\":course_names,\n",
        "                        \"Grades\":score_vector,\"Uni_course\":uni_course})\n",
        "  plt.figure(figsize=(12,8))\n",
        "  sns.barplot(x=\"University\", y=\"Grades\",ci=99, hue=\"Course\", data=uni_df , dodge=True)\n",
        "  plt.ylim(0,100);\n",
        "  plt.legend(bbox_to_anchor=(1.15, 1));\n",
        "  plt.title(\"Grades by course\\nblack lines denote 99% confidence intervals\");\n",
        "  return uni_df, uni_course, sample_size\n",
        "\n",
        "try:\n",
        "  prepare_block()\n",
        "  # Get GLOBAL answer from user\n",
        "  uni_df, uni_course, sample_size = block6() # Use return values, if any, to create global variables\n",
        "  blocks_run[block_id] = True\n",
        "except Exception as e:\n",
        "  print(str(e))\n"
      ],
      "execution_count": null,
      "outputs": []
    },
    {
      "cell_type": "markdown",
      "metadata": {
        "id": "A7E6humIF1E2"
      },
      "source": [
        "Block 7#"
      ]
    },
    {
      "cell_type": "code",
      "metadata": {
        "cellView": "form",
        "id": "HMEmnN3jC1vB"
      },
      "source": [
        "#@title **<font size=\"6\" color='cornflowerblue'><ins>Question 5.1</ins>** \n",
        "#@markdown #**What is the best test for answering this question?**\n",
        "\n",
        "block_id = 7\n",
        "question_id = 5\n",
        "required_blocks = range(6, block_id)\n",
        "\n",
        "def prepare_block():\n",
        "  try:\n",
        "    initialized\n",
        "  except:\n",
        "    raise Exception(\"You need to identify yourself in Block 1#\")\n",
        "  verify_dependencies(block_id, required_blocks)\n",
        "\n",
        "\n",
        "def block7():\n",
        "  possible_tests = [\"Choose an answer\",\"6 one-tailed independent t-tests with a Benjamini-Hochberg correction\", \"ANOVA with 12 groups with a Bonferroni correction\", \"6 two-tailed independent t-tests with a Benjamini-Hochberg correction\", \"6 one-tailed independent t-tests without a correction\"]\n",
        "  # Get LOCAL answer from user\n",
        "  test =  \"Choose an answer\" #@param [\"Choose an answer\",\"6 one-tailed independent t-tests with a Benjamini-Hochberg correction\", \"ANOVA with 12 groups with a Bonferroni correction\", \"6 two-tailed independent t-tests with a Benjamini-Hochberg correction\", \"6 one-tailed independent t-tests without a correction\"]\n",
        "  # Verify answer is valid\n",
        "  if test == 'Choose the correct answer':\n",
        "    raise Exception(\"You must choose an answer\")\n",
        "  # Process\n",
        "  test_index = np.where([i==test for i in possible_tests])[0]\n",
        "  # Save answer\n",
        "  answers[question_id] = test\n",
        "  # Message to user\n",
        "  print(\"Your Answer is: \", answers[question_id])\n",
        "  # Return any data generated in this function that needs to become global\n",
        "  return test, test_index\n",
        "\n",
        "try:\n",
        "  prepare_block()\n",
        "  # Get GLOBAL answer from user\n",
        "  test, test_index = block7() # Use return values, if any, to create global variables\n",
        "  blocks_run[block_id] = True\n",
        "except Exception as e:\n",
        "  print(str(e))\n"
      ],
      "execution_count": null,
      "outputs": []
    },
    {
      "cell_type": "markdown",
      "metadata": {
        "id": "iwIQqa2mORcp"
      },
      "source": [
        "Block 8#"
      ]
    },
    {
      "cell_type": "code",
      "metadata": {
        "id": "PNHdzgn0vrOF",
        "cellView": "form"
      },
      "source": [
        "#@title Run this block to perform the chosen test. If you chose a one-tailed test, the p-value presented is already divided by two.\n",
        "\n",
        "block_id = 8\n",
        "required_blocks = range(6, block_id)\n",
        "\n",
        "\n",
        "def prepare_block():\n",
        "  try:\n",
        "    initialized\n",
        "  except:\n",
        "    raise Exception(\"You need to identify yourself in Block 1#\")\n",
        "  verify_dependencies(block_id, required_blocks)\n",
        "\n",
        "\n",
        "def block8():\n",
        "  import statsmodels.api as sm\n",
        "  import statsmodels.formula.api as smf\n",
        "  if test_index==2:\n",
        "    model = smf.ols(\"Grades ~ C(uni_course) \", data= uni_df).fit();\n",
        "    aov_table = sm.stats.anova_lm(model)\n",
        "    aov_table.index= [\"Between groups\", \"Error within-groups\"]\n",
        "    pd.set_option('precision', 4)\n",
        "    print(aov_table)\n",
        "  else:\n",
        "    for i in range(len(names)):\n",
        "      curr_group = (names[i])\n",
        "      curr_df = uni_df[uni_df[\"Course\"]==curr_group] #subset by group\n",
        "      t[i],p[i] = (stats.ttest_ind(curr_df[\"Grades\"][uni_df[\"University\"]==unis[1]],\n",
        "                      curr_df[\"Grades\"][uni_df[\"University\"]==unis[0]]))\n",
        "      if (test_index==1)|(test_index==4):\n",
        "        p[i]/=2\n",
        "      #edit p-value..\n",
        "      print(f\"Course {curr_group}, t = {np.round(t[i],2)}, p < {np.round(p[i],4)}\")\n",
        "  f = open(\"ex5_data\", \"w\")\n",
        "  f.write(str(p)+'\\n')\n",
        "  f.write(str(t))\n",
        "  f.close()\n",
        "\n",
        "try:\n",
        "  prepare_block()\n",
        "  names = \"ABCDEF\"\n",
        "  unis = [\"Pacific\",\"Atlantic\"]\n",
        "  t = [0,0,0,0,0,0]\n",
        "  p = [0,0,0,0,0,0]\n",
        "  block8() # Use return values, if any, to create global variables\n",
        "  blocks_run[block_id] = True\n",
        "except Exception as e:\n",
        "  print(str(e))\n"
      ],
      "execution_count": null,
      "outputs": []
    },
    {
      "cell_type": "markdown",
      "metadata": {
        "id": "wm3CJoCCOe9I"
      },
      "source": [
        "Block 9#"
      ]
    },
    {
      "cell_type": "code",
      "metadata": {
        "id": "hoHTos-fquZp",
        "cellView": "form"
      },
      "source": [
        "#@title #**<font size=\"6\" color='cornflowerblue'><ins>Question 5.2</ins>** \n",
        "#@markdown #**Given the above results, which of the courses are significant at alpha=0.05 after performing Benjamini-Hochberg correction?**\n",
        "\n",
        "block_id = 9\n",
        "question_id = 6\n",
        "required_blocks = range(6, block_id)\n",
        "\n",
        "def prepare_block():\n",
        "  try:\n",
        "    initialized\n",
        "  except:\n",
        "    raise Exception(\"You need to identify yourself in Block 1#\")\n",
        "  verify_dependencies(block_id, required_blocks)\n",
        "\n",
        "\n",
        "def block9():\n",
        "  # Get LOCAL answer from user\n",
        "  Course_A = False #@param {type:\"boolean\"}\n",
        "  Course_B = False #@param {type:\"boolean\"}\n",
        "  Course_C = False #@param {type:\"boolean\"}\n",
        "  Course_D = False #@param {type:\"boolean\"}\n",
        "  Course_E = False #@param {type:\"boolean\"}\n",
        "  Course_F = False #@param {type:\"boolean\"}\n",
        "  # Process\n",
        "  answer = (Course_A, Course_B, Course_C, Course_D, Course_E, Course_F)\n",
        "  # Save answer\n",
        "  answers[question_id] = answer\n",
        "  # Message to user\n",
        "  print(\"Your Answers are:\", answers[question_id])\n",
        "  # Return any data generated in this function that needs to become global\n",
        "\n",
        "\n",
        "try:\n",
        "  prepare_block()\n",
        "  # Get GLOBAL answer from user\n",
        "  \n",
        "  block9() # Use return values, if any, to create global variables\n",
        "  blocks_run[block_id] = True\n",
        "except Exception as e:\n",
        "  print(str(e))\n"
      ],
      "execution_count": null,
      "outputs": []
    },
    {
      "cell_type": "markdown",
      "metadata": {
        "id": "Fu3QSKKAZkX2"
      },
      "source": [
        "Block 10#"
      ]
    },
    {
      "cell_type": "code",
      "metadata": {
        "cellView": "form",
        "id": "d2L1QDq_ZpWK"
      },
      "source": [
        "#@title **<font size=\"6\" color='cornflowerblue'><ins>Question 5.3</ins>** \n",
        "#@markdown #Hassan shared his data with Daniela. She decided (before seeing his results) to perform a permutation test to adjust the threshold for multiple comparisons. The a-priori significance level is still  α=0.05 . What are the steps she should follow?\n",
        "#@markdown #**please choose the steps to perform and mark them by the right order (not all of them must be used - please fill an \"X\" in excessive steps). There is only one correct answer.**\n",
        "\n",
        "block_id = 10\n",
        "question_id = 7\n",
        "required_blocks = range(6, block_id)\n",
        "\n",
        "def prepare_block():\n",
        "  try:\n",
        "    initialized\n",
        "  except:\n",
        "    raise Exception(\"You need to identify yourself in Block 1#\")\n",
        "  verify_dependencies(block_id, required_blocks)\n",
        "\n",
        "\n",
        "def block10():\n",
        "  answers_list = [\"Choosing many different critical p-values in small jumps\",\n",
        "                \"Save score and repeat former stages 30 times\",\n",
        "                \"Save score and repeat former stages 10,000 times\",\n",
        "                \"Make all possible comparisons between all classes\",\n",
        "                \"Sample with replacement from every course in each university\",\n",
        "                \"Choose new threshold for rejecting H0 - the p-value for which 5% of the times **all** comparisons were significant by mistake\",\n",
        "                \"Choose new threshold for rejecting H0 - the p-value for which 5% of the times **at least one** comparison was significant by mistake\",\n",
        "                \"Random shuffling of students between universities (but not between courses)\",\n",
        "                \"Random shuffling of students between courses (but not between universities)\",\n",
        "                \"Compare between class means in Pacific University to the corresponding class in Atlantic University (pacific A with atlantic A and so forth...)\",\"X\"]\n",
        "  # Get LOCAL answer from user\n",
        "  step_1 = \"X\" #@param [\"Choosing many different critical p-values in small jumps\",\"Save score and repeat former stages 30 times\",\"Save score and repeat former stages 10,000 times\",\"Make all possible comparisons between all classes\",\"Sample with replacement from every course in each university\",\"Choose new threshold for rejecting H0 - the p-value for which 5% of the times **all** comparisons were significant by mistake\",                \"Choose new threshold for rejecting H0 - the p-value for which 5% of the times **at least one** comparison was significant by mistake\",\"Random shuffling of students between universities (but not between courses)\",\"Random shuffling of students between courses (but not between universities)\",                \"Compare between class means in Pacific University to the corresponding class in Atlantic University (pacific A with atlantic A and so forth...)\",\"X\"]\n",
        "  step_2 = \"X\" #@param [\"Choosing many different critical p-values in small jumps\",\"Save score and repeat former stages 30 times\",\"Save score and repeat former stages 10,000 times\",\"Make all possible comparisons between all classes\",\"Sample with replacement from every course in each university\",\"Choose new threshold for rejecting H0 - the p-value for which 5% of the times **all** comparisons were significant by mistake\",                \"Choose new threshold for rejecting H0 - the p-value for which 5% of the times **at least one** comparison was significant by mistake\",\"Random shuffling of students between universities (but not between courses)\",\"Random shuffling of students between courses (but not between universities)\",                \"Compare between class means in Pacific University to the corresponding class in Atlantic University (pacific A with atlantic A and so forth...)\",\"X\"]\n",
        "  step_3 = \"X\" #@param [\"Choosing many different critical p-values in small jumps\",\"Save score and repeat former stages 30 times\",\"Save score and repeat former stages 10,000 times\",\"Make all possible comparisons between all classes\",\"Sample with replacement from every course in each university\",\"Choose new threshold for rejecting H0 - the p-value for which 5% of the times **all** comparisons were significant by mistake\",                \"Choose new threshold for rejecting H0 - the p-value for which 5% of the times **at least one** comparison was significant by mistake\",\"Random shuffling of students between universities (but not between courses)\",\"Random shuffling of students between courses (but not between universities)\",                \"Compare between class means in Pacific University to the corresponding class in Atlantic University (pacific A with atlantic A and so forth...)\",\"X\"]\n",
        "  step_4 = \"X\" #@param [\"Choosing many different critical p-values in small jumps\",\"Save score and repeat former stages 30 times\",\"Save score and repeat former stages 10,000 times\",\"Make all possible comparisons between all classes\",\"Sample with replacement from every course in each university\",\"Choose new threshold for rejecting H0 - the p-value for which 5% of the times **all** comparisons were significant by mistake\",                \"Choose new threshold for rejecting H0 - the p-value for which 5% of the times **at least one** comparison was significant by mistake\",\"Random shuffling of students between universities (but not between courses)\",\"Random shuffling of students between courses (but not between universities)\",                \"Compare between class means in Pacific University to the corresponding class in Atlantic University (pacific A with atlantic A and so forth...)\",\"X\"]\n",
        "  step_5 = \"X\" #@param [\"Choosing many different critical p-values in small jumps\",\"Save score and repeat former stages 30 times\",\"Save score and repeat former stages 10,000 times\",\"Make all possible comparisons between all classes\",\"Sample with replacement from every course in each university\",\"Choose new threshold for rejecting H0 - the p-value for which 5% of the times **all** comparisons were significant by mistake\",                \"Choose new threshold for rejecting H0 - the p-value for which 5% of the times **at least one** comparison was significant by mistake\",\"Random shuffling of students between universities (but not between courses)\",\"Random shuffling of students between courses (but not between universities)\",                \"Compare between class means in Pacific University to the corresponding class in Atlantic University (pacific A with atlantic A and so forth...)\",\"X\"]\n",
        "  step_6 = \"X\" #@param [\"Choosing many different critical p-values in small jumps\",\"Save score and repeat former stages 30 times\",\"Save score and repeat former stages 10,000 times\",\"Make all possible comparisons between all classes\",\"Sample with replacement from every course in each university\",\"Choose new threshold for rejecting H0 - the p-value for which 5% of the times **all** comparisons were significant by mistake\",                \"Choose new threshold for rejecting H0 - the p-value for which 5% of the times **at least one** comparison was significant by mistake\",\"Random shuffling of students between universities (but not between courses)\",\"Random shuffling of students between courses (but not between universities)\",                \"Compare between class means in Pacific University to the corresponding class in Atlantic University (pacific A with atlantic A and so forth...)\",\"X\"]\n",
        "  step_7 = \"X\" #@param [\"Choosing many different critical p-values in small jumps\",\"Save score and repeat former stages 30 times\",\"Save score and repeat former stages 10,000 times\",\"Make all possible comparisons between all classes\",\"Sample with replacement from every course in each university\",\"Choose new threshold for rejecting H0 - the p-value for which 5% of the times **all** comparisons were significant by mistake\",                \"Choose new threshold for rejecting H0 - the p-value for which 5% of the times **at least one** comparison was significant by mistake\",\"Random shuffling of students between universities (but not between courses)\",\"Random shuffling of students between courses (but not between universities)\",                \"Compare between class means in Pacific University to the corresponding class in Atlantic University (pacific A with atlantic A and so forth...)\",\"X\"]\n",
        "  step_8 = \"X\" #@param [\"Choosing many different critical p-values in small jumps\",\"Save score and repeat former stages 30 times\",\"Save score and repeat former stages 10,000 times\",\"Make all possible comparisons between all classes\",\"Sample with replacement from every course in each university\",\"Choose new threshold for rejecting H0 - the p-value for which 5% of the times **all** comparisons were significant by mistake\",                \"Choose new threshold for rejecting H0 - the p-value for which 5% of the times **at least one** comparison was significant by mistake\",\"Random shuffling of students between universities (but not between courses)\",\"Random shuffling of students between courses (but not between universities)\",                \"Compare between class means in Pacific University to the corresponding class in Atlantic University (pacific A with atlantic A and so forth...)\",\"X\"]\n",
        "  step_9 = \"X\" #@param [\"Choosing many different critical p-values in small jumps\",\"Save score and repeat former stages 30 times\",\"Save score and repeat former stages 10,000 times\",\"Make all possible comparisons between all classes\",\"Sample with replacement from every course in each university\",\"Choose new threshold for rejecting H0 - the p-value for which 5% of the times **all** comparisons were significant by mistake\",                \"Choose new threshold for rejecting H0 - the p-value for which 5% of the times **at least one** comparison was significant by mistake\",\"Random shuffling of students between universities (but not between courses)\",\"Random shuffling of students between courses (but not between universities)\",                \"Compare between class means in Pacific University to the corresponding class in Atlantic University (pacific A with atlantic A and so forth...)\",\"X\"]\n",
        "  # Verify answer is valid\n",
        "  # Process\n",
        "  # Save answer\n",
        "  answers[question_id] = (step_1, step_2, step_3, step_4, step_5, step_6, step_7, step_8, step_9)\n",
        "  # Message to user\n",
        "  print(\"Your Answer is: \", answers[question_id])\n",
        "  # Return any data generated in this function that needs to become global\n",
        "  return None\n",
        "\n",
        "try:\n",
        "  prepare_block()\n",
        "  # Get GLOBAL answer from user\n",
        "  \n",
        "  block10() # Use return values, if any, to create global variables\n",
        "  blocks_run[block_id] = True\n",
        "except Exception as e:\n",
        "  print(str(e))\n"
      ],
      "execution_count": null,
      "outputs": []
    },
    {
      "cell_type": "markdown",
      "metadata": {
        "id": "oJSiTi_jN-N9"
      },
      "source": [
        "**<font size=\"6\" color='cornflowerblue'><ins>Question 6</ins>** </font>\n",
        "\n",
        "#The (NOT REAL) data presented below shows the mood improvement after 4 different treatments: CBT, medication, medication+CBT, talk with a friend.\n",
        "#A total of 340 participants (85 participants in each group) completed the survey.\n",
        "#Subjects were measured twice - before and after treatment, and the data presented below is the difference between the two measurements (after minus before). The number in each cell is the improvement level after treatment. A positive value indicates mood improvement.\n",
        "#The researcher wanted to test whether the improvement of each treatment was significant, and in which groups, at  α=0.05 ."
      ]
    },
    {
      "cell_type": "markdown",
      "metadata": {
        "id": "KkDOJpRwcJy5"
      },
      "source": [
        "Block 11#"
      ]
    },
    {
      "cell_type": "code",
      "metadata": {
        "id": "Kxjkt8wQ-fWn",
        "cellView": "form"
      },
      "source": [
        "#@title Run the block to see the different groups and their improvement levels!\n",
        "\n",
        "block_id = 11\n",
        "required_blocks = []\n",
        "\n",
        "def prepare_block():\n",
        "  try:\n",
        "    initialized\n",
        "  except:\n",
        "    raise Exception(\"You need to identify yourself in Block 1#\")\n",
        "  verify_dependencies(block_id, required_blocks)\n",
        "\n",
        "def block11():\n",
        "  np.random.seed(int(group_number))\n",
        "  CBT = np.round(np.random.normal(3,20,85),1)\n",
        "  medication = np.round(np.random.normal(1,20,85),1)\n",
        "  medication_CBT = np.round(np.random.normal(6,25,85),1)\n",
        "  talk_with_friend = np.round(np.random.normal(2,15,85),1)\n",
        "  med_df = pd.DataFrame({\"CBT\":CBT, \"Medication\":medication,\n",
        "                        \"Medication+CBT\": medication_CBT, \"Talk with friend\":talk_with_friend})\n",
        "  pd.set_option('precision', 1)\n",
        "  print(med_df[0:])\n",
        "  return med_df\n",
        "\n",
        "try:\n",
        "  prepare_block()\n",
        "  # Get GLOBAL answer from user\n",
        "  med_df = block11() # Use return values, if any, to create global variables\n",
        "  blocks_run[block_id] = True\n",
        "except Exception as e:\n",
        "  print(str(e))"
      ],
      "execution_count": null,
      "outputs": []
    },
    {
      "cell_type": "markdown",
      "metadata": {
        "id": "kyqW5_8fcVfi"
      },
      "source": [
        "Block 12#"
      ]
    },
    {
      "cell_type": "code",
      "metadata": {
        "id": "VbXj6fGRGpo6",
        "cellView": "form"
      },
      "source": [
        "#@title Please perform the one-sample t-tests for testing the researcher's hypothesis. The results here are not saved, but you will be required to run this block a few times and write down the p-values you got in the next block.\n",
        "\n",
        "block_id = 12\n",
        "required_blocks = range(11, block_id)\n",
        "\n",
        "def prepare_block():\n",
        "  try:\n",
        "    initialized\n",
        "  except:\n",
        "    raise Exception(\"You need to identify yourself in Block 1#\")\n",
        "  verify_dependencies(block_id, required_blocks)\n",
        "\n",
        "\n",
        "def block12():\n",
        "  group = \"Choose a group\" #@param [\"Choose a group\",\"CBT\", \"Medication\", \"Medication+CBT\" , \"Talk with friend\"]\n",
        "  test_to_perform = \"Choose a test\" #@param [\"Choose a test\",\"One-tail\",\"Two-tail\"]\n",
        "  # Verify answers are valid\n",
        "  if group == 'Choose a group':\n",
        "    raise Exception(\"You must choose a group\")\n",
        "  if test_to_perform == 'Choose a test':\n",
        "    raise Exception(\"You must choose an test to perform\")\n",
        "  t_q7,p_q7 =stats.ttest_1samp(med_df[group],popmean=0)\n",
        "  if test_to_perform == \"One-tail\": p_q7/=2\n",
        "  print(f\"Group {group}, mean = {np.round(med_df[group].mean(),2)}, sd = {np.round(med_df[group].std(),2)},t = {np.round(t_q7,2)}, p < {np.round(p_q7,4)}\")\n",
        "  # perform the t-test by - stats.ttest_1samp(med_df(eval(group)),popmean=0)\n",
        "  print(\"Don't forget to write the results you get in the next block!\")\n",
        "\n",
        "try:\n",
        "  prepare_block()\n",
        "  # Get GLOBAL answer from user\n",
        "  block12() # Use return values, if any, to create global variables\n",
        "  blocks_run[block_id] = True\n",
        "except Exception as e:\n",
        "  print(str(e))\n"
      ],
      "execution_count": null,
      "outputs": []
    },
    {
      "cell_type": "markdown",
      "metadata": {
        "id": "rZVppdZLcYM3"
      },
      "source": [
        "Block 13#"
      ]
    },
    {
      "cell_type": "code",
      "metadata": {
        "cellView": "form",
        "id": "8hRJXqeNceeD"
      },
      "source": [
        "#@title **<font size=\"6\" color='cornflowerblue'><ins>Question 6.1</ins>** \n",
        "#@markdown #**Please write down the p-values you got (before correction):**\n",
        "\n",
        "block_id = 13\n",
        "question_id = 8\n",
        "required_blocks = range(11, block_id)\n",
        "\n",
        "def prepare_block():\n",
        "  try:\n",
        "    initialized\n",
        "  except:\n",
        "    raise Exception(\"You need to identify yourself in Block 1#\")\n",
        "  verify_dependencies(block_id, required_blocks)\n",
        "\n",
        "\n",
        "def block13():\n",
        "  # Get LOCAL answer from user\n",
        "  CBT_p_value = 0 #@param {type:\"number\"}\n",
        "  medication_p_value = 0 #@param {type:\"number\"}\n",
        "  medication_CBT_p_value = 0 #@param {type:\"number\"}\n",
        "  talk_with_friend_p_value = 0 #@param {type:\"number\"}\n",
        "  # Verify answer is valid\n",
        "  # Process\n",
        "  # Save answer\n",
        "  answers[question_id] = (CBT_p_value, medication_p_value, medication_CBT_p_value, talk_with_friend_p_value)\n",
        "  # Message to user\n",
        "  print(\"Your Answer is: \", answers[question_id])\n",
        "  # Return any data generated in this function that needs to become global\n",
        "  return None\n",
        "\n",
        "try:\n",
        "  prepare_block()\n",
        "  # Get GLOBAL answer from user\n",
        "  \n",
        "  block13() # Use return values, if any, to create global variables\n",
        "  blocks_run[block_id] = True\n",
        "except Exception as e:\n",
        "  print(str(e))\n"
      ],
      "execution_count": null,
      "outputs": []
    },
    {
      "cell_type": "markdown",
      "metadata": {
        "id": "IE4GNP4DcfrX"
      },
      "source": [
        "Block 14#"
      ]
    },
    {
      "cell_type": "code",
      "metadata": {
        "cellView": "form",
        "id": "Z0COw-klce8o"
      },
      "source": [
        "#@title **<font size=\"6\" color='cornflowerblue'><ins>Question 6.2</ins>** \n",
        "#@markdown #**Are the p-values you got (Question 7.1) significant (alpha=0.05) after a Bonferroni correction?**\n",
        "\n",
        "block_id = 14\n",
        "question_id = 9\n",
        "required_blocks = range(11, block_id)\n",
        "\n",
        "def prepare_block():\n",
        "  try:\n",
        "    initialized\n",
        "  except:\n",
        "    raise Exception(\"You need to identify yourself in Block 1#\")\n",
        "  verify_dependencies(block_id, required_blocks)\n",
        "\n",
        "\n",
        "def block14():\n",
        "  # Get LOCAL answer from user\n",
        "  CBT_significant = False #@param {type:\"boolean\"}\n",
        "  medication_significant = False #@param {type:\"boolean\"}\n",
        "  medication_CBT_significant = False #@param {type:\"boolean\"}\n",
        "  talk_with_friend_significant = False #@param {type:\"boolean\"}\n",
        "  # Verify answer is valid\n",
        "  # Process\n",
        "  # Save answer\n",
        "  answers[question_id] = (CBT_significant, medication_significant, medication_CBT_significant, talk_with_friend_significant)\n",
        "  # Message to user\n",
        "  print(\"Your Answer is: \", answers[question_id])\n",
        "  # Return any data generated in this function that needs to become global\n",
        "  return None\n",
        "\n",
        "try:\n",
        "  prepare_block()\n",
        "  # Get GLOBAL answer from user\n",
        "  block14() # Use return values, if any, to create global variables\n",
        "  blocks_run[block_id] = True\n",
        "except Exception as e:\n",
        "  print(str(e))\n"
      ],
      "execution_count": null,
      "outputs": []
    },
    {
      "cell_type": "markdown",
      "metadata": {
        "id": "-_sZ9CNd_-Rn"
      },
      "source": [
        "**<p><font size=\"10\"><font color='cornflowerblue'> Good JOB </ins></p>** </font>\n",
        "\n",
        "#**You finished answering the questions for this exercise! Here are some important things to consider:**\n",
        "\n",
        "\n",
        "* You can view your answers by running the next block. \n",
        "*After changing an answer to a question, you will need to run the 'Show your answers' again for it to reflect changes.\n",
        "* <b>If you change an answer to a question, you will need to run it again for changes to be saved. \n"
      ]
    },
    {
      "cell_type": "markdown",
      "metadata": {
        "id": "Hxc4P0YotD5q"
      },
      "source": [
        "Block 15#"
      ]
    },
    {
      "cell_type": "code",
      "metadata": {
        "id": "GwW8XtVgUvnI",
        "cellView": "form"
      },
      "source": [
        "#@title **<font color = cornflowerblue> <font size = 6>Show Your Answers <br>(Run to refresh after saving a question)**\n",
        "\n",
        "block_id = 15\n",
        "\n",
        "nomcq = 4 # number_of_multi_choice_questions\n",
        "noqifiq = 3 # number_of_questions_in_first_interactive_question\n",
        "noqisiq = 2 # number_of_questions_in_second_interactive_question\n",
        "\n",
        "\n",
        "def prepare_block():\n",
        "  try:\n",
        "    initialized\n",
        "  except:\n",
        "    raise Exception(\"You need to identify yourself in Block 1#\")\n",
        "  verify_dependencies(block_id, range(block_id))\n",
        "\n",
        "\n",
        "def answers_printer():\n",
        "  print(\"ID:\",id_number,\"\\nGroup number\",group_number,'\\n')\n",
        "  # Questions 1-nomcq\n",
        "  for i in range(1,(nomcq+1)):\n",
        "    print(\"Question \"+str(i)+\": \"+str(answers[i]))\n",
        "  # Question nomcq+1\n",
        "  i += 1\n",
        "  for j in range(noqifiq):\n",
        "    print(\"Question \"+str(i)+\".\"+str(j+1)+\": \"+str(answers[i + j]))\n",
        "  # Question nomcq+2\n",
        "  i += 1\n",
        "  for j in range(noqisiq):\n",
        "    print(\"Question \"+str(i)+\".\"+str(j+1)+\": \"+str(answers[i + j + noqifiq - 1]))\n",
        "\n",
        "\n",
        "try:\n",
        "  prepare_block()\n",
        "  answers_printer()\n",
        "  blocks_run[block_id] = True\n",
        "except Exception as e:\n",
        "  print(str(e))\n"
      ],
      "execution_count": null,
      "outputs": []
    },
    {
      "cell_type": "markdown",
      "metadata": {
        "id": "m6cFc6VlqqDu"
      },
      "source": [
        "If you are ready to submit your answers, go ahead and press 'Save!'💾 .\n",
        "\n",
        "\n",
        "This will prompt you to download your answers file. \n",
        "\n",
        "\n",
        "After downloading you will need to submit the file to moodle.\n",
        "Good luck!\n",
        "\n"
      ]
    },
    {
      "cell_type": "markdown",
      "metadata": {
        "id": "S-Oj6TYgtsEA"
      },
      "source": [
        "Block 16#"
      ]
    },
    {
      "cell_type": "code",
      "metadata": {
        "cellView": "form",
        "id": "VK4GiQ3XxD7W"
      },
      "source": [
        "#@title  **<p><font size=\"10\"><font color='cornflowerblue'><ins> <---  💾 SAVE! </ins></p>**\n",
        "\n",
        "from google.colab import files\n",
        "from shutil import make_archive\n",
        "from os import path, remove\n",
        "from zipfile import ZipFile\n",
        "\n",
        "block_id = 16\n",
        "\n",
        "def prepare_block():\n",
        "  try:\n",
        "    initialized\n",
        "  except:\n",
        "    raise Exception(\"You need to identify yourself in Block 1#\")\n",
        "  verify_dependencies(block_id, range(block_id))\n",
        "\n",
        "def answer_saver(file):\n",
        "  # Questions 1-nomcq\n",
        "  for i in range(1,(nomcq+1)):\n",
        "    file.write(\"Question \"+str(i)+\": \"+str(answers[i])+'\\n')\n",
        "  # Question nomcq+1\n",
        "  i += 1\n",
        "  for j in range(noqifiq):\n",
        "    file.write(\"Question \"+str(i)+\".\"+str(j+1)+\": \"+str(answers[i + j])+'\\n')\n",
        "  # Question nomcq+2\n",
        "  i += 1\n",
        "  for j in range(noqisiq):\n",
        "    file.write(\"Question \"+str(i)+\".\"+str(j+1)+\": \"+str(answers[i + j + noqifiq - 1])+'\\n')\n",
        "\n",
        "\n",
        "def submission_saver():\n",
        "  # Writing credentials\n",
        "  f = open(\"ex\"+str(exercise_number)+\"_submission\", \"w\")\n",
        "  f.write(\"#\"+str(id_number)+\"\\n\")\n",
        "  f.write(\"#\"+str(group_number)+\"\\n\")\n",
        "  answer_saver(f) # Writing answers\n",
        "  f.write(\"#End of answers\")\n",
        "  f.close()\n",
        "\n",
        "  # Creating submission file\n",
        "  zipObj = ZipFile('ex'+str(exercise_number)+'.zip', 'w')\n",
        "  zipObj.write('ex'+str(exercise_number)+'_submission')\n",
        "  zipObj.write('ex'+str(exercise_number)+'_data')\n",
        "  zipObj.close()\n",
        "  files.download('ex'+str(exercise_number)+'.zip') \n",
        "\n",
        "  # Message to user\n",
        "  print(\"Well done! You are now downloading your submission file\")\n",
        "\n",
        "\n",
        "try:\n",
        "  prepare_block()\n",
        "  submission_saver()\n",
        "except Exception as e:\n",
        "  print(str(e))\n",
        "\n"
      ],
      "execution_count": null,
      "outputs": []
    }
  ]
}