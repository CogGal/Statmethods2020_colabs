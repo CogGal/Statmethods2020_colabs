{
  "nbformat": 4,
  "nbformat_minor": 0,
  "metadata": {
    "colab": {
      "name": "ex7.ipynb",
      "provenance": [],
      "collapsed_sections": []
    },
    "kernelspec": {
      "name": "python3",
      "display_name": "Python 3"
    }
  },
  "cells": [
    {
      "cell_type": "markdown",
      "metadata": {
        "id": "sRejH2klZjjk"
      },
      "source": [
        "#**<font size=\"10\" color='cornflowerblue'><ins>Welcome to exercise 7**\n",
        "## **Note**: After choosing or changing an answer, run its block to save changes.\n",
        "## **Note**: It is best to avoid Runtime -> Run all.\n",
        "\n"
      ]
    },
    {
      "cell_type": "markdown",
      "metadata": {
        "id": "M8DOmvzjcCwA"
      },
      "source": [
        "Block 1#\n"
      ]
    },
    {
      "cell_type": "code",
      "metadata": {
        "id": "EqFi1QHH-Gy2",
        "cellView": "form"
      },
      "source": [
        "#@title #**What is your ID and group number? (<font color=\"red\">*Mandatory</font>)**\n",
        "\n",
        "import warnings\n",
        "warnings.simplefilter(action='ignore', category=FutureWarning)\n",
        "\n",
        "# Dependency check function\n",
        "def verify_dependencies(block_id, required_blocks_indices=[], customize=True):\n",
        "  try:\n",
        "    initialized\n",
        "  except:\n",
        "    raise Exception(\"You need to run the identification block first (Block 1#)\")\n",
        "  if customize:\n",
        "    for block_index in required_blocks_indices:\n",
        "      if not blocks_run[block_index]:\n",
        "        raise Exception(\"You must first run block \"+str(block_index)+\"#\")\n",
        "  else:\n",
        "    for block_index in range(2, block_id):\n",
        "      if not blocks_run[block_index]:\n",
        "        raise Exception(\"You must first run block \"+str(block_index)+\"#\")\n",
        "\n",
        "\n",
        "def initialize_colab():\n",
        "  # Verify credentials\n",
        "  if id_number == 0 or group_number == 0:\n",
        "    raise Exception(\"Are you sure these details are correct?\") \n",
        "  # Optional imports\n",
        "  from scipy import stats\n",
        "  from math import sqrt\n",
        "  import statistics\n",
        "  import random\n",
        "  import io\n",
        "  from ipywidgets import interact, interactive, fixed, interact_manual\n",
        "  import ipywidgets as widgets\n",
        "  from termcolor import colored\n",
        "  from IPython.display import HTML\n",
        "  import statsmodels.api as sm\n",
        "\n",
        "  # Seaborn initialization\n",
        "  sns.set(style=\"white\", palette=\"muted\", color_codes=True)\n",
        "  sns.set(rc={'figure.figsize':(10,10)});\n",
        "  sns.set_context(\"talk\")\n",
        "\n",
        "  # Answers initialization (Note that each array is 1 extra to align question i to index i)\n",
        "  #answers = [None]*5 + [[None]*3] + [[None]*4] + [[None]*3]\n",
        "  answers = [None]*18\n",
        "  blocks_run = [True]*2+[False]*50\n",
        "\n",
        "  # Messages to user\n",
        "  print(\"ID number saved: \", id_number)\n",
        "  print(\"Group number saved: \", group_number)\n",
        "  print(\"\\nYou may now begin, good luck!\")\n",
        "\n",
        "  # Return new global data\n",
        "  return answers, blocks_run\n",
        "\n",
        "\n",
        "try:\n",
        "  # Basic imports\n",
        "  import numpy as np\n",
        "  import matplotlib.pyplot as plt\n",
        "  import seaborn as sns\n",
        "  import pandas as pd\n",
        "  from math import sqrt\n",
        "  from scipy import stats\n",
        "  import statsmodels.stats.anova as anova\n",
        "  import statsmodels.api as sm\n",
        "\n",
        "  # Exercise specific imports\n",
        "  from ipywidgets import interact\n",
        "\n",
        "  # Global data for exercise\n",
        "  data = [None] * 7\n",
        "  exercise_number = 7\n",
        "  id_number =  0 #@param {type:\"integer\"}\n",
        "  group_number =  0 #@param {type:\"integer\"}\n",
        "  answers, blocks_run = initialize_colab()\n",
        "  initialized = True\n",
        "  \n",
        "except Exception as e:\n",
        "  print(str(e))\n",
        "\n"
      ],
      "execution_count": null,
      "outputs": []
    },
    {
      "cell_type": "markdown",
      "metadata": {
        "id": "9xLoj67gI6UF"
      },
      "source": [
        "**<font size=\"6\" color='cornflowerblue'><ins>Question 1** </font>\n",
        "\n",
        "#A researcher measured the effect of different types of distractors on the performance level in a visual recognition task. Each subject pressed the 'Enter' key every time he\\she detected a dot on the screen, and the correct responses were counted. Before the appearance of the dot, each subject was exposed to one of 3 conditions: a flash distractor (visual), a sound distractor (auditory), or no distractor at all."
      ]
    },
    {
      "cell_type": "markdown",
      "metadata": {
        "id": "yDvy-6RIHmok"
      },
      "source": [
        "Block 2#\n"
      ]
    },
    {
      "cell_type": "code",
      "metadata": {
        "id": "hYUp8glEMCqo",
        "cellView": "form"
      },
      "source": [
        "#@markdown #Show me the results!\n",
        "\n",
        "block_id = 2\n",
        "required_blocks = []\n",
        "\n",
        "def prepare_block():\n",
        "  try:\n",
        "    initialized\n",
        "  except:\n",
        "    raise Exception(\"You need to identify yourself in Block 1#\")\n",
        "  verify_dependencies(block_id, required_blocks)\n",
        "\n",
        "\n",
        "def block2():\n",
        "  np.random.seed(int(group_number))\n",
        "  no_dist = np.array([37,47,28,25])+np.random.choice(np.arange(-10,2),4)\n",
        "  visual = np.array([32,31,28,32])+np.random.choice(np.arange(-10,2),4)\n",
        "  auditory = np.array([41,52,40,43])+np.random.choice(np.arange(-10,2),4)\n",
        "\n",
        "\n",
        "  data_vis_rec_wide = pd.DataFrame({\"No\":no_dist,\"Visual\":visual,\"Auditory\":auditory})\n",
        "  # Next line corrects the indices. Need to make sure that this doesn't break anything.\n",
        "  data_vis_rec_wide.index = data_vis_rec_wide.index + 1\n",
        "  print(\"Performance level by distractor:\\n\")\n",
        "  print(data_vis_rec_wide)\n",
        "\n",
        "\n",
        "  data_vis_rec = pd.DataFrame({\"Subject\":[\"A\",\"B\",\"C\",\"D\"]*3,\n",
        "                              \"Distractor\":np.repeat([\"No\",\"Visual\",\"Auditory\"],4),\n",
        "                              \"Performance\":np.concatenate([no_dist,visual,auditory])})\n",
        "  print(\"\\n\")\n",
        "  #avner - if convenient, save only data_vis_rec  transfer those 3 rows to the automatic test and save res outside this code...\n",
        "  #you can also transfer this to the save part while saving data_vis_rec as global\n",
        "  #if not, save resA and resB as global\n",
        "  res = anova.AnovaRM(data=data_vis_rec, depvar='Performance', subject='Subject', within=['Distractor']).fit()\n",
        "  resA = float(res.anova_table[\"F Value\"])\n",
        "  resB = float(res.anova_table[\"Pr > F\"])\n",
        "  data[0] = resA\n",
        "  data[1] = resB\n",
        "  return resA, resB\n",
        "\n",
        "\n",
        "try:\n",
        "  prepare_block()\n",
        "  # Get GLOBAL answer from user\n",
        "  # Verify GLOBAL answer is valid\n",
        "  # Process\n",
        "  # Save GLOBAL answer\n",
        "  # Message to user\n",
        "  resA, resB = block2() # Use return values, if any, to create global variables\n",
        "  # Mark block as run\n",
        "  blocks_run[block_id] = True\n",
        "except Exception as e:\n",
        "  print(str(e))"
      ],
      "execution_count": null,
      "outputs": []
    },
    {
      "cell_type": "markdown",
      "metadata": {
        "id": "Fvfa5fJfLvI7"
      },
      "source": [
        "Block 3#"
      ]
    },
    {
      "cell_type": "code",
      "metadata": {
        "id": "XAknn4LmWE86",
        "cellView": "form"
      },
      "source": [
        "#@markdown #**Calculate the F-value and the significance of the distractor type (alpha=0.05).**\n",
        "block_id = 3\n",
        "question_id = 1\n",
        "required_blocks = [2]\n",
        "\n",
        "def prepare_block():\n",
        "  try:\n",
        "    initialized\n",
        "  except:\n",
        "    raise Exception(\"You need to identify yourself in Block 1#\")\n",
        "  verify_dependencies(block_id, required_blocks)\n",
        "\n",
        "\n",
        "def block3():\n",
        "  # Get LOCAL answer from user\n",
        "  F_Value = 0 #@param {type:\"number\"}\n",
        "  # Verify answer is valid\n",
        "  if F_Value == 'Choose the correct answer':\n",
        "    raise Exception(\"You must choose an answer\")\n",
        "  significant = False #@param {type:\"boolean\"}\n",
        "  # Process\n",
        "  # Save answer\n",
        "  answers[question_id] = (F_Value, significant)\n",
        "  # Message to user\n",
        "  print(\"Your Answer is: \", answers[question_id])\n",
        "  # Return any data generated in this function that needs to become global\n",
        "  return None\n",
        "\n",
        "try:\n",
        "  prepare_block()\n",
        "  # Get GLOBAL answer from user\n",
        "  \n",
        "  block3() # Use return values, if any, to create global variables\n",
        "  blocks_run[block_id] = True\n",
        "except Exception as e:\n",
        "  print(str(e))\n"
      ],
      "execution_count": null,
      "outputs": []
    },
    {
      "cell_type": "markdown",
      "metadata": {
        "id": "lcQ2axT90bps"
      },
      "source": [
        "Block 4#"
      ]
    },
    {
      "cell_type": "code",
      "metadata": {
        "id": "D-Md9xInHy_a",
        "cellView": "form"
      },
      "source": [
        "#@title **<font size=\"6\" color='cornflowerblue'><ins>Question 2** \n",
        "#@markdown #A researcher is interested in comparing the time it takes 4 different search engines to retrieve information. She asked subjects to search all words from a list of words in all 4 engines. Then, she measured the time it took each engine to find the list of words in every engine per subject.\n",
        "#@markdown #**What is the research design?**\n",
        "\n",
        "block_id = 4\n",
        "question_id = 2\n",
        "required_blocks = []\n",
        "\n",
        "def prepare_block():\n",
        "  try:\n",
        "    initialized\n",
        "  except:\n",
        "    raise Exception(\"You need to identify yourself in Block 1#\")\n",
        "  verify_dependencies(block_id, required_blocks)\n",
        "\n",
        "\n",
        "def block4():\n",
        "  # Get LOCAL answer from user\n",
        "  Answer = 'Choose the correct answer' #@param [\"Choose the correct answer\", \"One Way ANOVA with repeated measures\", \"Two Way ANOVA with repeated measures\", \"Between Subjects One Way ANOVA\", \"Between Subjects Two Way ANOVA\"]\n",
        "  # Verify answer is valid\n",
        "  if Answer == 'Choose the correct answer':\n",
        "    raise Exception(\"You must choose an answer\")\n",
        "  # Process\n",
        "  # Save answer\n",
        "  answers[question_id] = Answer\n",
        "  # Message to user\n",
        "  print(\"Your Answer is: \", answers[question_id])\n",
        "  # Return any data generated in this function that needs to become global\n",
        "  return None\n",
        "\n",
        "try:\n",
        "  prepare_block()\n",
        "  # Get GLOBAL answer from user\n",
        "  \n",
        "  block4() # Use return values, if any, to create global variables\n",
        "  blocks_run[block_id] = True\n",
        "except Exception as e:\n",
        "  print(str(e))\n"
      ],
      "execution_count": null,
      "outputs": []
    },
    {
      "cell_type": "markdown",
      "metadata": {
        "id": "T0uPiZC_1FBq"
      },
      "source": [
        "Block 5"
      ]
    },
    {
      "cell_type": "code",
      "metadata": {
        "id": "i5-ZGdWbHzTb",
        "cellView": "form"
      },
      "source": [
        "#@title **<font size=\"6\" color='cornflowerblue'><ins>Question 3** \n",
        "#@markdown #**Which of the following noise types is controlled for (meaning excluded) in a repeated measures analysis?**\n",
        "\n",
        "block_id = 5\n",
        "question_id = 3\n",
        "required_blocks = []\n",
        "\n",
        "def prepare_block():\n",
        "  try:\n",
        "    initialized\n",
        "  except:\n",
        "    raise Exception(\"You need to identify yourself in Block 1#\")\n",
        "  verify_dependencies(block_id, required_blocks)\n",
        "\n",
        "\n",
        "def block5():\n",
        "  # Get LOCAL answer from user\n",
        "  Answer = 'Choose the correct answer' #@param [\"Choose the correct answer\", \"Measurement errors\", \"Variance of the way the treatment affects the different subjects\", \"Initial variance between subjects\"]\n",
        "  # Verify answer is valid\n",
        "  if Answer == 'Choose the correct answer':\n",
        "    raise Exception(\"You must choose an answer\")\n",
        "  # Process\n",
        "  # Save answer\n",
        "  answers[question_id] = Answer\n",
        "  # Message to user\n",
        "  print(\"Your Answer is: \", answers[question_id])\n",
        "  # Return any data generated in this function that needs to become global\n",
        "  return None\n",
        "\n",
        "try:\n",
        "  prepare_block()\n",
        "  # Get GLOBAL answer from user\n",
        "  \n",
        "  block5() # Use return values, if any, to create global variables\n",
        "  blocks_run[block_id] = True\n",
        "except Exception as e:\n",
        "  print(str(e))\n"
      ],
      "execution_count": null,
      "outputs": []
    },
    {
      "cell_type": "markdown",
      "metadata": {
        "id": "J_VX_jpw1WbM"
      },
      "source": [
        "Block 6#"
      ]
    },
    {
      "cell_type": "code",
      "metadata": {
        "id": "-8FeHHaLHzfZ",
        "cellView": "form"
      },
      "source": [
        "#@title **<font size=\"6\" color='cornflowerblue'><ins>Question 4** \n",
        "#@markdown #A researcher tested the differences in the response times in a three levels design using ANOVA repeated measures analysis. He found an insignificant main effect of the independent variable and that the SSInt between the subjects and the independent variable is bigger than 0. \n",
        "#@markdown #**Which of the following is surely true?**\n",
        "\n",
        "block_id = 6\n",
        "question_id = 4\n",
        "required_blocks = []\n",
        "\n",
        "def prepare_block():\n",
        "  try:\n",
        "    initialized\n",
        "  except:\n",
        "    raise Exception(\"You need to identify yourself in Block 1#\")\n",
        "  verify_dependencies(block_id, required_blocks)\n",
        "\n",
        "\n",
        "def block6():\n",
        "  # Get LOCAL answer from user\n",
        "  Answer = 'Choose the correct answer' #@param [\"Choose the correct answer\", \"Adding a subject with extremely slow response times will reduce the noise term.\", \"Adding a subject with very rapid response times will reduce the noise term.\", \"Adding a subject who reacted very differently to the different conditions, will probably increase the noise term.\", \"Adding a subject who reacted identically to all conditions will not affect any sum of squares, and therefore will not affect the probability to get a significant effect.\"]\n",
        "  # Verify answer is valid\n",
        "  if Answer == 'Choose the correct answer':\n",
        "    raise Exception(\"You must choose an answer\")\n",
        "  # Process\n",
        "  # Save answer\n",
        "  answers[question_id] = Answer\n",
        "  # Message to user\n",
        "  print(\"Your Answer is: \", answers[question_id])\n",
        "  # Return any data generated in this function that needs to become global\n",
        "  return None\n",
        "\n",
        "try:\n",
        "  prepare_block()\n",
        "  # Get GLOBAL answer from user\n",
        "  \n",
        "  block6() # Use return values, if any, to create global variables\n",
        "  blocks_run[block_id] = True\n",
        "except Exception as e:\n",
        "  print(str(e))\n"
      ],
      "execution_count": null,
      "outputs": []
    },
    {
      "cell_type": "markdown",
      "metadata": {
        "id": "BKbk4xvC14qf"
      },
      "source": [
        "Block 7#"
      ]
    },
    {
      "cell_type": "code",
      "metadata": {
        "id": "i4hFSr0dHzqT",
        "cellView": "form"
      },
      "source": [
        "#@title **<font size=\"6\" color='cornflowerblue'><ins>Question 5** \n",
        "#@markdown #A coach is interested in testing the influence of an online course training program on its trainees' fitness, measured at the beginning, at the middle, and at the end of the course.\n",
        "#@markdown #**In which of the following cases will the noise term be the lowest?**\n",
        "\n",
        "block_id = 7\n",
        "question_id = 5\n",
        "required_blocks = []\n",
        "\n",
        "def prepare_block():\n",
        "  try:\n",
        "    initialized\n",
        "  except:\n",
        "    raise Exception(\"You need to identify yourself in Block 1#\")\n",
        "  verify_dependencies(block_id, required_blocks)\n",
        "\n",
        "\n",
        "def block7():\n",
        "  # Get LOCAL answer from user\n",
        "  Answer = 'Choose the correct answer' #@param [\"Choose the correct answer\", \"The coach knows that the lower the physical fitness of the trainee is at the beginning of the course, the more he\\she improves during the course.\", \"The coach knows that the lower the physical fitness of the trainee is at the beginning of the course, the less he\\she improves during the course.\", \"The coach knows that the degree of improvement of the trainees during the course is constant, regardless of their initial physical fitness.\", \"The coach knows that the degree of improvement of the trainees during the course is diverse, regardless of their initial similar physical fitness.\"]\n",
        "  # Verify answer is valid\n",
        "  if Answer == 'Choose the correct answer':\n",
        "    raise Exception(\"You must choose an answer\")\n",
        "  # Process\n",
        "  # Save answer\n",
        "  answers[question_id] = Answer\n",
        "  # Message to user\n",
        "  print(\"Your Answer is: \", answers[question_id])\n",
        "  # Return any data generated in this function that needs to become global\n",
        "  return None\n",
        "\n",
        "try:\n",
        "  prepare_block()\n",
        "  # Get GLOBAL answer from user\n",
        "  \n",
        "  block7() # Use return values, if any, to create global variables\n",
        "  blocks_run[block_id] = True\n",
        "except Exception as e:\n",
        "  print(str(e))\n"
      ],
      "execution_count": null,
      "outputs": []
    },
    {
      "cell_type": "markdown",
      "metadata": {
        "id": "oJSiTi_jN-N9"
      },
      "source": [
        "**<font size=\"6\" color='cornflowerblue'><ins>Question 6** </font>\n",
        "\n",
        "#A researcher hypothesized that the willingness of kids to eat broccoli increases as they eat more broccoli. Therefore, she recruited kids and asked them to try broccoli and rate their preference from 1 ('Bad') to 100 ('Delicious'). Afterwards, the kids arrived twice more, and every time they tried broccoli again, and rated their preference."
      ]
    },
    {
      "cell_type": "markdown",
      "metadata": {
        "id": "khjoGBhfK9pd"
      },
      "source": [
        "Block 8#"
      ]
    },
    {
      "cell_type": "code",
      "metadata": {
        "id": "k9LNZ4U-K1Ix",
        "cellView": "form"
      },
      "source": [
        "#@title **<font size=\"6\" color='cornflowerblue'><ins>Question 6.1** \n",
        "#@markdown #**What is the research design?**\n",
        "\n",
        "block_id = 8\n",
        "question_id = 6\n",
        "required_blocks = range(8, block_id)\n",
        "\n",
        "def prepare_block():\n",
        "  try:\n",
        "    initialized\n",
        "  except:\n",
        "    raise Exception(\"You need to identify yourself in Block 1#\")\n",
        "  verify_dependencies(block_id, required_blocks)\n",
        "\n",
        "\n",
        "def block8():\n",
        "  # Get LOCAL answer from user\n",
        "  Answer = 'Choose the correct answer' #@param [\"Choose the correct answer\", \"One Way ANOVA with Repeated Measures\", \"Between Subjects Two Way ANOVA\", \"Two Way ANOVA with Repeated Measures\", \"Between Subjects One Way ANOVA\"]\n",
        "  # Verify answer is valid\n",
        "  if Answer == 'Choose the correct answer':\n",
        "    raise Exception(\"You must choose an answer\")\n",
        "  # Process\n",
        "  # Save answer\n",
        "  answers[question_id] = Answer\n",
        "  # Message to user\n",
        "  print(\"Your Answer is: \", answers[question_id])\n",
        "  # Return any data generated in this function that needs to become global\n",
        "  return None\n",
        "\n",
        "try:\n",
        "  prepare_block()\n",
        "  # Get GLOBAL answer from user\n",
        "  \n",
        "  block8() # Use return values, if any, to create global variables\n",
        "  blocks_run[block_id] = True\n",
        "except Exception as e:\n",
        "  print(str(e))\n"
      ],
      "execution_count": null,
      "outputs": []
    },
    {
      "cell_type": "markdown",
      "metadata": {
        "id": "W8VFcZkuLswx"
      },
      "source": [
        "Block 9#"
      ]
    },
    {
      "cell_type": "code",
      "metadata": {
        "id": "A-ZrYF5QMLW1",
        "cellView": "form"
      },
      "source": [
        "#@markdown #After collecting the data, 3 out of 4 assistants found out that all scores in all conditions were between the range printed below. In addition - no one, in any condition, rated his\\her preference from 90 to 100. Here are the results of the differences between the measurments:\n",
        "\n",
        "block_id = 9\n",
        "required_blocks = range(8, block_id)\n",
        "\n",
        "def prepare_block():\n",
        "  try:\n",
        "    initialized\n",
        "  except:\n",
        "    raise Exception(\"You need to identify yourself in Block 1#\")\n",
        "  verify_dependencies(block_id, required_blocks)\n",
        "\n",
        "\n",
        "def block9():\n",
        "  np.random.seed(int(group_number))\n",
        "  n_kids=35\n",
        "  maxY = int(np.random.uniform(80,90,1))\n",
        "  print(f\"\\nAll scores in all conditions were between the range 1-{maxY}\\n\\n\")\n",
        "  #prepare kids data\n",
        "  np.random.seed(int(group_number))\n",
        "\n",
        "  kidsA = np.random.normal(45,15,n_kids)\n",
        "  kidsA[0]=maxY #at least one at maxY\n",
        "\n",
        "\n",
        "  kidsB = kidsA+np.random.normal(7,.5,len(kidsA))\n",
        "  kidsB = np.random.choice(kidsB,size=len(kidsB),replace=False) #create interaction\n",
        "\n",
        "\n",
        "\n",
        "  kidsC = kidsA+np.random.normal(10,.5,len(kidsA))\n",
        "  kidsC = np.random.choice(kidsC,size=len(kidsC),replace=False) #create interaction\n",
        "\n",
        "  all_kids = np.concatenate([kidsA, kidsB, kidsC])\n",
        "  all_kids[all_kids>maxY]=maxY\n",
        "  all_kids[all_kids<1]=1\n",
        "\n",
        "  #longput in df\n",
        "  data_kids = pd.DataFrame({\"Kid\":[*np.arange(1,n_kids+1)]*3,\n",
        "                            \"Measurement\":np.repeat([\"1\",\"2\",\"3\"],n_kids),\n",
        "                              \"Ranking\":all_kids})\n",
        "\n",
        "\n",
        "  #plot \n",
        "  plt.figure(figsize=(10,7))\n",
        "\n",
        "  plt.figure(figsize=(10,7))\n",
        "  for i in range(len(kidsA)):\n",
        "    plt.plot(data_kids['Measurement'][i:i+2*len(kidsA)+1:len(kidsA)],\n",
        "            data_kids['Ranking'][i:i+2*len(kidsA)+1:len(kidsA)],'o',color=\"darkblue\")\n",
        "    plt.plot(data_kids['Measurement'][i:i+2*len(kidsA)+1:len(kidsA)],\n",
        "            data_kids['Ranking'][i:i+2*len(kidsA)+1:len(kidsA)],'--',color=\"grey\")\n",
        "  plt.title(\"Broccoli Preference\");\n",
        "  plt.ylim(0,100);\n",
        "  plt.ylabel(\"Ranking\");\n",
        "  plt.xlabel (\"Measurement\");\n",
        "  # conduct and print rANOVA\n",
        "  print(anova.AnovaRM(data=data_kids, depvar='Ranking', subject='Kid', within=['Measurement']).fit())\n",
        "  return all_kids, data_kids, maxY, kidsA\n",
        "\n",
        "try:\n",
        "  prepare_block()\n",
        "  # Get GLOBAL answer from user\n",
        "  # Verify GLOBAL answer is valid\n",
        "  # Process\n",
        "  # Save GLOBAL answer\n",
        "  # Message to user\n",
        "  all_kids, data_kids, maxY, kidsA = block9() # Use return values, if any, to create global variables\n",
        "  data[2] = maxY\n",
        "  # Mark block as run\n",
        "  blocks_run[block_id] = True\n",
        "except Exception as e:\n",
        "  print(str(e))"
      ],
      "execution_count": null,
      "outputs": []
    },
    {
      "cell_type": "markdown",
      "metadata": {
        "id": "flWlXOXZ5enu"
      },
      "source": [
        "Block 10#"
      ]
    },
    {
      "cell_type": "code",
      "metadata": {
        "id": "nbdR5tpD5d7w",
        "cellView": "form"
      },
      "source": [
        "#@markdown #A year later, and after this research was published, one of the assistants remembered that he had added, accidently, 10 points to every score. \n",
        "#@markdown #Run this block to Add 10 points to the previous results figure.\n",
        "\n",
        "block_id = 10\n",
        "required_blocks = range(8, block_id)\n",
        "\n",
        "def prepare_block():\n",
        "  try:\n",
        "    initialized\n",
        "  except:\n",
        "    raise Exception(\"You need to identify yourself in Block 1#\")\n",
        "  verify_dependencies(block_id, required_blocks)\n",
        "\n",
        "\n",
        "def block10():\n",
        "  data_kids_fixed=data_kids\n",
        "  all_kids_fixed=all_kids+10\n",
        "  all_kids_fixed[all_kids_fixed>100]=100\n",
        "  data_kids_fixed[\"Ranking\"]=all_kids_fixed\n",
        "\n",
        "\n",
        "  #plot \n",
        "  plt.figure(figsize=(10,7))\n",
        "  for i in range(len(kidsA)):\n",
        "    plt.plot(data_kids_fixed['Measurement'][i:i+2*len(kidsA)+1:len(kidsA)],\n",
        "            data_kids_fixed['Ranking'][i:i+2*len(kidsA)+1:len(kidsA)],'o',color=\"darkblue\")\n",
        "    plt.plot(data_kids_fixed['Measurement'][i:i+2*len(kidsA)+1:len(kidsA)],\n",
        "            data_kids_fixed['Ranking'][i:i+2*len(kidsA)+1:len(kidsA)],'--',color=\"grey\")\n",
        "  plt.title(\"Broccoli Preference - 10 points addition\");\n",
        "  plt.ylabel(\"Ranking\");\n",
        "  plt.ylim(0,100);\n",
        "  plt.xlabel (\"Measurement\");\n",
        "\n",
        "\n",
        "try:\n",
        "  prepare_block()\n",
        "  # Get GLOBAL answer from user\n",
        "  # Verify GLOBAL answer is valid\n",
        "  # Process\n",
        "  # Save GLOBAL answer\n",
        "  # Message to user\n",
        "  block10() # Use return values, if any, to create global variables\n",
        "  # Mark block as run\n",
        "  blocks_run[block_id] = True\n",
        "except Exception as e:\n",
        "  print(str(e))"
      ],
      "execution_count": null,
      "outputs": []
    },
    {
      "cell_type": "markdown",
      "metadata": {
        "id": "AuY4tny26B5x"
      },
      "source": [
        "Block 11#"
      ]
    },
    {
      "cell_type": "code",
      "metadata": {
        "id": "CpnO93tO_lvz",
        "cellView": "form"
      },
      "source": [
        "#@title **<font size=\"6\" color='cornflowerblue'><ins>Question 6.2</ins>** \n",
        "#@markdown #**Based on the figures above, will the 10 points addition affect the data analysis?**\n",
        "\n",
        "block_id = 11\n",
        "question_id = 7\n",
        "required_blocks = range(8, block_id)\n",
        "\n",
        "def prepare_block():\n",
        "  try:\n",
        "    initialized\n",
        "  except:\n",
        "    raise Exception(\"You need to identify yourself in Block 1#\")\n",
        "  verify_dependencies(block_id, required_blocks)\n",
        "\n",
        "\n",
        "def block11():\n",
        "  # Get LOCAL answer from user\n",
        "  Answer = 'Choose the correct answer' #@param [\"Choose the correct answer\", \"No, because 10 points is too little to affect the results.\", \"Yes, because the 10 points addition might increase the effect size.\", \"No, because the differences between the ratings stay the same.\", \"Yes, because the mean of the ratings gets bigger.\"]\n",
        "  # Verify answer is valid\n",
        "  if Answer == 'Choose the correct answer':\n",
        "    raise Exception(\"You must choose an answer\")\n",
        "  # Process\n",
        "  # Save answer\n",
        "  answers[question_id] = Answer\n",
        "  # Message to user\n",
        "  print(\"Your Answer is: \", answers[question_id])\n",
        "  # Return any data generated in this function that needs to become global\n",
        "  return None\n",
        "\n",
        "try:\n",
        "  prepare_block()\n",
        "  # Get GLOBAL answer from user\n",
        "  \n",
        "  block11() # Use return values, if any, to create global variables\n",
        "  blocks_run[block_id] = True\n",
        "except Exception as e:\n",
        "  print(str(e))\n"
      ],
      "execution_count": null,
      "outputs": []
    },
    {
      "cell_type": "markdown",
      "metadata": {
        "id": "2fLed23M7AnY"
      },
      "source": [
        "Block 12#"
      ]
    },
    {
      "cell_type": "code",
      "metadata": {
        "id": "xxoK7eeA6FQc",
        "cellView": "form"
      },
      "source": [
        "#@markdown #Is there any addition of points that can affect the data analysis? Move the slider below and decide. Notice that in any way, the ratings cannot be above 100.\n",
        "\n",
        "block_id = 12\n",
        "required_blocks = range(8, block_id)\n",
        "\n",
        "def prepare_block():\n",
        "  try:\n",
        "    initialized\n",
        "  except:\n",
        "    raise Exception(\"You need to identify yourself in Block 1#\")\n",
        "  verify_dependencies(block_id, required_blocks)\n",
        "\n",
        "\n",
        "def block12():\n",
        "  addition = 0 #@param {type:\"slider\"}\n",
        "  data_kids_fixed2=data_kids\n",
        "  all_kids_fixed2=all_kids+addition\n",
        "  all_kids_fixed2[all_kids_fixed2>100]=100\n",
        "  data_kids_fixed2[\"Ranking\"]=all_kids_fixed2\n",
        "\n",
        "  #plot \n",
        "  plt.figure(figsize=(10,7))\n",
        "  for i in range(len(kidsA)):\n",
        "    plt.plot(data_kids_fixed2['Measurement'][i:i+2*len(kidsA)+1:len(kidsA)],\n",
        "            data_kids_fixed2['Ranking'][i:i+2*len(kidsA)+1:len(kidsA)],'o',color=\"darkblue\")\n",
        "    plt.plot(data_kids_fixed2['Measurement'][i:i+2*len(kidsA)+1:len(kidsA)],\n",
        "            data_kids_fixed2['Ranking'][i:i+2*len(kidsA)+1:len(kidsA)],'--',color=\"grey\")\n",
        "  plt.title(f\"Broccoli Preference - {addition} points addition\");\n",
        "  plt.ylabel(\"Ranking\");\n",
        "  plt.ylim(0,100);\n",
        "  plt.xlabel (\"Measurement\");\n",
        "\n",
        "  print(anova.AnovaRM(data=data_kids_fixed2, depvar='Ranking', subject='Kid', within=['Measurement']).fit())\n",
        "\n",
        "\n",
        "try:\n",
        "  prepare_block()\n",
        "  # Get GLOBAL answer from user\n",
        "  # Verify GLOBAL answer is valid\n",
        "  # Process\n",
        "  # Save GLOBAL answer\n",
        "  # Message to user\n",
        "  block12() # Use return values, if any, to create global variables\n",
        "  # Mark block as run\n",
        "  blocks_run[block_id] = True\n",
        "except Exception as e:\n",
        "  print(str(e))"
      ],
      "execution_count": null,
      "outputs": []
    },
    {
      "cell_type": "markdown",
      "metadata": {
        "id": "aibFe5bf_gDT"
      },
      "source": [
        "Block 13#"
      ]
    },
    {
      "cell_type": "code",
      "metadata": {
        "id": "QACFnQ7u6sBE",
        "cellView": "form"
      },
      "source": [
        "#@title **<font size=\"6\" color='cornflowerblue'><ins>Question 6.3</ins>** \n",
        "#@markdown #If there is a minimum number of points that might affect the results, write it down (otherwise, write '0').\n",
        "#@markdown #**Question**\n",
        "\n",
        "block_id = 13\n",
        "question_id = 8\n",
        "required_blocks = range(8, block_id)\n",
        "\n",
        "def prepare_block():\n",
        "  try:\n",
        "    initialized\n",
        "  except:\n",
        "    raise Exception(\"You need to identify yourself in Block 1#\")\n",
        "  verify_dependencies(block_id, required_blocks)\n",
        "\n",
        "\n",
        "def block13():\n",
        "  # Get LOCAL answer from user\n",
        "  number_input = 0 #@param {type:\"number\"}  # Verify answer is valid\n",
        "  # Process\n",
        "  # Save answer\n",
        "  answers[question_id] = number_input\n",
        "  # Message to user\n",
        "  print(\"Your Answer is: \", answers[question_id])\n",
        "  # Return any data generated in this function that needs to become global\n",
        "  return None\n",
        "\n",
        "try:\n",
        "  prepare_block()\n",
        "  # Get GLOBAL answer from user\n",
        "  \n",
        "  block13() # Use return values, if any, to create global variables\n",
        "  blocks_run[block_id] = True\n",
        "except Exception as e:\n",
        "  print(str(e))\n"
      ],
      "execution_count": null,
      "outputs": []
    },
    {
      "cell_type": "markdown",
      "metadata": {
        "id": "JBwBfVN7Aaip"
      },
      "source": [
        "**<font size=\"6\" color='cornflowerblue'><ins>Question 7</ins>** </font>\n",
        "\n",
        "#Four researchers asked participants to press as fast as they can on the 'Enter' key when they perceive a white dot in the middle of the screen. Before the appearance of the dot, every subject was exposed to either a red square, a green square, or a yellow square.\n",
        "Note: All researchers got the same means for each condition (meaning the mean reaction time to the red square is the same for all researchers),\n",
        "but the results differed on other parameters.\n"
      ]
    },
    {
      "cell_type": "markdown",
      "metadata": {
        "id": "_ZtuC6FEAq4n"
      },
      "source": [
        "Block 14#"
      ]
    },
    {
      "cell_type": "code",
      "metadata": {
        "cellView": "form",
        "id": "OhwjoksMAlWH"
      },
      "source": [
        "#@markdown #The results of the researchers are the following:\n",
        "\n",
        "block_id = 14\n",
        "required_blocks = range(14, block_id)\n",
        "\n",
        "def prepare_block():\n",
        "  try:\n",
        "    initialized\n",
        "  except:\n",
        "    raise Exception(\"You need to identify yourself in Block 1#\")\n",
        "  verify_dependencies(block_id, required_blocks)\n",
        "\n",
        "\n",
        "def block14():\n",
        "  np.random.seed(int(group_number))\n",
        "  n=np.random.choice([18,19,20,21,22,23,24,25,26])\n",
        "\n",
        "  def generate_rt_data(n,sd,seed=int(group_number),means = [405,430,350],shuffleB=True,shuffleC=True):\n",
        "    np.random.seed(seed);\n",
        "    ## add groups\n",
        "    yellow = np.random.normal(means[0],sd,n)\n",
        "    red = yellow+np.random.normal(means[1]-means[0],5,n) #add gaussian with small sigma\n",
        "    green = red+np.random.normal(means[2]-means[1],5,n)\n",
        "    #shuffle groups to create interaction\n",
        "    if shuffleB:\n",
        "      np.random.seed(seed);\n",
        "      red=np.random.choice(red,n,replace=False)\n",
        "    if shuffleC:\n",
        "      green=np.random.choice(green,n,replace=False)\n",
        "    groups = [yellow,red,green]\n",
        "    curr_rt_data = pd.DataFrame({\"subject\":[*np.arange(1,1+n)]*3,\n",
        "                            \"color\":np.repeat([\"yellow\",\"red\",\"green\"],n),\n",
        "                            \"Reaction_time\":np.concatenate(groups)})\n",
        "    return(curr_rt_data)\n",
        "\n",
        "  rt_data_A = generate_rt_data(n,sd=130,shuffleB=False,shuffleC=False)\n",
        "  rt_data_B = generate_rt_data(n,sd=65,shuffleB=False,shuffleC=True)\n",
        "  rt_data_C = generate_rt_data(n,sd=130,shuffleB=True,shuffleC=True)\n",
        "  rt_data_D = generate_rt_data(n,sd=65,shuffleB=True,shuffleC=True)\n",
        "\n",
        "  rt_data = [[rt_data_A,rt_data_B],[rt_data_C,rt_data_D]]\n",
        "  #plot\n",
        "\n",
        "  f, subplots = plt.subplots(2, 2, figsize=[18,11],sharey=True)\n",
        "  #print(subplots.shape)\n",
        "  graphs = [['A','B'],['C','D']]\n",
        "  #loop over subplots and assign datasets\n",
        "  for j in range(2):\n",
        "    for k in range(2):\n",
        "      graph=graphs[j][k]\n",
        "      for i in range(n):\n",
        "        subplots[j,k].plot(rt_data[j][k]['color'][i:i+2*n+1:n],\n",
        "                rt_data[j][k]['Reaction_time'][i:i+2*n+1:n],'o',color=\"gold\")\n",
        "        subplots[j,k].plot(rt_data[j][k]['color'][i+n],\n",
        "                rt_data[j][k]['Reaction_time'][i+n],'o',color=\"red\")\n",
        "        subplots[j,k].plot(rt_data[j][k]['color'][i+2*n],\n",
        "                rt_data[j][k]['Reaction_time'][i+2*n],'o',color=\"green\")\n",
        "        subplots[j,k].plot(rt_data[j][k]['color'][i:i+2*n+1:n],\n",
        "                rt_data[j][k]['Reaction_time'][i:i+2*n+1:n],'--',color=\"grey\")\n",
        "        subplots[j,k].set_title(f\"Researcher {graph}\");\n",
        "      #print(graph)\n",
        "      #print(anova.AnovaRM(data=rt_data[j][k], depvar='Reaction_time', subject='subject', within=['color']).fit())\n",
        "\n",
        "      #fig settings  \n",
        "        plt.ylabel(\"Ranking\");\n",
        "      #plt.ylim(0,100);\n",
        "        plt.xlabel (\"Measurement\");\n",
        "  return rt_data, n\n",
        "\n",
        "try:\n",
        "  prepare_block()\n",
        "  # Get GLOBAL answer from user\n",
        "  # Verify GLOBAL answer is valid\n",
        "  # Process\n",
        "  # Save GLOBAL answer\n",
        "  # Message to user\n",
        "  rt_data, n = block14() # Use return values, if any, to create global variables\n",
        "  # Mark block as run\n",
        "  blocks_run[block_id] = True\n",
        "except Exception as e:\n",
        "  print(str(e))"
      ],
      "execution_count": null,
      "outputs": []
    },
    {
      "cell_type": "markdown",
      "metadata": {
        "id": "JWLLcRAcqEq5"
      },
      "source": [
        "Block 15#"
      ]
    },
    {
      "cell_type": "code",
      "metadata": {
        "id": "KIvohr8gqEHj",
        "cellView": "form"
      },
      "source": [
        "#@title **<font size=\"6\" color='cornflowerblue'><ins>Question 7.1</ins>** \n",
        "#@markdown #**Arrange the figures by the F values they will receive using the approproate Anova.**\n",
        "#@markdown Answer 1 is the dataset that will have the largest F and 4 is the dataset with the smallest.\n",
        "\n",
        "block_id = 15\n",
        "question_id = 9\n",
        "required_blocks = range(14, block_id)\n",
        "\n",
        "def prepare_block():\n",
        "  try:\n",
        "    initialized\n",
        "  except:\n",
        "    raise Exception(\"You need to identify yourself in Block 1#\")\n",
        "  verify_dependencies(block_id, required_blocks)\n",
        "\n",
        "\n",
        "def block15():\n",
        "  # Get LOCAL answer from user\n",
        "  Answer1 = 'Choose the correct answer' #@param [\"Choose the correct answer\", \"Researcher A\", \"Researcher B\", \"Researcher C\", \"Researcher D\"]\n",
        "  Answer2 = 'Choose the correct answer' #@param [\"Choose the correct answer\", \"Researcher A\", \"Researcher B\", \"Researcher C\", \"Researcher D\"]\n",
        "  Answer3 = 'Choose the correct answer' #@param [\"Choose the correct answer\", \"Researcher A\", \"Researcher B\", \"Researcher C\", \"Researcher D\"]\n",
        "  Answer4 = 'Choose the correct answer' #@param [\"Choose the correct answer\", \"Researcher A\", \"Researcher B\", \"Researcher C\", \"Researcher D\"]\n",
        "  # Verify answer is valid\n",
        "  if 'Choose the correct answer' in (Answer1, Answer2, Answer3, Answer4):\n",
        "    raise Exception(\"You must choose all four answers to save your answer\")\n",
        "  # Process\n",
        "  # Save answer\n",
        "  answers[question_id] = (Answer1, Answer2, Answer3, Answer4)\n",
        "  # Message to user\n",
        "  print(\"Your Answer is: \", answers[question_id])\n",
        "  # Return any data generated in this function that needs to become global\n",
        "  return None\n",
        "\n",
        "try:\n",
        "  prepare_block()\n",
        "  # Get GLOBAL answer from user\n",
        "  \n",
        "  block15() # Use return values, if any, to create global variables\n",
        "  blocks_run[block_id] = True\n",
        "except Exception as e:\n",
        "  print(str(e))\n"
      ],
      "execution_count": null,
      "outputs": []
    },
    {
      "cell_type": "markdown",
      "metadata": {
        "id": "1uyoDS5Yq_YC"
      },
      "source": [
        "Block 16#"
      ]
    },
    {
      "cell_type": "code",
      "metadata": {
        "id": "Ss4ugn_Yq-_q",
        "cellView": "form"
      },
      "source": [
        "#@markdown #Researcher A data analysis\n",
        "\n",
        "block_id = 16\n",
        "required_blocks = range(14, block_id)\n",
        "\n",
        "def prepare_block():\n",
        "  try:\n",
        "    initialized\n",
        "  except:\n",
        "    raise Exception(\"You need to identify yourself in Block 1#\")\n",
        "  verify_dependencies(block_id, required_blocks)\n",
        "\n",
        "\n",
        "def block16():\n",
        "  rm1=anova.AnovaRM(data=rt_data[0][0], depvar='Reaction_time', subject='subject', within=['color']).fit()\n",
        "  Frm1 =  float(rm1.anova_table[\"F Value\"])\n",
        "\n",
        "\n",
        "  formula1 = 'Reaction_time ~ color'\n",
        "  model1 = sm.formula.ols(formula1, data=rt_data[0][0]).fit()\n",
        "\n",
        "  # Perform ANOVA and print table\n",
        "  ow1 = sm.stats.anova_lm(model1, typ=2)\n",
        "  Fow1 =  float(ow1[\"F\"][0])\n",
        "\n",
        "  print(f\"\\nNumber of observations in each group = {n}, number of groups(k) = 3\\n\")\n",
        "  print(f\"One-way ANOVA: F = {np.round(Fow1,3)}\")\n",
        "  print(f\"Repeated measures ANOVA: F = {np.round(Frm1,3)}\")\n",
        "  data[3] = float(ow1[\"PR(>F)\"][0])\n",
        "  data[4] = rm1.anova_table[\"Pr > F\"][0]\n",
        "\n",
        "\n",
        "try:\n",
        "  prepare_block()\n",
        "  # Get GLOBAL answer from user\n",
        "  # Verify GLOBAL answer is valid\n",
        "  # Process\n",
        "  # Save GLOBAL answer\n",
        "  # Message to user\n",
        "  block16() # Use return values, if any, to create global variables\n",
        "  # Mark block as run\n",
        "  blocks_run[block_id] = True\n",
        "except Exception as e:\n",
        "  print(str(e))"
      ],
      "execution_count": null,
      "outputs": []
    },
    {
      "cell_type": "markdown",
      "metadata": {
        "id": "-hJFa6ihro8d"
      },
      "source": [
        "Block 17#"
      ]
    },
    {
      "cell_type": "code",
      "metadata": {
        "id": "ANHzNlSWrofP",
        "cellView": "form"
      },
      "source": [
        "#@title **<font size=\"6\" color='cornflowerblue'><ins>Question 7.2</ins>** \n",
        "#@markdown #**Calculate the p-values of dataset A Using One Way ANOVA and repeated measures. Is it significant at alpha=0.01?**\n",
        "#@markdown *Note:* If one of th p-value is smaller than 0.000001, then 0 is accepted as answer\n",
        "\n",
        "block_id = 17\n",
        "question_id = 10\n",
        "required_blocks = range(14, block_id)\n",
        "\n",
        "def prepare_block():\n",
        "  try:\n",
        "    initialized\n",
        "  except:\n",
        "    raise Exception(\"You need to identify yourself in Block 1#\")\n",
        "  verify_dependencies(block_id, required_blocks)\n",
        "\n",
        "\n",
        "def block17():\n",
        "  p_value_oneway = 1 #@param{type:\"number\"}\n",
        "  #@markdown Is the F value from oneway anova significant?\n",
        "  significance_one_way = False #@param {type:\"boolean\"}\n",
        "  p_value_repeated_measures = 1 #@param{type:\"number\"}\n",
        "  #@markdown Is the F value from repeated measures anova significant?\n",
        "  significance_repeated_measures = False #@param {type:\"boolean\"}\n",
        "  answers[question_id] = (p_value_oneway, significance_one_way, p_value_repeated_measures, significance_repeated_measures)\n",
        "  print(\"Your Answers are: \", answers[question_id])\n",
        "\n",
        "\n",
        "try:\n",
        "  prepare_block()\n",
        "  # Get GLOBAL answer from user\n",
        "  \n",
        "  block17() # Use return values, if any, to create global variables\n",
        "  blocks_run[block_id] = True\n",
        "except Exception as e:\n",
        "  print(str(e))\n"
      ],
      "execution_count": null,
      "outputs": []
    },
    {
      "cell_type": "markdown",
      "metadata": {
        "id": "uKdBbAxmsbFT"
      },
      "source": [
        "Block 18#"
      ]
    },
    {
      "cell_type": "code",
      "metadata": {
        "id": "56TjrIYBsdEE",
        "cellView": "form"
      },
      "source": [
        "#@markdown #Researcher C data analysis\n",
        "\n",
        "block_id = 18\n",
        "required_blocks = range(14, block_id)\n",
        "\n",
        "def prepare_block():\n",
        "  try:\n",
        "    initialized\n",
        "  except:\n",
        "    raise Exception(\"You need to identify yourself in Block 1#\")\n",
        "  verify_dependencies(block_id, required_blocks)\n",
        "\n",
        "\n",
        "def block18():\n",
        "  rm2=anova.AnovaRM(data=rt_data[1][0], depvar='Reaction_time', subject='subject', within=['color']).fit()\n",
        "  Frm2 =  float(rm2.anova_table[\"F Value\"])\n",
        "\n",
        "  formula2 = 'Reaction_time ~ color'\n",
        "  model2 = sm.formula.ols(formula2, data=rt_data[1][0]).fit()\n",
        "\n",
        "  # Perform ANOVA and print table\n",
        "  ow2 = sm.stats.anova_lm(model2, typ=2)\n",
        "  Fow2 =  float(ow2[\"F\"][0])\n",
        "\n",
        "  print(f\"\\nNumber of observations in each group = {n}, number of groups(k) = 3\\n\")\n",
        "  print(f\"One-way ANOVA: F = {np.round(Fow2,3)}\")\n",
        "  print(f\"Repeated measures ANOVA: F = {np.round(Frm2,3)}\")\n",
        "\n",
        "  data[5] = float(ow2[\"PR(>F)\"][0])\n",
        "  data[6] = rm2.anova_table[\"Pr > F\"][0]\n",
        "\n",
        "try:\n",
        "  prepare_block()\n",
        "  # Get GLOBAL answer from user\n",
        "  # Verify GLOBAL answer is valid\n",
        "  # Process\n",
        "  # Save GLOBAL answer\n",
        "  # Message to user\n",
        "  block18() # Use return values, if any, to create global variables\n",
        "  # Mark block as run\n",
        "  blocks_run[block_id] = True\n",
        "except Exception as e:\n",
        "  print(str(e))"
      ],
      "execution_count": null,
      "outputs": []
    },
    {
      "cell_type": "markdown",
      "metadata": {
        "id": "avzEFI1DtRtl"
      },
      "source": [
        "Block 19#"
      ]
    },
    {
      "cell_type": "code",
      "metadata": {
        "id": "x2iSkRMwtWbB",
        "cellView": "form"
      },
      "source": [
        "#@title **<font size=\"6\" color='cornflowerblue'><ins>Question 7.3</ins>** \n",
        "#@markdown #**Calculate the P values of the dataset C Using One Way ANOVA and repeated measures. Is it significant at alpha=0.01?**\n",
        "#@markdown *Note:* If one of th p-value is smaller than 0.000001, then 0 is accepted as answer\n",
        "\n",
        "block_id = 19\n",
        "question_id = 11\n",
        "required_blocks = range(14, block_id)\n",
        "\n",
        "def prepare_block():\n",
        "  try:\n",
        "    initialized\n",
        "  except:\n",
        "    raise Exception(\"You need to identify yourself in Block 1#\")\n",
        "  verify_dependencies(block_id, required_blocks)\n",
        "\n",
        "\n",
        "def block19():\n",
        "  # Get LOCAL answer from user\n",
        "  p_value_oneway = 1 #@param{type:\"number\"}\n",
        "  #@markdown Is the F value from oneway anova significant?\n",
        "  significance_one_way = False #@param {type:\"boolean\"}\n",
        "  p_value_repeated_measures = 1 #@param{type:\"number\"}\n",
        "  #@markdown Is the F value from repeated measures anova significant?\n",
        "  significance_repeated_measures = False #@param {type:\"boolean\"}\n",
        "  # Save answer\n",
        "  answers[question_id] = (p_value_oneway, significance_one_way, p_value_repeated_measures, significance_repeated_measures)\n",
        "  # Message to user\n",
        "  print(\"Your Answers are: \", answers[question_id])\n",
        "  # Return any data generated in this function that needs to become global\n",
        "  return None\n",
        "\n",
        "try:\n",
        "  prepare_block()\n",
        "  # Get GLOBAL answer from user\n",
        "  \n",
        "  block19() # Use return values, if any, to create global variables\n",
        "  blocks_run[block_id] = True\n",
        "except Exception as e:\n",
        "  print(str(e))\n"
      ],
      "execution_count": null,
      "outputs": []
    },
    {
      "cell_type": "markdown",
      "metadata": {
        "id": "fa3b-NPaPZLq"
      },
      "source": [
        "Block 20#"
      ]
    },
    {
      "cell_type": "code",
      "metadata": {
        "id": "6ycJIO75Pi2p",
        "cellView": "form"
      },
      "source": [
        "#@title **<font size=\"6\" color='cornflowerblue'><ins>Question 7.4</ins>** \n",
        "#@markdown #**What is the reason for the difference in your answers to questions 7.2 and 7.3?**\n",
        "\n",
        "block_id = 20\n",
        "question_id = 12\n",
        "required_blocks = range(14, block_id)\n",
        "\n",
        "def prepare_block():\n",
        "  try:\n",
        "    initialized\n",
        "  except:\n",
        "    raise Exception(\"You need to identify yourself in Block 1#\")\n",
        "  verify_dependencies(block_id, required_blocks)\n",
        "\n",
        "\n",
        "def block20():\n",
        "  # Get LOCAL answer from user\n",
        "  Answer = 'Choose the correct answer' #@param [\"Choose the correct answer\", \"The noise term in figure A is very small using both ways, while in figure C the noise term is very large using repeated measures but very small using One Way ANOVA.\", \"The noise term in figure A is very small using repeated measures but very large using One Way ANOVA, while in figure C the noise term is large in both tests.\", \"The noise term in figure A is very large using both ways, while in figure C the noise term is very small using repeated measures but very large using One Way ANOVA.\", \"The noise term in figure A is very large using repeated measures but very small using One Way ANOVA, while in figure C the noise term is small in both tests.\"]\n",
        "  # Verify answer is valid\n",
        "  if Answer == 'Choose the correct answer':\n",
        "    raise Exception(\"You must choose an answer\")\n",
        "  # Process\n",
        "  # Save answer\n",
        "  answers[question_id] = Answer\n",
        "  # Message to user\n",
        "  print(\"Your Answer is: \", answers[question_id])\n",
        "  # Return any data generated in this function that needs to become global\n",
        "  return None\n",
        "\n",
        "try:\n",
        "  prepare_block()\n",
        "  # Get GLOBAL answer from user\n",
        "  \n",
        "  block20() # Use return values, if any, to create global variables\n",
        "  blocks_run[block_id] = True\n",
        "except Exception as e:\n",
        "  print(str(e))\n"
      ],
      "execution_count": null,
      "outputs": []
    },
    {
      "cell_type": "markdown",
      "metadata": {
        "id": "-_sZ9CNd_-Rn"
      },
      "source": [
        "**<p><font size=\"10\"><font color='cornflowerblue'> Good JOB </ins></p>** </font>\n",
        "\n",
        "#**You finished answering the questions for this exercise! Here are some important things to consider:**\n",
        "\n",
        "\n",
        "* You can view your answers by running the next block. \n",
        "*After changing an answer to a question, you will need to run the 'Show your answers' again for it to reflect changes.\n",
        "* <b>If you change an answer to a question, you will need to run it again for changes to be saved. \n"
      ]
    },
    {
      "cell_type": "markdown",
      "metadata": {
        "id": "x71tXfGluPLk"
      },
      "source": [
        "Block 21#"
      ]
    },
    {
      "cell_type": "code",
      "metadata": {
        "id": "GwW8XtVgUvnI",
        "cellView": "form"
      },
      "source": [
        "#@title **<font color = cornflowerblue> <font size = 6>Show Your Answers <br>(Run to refresh after saving a question)**\n",
        "\n",
        "block_id = 21\n",
        "\n",
        "nomcq = 5 # number_of_multi_choice_questions\n",
        "noqifiq = 3 # number_of_questions_in_first_interactive_question\n",
        "noqisiq = 4 # number_of_questions_in_second_interactive_question\n",
        "\n",
        "\n",
        "def prepare_block():\n",
        "  try:\n",
        "    initialized\n",
        "  except:\n",
        "    raise Exception(\"You need to identify yourself in Block 1#\")\n",
        "  verify_dependencies(block_id, range(block_id))\n",
        "\n",
        "\n",
        "def answers_printer():\n",
        "  print(\"ID:\",id_number,\"\\nGroup number\",group_number,'\\n')\n",
        "  # Questions 1-nomcq\n",
        "  for i in range(1,(nomcq+1)):\n",
        "    print(\"Question \"+str(i)+\": \"+str(answers[i]))\n",
        "  # Question nomcq+1\n",
        "  i += 1\n",
        "  for j in range(noqifiq):\n",
        "    print(\"Question \"+str(i)+\".\"+str(j+1)+\": \"+str(answers[i + j]))\n",
        "  # Question nomcq+2\n",
        "  i += 1\n",
        "  for j in range(noqisiq):\n",
        "    print(\"Question \"+str(i)+\".\"+str(j+1)+\": \"+str(answers[i + j + noqifiq - 1]))\n",
        "\n",
        "\n",
        "try:\n",
        "  prepare_block()\n",
        "  answers_printer()\n",
        "  blocks_run[block_id] = True\n",
        "except Exception as e:\n",
        "  print(str(e))\n"
      ],
      "execution_count": null,
      "outputs": []
    },
    {
      "cell_type": "markdown",
      "metadata": {
        "id": "m6cFc6VlqqDu"
      },
      "source": [
        "If you are ready to submit your answers, go ahead and press 'Save!'💾 .\n",
        "\n",
        "\n",
        "This will prompt you to download your answers file. \n",
        "\n",
        "\n",
        "After downloading you will need to submit the file to moodle.\n",
        "Good luck!\n",
        "\n"
      ]
    },
    {
      "cell_type": "markdown",
      "metadata": {
        "id": "rJ_zz1h0uV04"
      },
      "source": [
        "Block 22#"
      ]
    },
    {
      "cell_type": "code",
      "metadata": {
        "id": "VK4GiQ3XxD7W",
        "cellView": "form"
      },
      "source": [
        "#@title  **<p><font size=\"10\"><font color='cornflowerblue'><ins> <---  💾 SAVE! </ins></p>**\n",
        "\n",
        "from google.colab import files\n",
        "from shutil import make_archive\n",
        "from os import path, remove\n",
        "from zipfile import ZipFile\n",
        "\n",
        "block_id = 22\n",
        "\n",
        "def prepare_block():\n",
        "  try:\n",
        "    initialized\n",
        "  except:\n",
        "    raise Exception(\"You need to identify yourself in Block 1#\")\n",
        "  verify_dependencies(block_id, range(block_id))\n",
        "\n",
        "def answer_saver(file):\n",
        "  # Questions 1-nomcq\n",
        "  for i in range(1,(nomcq+1)):\n",
        "    file.write(\"Question \"+str(i)+\": \"+str(answers[i])+'\\n')\n",
        "  # Question nomcq+1\n",
        "  i += 1\n",
        "  for j in range(noqifiq):\n",
        "    file.write(\"Question \"+str(i)+\".\"+str(j+1)+\": \"+str(answers[i + j])+'\\n')\n",
        "  # Question nomcq+2\n",
        "  i += 1\n",
        "  for j in range(noqisiq):\n",
        "    file.write(\"Question \"+str(i)+\".\"+str(j+1)+\": \"+str(answers[i + j + noqifiq - 1])+'\\n')\n",
        "\n",
        "\n",
        "def submission_saver():\n",
        "  # Writing credentials\n",
        "  f = open(\"ex\"+str(exercise_number)+\"_submission\", \"w\")\n",
        "  f.write(\"#\"+str(id_number)+\"\\n\")\n",
        "  f.write(\"#\"+str(group_number)+\"\\n\")\n",
        "  # Writing answers\n",
        "  answer_saver(f) \n",
        "  f.write(\"#End of answers\")\n",
        "  f.close()\n",
        "  # Writing data\n",
        "  g = open(\"data\", \"w\")\n",
        "  for d in data:\n",
        "    g.write(str(d)+\"\\n\")\n",
        "  g.close()\n",
        "\n",
        "  # Creating submission file\n",
        "  zipObj = ZipFile('ex'+str(exercise_number)+'.zip', 'w')\n",
        "  zipObj.write('ex'+str(exercise_number)+'_submission')\n",
        "  zipObj.write('data')\n",
        "  zipObj.close()\n",
        "  files.download('ex'+str(exercise_number)+'.zip') \n",
        "\n",
        "  # Message to user\n",
        "  print(\"Well done! You are now downloading your submission file\")\n",
        "\n",
        "\n",
        "try:\n",
        "  prepare_block()\n",
        "  submission_saver()\n",
        "except Exception as e:\n",
        "  print(str(e))\n",
        "\n"
      ],
      "execution_count": null,
      "outputs": []
    }
  ]
}