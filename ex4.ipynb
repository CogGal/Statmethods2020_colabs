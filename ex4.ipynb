{
  "nbformat": 4,
  "nbformat_minor": 0,
  "metadata": {
    "colab": {
      "name": "ex4.ipynb",
      "provenance": [],
      "collapsed_sections": []
    },
    "kernelspec": {
      "name": "python3",
      "display_name": "Python 3"
    }
  },
  "cells": [
    {
      "cell_type": "markdown",
      "metadata": {
        "id": "sRejH2klZjjk"
      },
      "source": [
        "#**<font size=\"10\" color='cornflowerblue'><ins>Welcome to exercise 4**\n",
        "## **Note**: After choosing or changing an answer, run its block to save changes.\n",
        "## **Note**: It is best to avoid Runtime -> Run all.\n",
        "\n"
      ]
    },
    {
      "cell_type": "markdown",
      "metadata": {
        "id": "7huHoOyynRoX"
      },
      "source": [
        "#**<font size=\"8\" color='cornflowerblue'><ins>Identification</ins>** \n",
        "#<font size=\"5\" color='black'>Please fill in your details in the block below and then run it\n"
      ]
    },
    {
      "cell_type": "markdown",
      "metadata": {
        "id": "M8DOmvzjcCwA"
      },
      "source": [
        "Block 1#\n"
      ]
    },
    {
      "cell_type": "code",
      "metadata": {
        "id": "EqFi1QHH-Gy2",
        "cellView": "form"
      },
      "source": [
        "#@title #**What is your ID and group number? (<font color=\"red\">*Mandatory</font>)**\n",
        "\n",
        "\n",
        "# Dependency check function\n",
        "def verify_dependencies(block_id, required_blocks_indices=[]):\n",
        "  try:\n",
        "    initialized\n",
        "  except:\n",
        "    raise Exception(\"You need to run the identification block first (Block 1#)\")\n",
        "  for block_index in required_blocks_indices:\n",
        "    if not blocks_run[block_index]:\n",
        "      raise Exception(\"You must first run block \"+str(block_index)+\"#\")\n",
        "\n",
        "\n",
        "def initialize_colab():\n",
        "  # Verify credentials\n",
        "  if id_number == 0 or group_number == 0:\n",
        "    raise Exception(\"Are you sure these details are correct?\") \n",
        "  # Optional imports\n",
        "  from scipy import stats\n",
        "  import statistics\n",
        "  import random\n",
        "  import io\n",
        "  from ipywidgets import interact, interactive, fixed, interact_manual\n",
        "  import ipywidgets as widgets\n",
        "  from termcolor import colored\n",
        "  from IPython.display import HTML\n",
        "\n",
        "  # Seaborn initialization\n",
        "  sns.set(style=\"white\", palette=\"muted\", color_codes=True)\n",
        "  sns.set(rc={'figure.figsize':(10,10)});\n",
        "  sns.set_context(\"talk\")\n",
        "\n",
        "  # Messages to user\n",
        "  print(\"ID number saved: \", id_number)\n",
        "  print(\"Group number saved: \", group_number)\n",
        "  print(\"\\nYou may now begin exercise \"+str(exercise_number)+\"#, good luck!\")\n",
        "\n",
        "  # Return new global data\n",
        "  return None\n",
        "\n",
        "\n",
        "try:\n",
        "  # Basic imports\n",
        "  import numpy as np\n",
        "  import matplotlib.pyplot as plt\n",
        "  import seaborn as sns\n",
        "  from math import sqrt\n",
        "  from scipy import stats\n",
        "  import pandas as pd\n",
        "\n",
        "  # Exercise specific imports\n",
        "  from ipywidgets import interact\n",
        "\n",
        "  # Global data for exercise\n",
        "  exercise_number = 4\n",
        "  id_number =   0#@param {type:\"integer\"}\n",
        "  group_number =   0#@param {type:\"integer\"}\n",
        "  initialize_colab()\n",
        "  answers = [None]*17\n",
        "  blocks_run = [True]*2+[False]*50\n",
        "  initialized = True\n",
        "  \n",
        "except Exception as e:\n",
        "  print(str(e))\n",
        "\n"
      ],
      "execution_count": null,
      "outputs": []
    },
    {
      "cell_type": "markdown",
      "metadata": {
        "id": "NxFfLIps89tb"
      },
      "source": [
        "**<font size=\"8\" color='cornflowerblue'><ins>Multiple choice questions</ins>** \n",
        "\n",
        "\n",
        "#**This part consists of 6 questions. Choose the correct answer in each of the following.** \n",
        "## **Note:** Each question has a <ins>single</ins> correct answer. "
      ]
    },
    {
      "cell_type": "markdown",
      "metadata": {
        "id": "2Eu3kFkSHqQ8"
      },
      "source": [
        "Block 2#\n"
      ]
    },
    {
      "cell_type": "code",
      "metadata": {
        "cellView": "form",
        "id": "XAknn4LmWE86"
      },
      "source": [
        "#@title **<font size=\"6\" color='cornflowerblue'><ins>Question 1</ins>** \n",
        "#@markdown #**What is the statistical conclusion that can be derived from a significant ANOVA?**\n",
        "\n",
        "block_id = 2\n",
        "question_id = 1\n",
        "\n",
        "def prepare_block():\n",
        "  try:\n",
        "    initialized\n",
        "  except:\n",
        "    raise Exception(\"You need to identify yourself in Block 1#\")\n",
        "  verify_dependencies(block_id)\n",
        "\n",
        "\n",
        "def block2():\n",
        "  # Get LOCAL answer from user\n",
        "  Answer = 'Choose the correct answer' #@param [\"Choose the correct answer\", \"With some level of confidence, there is at least one group in the sample with a different variance from the other groups.\", \"With some level of confidence, there is at least one group in the sample with a different expected value from the other groups\", \"With some level of confidence, all groups in the sample have different expected values\", \"With some level of confidence, all groups in the sample have different variances.\"]\n",
        "  # Verify answer is valid\n",
        "  if Answer == 'Choose the correct answer':\n",
        "    raise Exception(\"You must choose an answer\")\n",
        "  # Save answer\n",
        "  answers[question_id] = Answer\n",
        "  # Print saved answer\n",
        "  print(\"Your Answer is: \", answers[question_id])\n",
        "  # Return any data generated in this function that needs to become global\n",
        "\n",
        "\n",
        "try:\n",
        "  prepare_block()\n",
        "  # Get GLOBAL answer from user\n",
        "  \n",
        "  block2() # Use return values, if any, to create global variables\n",
        "  blocks_run[block_id] = True\n",
        "except Exception as e:\n",
        "  print(str(e))\n"
      ],
      "execution_count": null,
      "outputs": []
    },
    {
      "cell_type": "markdown",
      "metadata": {
        "id": "EnyPb_JIIndC"
      },
      "source": [
        "Block 3#\n"
      ]
    },
    {
      "cell_type": "code",
      "metadata": {
        "cellView": "form",
        "id": "88PwklbtG7xA"
      },
      "source": [
        "#@title **<font size=\"6\" color='cornflowerblue'><ins>Question 2</ins>** \n",
        "#@markdown #**In which of the following cases would you perform an ANOVA?**\n",
        "\n",
        "block_id = 3\n",
        "question_id = 2\n",
        "\n",
        "def prepare_block():\n",
        "  try:\n",
        "    initialized\n",
        "  except:\n",
        "    raise Exception(\"You need to identify yourself in Block 1#\")\n",
        "  verify_dependencies(block_id)\n",
        "\n",
        "\n",
        "def block3():\n",
        "  # Get LOCAL answer from user\n",
        "  Answer = 'Choose the correct answer' #@param [\"Choose the correct answer\", \"When you wish to examine whether different musicians (Kanye West, Taylor Swift, Miley Cyrus) use different amounts of words in their songs (a numerical parameter)\", \"When you wish to examine whether individuals in different heights (in centimeters) have different vocabularies (number of known words, a numerical parameter)\", \"When you wish to examine whether individuals with different professions (Psychologists, Geologists, Mathematicians) prefer different snacks (Bamba, Bisli, Pretzels)\", \"When you wish to examine whether individuals with different salaries (in Shekels, a numerical parameter) prefer different genres of movies (horror, comedy, drama)\"]\n",
        "  # Verify answer is valid\n",
        "  if Answer == 'Choose the correct answer':\n",
        "    raise Exception(\"You must choose an answer\")\n",
        "  # Save answer\n",
        "  answers[question_id] = Answer\n",
        "  # Print saved answer\n",
        "  print(\"Your Answer is: \", answers[question_id])\n",
        "  # Return any data generated in this function that needs to become global\n",
        "  return None\n",
        "\n",
        "try:\n",
        "  prepare_block()\n",
        "  # Get GLOBAL answer from user\n",
        "  \n",
        "  block3() # Use return values, if any, to create global variables\n",
        "  blocks_run[block_id] = True\n",
        "except Exception as e:\n",
        "  print(str(e))\n"
      ],
      "execution_count": null,
      "outputs": []
    },
    {
      "cell_type": "markdown",
      "metadata": {
        "id": "xGpx59LUJYN1"
      },
      "source": [
        "Block 4#\n"
      ]
    },
    {
      "cell_type": "code",
      "metadata": {
        "cellView": "form",
        "id": "hTYvZ07oJshQ"
      },
      "source": [
        "#@title **<font size=\"6\" color='cornflowerblue'><ins>Question 3</ins>** \n",
        "#@markdown #Running this block will generate distributions representing the number of Instagram followers of 100 Chess players (dark green), 100 Checkers players (light green), 100 Poker players (red), and 100 Black Jack players (Blue). Each group is visualized with a histogram (bars) and with a density estimation plot (line).\n",
        "\n",
        "block_id = 4\n",
        "\n",
        "def prepare_block():\n",
        "  try:\n",
        "    initialized\n",
        "  except:\n",
        "    raise Exception(\"You need to identify yourself in Block 1#\")\n",
        "  verify_dependencies(block_id)\n",
        "\n",
        "\n",
        "def block4():\n",
        "  # Gal's magic\n",
        "  fig,axes = plt.subplots(2,2)\n",
        "  fig.set_figwidth(16)\n",
        "  fig.tight_layout(pad=2.0)\n",
        "  # ****The options are 4 different graphs, each contains a histogram of 100\n",
        "  # samples from 4 defined populations and a matching density plot for each\n",
        "  # (100 for each group, color coded).\n",
        "  n=100\n",
        "  ngroups=4\n",
        "  np.random.seed(int(group_number))\n",
        "  titles = [[\"A\",\"B\"],[\"C\",\"D\"]]\n",
        "  mus = [[[120,110,100,90],[120,115,110,105]],[[120,115,110,105],[120,110,100,90]]]\n",
        "  sds = [[1.5,1.5],[3,3]]\n",
        "  xx = np.linspace(80, 130, 1000)\n",
        "  for i in range(2): #for each row\n",
        "    for j in range(2): #and column\n",
        "      axes[i,j].set_title(titles[i][j]);\n",
        "      for k in range(ngroups): #for each group\n",
        "        curr_group=np.random.normal(mus[i][j][k],sds[i][j],n)\n",
        "        axes[i,j].hist(curr_group,density=True,alpha=0.5)\n",
        "        kde = stats.gaussian_kde(curr_group)\n",
        "        axes[i,j].plot(xx,kde(xx))\n",
        "        axes[i,j].set_xlim(80,130)\n",
        "\n",
        "  # Return any data generated in this function that needs to become global\n",
        "  return None\n",
        "\n",
        "try:\n",
        "  prepare_block()\n",
        "  # Get GLOBAL answer from user\n",
        "  \n",
        "  block4() # Use return values, if any, to create global variables\n",
        "  blocks_run[block_id] = True\n",
        "except Exception as e:\n",
        "  print(str(e))\n"
      ],
      "execution_count": null,
      "outputs": []
    },
    {
      "cell_type": "markdown",
      "metadata": {
        "id": "TUv1gvO6JYeX"
      },
      "source": [
        "Block 5#\n"
      ]
    },
    {
      "cell_type": "code",
      "metadata": {
        "cellView": "form",
        "id": "e7dycYp9JfyJ"
      },
      "source": [
        "#@markdown #**In which of the scenarios would you calculate the biggest F value (there is no need to calculate)?**\n",
        "\n",
        "block_id = 5\n",
        "question_id = 3\n",
        "required_blocks = [4]\n",
        "\n",
        "def prepare_block():\n",
        "  try:\n",
        "    initialized\n",
        "  except:\n",
        "    raise Exception(\"You need to identify yourself in Block 1#\")\n",
        "  verify_dependencies(block_id, required_blocks)\n",
        "\n",
        "\n",
        "def block4():\n",
        "  # Get LOCAL answer from user\n",
        "  Graph = 'Choose the correct answer' #@param [\"Choose the correct answer\", \"A\", \"B\", \"C\", \"D\"]\n",
        "  # Verify answer is valid\n",
        "  if Graph == 'Choose the correct answer':\n",
        "    raise Exception(\"You must choose an answer\")\n",
        "  # Save answer\n",
        "  answers[question_id] = Graph\n",
        "  # Print saved answer\n",
        "  print(\"Your Answer is: \", answers[question_id])\n",
        "  # Return any data generated in this function that needs to become global\n",
        "  return None\n",
        "\n",
        "try:\n",
        "  prepare_block()\n",
        "  # Get GLOBAL answer from user\n",
        "  \n",
        "  block4() # Use return values, if any, to create global variables\n",
        "  blocks_run[block_id] = True\n",
        "except Exception as e:\n",
        "  print(str(e))\n"
      ],
      "execution_count": null,
      "outputs": []
    },
    {
      "cell_type": "markdown",
      "metadata": {
        "id": "5kDfmwhAJYkU"
      },
      "source": [
        "Block 6#\n"
      ]
    },
    {
      "cell_type": "code",
      "metadata": {
        "cellView": "form",
        "id": "0DRRu_U2K1-n"
      },
      "source": [
        "#@title **<font size=\"6\" color='cornflowerblue'><ins>Question 4</ins>** \n",
        "#@markdown #**A researcher performed an ANOVA on 4 groups with 30 observations in each group. What will happen if 5 points will be added to each observation in each group (a score of 30 will be updated to 35, for example)?**\n",
        "\n",
        "block_id = 6\n",
        "question_id = 4\n",
        "\n",
        "def prepare_block():\n",
        "  try:\n",
        "    initialized\n",
        "  except:\n",
        "    raise Exception(\"You need to identify yourself in Block 1#\")\n",
        "  verify_dependencies(block_id)\n",
        "\n",
        "\n",
        "def block6():\n",
        "  # Get LOCAL answer from user\n",
        "  Answer = 'Choose the correct answer' #@param [\"Choose the correct answer\", \"MSB will change, MSW will not change.\", \"MSB will not change, MSW will change.\", \"MSB and MSW will both change.\", \"MSB and MSW will not change.\"]\n",
        "  # Save answer\n",
        "  answers[question_id] = Answer\n",
        "  # Print saved answer\n",
        "  print(\"Your Answer is: \", answers[question_id])\n",
        "  # Return any data generated in this function that needs to become global\n",
        "  return None\n",
        "\n",
        "try:\n",
        "  prepare_block()\n",
        "  # Get GLOBAL answer from user\n",
        "  \n",
        "  block6() # Use return values, if any, to create global variables\n",
        "  blocks_run[block_id] = True\n",
        "except Exception as e:\n",
        "  print(str(e))\n"
      ],
      "execution_count": null,
      "outputs": []
    },
    {
      "cell_type": "markdown",
      "metadata": {
        "id": "dOEHk62hJYpo"
      },
      "source": [
        "Block 7#\n"
      ]
    },
    {
      "cell_type": "code",
      "metadata": {
        "cellView": "form",
        "id": "kJMrkcXaLgRT"
      },
      "source": [
        "#@title **<font size=\"6\" color='cornflowerblue'><ins>Question 5</ins>** \n",
        "#@markdown #Perform an ANOVA on the following sample (3 groups, 5 observations in each group).\n",
        "#@markdown 28, 22, 28, 25, 37 <br>\n",
        "#@markdown 29, 15, 31, 34, 31 <br>\n",
        "#@markdown 22, 23, 21, 24, 20\n",
        "#@markdown #**What is the F value?**\n",
        "\n",
        "block_id = 7\n",
        "question_id = 5\n",
        "\n",
        "def prepare_block():\n",
        "  try:\n",
        "    initialized\n",
        "  except:\n",
        "    raise Exception(\"You need to identify yourself in Block 1#\")\n",
        "  verify_dependencies(block_id)\n",
        "\n",
        "\n",
        "def block7():\n",
        "  # Get LOCAL answer from user\n",
        "  Answer = 0 #@param {type:\"number\"}\n",
        "  # Save answer\n",
        "  answers[question_id] = Answer\n",
        "  # Print saved answer\n",
        "  print(\"Your Answer is: \", answers[question_id])\n",
        "  # Return any data generated in this function that needs to become global\n",
        "  return None\n",
        "\n",
        "try:\n",
        "  prepare_block()\n",
        "  # Get GLOBAL answer from user\n",
        "  \n",
        "  block7() # Use return values, if any, to create global variables\n",
        "  blocks_run[block_id] = True\n",
        "except Exception as e:\n",
        "  print(str(e))\n"
      ],
      "execution_count": null,
      "outputs": []
    },
    {
      "cell_type": "markdown",
      "metadata": {
        "id": "P8jqUMvzJYtE"
      },
      "source": [
        "Block 8#\n"
      ]
    },
    {
      "cell_type": "code",
      "metadata": {
        "cellView": "form",
        "id": "VRzwvtkXMcP6"
      },
      "source": [
        "#@title **<font size=\"6\" color='cornflowerblue'><ins>Question 6</ins>** \n",
        "#@markdown #Ilya performed an ANOVA test with α = 0.05 and calculated the resulting F-value. The following graph represents the appropriate distribution to test the hypothesis of the ANOVA test and plots two possible candidates for the F-value of the experiment, marked with dashed lines A and B.\n",
        "#@markdown <img src=\"https://drive.google.com/uc?export=view&id=1nNY6Y3ht-XTuqpb_4fQLw15SJUAm3-tG\" alt=\"Markdown Monster icon\" style=\"float: left; margin-right: 10px;\"></img>\n",
        "#@markdown #**Fill in the blanks: <br>**\n",
        "#@markdown #**If the calculated F-value is _________, it is possible that Ilya calculated a p-value______. According to this p-value, it is _________ that the groups were sampled from the same population.**\n",
        "block_id = 8\n",
        "question_id = 6\n",
        "\n",
        "def prepare_block():\n",
        "  try:\n",
        "    initialized\n",
        "  except:\n",
        "    raise Exception(\"You need to identify yourself in Block 1#\")\n",
        "  verify_dependencies(block_id)\n",
        "\n",
        "\n",
        "def block8():\n",
        "  # Get LOCAL answer from user\n",
        "  Answer = 'Choose the correct answer' #@param [\"Choose the correct answer\", \"A, greater than 0.2, unlikely\", \"A, smaller than 0.05, likely\", \"B, smaller than 0.05, unlikely\", \"B, greater than 0.2, likely\"]\n",
        "  # Save answer\n",
        "  answers[question_id] = Answer\n",
        "  # Print saved answer\n",
        "  print(\"Your Answer is: \", answers[question_id])\n",
        "  # Return any data generated in this function that needs to become global\n",
        "  return None\n",
        "\n",
        "try:\n",
        "  prepare_block()\n",
        "  # Get GLOBAL answer from user\n",
        "  \n",
        "  block8() # Use return values, if any, to create global variables\n",
        "  blocks_run[block_id] = True\n",
        "except Exception as e:\n",
        "  print(str(e))\n"
      ],
      "execution_count": null,
      "outputs": []
    },
    {
      "cell_type": "markdown",
      "metadata": {
        "id": "6LRb0PP7IZh1"
      },
      "source": [
        "**<font size=\"10\" color='cornflowerblue'><ins>Interactive Questions </ins>** \n",
        "\n"
      ]
    },
    {
      "cell_type": "markdown",
      "metadata": {
        "id": "oJSiTi_jN-N9"
      },
      "source": [
        "**<font size=\"6\" color='cornflowerblue'><ins>Question 7</ins>** </font>\n",
        "\n",
        "#The following table includes data gathered by the “Sports Psychology Lab”. Each cell contains the number of goals scored by a single professional football player throughout a full year. The first column contains players that received an anti-anxiety psychological treatment (experimental group 1), the second column contains players that received an experimental virtual reality treatment (experimental group 2), the third column contains players that took freezing showers before matches (experimental group 3), and the fourth column contains players that did not receive any treatment at all (control group)."
      ]
    },
    {
      "cell_type": "markdown",
      "metadata": {
        "id": "ttNU3ip5JYwP"
      },
      "source": [
        "Block 9#\n"
      ]
    },
    {
      "cell_type": "code",
      "metadata": {
        "id": "nPk8QoppOGBH",
        "cellView": "form"
      },
      "source": [
        "#@title #**<font size=\"6\" color='cornflowerblue'><ins>Show me the data!</ins>** \n",
        "\n",
        "block_id = 9\n",
        "def prepare_block():\n",
        "  try:\n",
        "    initialized\n",
        "  except:\n",
        "    raise Exception(\"You need to identify yourself in Block 1#\")\n",
        "  verify_dependencies(block_id)\n",
        "\n",
        "\n",
        "try:\n",
        "  prepare_block()\n",
        "  # Mark block as run\n",
        "  blocks_run[block_id] = True\n",
        "except Exception as e:\n",
        "  print(str(e))\n",
        "\n",
        "\n",
        "np.random.seed(int(group_number))\n",
        "sd = np.random.choice(np.arange(6,10))\n",
        "data_footbal = pd.DataFrame({\"(1) Anti-anxiety\":(np.random.normal(18,sd,30).astype(int)),\n",
        "                            \"(2) Virtual reality\":(np.random.normal(20,sd,30).astype(int)),\n",
        "                            \"(3) Freezing showers\":(np.random.normal(21,sd,30).astype(int)),\n",
        "                            \"(4) Control\":(np.random.normal(18,sd,30).astype(int))})\n",
        "data_footbal.style\n",
        "\n",
        "#IDIOSYNCRATIC\n",
        "#Note: I was unable to move the code inside a function. \n",
        "#sd is now a global variable! (unwanted behaviour) "
      ],
      "execution_count": null,
      "outputs": []
    },
    {
      "cell_type": "markdown",
      "metadata": {
        "id": "9vT4LLBjJYzE"
      },
      "source": [
        "Block 10#\n"
      ]
    },
    {
      "cell_type": "code",
      "metadata": {
        "id": "hoHTos-fquZp",
        "cellView": "form"
      },
      "source": [
        "#@title #**<font size=\"6\" color='cornflowerblue'><ins>Question 7.1</ins>** \n",
        "#@markdown #Nikita would like to know whether the anti-anxiety has any effect (negative or positive), compared to no treatment at all. What statistical test should he perform?\n",
        "#@markdown #**Choose the test**\n",
        "\n",
        "block_id = 10\n",
        "question_id = 7\n",
        "\n",
        "def prepare_block():\n",
        "  try:\n",
        "    initialized\n",
        "  except:\n",
        "    raise Exception(\"You need to identify yourself in Block 1#\")\n",
        "  verify_dependencies(block_id)\n",
        "\n",
        "def block10():\n",
        "  # Get LOCAL answer from user\n",
        "  #@markdown &nbsp;&nbsp;&nbsp;&nbsp; ANOVA\n",
        "  option1 = False #@param {type:\"boolean\"}\n",
        "  #@markdown &nbsp;&nbsp;&nbsp;&nbsp; One-tailed t-test\n",
        "  option2= False #@param {type:\"boolean\"}\n",
        "  #@markdown &nbsp;&nbsp;&nbsp;&nbsp; Two-tailed t-test\n",
        "  option3= False #@param {type:\"boolean\"}\n",
        "  #@markdown &nbsp;&nbsp;&nbsp;&nbsp; One-tailed Z test\n",
        "  option4= False #@param {type:\"boolean\"}\n",
        "  #@markdown &nbsp;&nbsp;&nbsp;&nbsp; Two-tailed Z test\n",
        "  option5= False #@param {type:\"boolean\"}\n",
        "  #@markdown #**Choose the groups**\n",
        "  #@markdown &nbsp;&nbsp;&nbsp;&nbsp; Experimental group 1 (anti-anxiety treatment)\n",
        "  option6= False #@param {type:\"boolean\"}\n",
        "  #@markdown &nbsp;&nbsp;&nbsp;&nbsp; Experimental group 2 (virtual reality treatment)\n",
        "  option7= False #@param {type:\"boolean\"}\n",
        "  #@markdown &nbsp;&nbsp;&nbsp;&nbsp; Experimental group 3 (freezing showers)\n",
        "  option8= False #@param {type:\"boolean\"}\n",
        "  #@markdown &nbsp;&nbsp;&nbsp;&nbsp; Control group\n",
        "  option9= False #@param {type:\"boolean\"}\n",
        "  answer = (option1, option2, option3, option4, option5, option6, option7, option8, option9)\n",
        "\n",
        "  # Save answer\n",
        "  answers[question_id] = answer\n",
        "  # Print saved answer\n",
        "  print(\"Your Answers are: \")\n",
        "  for ans in answers[question_id]:\n",
        "    print(ans)\n",
        "  # Return any data generated in this function that needs to become global\n",
        "\n",
        "try:\n",
        "  prepare_block()\n",
        "  # Get GLOBAL answer from user\n",
        "  \n",
        "  block10() # Use return values, if any, to create global variables\n",
        "  blocks_run[block_id] = True\n",
        "except Exception as e:\n",
        "  print(str(e))\n"
      ],
      "execution_count": null,
      "outputs": []
    },
    {
      "cell_type": "markdown",
      "metadata": {
        "id": "h6lT5xh0JY14"
      },
      "source": [
        "Block 11#\n"
      ]
    },
    {
      "cell_type": "code",
      "metadata": {
        "cellView": "form",
        "id": "6-HyIdy3TNvS"
      },
      "source": [
        "#@title #**<font size=\"6\" color='cornflowerblue'><ins>Question 7.2</ins>** \n",
        "#@markdown #Dolev would like to know whether the virtual reality treatment is better than the freezing showers treatment. What statistical test should he perform?\n",
        "#@markdown #**Choose the test**\n",
        "\n",
        "block_id = 11\n",
        "question_id = 8\n",
        "\n",
        "def prepare_block():\n",
        "  try:\n",
        "    initialized\n",
        "  except:\n",
        "    raise Exception(\"You need to identify yourself in Block 1#\")\n",
        "  verify_dependencies(block_id)\n",
        "\n",
        "def block11():\n",
        "  # Get LOCAL answer from user\n",
        "  #@markdown &nbsp;&nbsp;&nbsp;&nbsp; ANOVA\n",
        "  option1 = False #@param {type:\"boolean\"}\n",
        "  #@markdown &nbsp;&nbsp;&nbsp;&nbsp; One-tailed t-test\n",
        "  option2= False #@param {type:\"boolean\"}\n",
        "  #@markdown &nbsp;&nbsp;&nbsp;&nbsp; Two-tailed t-test\n",
        "  option3= False #@param {type:\"boolean\"}\n",
        "  #@markdown &nbsp;&nbsp;&nbsp;&nbsp; One-tailed Z test\n",
        "  option4= False #@param {type:\"boolean\"}\n",
        "  #@markdown &nbsp;&nbsp;&nbsp;&nbsp; Two-tailed Z test\n",
        "  option5= False #@param {type:\"boolean\"}\n",
        "  #@markdown #**Choose the groups**\n",
        "  #@markdown &nbsp;&nbsp;&nbsp;&nbsp; Experimental group 1 (psychological treatment)\n",
        "  option6= False #@param {type:\"boolean\"}\n",
        "  #@markdown &nbsp;&nbsp;&nbsp;&nbsp; Experimental group 2 (virtual reality treatment)\n",
        "  option7= False #@param {type:\"boolean\"}\n",
        "  #@markdown &nbsp;&nbsp;&nbsp;&nbsp; Experimental group 3 (freezing showers)\n",
        "  option8= False #@param {type:\"boolean\"}\n",
        "  #@markdown &nbsp;&nbsp;&nbsp;&nbsp; Control group\n",
        "  option9= False #@param {type:\"boolean\"}\n",
        "  answer = (option1, option2, option3, option4, option5, option6, option7, option8, option9)\n",
        "\n",
        "  # Save answer\n",
        "  answers[question_id] = answer\n",
        "  # Print saved answer\n",
        "  print(\"Your Answers are: \")\n",
        "  for ans in answers[question_id]:\n",
        "    print(ans)\n",
        "  # Return any data generated in this function that needs to become global\n",
        "\n",
        "try:\n",
        "  prepare_block()\n",
        "  # Get GLOBAL answer from user\n",
        "  \n",
        "  block11() # Use return values, if any, to create global variables\n",
        "  blocks_run[block_id] = True\n",
        "except Exception as e:\n",
        "  print(str(e))\n"
      ],
      "execution_count": null,
      "outputs": []
    },
    {
      "cell_type": "markdown",
      "metadata": {
        "id": "8hxsXeNtJY4q"
      },
      "source": [
        "Block 12#\n"
      ]
    },
    {
      "cell_type": "code",
      "metadata": {
        "cellView": "form",
        "id": "IUJu8v7BTzMQ"
      },
      "source": [
        "#@title #**<font size=\"6\" color='cornflowerblue'><ins>Question 7.3</ins>** \n",
        "#@markdown #Barak is the head of the lab. He thinks that nothing matters except for hard work. Barak would like to know if there is any difference between the four groups. What statistical test should he perform?\n",
        "#@markdown #**Choose the test**\n",
        "\n",
        "block_id = 12\n",
        "question_id = 9\n",
        "\n",
        "def prepare_block():\n",
        "  try:\n",
        "    initialized\n",
        "  except:\n",
        "    raise Exception(\"You need to identify yourself in Block 1#\")\n",
        "  verify_dependencies(block_id)\n",
        "\n",
        "def block12():\n",
        "  # Get LOCAL answer from user\n",
        "  #@markdown &nbsp;&nbsp;&nbsp;&nbsp; ANOVA\n",
        "  option1 = False #@param {type:\"boolean\"}\n",
        "  #@markdown &nbsp;&nbsp;&nbsp;&nbsp; One-tailed t-test\n",
        "  option2= False #@param {type:\"boolean\"}\n",
        "  #@markdown &nbsp;&nbsp;&nbsp;&nbsp; Two-tailed t-test\n",
        "  option3= False #@param {type:\"boolean\"}\n",
        "  #@markdown &nbsp;&nbsp;&nbsp;&nbsp; One-tailed Z test\n",
        "  option4= False #@param {type:\"boolean\"}\n",
        "  #@markdown &nbsp;&nbsp;&nbsp;&nbsp; Two-tailed Z test\n",
        "  option5= False #@param {type:\"boolean\"}\n",
        "  #@markdown #**Choose the groups**\n",
        "  #@markdown &nbsp;&nbsp;&nbsp;&nbsp; Experimental group 1 (psychological treatment)\n",
        "  option6= False #@param {type:\"boolean\"}\n",
        "  #@markdown &nbsp;&nbsp;&nbsp;&nbsp; Experimental group 2 (virtual reality treatment)\n",
        "  option7= False #@param {type:\"boolean\"}\n",
        "  #@markdown &nbsp;&nbsp;&nbsp;&nbsp; Experimental group 3 (freezing showers)\n",
        "  option8= False #@param {type:\"boolean\"}\n",
        "  #@markdown &nbsp;&nbsp;&nbsp;&nbsp; Control group\n",
        "  option9= False #@param {type:\"boolean\"}\n",
        "  answer = (option1, option2, option3, option4, option5, option6, option7, option8, option9)\n",
        "  # Save answer\n",
        "  answers[question_id] = answer\n",
        "  # Print saved answer\n",
        "  print(\"Your Answers are: \")\n",
        "  for ans in answers[question_id]:\n",
        "    print(ans)\n",
        "  # Return any data generated in this function that needs to become global\n",
        "try:\n",
        "  prepare_block()\n",
        "  # Get GLOBAL answer from user\n",
        "  \n",
        "  block12() # Use return values, if any, to create global variables\n",
        "  blocks_run[block_id] = True\n",
        "except Exception as e:\n",
        "  print(str(e))\n"
      ],
      "execution_count": null,
      "outputs": []
    },
    {
      "cell_type": "markdown",
      "metadata": {
        "id": "mJhnOnqe4SvM"
      },
      "source": [
        "**<font size=\"6\" color='cornflowerblue'><ins>Question 8</ins>** </font>\n",
        "#When we perform an ANOVA test, we use the F-distribution. In the following question we will build it from scratch using repeated sampling and what we already know about ANOVA.\n",
        "#You will need to choose how to create the F-distribution such that it reflects the null hypothesis.\n"
      ]
    },
    {
      "cell_type": "markdown",
      "metadata": {
        "id": "B7tmy3feUCmt"
      },
      "source": [
        "Block 13#\n"
      ]
    },
    {
      "cell_type": "code",
      "metadata": {
        "id": "U1bBQewefmkb",
        "cellView": "form"
      },
      "source": [
        "#@title #The distribution we want to create is:\n",
        "\n",
        "block_id = 13\n",
        "required_blocks = []\n",
        "\n",
        "def prepare_block():\n",
        "  try:\n",
        "    initialized\n",
        "  except:\n",
        "    raise Exception(\"You need to identify yourself in Block 1#\")\n",
        "  verify_dependencies(block_id, required_blocks)\n",
        "\n",
        "def block13():\n",
        "  # Get LOCAL answer from user\n",
        "  # Verify LOCAL answer is valid\n",
        "  # Save LOCAL answer\n",
        "  # Print LOCAL saved answer\n",
        "  # Return any data generated in this function that needs to become global\n",
        "  pass\n",
        "\n",
        "try:\n",
        "  prepare_block()\n",
        "  # Get GLOBAL answer from user\n",
        "  # Verify GLOBAL answer is valid\n",
        "  # Save GLOBAL answer\n",
        "  # Print GLOBAL saved answer\n",
        "  block13() # Use return values, if any, to create global variables\n",
        "  # Gal's magic\n",
        "  np.random.seed(int(group_number))\n",
        "  corr_n=np.random.choice([15,20,25,30,35])\n",
        "  corr_k=np.random.choice([3,4,5,6,7])\n",
        "  df1=corr_k-1\n",
        "  df2=corr_n*corr_k-corr_k\n",
        "  print(f\"F({df1},{df2})\")\n",
        "  # Mark block as run\n",
        "  blocks_run[block_id] = True\n",
        "except Exception as e:\n",
        "  print(str(e))\n",
        "\n",
        "#Avner -  corr_n, corr_k, df1, df2 are global"
      ],
      "execution_count": null,
      "outputs": []
    },
    {
      "cell_type": "markdown",
      "metadata": {
        "id": "5H7nv9KGgIQi"
      },
      "source": [
        "#Your goal is to find a way to visualize the distribution using the provided tool, which allows you to sample K groups of size n. First, set the number of groups (**K**), and the number of observations in each group (**n**). The total number of observations across all groups is **N**."
      ]
    },
    {
      "cell_type": "markdown",
      "metadata": {
        "id": "otGjGSHHUCuc"
      },
      "source": [
        "Block 14#\n"
      ]
    },
    {
      "cell_type": "code",
      "metadata": {
        "id": "wd6uzrFzgr9M",
        "cellView": "form"
      },
      "source": [
        "#@title **<font size=\"6\" color='cornflowerblue'><ins>Question 8.1</ins>** \n",
        "#@markdown #**Choose k and n for your sampling**\n",
        "\n",
        "block_id = 14\n",
        "question_id = 10\n",
        "required_blocks = range(12, block_id)\n",
        "\n",
        "def prepare_block():\n",
        "  try:\n",
        "    initialized\n",
        "  except:\n",
        "    raise Exception(\"You need to identify yourself in Block 1#\")\n",
        "  verify_dependencies(block_id, required_blocks)\n",
        "\n",
        "\n",
        "def block14():\n",
        "  # Get LOCAL answer from user\n",
        "  # Verify LOCAL answer is valid\n",
        "  # Save LOCAL answer\n",
        "  # Print LOCAL saved answer\n",
        "  # Return any data generated in this function that needs to become global\n",
        "  pass\n",
        "\n",
        "\n",
        "try:\n",
        "  prepare_block()\n",
        "  # Get GLOBAL answer from user\n",
        "  n = 3 #@param {type:\"slider\", min:1}\n",
        "  k = 2 #@param {type:\"slider\", min:1, max:7}\n",
        "  N = n * k\n",
        "  # Verify GLOBAL answer is valid\n",
        "  # Save GLOBAL answer\n",
        "  answers[question_id] = (n, k)\n",
        "  # ???\n",
        "  # Print GLOBAL saved answer\n",
        "  print(f\"k: {k}\\nn: {n}\\nN: {N}\")\n",
        "  block14() # Use return values, if any, to create global variables\n",
        "  # Mark block as run\n",
        "  blocks_run[block_id] = True\n",
        "except Exception as e:\n",
        "  print(str(e))\n",
        "\n",
        "#k, n, N are global"
      ],
      "execution_count": null,
      "outputs": []
    },
    {
      "cell_type": "markdown",
      "metadata": {
        "id": "EtKFzGnlUC0E"
      },
      "source": [
        "Block 15#\n"
      ]
    },
    {
      "cell_type": "code",
      "metadata": {
        "cellView": "form",
        "id": "Sv_j04bG9jP3"
      },
      "source": [
        "#@title **<font size=\"6\" color='cornflowerblue'><ins>Question 8.2</ins>** \n",
        "#@markdown #Now define the population(s) from which you sample **k** times.\n",
        "#@markdown #**Complete the sentence: The populations you sample from have means and variances which are _____.**\n",
        "\n",
        "block_id = 15\n",
        "question_id = 11\n",
        "required_blocks = range(12, block_id)\n",
        "\n",
        "def prepare_block():\n",
        "  try:\n",
        "    initialized\n",
        "  except:\n",
        "    raise Exception(\"You need to identify yourself in Block 1#\")\n",
        "  verify_dependencies(block_id, required_blocks)\n",
        "\n",
        "\n",
        "def block15():\n",
        "  # Get LOCAL answer from user\n",
        "  Answer = \"Choose the correct answer\" #@param [\"Choose the correct answer\", \"Identical, because the process won't work unless there is an 'effect'\", \"Identical, because the process won't work if there is an 'effect'\", \"Different, because the process won't work unless there is an 'effect'\", \"Different, because the process won't work if there is an 'effect'\"]\n",
        "  # Verify answer is valid\n",
        "  if Answer == 'Choose the correct answer':\n",
        "    raise Exception(\"You must choose an answer\")\n",
        "  # Save answer\n",
        "  answers[question_id] = Answer\n",
        "  # Print saved answer\n",
        "  print(\"Your Answer is: \", answers[question_id])\n",
        "  # Return any data generated in this function that needs to become global\n",
        "  return None\n",
        "\n",
        "\n",
        "try:\n",
        "  prepare_block()\n",
        "  # Get GLOBAL answer from user\n",
        "  block15() # Use return values, if any, to create global variables\n",
        "  blocks_run[block_id] = True\n",
        "except Exception as e:\n",
        "  print(str(e))\n"
      ],
      "execution_count": null,
      "outputs": []
    },
    {
      "cell_type": "markdown",
      "metadata": {
        "id": "wAhKXRtuUC5V"
      },
      "source": [
        "Block 16#\n"
      ]
    },
    {
      "cell_type": "code",
      "metadata": {
        "id": "cn9hldJui-Ro",
        "cellView": "form"
      },
      "source": [
        "#@title **<font size=\"6\" color='cornflowerblue'><ins>Question 8.3</ins>** \n",
        "#@markdown #Set the different expected values of the population(s) from which you will be sampling. If you sample from different **k** populations, set the first **k** expected values. If you sample from **one** population, set the first one only and leave the rest on X\n",
        "\n",
        "block_id = 16\n",
        "question_id = 12\n",
        "required_blocks = range(12, block_id)\n",
        "\n",
        "def prepare_block():\n",
        "  try:\n",
        "    initialized\n",
        "  except:\n",
        "    raise Exception(\"You need to identify yourself in Block 1#\")\n",
        "  verify_dependencies(block_id, required_blocks)\n",
        "\n",
        "\n",
        "def block16():\n",
        "  pass\n",
        "\n",
        "\n",
        "try:\n",
        "  prepare_block()\n",
        "  # Get GLOBAL answer from user\n",
        "  expected_value_population_1 = \"X\" #@param [\"X\",5, 10, 20, 40, 80, 120, 200]\n",
        "  expected_value_population_2 = \"X\" #@param [\"X\",5, 10, 20, 40, 80, 120, 200]\n",
        "  expected_value_population_3 = \"X\" #@param [\"X\",5, 10, 20, 40, 80, 120, 200]\n",
        "  expected_value_population_4 = \"X\" #@param [\"X\",5, 10, 20, 40, 80, 120, 200]\n",
        "  expected_value_population_5 = \"X\" #@param [\"X\",5, 10, 20, 40, 80, 120, 200]\n",
        "  expected_value_population_6 = \"X\" #@param [\"X\",5, 10, 20, 40, 80, 120, 200]\n",
        "  expected_value_population_7 = \"X\" #@param [\"X\",5, 10, 20, 40, 80, 120, 200]\n",
        "  # Verify GLOBAL answer is valid\n",
        "  exp_vals = [expected_value_population_1,expected_value_population_2 ,expected_value_population_3,expected_value_population_4 ,expected_value_population_5, expected_value_population_6 ,expected_value_population_7]\n",
        "  answers[question_id] = exp_vals\n",
        "  for i in range(len(exp_vals)):\n",
        "    if exp_vals[i]==\"X\":\n",
        "      exp_vals[i] = exp_vals[0];\n",
        "  if exp_vals[0]==\"X\":\n",
        "    raise Exception(\"You must choose at least one value\")\n",
        "  # Save GLOBAL answer\n",
        "  # Print GLOBAL saved answer\n",
        "  print(\"Saved expected value(s) and standard deviation(s)!\")\n",
        "  block16() # Use return values, if any, to create global variables\n",
        "  blocks_run[block_id] = True\n",
        "except Exception as e:\n",
        "  print(str(e))\n",
        "\n"
      ],
      "execution_count": null,
      "outputs": []
    },
    {
      "cell_type": "markdown",
      "metadata": {
        "id": "9QseomjskjiH"
      },
      "source": [
        "\n",
        "## Each time you press the button below, we will sample 20,000 times based on your previous decisions. Choose which statistic from the following list you would like to store after each round. \n",
        "\n",
        "####For example, if you chose n=15 and stored the maximum value of each sample, each run will sample 15 observations to each of the groups and the maximum value of each group will be stored. Then, everything but the stored values will be deleted, and a new sample will be collected, until the process is repeated 20,000 times. Limit yourself to the minimum amount of parameters you can, while still achieving your goal.\n",
        "\n",
        "For your convenience:\n",
        "## $$ SST = \\sum_{j=1}^k\\sum_{i=1}^{n_j} (x_{i,j}-\\overline{x})^2 $$\n",
        "## $$ SSB = \\sum_{j=1}^k n_j (\\overline{x}_{j}-\\overline{x})^2 $$\n",
        "## $$ SSW = \\sum_{j=1}^k\\sum_{i=1}^{n_j} (x_{i,j}-\\overline{x}_j)^2 $$\n",
        "\n",
        "$${MSW} = \\frac{SSW}{N-k}$$\n",
        "\n",
        "$${MSB} = \\frac{SSB}{k-1}$$"
      ]
    },
    {
      "cell_type": "markdown",
      "metadata": {
        "id": "F1AX_g-vUC7z"
      },
      "source": [
        "Block 17#\n"
      ]
    },
    {
      "cell_type": "code",
      "metadata": {
        "cellView": "form",
        "id": "ZYmyti46A6OT"
      },
      "source": [
        "#@title #**<font size=\"6\" color='cornflowerblue'><ins>Question 8.4</ins>** \n",
        "#@markdown #**What values should we keep?**\n",
        "#@markdown Running this block may take a moment...\n",
        "\n",
        "block_id = 17\n",
        "question_id = 13\n",
        "required_blocks = range(12, block_id)\n",
        "\n",
        "def prepare_block():\n",
        "  try:\n",
        "    initialized\n",
        "  except:\n",
        "    raise Exception(\"You need to identify yourself in Block 1#\")\n",
        "  verify_dependencies(block_id, required_blocks)\n",
        "\n",
        "def block17():\n",
        "  B=20000 # Not sure if this should be global instead of local\n",
        "  standard_deviation_population = 10\n",
        "  # Get LOCAL answer from user\n",
        "  save_MSB = False #@param {type:\"boolean\"}\n",
        "  save_SST = False #@param {type:\"boolean\"}\n",
        "  save_Overall_mean = False #@param {type:\"boolean\"}\n",
        "  save_Overall_standard_deviation= False #@param {type:\"boolean\"}\n",
        "  save_MSW = False #@param {type:\"boolean\"}\n",
        "  answer = (save_MSB, save_SST, save_Overall_mean, save_Overall_standard_deviation, save_MSW)\n",
        "  # Save answer\n",
        "  answers[question_id] = answer\n",
        "  # Print saved answer\n",
        "  print(\"Your Answers are: \")\n",
        "  for ans in answers[question_id]:\n",
        "    print(ans)\n",
        "  # Process data\n",
        "  MSB = np.zeros(B)\n",
        "  SST = np.zeros(B)\n",
        "  Overall_mean = np.zeros(B)\n",
        "  Overall_standard_deviation = np.zeros(B)\n",
        "  MSW = np.zeros(B) \n",
        "  for i in range(B):\n",
        "    samples=np.zeros((k,n))\n",
        "    for j in range(k):\n",
        "      samples[j]=np.random.normal(float(exp_vals[j]),standard_deviation_population,n)\n",
        "    Overall_mean[i] =  np.mean(samples)\n",
        "    Overall_standard_deviation[i] = np.std(samples)\n",
        "    means = np.mean(samples,1)\n",
        "    SSB = np.sum(n*(Overall_mean[i]-means)**2)\n",
        "    SSW = np.sum((samples.transpose()- means).transpose()**2)\n",
        "    MSB[i] = SSB/(k-1)\n",
        "    MSW[i] = SSW/(N-k)\n",
        "    SST[i] = np.sum((Overall_mean[i]-samples)**2)\n",
        "  # Return any data generated in this function that needs to become global\n",
        "  return [MSB,SST,Overall_mean,Overall_standard_deviation,MSW]\n",
        "\n",
        "\n",
        "try:\n",
        "  prepare_block()\n",
        "  # Get GLOBAL answer from user\n",
        "  all_list = block17() # Use return values, if any, to create global variables\n",
        "  blocks_run[block_id] = True\n",
        "except Exception as e:\n",
        "  print(str(e))\n",
        "\n"
      ],
      "execution_count": null,
      "outputs": []
    },
    {
      "cell_type": "markdown",
      "metadata": {
        "id": "WC_2zuBSs3H2"
      },
      "source": [
        "### You now have lists of statistics that contain a single value from each sample. Those lists are ordered, so the first value in each list corresponds to the first sample, the second value corresponds to the second sample and so on. Accordingly, each list contains 20000 values. \n"
      ]
    },
    {
      "cell_type": "markdown",
      "metadata": {
        "id": "GtcEraWKUC-n"
      },
      "source": [
        "Block 18#\n"
      ]
    },
    {
      "cell_type": "code",
      "metadata": {
        "cellView": "form",
        "id": "Yp0P1PKXEigm"
      },
      "source": [
        "#@title **<font size=\"6\" color='cornflowerblue'><ins>Question 8.5</ins>** \n",
        "#@markdown #**What computation should be done in order to create a new list of values that will allow you to accurately estimate the distribution?**\n",
        "#@markdown Please set **numerator/denominator**\n",
        "\n",
        "block_id = 18\n",
        "question_id = 14\n",
        "required_blocks = range(12, block_id)\n",
        "\n",
        "def prepare_block():\n",
        "  try:\n",
        "    initialized\n",
        "  except:\n",
        "    raise Exception(\"You need to identify yourself in Block 1#\")\n",
        "  verify_dependencies(block_id, required_blocks)\n",
        "\n",
        "\n",
        "def block18():\n",
        "  # Get LOCAL answer from user\n",
        "  choices=np.array([\"Choose the correct answer\",\"MSB\",\"SST\",\"Overall_mean\",\"Overall_standard_deviation\",\"MSW\"])\n",
        "  numerator = \"Choose the correct answer\" #@param [\"Choose the correct answer\",\"MSB\",\"SST\",\"Overall_mean\",\"Overall_standard_deviation\",\"MSW\"]\n",
        "  denominator = \"Choose the correct answer\" #@param [\"Choose the correct answer\",\"MSB\",\"SST\",\"Overall_mean\",\"Overall_standard_deviation\",\"MSW\"]\n",
        "  # Verify answer is valid\n",
        "  if numerator == 'Choose the correct answer':\n",
        "    raise Exception(\"You must choose a numerator\")\n",
        "  if denominator == 'Choose the correct answer':\n",
        "    raise Exception(\"You must choose a denominator\")\n",
        "  # Process answer\n",
        "  num_index = int(np.where(numerator==choices)[0]-1)\n",
        "  den_index = int(np.where(denominator==choices)[0]-1)\n",
        "  if denominator == 'MSB':\n",
        "    F_vals = all_list[num_index]/(all_list[den_index]+1)\n",
        "  else:\n",
        "    F_vals = all_list[num_index]/all_list[den_index]\n",
        "  # Save answer\n",
        "  answers[question_id] = (numerator, denominator)\n",
        "  # Message to user\n",
        "  print(\"Your Answer is: \", answers[question_id])\n",
        "  print(f\"F-values list: {F_vals}\")\n",
        "  # Return any data generated in this function that needs to become global\n",
        "  return F_vals\n",
        "\n",
        "\n",
        "try:\n",
        "  prepare_block()\n",
        "  # Get GLOBAL answer from user\n",
        "  F_vals = block18() # Use return values, if any, to create global variables\n",
        "  blocks_run[block_id] = True\n",
        "except Exception as e:\n",
        "  print(str(e))\n",
        "\n",
        "# Avner - depends on 7.4, F_vals is global\n"
      ],
      "execution_count": null,
      "outputs": []
    },
    {
      "cell_type": "markdown",
      "metadata": {
        "id": "jfK5R4PXUDBE"
      },
      "source": [
        "Block 19#\n"
      ]
    },
    {
      "cell_type": "code",
      "metadata": {
        "cellView": "form",
        "id": "c1ntwa7QHgae"
      },
      "source": [
        "#@title **<font size=\"6\" color='cornflowerblue'><ins>Question 8.6</ins>** \n",
        "#@markdown #You now have a single list of 20,000 values.\n",
        "#@markdown #**How would you visualize it to estimate the required F distribution?**\n",
        "\n",
        "block_id = 19\n",
        "question_id = 15\n",
        "required_blocks = range(12, block_id)\n",
        "\n",
        "def prepare_block():\n",
        "  try:\n",
        "    initialized\n",
        "  except:\n",
        "    raise Exception(\"You need to identify yourself in Block 1#\")\n",
        "  verify_dependencies(block_id, required_blocks)\n",
        "\n",
        "\n",
        "def block19():\n",
        "  sample=F_vals\n",
        "  # Get LOCAL answer from user\n",
        "  x_axis = 'Choose an answer' #@param [\"Choose an answer\", \"Values\",\"Observation number\"] {allow-input: false}\n",
        "  y_axis = \"Choose an answer\" #@param [\"Choose an answer\", \"Values\", \"Density\"] {allow-input: false}\n",
        "  # Verify answer is valid\n",
        "  if x_axis == 'Choose an answer':\n",
        "    raise Exception(\"You must choose X axis\")\n",
        "  if y_axis == 'Choose an answer':\n",
        "    raise Exception(\"You must choose Y axis\")  # Save answer\n",
        "  answers[question_id] = (x_axis, y_axis)\n",
        "  # Process\n",
        "  if x_axis == \"Values\":\n",
        "    if y_axis == \"Values\":\n",
        "      plot1_6_1 = sns.scatterplot(x=sample, y=sample);\n",
        "      plot1_6_1.set(xlabel=x_axis, ylabel=y_axis)\n",
        "    elif y_axis == \"Density\":\n",
        "      print(f\"The 95% percentile is at: {np.quantile(sample,.95)}\")\n",
        "      sns.displot(sample,kde=1,aspect=1.5,stat=\"density\")\n",
        "      plt.axvline(x=np.quantile(sample,.95), color='r', linestyle='--', label= \"95% of distribution\"); ##the blue line signals for 95% of the distribution\n",
        "      plt.xlabel(\"Your statistic\")\n",
        "      plt.legend();\n",
        "      plt.xlim(0,5);\n",
        "      plt.title(f'The distribution of your statistic');\n",
        "  else:\n",
        "    if y_axis == \"Values\":\n",
        "      plot1_6_1 = sns.barplot(x=np.arange(1,200), y=sample[1:200]);\n",
        "      plot1_6_1.set(xlabel=x_axis, ylabel=y_axis)\n",
        "      plt.xticks([])\n",
        "    elif y_axis == \"Density\":\n",
        "      plot1_6_1 = sns.barplot(x=np.arange(1,100), y=np.repeat(1/len(sample),99), color='black');\n",
        "      plot1_6_1.set(xlabel=x_axis, ylabel=y_axis)\n",
        "      plt.xticks([])\n",
        "  # Message to user\n",
        "  print(\"Your Answer is: \", answers[question_id])\n",
        "  # Return any data generated in this function that needs to become global\n",
        "  return None\n",
        "\n",
        "try:\n",
        "  prepare_block()\n",
        "  # Get GLOBAL answer from user\n",
        "  block19() # Use return values, if any, to create global variables\n",
        "  blocks_run[block_id] = True\n",
        "except Exception as e:\n",
        "  print(str(e))\n"
      ],
      "execution_count": null,
      "outputs": []
    },
    {
      "cell_type": "markdown",
      "metadata": {
        "id": "5mIZKgspUDDi"
      },
      "source": [
        "Block 20#\n"
      ]
    },
    {
      "cell_type": "code",
      "metadata": {
        "id": "sDM016aC5gHQ",
        "cellView": "form"
      },
      "source": [
        "#@title #The actual F distribution\n",
        "#@markdown (Ask yourself: is it similar to what you created?)\n",
        "\n",
        "block_id = 20\n",
        "required_blocks = range(12, block_id)\n",
        "\n",
        "def prepare_block():\n",
        "  try:\n",
        "    initialized\n",
        "  except:\n",
        "    raise Exception(\"You need to identify yourself in Block 1#\")\n",
        "  verify_dependencies(block_id, required_blocks)\n",
        "\n",
        "\n",
        "def plot_dist(dist, bins=\"auto\", kde=False, fit=\"None\", color=\"b\", stat=\"density\",height=8, aspect=1):\n",
        "  #for frequency - set stat to \"count\"\n",
        "  #aspect*height=width\n",
        "  plt.figure(0);\n",
        "  sns.displot(dist, kde=kde,bins=bins,stat=stat,color=color,height=height, aspect=aspect);\n",
        "  if (fit==\"Normal\") & (stat==\"density\"):  \n",
        "    d = stats.norm.fit(dist)\n",
        "    mu = d[0]; sigma = d[1]\n",
        "    x = np.linspace(mu - 3.5*sigma, mu + 3.5*sigma, 200) #limits of dist\n",
        "    plt.plot(x, stats.norm.pdf(x, mu, sigma),color=\"black\");\n",
        "  elif (fit==\"F\") & (stat==\"density\"):  \n",
        "    d = stats.f.fit(dist)\n",
        "    dfn = d[0]; dfd = d[1]\n",
        "    interval = stats.f.interval(.995,dfn,dfd) #limits of dist\n",
        "    x = np.linspace(interval[0],interval[1], 200)\n",
        "    plt.plot(x, stats.f.pdf(x, dfn, dfd),color=\"black\");\n",
        "  elif (fit==\"gamma\") & (stat==\"density\"):  \n",
        "    d = stats.gamma.fit(dist)\n",
        "    a = d[0]; loc = d[1]; scale = d[2]\n",
        "    interval = stats.gamma.interval(.995,a,loc,scale) #limits of dist\n",
        "    x = np.linspace(interval[0],interval[1], 200)\n",
        "    plt.plot(x, stats.gamma.pdf(x, a, loc, scale),color=\"black\");\n",
        "  elif (fit==\"t\") & (stat==\"density\"):  \n",
        "    d = stats.t.fit(dist)\n",
        "    a = d[0]; loc = d[1]; scale = d[2]\n",
        "    interval = stats.t.interval(.995,a,loc,scale) #limits of dist\n",
        "    x = np.linspace(interval[0],interval[1], 200)\n",
        "    plt.plot(x, stats.t.pdf(x, a, loc, scale),color=\"black\");\n",
        "\n",
        "\n",
        "def block20():\n",
        "  # Get LOCAL answer from user\n",
        "  # Verify LOCAL answer is valid\n",
        "  # Process\n",
        "  # Save LOCAL answer\n",
        "  # Message to user\n",
        "  np.random.seed(int(group_number))\n",
        "  Fdist = np.random.f(k-1,N-k,20000);\n",
        "  #plot_dist(Fdist, color='pink', kde=False, height=5, aspect=1.5)\n",
        "  plot_dist(Fdist,color='pink', kde=False, fit=\"F\", height=5, aspect=1.5); #plot F-distribution\n",
        "  plt.axvline(x=np.quantile(Fdist,.95), color='r', linestyle='--', label= \"95% of distribution\"); ##the blue line signals for 95% of the distribution\n",
        "  plt.xlabel(\"F-score\")\n",
        "  plt.xlim(0,5);\n",
        "  plt.legend();\n",
        "  print(f\"The 95% percentile is at: {np.quantile(Fdist,.95)}\")\n",
        "  plt.title(f\"The actual F({k-1},{N-k})-distribution\");\n",
        "  # Return any data generated in this function that needs to become global\n",
        "\n",
        "\n",
        "try:\n",
        "  prepare_block()\n",
        "  # Get GLOBAL answer from user\n",
        "  # Verify GLOBAL answer is valid\n",
        "  # Process\n",
        "  # Save GLOBAL answer\n",
        "  # Message to user\n",
        "  block20() # Use return values, if any, to create global variables\n",
        "  # Mark block as run\n",
        "  blocks_run[block_id] = True\n",
        "except Exception as e:\n",
        "  print(str(e))"
      ],
      "execution_count": null,
      "outputs": []
    },
    {
      "cell_type": "markdown",
      "metadata": {
        "id": "Y7HZJh2qLAze"
      },
      "source": [
        "Block 21#"
      ]
    },
    {
      "cell_type": "code",
      "metadata": {
        "cellView": "form",
        "id": "mr2icbkfKisH"
      },
      "source": [
        "#@title #**<font size=\"6\" color='cornflowerblue'><ins>Question 8.7</ins>** \n",
        "#@markdown #For each of the following questions, indicate if you can answer it using only the list of values you have calculated:\n",
        "#@markdown (**Hint**: k and n are the values you chose in previous sections)\n",
        "\n",
        "block_id = 21\n",
        "question_id = 16\n",
        "required_blocks = range(12, block_id)\n",
        "\n",
        "def prepare_block():\n",
        "  try:\n",
        "    initialized\n",
        "  except:\n",
        "    raise Exception(\"You need to identify yourself in Block 1#\")\n",
        "  verify_dependencies(block_id, required_blocks)\n",
        "\n",
        "def block21():\n",
        "  # Get LOCAL answer from user\n",
        "  #@markdown The probability to calculate an F value greater than 2 if you sampled K groups with n observations in each group, from the same population\n",
        "  A = False #@param {type:\"boolean\"}\n",
        "  #@markdown The probability to calculate an F value greater than 2 if you sampled K groups with n observations in each group, from different populations\n",
        "  B = False #@param {type:\"boolean\"}\n",
        "  #@markdown The critical F value of any Alpha, for K groups with n observations in each group\n",
        "  C = False #@param {type:\"boolean\"}\n",
        "  #@markdown The type-2 error probability (Beta) for K groups with n observations in each group\n",
        "  D = False #@param {type:\"boolean\"}\n",
        "  # Process\n",
        "  answer = (A, B, C, D)\n",
        "  # Save answer\n",
        "  answers[question_id] = answer\n",
        "  # Message to user\n",
        "  print(\"Your Answers are: \")\n",
        "  for ans in answers[question_id]:\n",
        "    print(ans)\n",
        "  # Return any data generated in this function that needs to become global\n",
        "\n",
        "try:\n",
        "  prepare_block()\n",
        "  # Get GLOBAL answer from user\n",
        "  block21() # Use return values, if any, to create global variables\n",
        "  blocks_run[block_id] = True\n",
        "except Exception as e:\n",
        "  print(str(e))\n",
        "\n"
      ],
      "execution_count": null,
      "outputs": []
    },
    {
      "cell_type": "markdown",
      "metadata": {
        "id": "1RMojYJBwZgQ"
      },
      "source": [
        "Block 22#"
      ]
    },
    {
      "cell_type": "code",
      "metadata": {
        "id": "GwW8XtVgUvnI",
        "cellView": "form"
      },
      "source": [
        "#@title **<font color = cornflowerblue> <font size = 6>Show Your Answers <br>(Run to refresh after saving a question)**\n",
        "\n",
        "block_id = 22\n",
        "\n",
        "nomcq = 6 # number_of_multi_choice_questions\n",
        "noqifiq = 3 # number_of_questions_in_first_interacgive_question\n",
        "noqisiq = 7 # number_of_questions_in_second_interacgive_question\n",
        "\n",
        "\n",
        "def prepare_block():\n",
        "  try:\n",
        "    initialized\n",
        "  except:\n",
        "    raise Exception(\"You need to identify yourself in Block 1#\")\n",
        "  verify_dependencies(block_id, range(block_id))\n",
        "\n",
        "\n",
        "def answers_printer():\n",
        "  print(\"ID:\",id_number,\"\\nGroup number\",group_number,'\\n')\n",
        "  # Questions 1-nomcq\n",
        "  for i in range(1,(nomcq+1)):\n",
        "    print(\"Question \"+str(i)+\": \"+str(answers[i]))\n",
        "  # Question nomcq+1\n",
        "  i += 1\n",
        "  for j in range(noqifiq):\n",
        "    print(\"Question \"+str(i)+\".\"+str(j+1)+\": \"+str(answers[i + j]))\n",
        "  # Question nomcq+2\n",
        "  i += 1\n",
        "  for j in range(noqisiq):\n",
        "    print(\"Question \"+str(i)+\".\"+str(j+1)+\": \"+str(answers[i + j + noqifiq - 1]))\n",
        "\n",
        "\n",
        "try:\n",
        "  prepare_block()\n",
        "  # answers_printer()\n",
        "  blocks_run[block_id] = True\n",
        "except Exception as e:\n",
        "  print(str(e))\n",
        "answers_printer()\n"
      ],
      "execution_count": null,
      "outputs": []
    },
    {
      "cell_type": "markdown",
      "metadata": {
        "id": "m6cFc6VlqqDu"
      },
      "source": [
        "If you are ready to submit your answers, go ahead and press 'Save!'💾 .\n",
        "\n",
        "\n",
        "This will prompt you to download your answers file. \n",
        "\n",
        "\n",
        "After downloading you will need to submit the file to moodle.\n",
        "Good luck!\n",
        "\n"
      ]
    },
    {
      "cell_type": "markdown",
      "metadata": {
        "id": "7osQMJxNwbND"
      },
      "source": [
        "Block 23#"
      ]
    },
    {
      "cell_type": "code",
      "metadata": {
        "cellView": "form",
        "id": "VK4GiQ3XxD7W"
      },
      "source": [
        "#@title  **<p><font size=\"10\"><font color='cornflowerblue'><ins> <---  💾 SAVE! </ins></p>**\n",
        "\n",
        "from google.colab import files\n",
        "from shutil import make_archive\n",
        "from os import path, remove\n",
        "from zipfile import ZipFile\n",
        "\n",
        "block_id = 23\n",
        "\n",
        "def prepare_block():\n",
        "  try:\n",
        "    initialized\n",
        "  except:\n",
        "    raise Exception(\"You need to identify yourself in Block 1#\")\n",
        "  verify_dependencies(block_id, range(block_id))\n",
        "\n",
        "def answer_saver(file):\n",
        "  # Questions 1-nomcq\n",
        "  for i in range(1,(nomcq+1)):\n",
        "    file.write(\"Question \"+str(i)+\": \"+str(answers[i])+'\\n')\n",
        "  # Question nomcq+1\n",
        "  i += 1\n",
        "  for j in range(noqifiq):\n",
        "    file.write(\"Question \"+str(i)+\".\"+str(j+1)+\": \"+str(answers[i + j])+'\\n')\n",
        "  # Question nomcq+2\n",
        "  i += 1\n",
        "  for j in range(noqisiq):\n",
        "    file.write(\"Question \"+str(i)+\".\"+str(j+1)+\": \"+str(answers[i + j + noqifiq - 1])+'\\n')\n",
        "\n",
        "\n",
        "def submission_saver():\n",
        "  # Writing credentials\n",
        "  f = open(\"ex\"+str(exercise_number)+\"_submission\", \"w\")\n",
        "  f.write(\"#\"+str(id_number)+\"\\n\")\n",
        "  f.write(\"#\"+str(group_number)+\"\\n\")\n",
        "  answer_saver(f) # Writing answers\n",
        "  f.write(\"#End of answers\")\n",
        "  f.close()\n",
        "\n",
        "  # Creating submission file\n",
        "  zipObj = ZipFile('ex'+str(exercise_number)+'.zip', 'w')\n",
        "  zipObj.write('ex'+str(exercise_number)+'_submission')\n",
        "  # Add additional data required for testing with zipObj.write('additional_data')\n",
        "  zipObj.close()\n",
        "  files.download('ex'+str(exercise_number)+'.zip') \n",
        "\n",
        "  # Message to user\n",
        "  print(\"Well done! You are now downloading your submission file\")\n",
        "  print(\"Make sure that the name of the file you submit is ex1.zip (and not ex1 (3).zip, for example)\")\n",
        "\n",
        "\n",
        "try:\n",
        "  prepare_block()\n",
        "  submission_saver()\n",
        "except Exception as e:\n",
        "  print(str(e))\n",
        "\n"
      ],
      "execution_count": null,
      "outputs": []
    }
  ]
}